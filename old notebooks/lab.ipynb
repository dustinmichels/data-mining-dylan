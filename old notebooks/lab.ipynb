{
 "cells": [
  {
   "cell_type": "code",
   "execution_count": 3,
   "metadata": {},
   "outputs": [],
   "source": [
    "import json\n",
    "from ipywidgets import IntSlider\n",
    "from ipywidgets.embed import embed_minimal_html, embed_data"
   ]
  },
  {
   "cell_type": "code",
   "execution_count": 4,
   "metadata": {},
   "outputs": [],
   "source": [
    "s1 = IntSlider(max=200, value=100)\n",
    "s2 = IntSlider(value=40)\n",
    "data = embed_data(views=[s1, s2])"
   ]
  },
  {
   "cell_type": "code",
   "execution_count": 17,
   "metadata": {},
   "outputs": [],
   "source": [
    "s1 = IntSlider(max=200, value=100)\n",
    "s2 = IntSlider(value=40)\n",
    "data = embed_data(views=[s1, s2])\n",
    "\n",
    "manager_state = json.dumps(data['manager_state'])\n",
    "widget_views = [json.dumps(view) for view in data['view_specs']]"
   ]
  },
  {
   "cell_type": "code",
   "execution_count": 20,
   "metadata": {},
   "outputs": [
    {
     "data": {
      "text/plain": [
       "'{\"version_major\": 2, \"version_'"
      ]
     },
     "execution_count": 20,
     "metadata": {},
     "output_type": "execute_result"
    }
   ],
   "source": [
    "manager_state[:30]"
   ]
  },
  {
   "cell_type": "code",
   "execution_count": 23,
   "metadata": {},
   "outputs": [
    {
     "data": {
      "text/plain": [
       "['{\"version_major\": 2, \"version_minor\": 0, \"model_id\": \"0f2a3bff48d24ffd9e5528504de26949\"}',\n",
       " '{\"version_major\": 2, \"version_minor\": 0, \"model_id\": \"94ab4989f825428ab68261abd4163fd3\"}']"
      ]
     },
     "execution_count": 23,
     "metadata": {},
     "output_type": "execute_result"
    }
   ],
   "source": [
    "widget_views"
   ]
  },
  {
   "cell_type": "code",
   "execution_count": 24,
   "metadata": {},
   "outputs": [],
   "source": [
    "import json\n",
    "\n",
    "from ipywidgets import IntSlider\n",
    "from ipywidgets.embed import embed_data\n",
    "\n",
    "s1 = IntSlider(max=200, value=100)\n",
    "s2 = IntSlider(value=40)\n",
    "data = embed_data(views=[s1, s2])\n",
    "\n",
    "html_template = \"\"\"\n",
    "<html>\n",
    "  <head>\n",
    "\n",
    "    <title>Widget export</title>\n",
    "\n",
    "    <!-- Load RequireJS, used by the IPywidgets for dependency management -->\n",
    "    <script \n",
    "      src=\"https://cdnjs.cloudflare.com/ajax/libs/require.js/2.3.4/require.min.js\" \n",
    "      integrity=\"sha256-Ae2Vz/4ePdIu6ZyI/5ZGsYnb+m0JlOmKPjt6XZ9JJkA=\" \n",
    "      crossorigin=\"anonymous\">\n",
    "    </script>\n",
    "\n",
    "    <!-- Load IPywidgets bundle for embedding. -->\n",
    "    <script \n",
    "      src=\"https://unpkg.com/@jupyter-widgets/html-manager@*/dist/embed-amd.js\" \n",
    "      crossorigin=\"anonymous\">\n",
    "    </script>\n",
    "\n",
    "    <!-- The state of all the widget models on the page -->\n",
    "    <script type=\"application/vnd.jupyter.widget-state+json\">\n",
    "      {manager_state}\n",
    "    </script>\n",
    "  </head>\n",
    "\n",
    "  <body>\n",
    "\n",
    "    <h1>Widget export</h1>\n",
    "\n",
    "    <div id=\"first-slider-widget\">\n",
    "      <!-- This script tag will be replaced by the view's DOM tree -->\n",
    "      <script type=\"application/vnd.jupyter.widget-view+json\">\n",
    "        {widget_views[0]}\n",
    "      </script>\n",
    "    </div>\n",
    "\n",
    "    <hrule />\n",
    "\n",
    "    <div id=\"second-slider-widget\">\n",
    "      <!-- This script tag will be replaced by the view's DOM tree -->\n",
    "      <script type=\"application/vnd.jupyter.widget-view+json\">\n",
    "        {widget_views[1]}\n",
    "      </script>\n",
    "    </div>\n",
    "\n",
    "  </body>\n",
    "</html>\n",
    "\"\"\"\n",
    "\n",
    "manager_state = json.dumps(data['manager_state'])\n",
    "widget_views = [json.dumps(view) for view in data['view_specs']]\n",
    "rendered_template = html_template.format(manager_state=manager_state, widget_views=widget_views)\n",
    "with open('export.html', 'w') as fp:\n",
    "    fp.write(rendered_template)"
   ]
  },
  {
   "cell_type": "code",
   "execution_count": null,
   "metadata": {},
   "outputs": [],
   "source": []
  },
  {
   "cell_type": "code",
   "execution_count": null,
   "metadata": {},
   "outputs": [],
   "source": []
  },
  {
   "cell_type": "code",
   "execution_count": null,
   "metadata": {},
   "outputs": [],
   "source": []
  },
  {
   "cell_type": "code",
   "execution_count": null,
   "metadata": {},
   "outputs": [],
   "source": []
  },
  {
   "cell_type": "code",
   "execution_count": null,
   "metadata": {},
   "outputs": [],
   "source": []
  },
  {
   "cell_type": "code",
   "execution_count": null,
   "metadata": {},
   "outputs": [],
   "source": []
  },
  {
   "cell_type": "code",
   "execution_count": 32,
   "metadata": {},
   "outputs": [
    {
     "ename": "TypeError",
     "evalue": "embed_minimal_html() missing 1 required positional argument: 'fp'",
     "output_type": "error",
     "traceback": [
      "\u001b[0;31m---------------------------------------------------------------------------\u001b[0m",
      "\u001b[0;31mTypeError\u001b[0m                                 Traceback (most recent call last)",
      "\u001b[0;32m<ipython-input-32-187c038b97a8>\u001b[0m in \u001b[0;36m<module>\u001b[0;34m()\u001b[0m\n\u001b[1;32m      3\u001b[0m \u001b[0ms1\u001b[0m \u001b[0;34m=\u001b[0m \u001b[0mIntSlider\u001b[0m\u001b[0;34m(\u001b[0m\u001b[0mmax\u001b[0m\u001b[0;34m=\u001b[0m\u001b[0;36m200\u001b[0m\u001b[0;34m,\u001b[0m \u001b[0mvalue\u001b[0m\u001b[0;34m=\u001b[0m\u001b[0;36m100\u001b[0m\u001b[0;34m)\u001b[0m\u001b[0;34m\u001b[0m\u001b[0m\n\u001b[1;32m      4\u001b[0m \u001b[0ms2\u001b[0m \u001b[0;34m=\u001b[0m \u001b[0mIntSlider\u001b[0m\u001b[0;34m(\u001b[0m\u001b[0mvalue\u001b[0m\u001b[0;34m=\u001b[0m\u001b[0;36m40\u001b[0m\u001b[0;34m)\u001b[0m\u001b[0;34m\u001b[0m\u001b[0m\n\u001b[0;32m----> 5\u001b[0;31m \u001b[0membed_minimal_html\u001b[0m\u001b[0;34m(\u001b[0m\u001b[0mviews\u001b[0m\u001b[0;34m=\u001b[0m\u001b[0;34m[\u001b[0m\u001b[0ms1\u001b[0m\u001b[0;34m,\u001b[0m \u001b[0ms2\u001b[0m\u001b[0;34m]\u001b[0m\u001b[0;34m,\u001b[0m \u001b[0mstate\u001b[0m\u001b[0;34m=\u001b[0m\u001b[0mdependency_state\u001b[0m\u001b[0;34m(\u001b[0m\u001b[0;34m[\u001b[0m\u001b[0ms1\u001b[0m\u001b[0;34m,\u001b[0m \u001b[0ms2\u001b[0m\u001b[0;34m]\u001b[0m\u001b[0;34m)\u001b[0m\u001b[0;34m)\u001b[0m\u001b[0;34m\u001b[0m\u001b[0m\n\u001b[0m",
      "\u001b[0;31mTypeError\u001b[0m: embed_minimal_html() missing 1 required positional argument: 'fp'"
     ]
    }
   ],
   "source": [
    "from ipywidgets.embed import embed_snippet, dependency_state\n",
    "\n",
    "s1 = IntSlider(max=200, value=100)\n",
    "s2 = IntSlider(value=40)\n",
    "embed_minimal_html(views=[s1, s2], state=dependency_state([s1, s2]))"
   ]
  },
  {
   "cell_type": "code",
   "execution_count": null,
   "metadata": {},
   "outputs": [],
   "source": []
  }
 ],
 "metadata": {
  "kernelspec": {
   "display_name": "Python 3",
   "language": "python",
   "name": "python3"
  },
  "language_info": {
   "codemirror_mode": {
    "name": "ipython",
    "version": 3
   },
   "file_extension": ".py",
   "mimetype": "text/x-python",
   "name": "python",
   "nbconvert_exporter": "python",
   "pygments_lexer": "ipython3",
   "version": "3.6.4"
  }
 },
 "nbformat": 4,
 "nbformat_minor": 2
}
