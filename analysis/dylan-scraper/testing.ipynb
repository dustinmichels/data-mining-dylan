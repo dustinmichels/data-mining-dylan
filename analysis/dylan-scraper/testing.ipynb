{
 "cells": [
  {
   "cell_type": "code",
   "execution_count": 1,
   "metadata": {},
   "outputs": [],
   "source": [
    "import scrapy\n",
    "import requests\n",
    "\n",
    "from scraper.spiders.stalker import get_urls"
   ]
  },
  {
   "cell_type": "code",
   "execution_count": 2,
   "metadata": {},
   "outputs": [],
   "source": [
    "LETTERS = 'ABCDEFGHIJKLMNOPQRSTUVWXYZ'\n",
    "BASE_URL = 'http://apps.carleton.edu'\n",
    "DIR_BASE_URL = BASE_URL + '/campus/directory'"
   ]
  },
  {
   "cell_type": "code",
   "execution_count": 3,
   "metadata": {},
   "outputs": [
    {
     "data": {
      "text/plain": [
       "'http://apps.carleton.edu/campus/directory/?last_name=A&year=2018'"
      ]
     },
     "execution_count": 3,
     "metadata": {},
     "output_type": "execute_result"
    }
   ],
   "source": [
    "urls = get_urls()\n",
    "url = urls[0]\n",
    "url"
   ]
  },
  {
   "cell_type": "code",
   "execution_count": 33,
   "metadata": {},
   "outputs": [],
   "source": [
    "# r = requests.get(url)\n",
    "# response = scrapy.http.TextResponse(r.url, body=r.text, encoding='utf-8')\n",
    "\n",
    "# with open ('campus.html', 'wb') as f:\n",
    "#     f.write(response.body)"
   ]
  },
  {
   "cell_type": "code",
   "execution_count": 4,
   "metadata": {},
   "outputs": [],
   "source": [
    "with open('campus.html', 'r') as f:\n",
    "    body = f.read()\n",
    "    \n",
    "response = scrapy.http.TextResponse(url, body=body, encoding='utf-8')"
   ]
  },
  {
   "cell_type": "code",
   "execution_count": 5,
   "metadata": {
    "scrolled": false
   },
   "outputs": [],
   "source": [
    "people = response.css('li.person')\n",
    "person = people[1]"
   ]
  },
  {
   "cell_type": "code",
   "execution_count": 6,
   "metadata": {},
   "outputs": [
    {
     "data": {
      "text/plain": [
       "<Selector xpath=\"descendant-or-self::li[@class and contains(concat(' ', normalize-space(@class), ' '), ' person ')]\" data='<li class=\"person\">\\n<div class=\"heading '>"
      ]
     },
     "execution_count": 6,
     "metadata": {},
     "output_type": "execute_result"
    }
   ],
   "source": [
    "person"
   ]
  },
  {
   "cell_type": "code",
   "execution_count": null,
   "metadata": {},
   "outputs": [],
   "source": []
  },
  {
   "cell_type": "code",
   "execution_count": null,
   "metadata": {},
   "outputs": [],
   "source": []
  },
  {
   "cell_type": "code",
   "execution_count": 7,
   "metadata": {},
   "outputs": [],
   "source": [
    "name = (person.css('h2::text').extract_first() or\n",
    "        person.css('h2 a::text').extract_first())"
   ]
  },
  {
   "cell_type": "code",
   "execution_count": 42,
   "metadata": {},
   "outputs": [
    {
     "data": {
      "text/plain": [
       "['Alex', 'Aeppli']"
      ]
     },
     "execution_count": 42,
     "metadata": {},
     "output_type": "execute_result"
    }
   ],
   "source": [
    "name.split(' ', 1)"
   ]
  },
  {
   "cell_type": "code",
   "execution_count": 8,
   "metadata": {},
   "outputs": [],
   "source": [
    "def scrape_person(person):\n",
    "    \"\"\"Returns dict of scraped data for given person\"\"\"\n",
    "\n",
    "    name = (person.css('h2::text').extract_first() or\n",
    "            person.css('h2 a::text').extract_first())\n",
    "    \n",
    "    first_name, last_name = name.split(' ', 1)\n",
    "\n",
    "    majors = person.css('span.majors span.major::text').extract()\n",
    "    majors = [m.replace('\\u200b', '') for m in majors]  # 0-width space\n",
    "\n",
    "    minors = person.css('span.majors span.minor::text').extract()\n",
    "    minors = [m.replace('\\u200b', '') for m in minors]  # 0-width space\n",
    "\n",
    "    year = person.css('span.affiliation::text').extract_first()\n",
    "    img = BASE_URL + person.css('div.image img::attr(src)').extract_first()\n",
    "    house = person.css('p.location a::text').extract_first()\n",
    "    tags = person.css('div.tags a::text').extract()\n",
    "    email = person.css('div.email a::text').extract_first()\n",
    "\n",
    "    return dict(\n",
    "        first_name=first_name, last_name=last_name, year=year,\n",
    "        img=img, majors=majors, minors=minors,\n",
    "        house=house, tags=tags, email=email)"
   ]
  },
  {
   "cell_type": "code",
   "execution_count": 9,
   "metadata": {},
   "outputs": [],
   "source": [
    "data = []\n",
    "\n",
    "for p in people:\n",
    "    data.append(scrape_person(p))"
   ]
  },
  {
   "cell_type": "code",
   "execution_count": 10,
   "metadata": {},
   "outputs": [
    {
     "data": {
      "text/plain": [
       "[{'first_name': 'Alex',\n",
       "  'last_name': 'Adamczyk',\n",
       "  'year': '2018',\n",
       "  'img': 'http://apps.carleton.edu/stock/ldapimage.php?id=adamczyka&source=campus_directory',\n",
       "  'majors': ['Political Science/International Relations'],\n",
       "  'minors': [],\n",
       "  'house': 'Brooks House 200B',\n",
       "  'tags': ['English',\n",
       "   'Live Music',\n",
       "   'Political Science',\n",
       "   'Law School',\n",
       "   'Environmental Law',\n",
       "   'Music Promotion',\n",
       "   'Museums',\n",
       "   'Consulting/Finance',\n",
       "   'Business Consulting'],\n",
       "  'email': 'adamczyka@carleton.edu'},\n",
       " {'first_name': 'Alex',\n",
       "  'last_name': 'Aeppli',\n",
       "  'year': '2018',\n",
       "  'img': 'http://apps.carleton.edu/stock/ldapimage.php?id=aepplia&source=campus_directory',\n",
       "  'majors': ['Physics'],\n",
       "  'minors': [],\n",
       "  'house': 'Eugster House 100C',\n",
       "  'tags': [],\n",
       "  'email': 'aepplia@carleton.edu'},\n",
       " {'first_name': 'Wisdom',\n",
       "  'last_name': 'Akpan',\n",
       "  'year': '2018',\n",
       "  'img': 'http://apps.carleton.edu/stock/ldapimage.php?id=akpanw&source=campus_directory',\n",
       "  'majors': ['Chemistry'],\n",
       "  'minors': [],\n",
       "  'house': 'Owens House 100C',\n",
       "  'tags': ['Startups',\n",
       "   'Entrepreneurship',\n",
       "   'Product Design',\n",
       "   'Materials Science',\n",
       "   'Materials Engineering',\n",
       "   'Chemical Engineering',\n",
       "   'Research and Development',\n",
       "   'Chemistry',\n",
       "   'Business Development'],\n",
       "  'email': 'akpanw@carleton.edu'},\n",
       " {'first_name': 'Benjamin',\n",
       "  'last_name': 'Alexander',\n",
       "  'year': '2018',\n",
       "  'img': 'http://apps.carleton.edu/stock/ldapimage.php?id=alexanderb&source=campus_directory',\n",
       "  'majors': ['Studio Art'],\n",
       "  'minors': ['Spanish'],\n",
       "  'house': 'Myers Hall 115A',\n",
       "  'tags': ['Architecture', 'Design', 'Engineering', 'Art'],\n",
       "  'email': 'alexanderb@carleton.edu'},\n",
       " {'first_name': 'Dwight',\n",
       "  'last_name': 'Alexander',\n",
       "  'year': '2018',\n",
       "  'img': 'http://apps.carleton.edu/stock/ldapimage.php?id=alexanderd&source=campus_directory',\n",
       "  'majors': ['Political Science/International Relations'],\n",
       "  'minors': ['Political Economy'],\n",
       "  'house': 'James Hall 103B',\n",
       "  'tags': [],\n",
       "  'email': 'alexanderd@carleton.edu'},\n",
       " {'first_name': 'Francisco',\n",
       "  'last_name': 'Alvarez',\n",
       "  'year': '2018',\n",
       "  'img': 'http://apps.carleton.edu/stock/ldapimage.php?id=alvarezf&source=campus_directory',\n",
       "  'majors': ['English'],\n",
       "  'minors': [],\n",
       "  'house': 'James Hall 402A',\n",
       "  'tags': [],\n",
       "  'email': 'alvarezf@carleton.edu'},\n",
       " {'first_name': 'Saki',\n",
       "  'last_name': 'Amagai',\n",
       "  'year': '2018',\n",
       "  'img': 'http://apps.carleton.edu/stock/ldapimage.php?id=amagais&source=campus_directory',\n",
       "  'majors': ['Chemistry'],\n",
       "  'minors': ['Biochemistry'],\n",
       "  'house': 'Davis Hall 413',\n",
       "  'tags': [],\n",
       "  'email': 'amagais@carleton.edu'},\n",
       " {'first_name': 'Charlie',\n",
       "  'last_name': 'Anderson',\n",
       "  'year': '2018',\n",
       "  'img': 'http://apps.carleton.edu/stock/ldapimage.php?id=andersonc&source=campus_directory',\n",
       "  'majors': ['Computer Science'],\n",
       "  'minors': [],\n",
       "  'house': 'Jewett House 100A',\n",
       "  'tags': [],\n",
       "  'email': 'andersonc@carleton.edu'},\n",
       " {'first_name': 'Evan',\n",
       "  'last_name': 'Anderson',\n",
       "  'year': '2018',\n",
       "  'img': 'http://apps.carleton.edu/stock/ldapimage.php?id=andersone&source=campus_directory',\n",
       "  'majors': ['Psychology'],\n",
       "  'minors': ['Cognitive Science'],\n",
       "  'house': 'James Hall 402D',\n",
       "  'tags': [],\n",
       "  'email': 'andersone@carleton.edu'},\n",
       " {'first_name': 'Chris',\n",
       "  'last_name': 'Anisowicz',\n",
       "  'year': '2018',\n",
       "  'img': 'http://apps.carleton.edu/stock/ldapimage.php?id=anisowiczc&source=campus_directory',\n",
       "  'majors': ['American Studies'],\n",
       "  'minors': [],\n",
       "  'house': None,\n",
       "  'tags': [],\n",
       "  'email': 'anisowiczc@carleton.edu'},\n",
       " {'first_name': 'Alice',\n",
       "  'last_name': 'Antia',\n",
       "  'year': '2018',\n",
       "  'img': 'http://apps.carleton.edu/stock/ldapimage.php?id=antiaa&source=campus_directory',\n",
       "  'majors': ['Mathematics/Statistics'],\n",
       "  'minors': [],\n",
       "  'house': 'Wade House 303',\n",
       "  'tags': [],\n",
       "  'email': 'antiaa@carleton.edu'},\n",
       " {'first_name': 'Anirudh',\n",
       "  'last_name': 'Appachar',\n",
       "  'year': '2018',\n",
       "  'img': 'http://apps.carleton.edu/stock/ldapimage.php?id=appachara&source=campus_directory',\n",
       "  'majors': ['Chemistry'],\n",
       "  'minors': ['Biochemistry'],\n",
       "  'house': 'James Hall 202C',\n",
       "  'tags': [],\n",
       "  'email': 'appachara@carleton.edu'},\n",
       " {'first_name': 'Josie',\n",
       "  'last_name': 'Arcuri',\n",
       "  'year': '2018',\n",
       "  'img': 'http://apps.carleton.edu/stock/ldapimage.php?id=arcurij&source=campus_directory',\n",
       "  'majors': [],\n",
       "  'minors': [],\n",
       "  'house': None,\n",
       "  'tags': [],\n",
       "  'email': 'arcurij@carleton.edu'},\n",
       " {'first_name': 'Erin',\n",
       "  'last_name': 'Arntson',\n",
       "  'year': '2018',\n",
       "  'img': 'http://apps.carleton.edu/stock/ldapimage.php?id=arntsone&source=campus_directory',\n",
       "  'majors': ['Geology'],\n",
       "  'minors': [],\n",
       "  'house': 'James Hall 205B',\n",
       "  'tags': ['Dance', 'Skiing', 'Geology', 'Spanish Language', 'Studio Art'],\n",
       "  'email': 'arntsone@carleton.edu'},\n",
       " {'first_name': 'Jordan',\n",
       "  'last_name': 'Aron',\n",
       "  'year': '2018',\n",
       "  'img': 'http://apps.carleton.edu/stock/ldapimage.php?id=aronj&source=campus_directory',\n",
       "  'majors': ['Mathematics'],\n",
       "  'minors': [],\n",
       "  'house': None,\n",
       "  'tags': [],\n",
       "  'email': 'aronj@carleton.edu'},\n",
       " {'first_name': 'Daniel',\n",
       "  'last_name': 'Atkins',\n",
       "  'year': '2018',\n",
       "  'img': 'http://apps.carleton.edu/stock/ldapimage.php?id=atkinsd&source=campus_directory',\n",
       "  'majors': ['Biology'],\n",
       "  'minors': [],\n",
       "  'house': 'Eugster House 200B',\n",
       "  'tags': [],\n",
       "  'email': 'atkinsd@carleton.edu'},\n",
       " {'first_name': 'Lisa',\n",
       "  'last_name': 'Au',\n",
       "  'year': '2018',\n",
       "  'img': 'http://apps.carleton.edu/stock/ldapimage.php?id=aul&source=campus_directory',\n",
       "  'majors': ['Chemistry'],\n",
       "  'minors': [],\n",
       "  'house': None,\n",
       "  'tags': ['Renewable Energy', 'Chemistry'],\n",
       "  'email': 'aul@carleton.edu'},\n",
       " {'first_name': 'Leila',\n",
       "  'last_name': 'Awad',\n",
       "  'year': '2018',\n",
       "  'img': 'http://apps.carleton.edu/stock/ldapimage.php?id=awadl&source=campus_directory',\n",
       "  'majors': ['Linguistics'],\n",
       "  'minors': ['French and Francophone Studies'],\n",
       "  'house': 'Scott House 200C',\n",
       "  'tags': [],\n",
       "  'email': 'awadl@carleton.edu'}]"
      ]
     },
     "execution_count": 10,
     "metadata": {},
     "output_type": "execute_result"
    }
   ],
   "source": [
    "data"
   ]
  },
  {
   "cell_type": "code",
   "execution_count": 41,
   "metadata": {},
   "outputs": [],
   "source": [
    "import json"
   ]
  },
  {
   "cell_type": "code",
   "execution_count": 15,
   "metadata": {},
   "outputs": [],
   "source": [
    "with open('data.json', 'w') as f:\n",
    "    json.dump(data, f)"
   ]
  },
  {
   "cell_type": "code",
   "execution_count": null,
   "metadata": {},
   "outputs": [],
   "source": []
  }
 ],
 "metadata": {
  "kernelspec": {
   "display_name": "Python 3",
   "language": "python",
   "name": "python3"
  },
  "language_info": {
   "codemirror_mode": {
    "name": "ipython",
    "version": 3
   },
   "file_extension": ".py",
   "mimetype": "text/x-python",
   "name": "python",
   "nbconvert_exporter": "python",
   "pygments_lexer": "ipython3",
   "version": "3.6.5"
  }
 },
 "nbformat": 4,
 "nbformat_minor": 2
}
