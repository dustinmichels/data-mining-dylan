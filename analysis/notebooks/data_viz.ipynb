{
 "cells": [
  {
   "cell_type": "markdown",
   "metadata": {},
   "source": [
    "# Data Mining Dylan"
   ]
  },
  {
   "cell_type": "markdown",
   "metadata": {},
   "source": [
    "*Which places does Dylan sing about the most?*\n",
    "\n",
    "- For named entity recognition code, see `find_cities.ipynb`\n",
    "- For web scraping code, see `dylan_scraper.py`"
   ]
  },
  {
   "cell_type": "code",
   "execution_count": 1,
   "metadata": {},
   "outputs": [],
   "source": [
    "import pandas as pd\n",
    "import folium\n",
    "import altair\n",
    "from analysis import tidy_table"
   ]
  },
  {
   "cell_type": "code",
   "execution_count": 2,
   "metadata": {},
   "outputs": [],
   "source": [
    "# Load city data from file\n",
    "city_df = pd.read_json('data/city_counts.json')\n",
    "songs_df = pd.read_json('data/songs.json')"
   ]
  },
  {
   "cell_type": "code",
   "execution_count": 3,
   "metadata": {},
   "outputs": [],
   "source": [
    "# Make tidy versions\n",
    "city_tidy = tidy_table(city_df, ['songs'])\n",
    "songs_tidy = tidy_table(songs_df, ['albums'])\n",
    "df = pd.merge(city_tidy, songs_tidy, left_on='song', right_on='title')"
   ]
  },
  {
   "cell_type": "markdown",
   "metadata": {},
   "source": [
    "## A bar chart"
   ]
  },
  {
   "cell_type": "code",
   "execution_count": 6,
   "metadata": {},
   "outputs": [
    {
     "ename": "NameError",
     "evalue": "name 'altair' is not defined",
     "output_type": "error",
     "traceback": [
      "\u001b[0;31m---------------------------------------------------------------------------\u001b[0m",
      "\u001b[0;31mNameError\u001b[0m                                 Traceback (most recent call last)",
      "\u001b[0;32m<ipython-input-6-3bf00ef6e137>\u001b[0m in \u001b[0;36m<module>\u001b[0;34m()\u001b[0m\n\u001b[0;32m----> 1\u001b[0;31m altair.Chart(city_df.query('cnt > 1')).mark_bar().encode(\n\u001b[0m\u001b[1;32m      2\u001b[0m     x='city', y='cnt')\n",
      "\u001b[0;31mNameError\u001b[0m: name 'altair' is not defined"
     ]
    }
   ],
   "source": [
    "altair.Chart(city_df.query('cnt > 1')).mark_bar().encode(\n",
    "    x='city', y='cnt')"
   ]
  },
  {
   "cell_type": "markdown",
   "metadata": {},
   "source": [
    "## A Map"
   ]
  },
  {
   "cell_type": "code",
   "execution_count": 5,
   "metadata": {},
   "outputs": [
    {
     "ename": "ModuleNotFoundError",
     "evalue": "No module named 'geoviews'",
     "output_type": "error",
     "traceback": [
      "\u001b[0;31m---------------------------------------------------------------------------\u001b[0m",
      "\u001b[0;31mModuleNotFoundError\u001b[0m                       Traceback (most recent call last)",
      "\u001b[0;32m<ipython-input-5-163cba3eb78e>\u001b[0m in \u001b[0;36m<module>\u001b[0;34m()\u001b[0m\n\u001b[1;32m      3\u001b[0m \u001b[0;32mimport\u001b[0m \u001b[0mpandas\u001b[0m \u001b[0;32mas\u001b[0m \u001b[0mpd\u001b[0m\u001b[0;34m\u001b[0m\u001b[0m\n\u001b[1;32m      4\u001b[0m \u001b[0;32mimport\u001b[0m \u001b[0mholoviews\u001b[0m \u001b[0;32mas\u001b[0m \u001b[0mhv\u001b[0m\u001b[0;34m\u001b[0m\u001b[0m\n\u001b[0;32m----> 5\u001b[0;31m \u001b[0;32mimport\u001b[0m \u001b[0mgeoviews\u001b[0m \u001b[0;32mas\u001b[0m \u001b[0mgv\u001b[0m\u001b[0;34m\u001b[0m\u001b[0m\n\u001b[0m\u001b[1;32m      6\u001b[0m \u001b[0;32mimport\u001b[0m \u001b[0mgeoviews\u001b[0m\u001b[0;34m.\u001b[0m\u001b[0mfeature\u001b[0m \u001b[0;32mas\u001b[0m \u001b[0mgf\u001b[0m\u001b[0;34m\u001b[0m\u001b[0m\n\u001b[1;32m      7\u001b[0m \u001b[0;34m\u001b[0m\u001b[0m\n",
      "\u001b[0;31mModuleNotFoundError\u001b[0m: No module named 'geoviews'"
     ]
    }
   ],
   "source": [
    "import xarray as xr\n",
    "import numpy as np\n",
    "import pandas as pd\n",
    "import holoviews as hv\n",
    "import geoviews as gv\n",
    "import geoviews.feature as gf\n",
    "\n",
    "import cartopy\n",
    "from cartopy import crs as ccrs\n",
    "\n",
    "from bokeh.tile_providers import STAMEN_TONER\n",
    "from bokeh.models import WMTSTileSource\n",
    "\n",
    "hv.notebook_extension('bokeh')"
   ]
  },
  {
   "cell_type": "code",
   "execution_count": null,
   "metadata": {},
   "outputs": [],
   "source": [
    "tiles = {'OpenMap': WMTSTileSource(url='http://c.tile.openstreetmap.org/{Z}/{X}/{Y}.png'),\n",
    "         'ESRI': WMTSTileSource(url='https://server.arcgisonline.com/ArcGIS/rest/services/World_Imagery/MapServer/tile/{Z}/{Y}/{X}.jpg'),\n",
    "         'Wikipedia': WMTSTileSource(url='https://maps.wikimedia.org/osm-intl/{Z}/{X}/{Y}@2x.png'),\n",
    "         'Stamen Toner': STAMEN_TONER}"
   ]
  },
  {
   "cell_type": "code",
   "execution_count": 16,
   "metadata": {},
   "outputs": [
    {
     "data": {
      "text/html": [
       "<div>\n",
       "<style scoped>\n",
       "    .dataframe tbody tr th:only-of-type {\n",
       "        vertical-align: middle;\n",
       "    }\n",
       "\n",
       "    .dataframe tbody tr th {\n",
       "        vertical-align: top;\n",
       "    }\n",
       "\n",
       "    .dataframe thead th {\n",
       "        text-align: right;\n",
       "    }\n",
       "</style>\n",
       "<table border=\"1\" class=\"dataframe\">\n",
       "  <thead>\n",
       "    <tr style=\"text-align: right;\">\n",
       "      <th></th>\n",
       "      <th>City</th>\n",
       "      <th>Country</th>\n",
       "      <th>Latitude</th>\n",
       "      <th>Longitude</th>\n",
       "      <th>Year</th>\n",
       "      <th>Population</th>\n",
       "    </tr>\n",
       "    <tr>\n",
       "      <th></th>\n",
       "      <th></th>\n",
       "      <th></th>\n",
       "      <th></th>\n",
       "      <th></th>\n",
       "      <th></th>\n",
       "      <th></th>\n",
       "    </tr>\n",
       "  </thead>\n",
       "  <tbody>\n",
       "    <tr>\n",
       "      <th>0</th>\n",
       "      <td>Sofia</td>\n",
       "      <td>Bulgaria</td>\n",
       "      <td>42.70</td>\n",
       "      <td>23.33</td>\n",
       "      <td>1950.0</td>\n",
       "      <td>520000.0</td>\n",
       "    </tr>\n",
       "    <tr>\n",
       "      <th>1</th>\n",
       "      <td>Mandalay</td>\n",
       "      <td>Myanmar</td>\n",
       "      <td>21.97</td>\n",
       "      <td>96.08</td>\n",
       "      <td>1950.0</td>\n",
       "      <td>170000.0</td>\n",
       "    </tr>\n",
       "    <tr>\n",
       "      <th>2</th>\n",
       "      <td>Nay Pyi Taw</td>\n",
       "      <td>Myanmar</td>\n",
       "      <td>19.75</td>\n",
       "      <td>96.10</td>\n",
       "      <td>1950.0</td>\n",
       "      <td>0.0</td>\n",
       "    </tr>\n",
       "    <tr>\n",
       "      <th>3</th>\n",
       "      <td>Yangon</td>\n",
       "      <td>Myanmar</td>\n",
       "      <td>16.87</td>\n",
       "      <td>96.12</td>\n",
       "      <td>1950.0</td>\n",
       "      <td>1300000.0</td>\n",
       "    </tr>\n",
       "    <tr>\n",
       "      <th>4</th>\n",
       "      <td>Minsk</td>\n",
       "      <td>Belarus</td>\n",
       "      <td>53.89</td>\n",
       "      <td>27.57</td>\n",
       "      <td>1950.0</td>\n",
       "      <td>280000.0</td>\n",
       "    </tr>\n",
       "  </tbody>\n",
       "</table>\n",
       "</div>"
      ],
      "text/plain": [
       "          City    Country   Latitude   Longitude    Year   Population\n",
       "                                                                     \n",
       "0        Sofia   Bulgaria       42.70       23.33  1950.0    520000.0\n",
       "1     Mandalay    Myanmar       21.97       96.08  1950.0    170000.0\n",
       "2  Nay Pyi Taw    Myanmar       19.75       96.10  1950.0         0.0\n",
       "3       Yangon    Myanmar       16.87       96.12  1950.0   1300000.0\n",
       "4        Minsk    Belarus       53.89       27.57  1950.0    280000.0"
      ]
     },
     "execution_count": 16,
     "metadata": {},
     "output_type": "execute_result"
    }
   ],
   "source": [
    "cities = pd.read_csv('./assets/cities.csv', sep='\\t')\n",
    "cities.set_index(' ')"
   ]
  },
  {
   "cell_type": "code",
   "execution_count": null,
   "metadata": {},
   "outputs": [],
   "source": []
  },
  {
   "cell_type": "code",
   "execution_count": null,
   "metadata": {},
   "outputs": [],
   "source": []
  },
  {
   "cell_type": "code",
   "execution_count": null,
   "metadata": {},
   "outputs": [],
   "source": []
  },
  {
   "cell_type": "code",
   "execution_count": null,
   "metadata": {},
   "outputs": [],
   "source": []
  },
  {
   "cell_type": "code",
   "execution_count": null,
   "metadata": {},
   "outputs": [],
   "source": []
  },
  {
   "cell_type": "code",
   "execution_count": null,
   "metadata": {},
   "outputs": [],
   "source": []
  },
  {
   "cell_type": "code",
   "execution_count": 6,
   "metadata": {},
   "outputs": [],
   "source": [
    "import pandas as pd\n",
    "import ipywidgets as widgets\n",
    "from viz_tools import get_place_selector, make_map"
   ]
  },
  {
   "cell_type": "code",
   "execution_count": 7,
   "metadata": {},
   "outputs": [],
   "source": [
    "# Load city data from file\n",
    "city_df = pd.read_json('data/city_counts.json')\n",
    "songs_df = pd.read_json('data/songs.json')"
   ]
  },
  {
   "cell_type": "code",
   "execution_count": 8,
   "metadata": {
    "scrolled": true
   },
   "outputs": [],
   "source": [
    "view = get_place_selector(city_df, songs_df)"
   ]
  },
  {
   "cell_type": "code",
   "execution_count": 9,
   "metadata": {},
   "outputs": [
    {
     "data": {
      "application/vnd.jupyter.widget-view+json": {
       "model_id": "83a0e82fedf146d49bdae3f7f1b7b8d3",
       "version_major": 2,
       "version_minor": 0
      },
      "text/html": [
       "<p>Failed to display Jupyter Widget of type <code>VBox</code>.</p>\n",
       "<p>\n",
       "  If you're reading this message in the Jupyter Notebook or JupyterLab Notebook, it may mean\n",
       "  that the widgets JavaScript is still loading. If this message persists, it\n",
       "  likely means that the widgets JavaScript library is either not installed or\n",
       "  not enabled. See the <a href=\"https://ipywidgets.readthedocs.io/en/stable/user_install.html\">Jupyter\n",
       "  Widgets Documentation</a> for setup instructions.\n",
       "</p>\n",
       "<p>\n",
       "  If you're reading this message in another frontend (for example, a static\n",
       "  rendering on GitHub or <a href=\"https://nbviewer.jupyter.org/\">NBViewer</a>),\n",
       "  it may mean that your frontend doesn't currently support widgets.\n",
       "</p>\n"
      ],
      "text/plain": [
       "VBox(children=(HBox(children=(Dropdown(options=('Abilene', 'Albuquerque', 'Amarillo', 'Amsterdam', 'Arlington', 'Atlanta', 'Atlantic City', 'Austin', 'Baltimore', 'Barcelona', 'Baton Rouge', 'Boston', 'Brownsville', 'Brussels', 'Buffalo', 'Cambridge', 'Carbondale', 'Cheyenne', 'Chicago', 'Columbus', 'Cumberland', 'Dallas', 'Denver', 'Detroit', 'Durango', 'El Paso', 'Florida', 'Hamburg', 'Hong Kong', 'Honolulu', 'Houston', 'Jackson', 'Jerusalem', 'Juarez', 'Kansas City', 'Las Vegas', 'Liverpool', 'London', 'Madrid', 'Memphis', 'Mexico City', 'Miami', 'Mobile', 'Montana', 'Nazareth', 'New Orleans', 'New York', 'Omaha', 'Paris', 'Paterson', 'Pittsburgh', 'Richmond', 'Rome', 'San Francisco', 'San Pedro', 'Shreveport', 'Singapore', 'St. Petersburg', 'Syracuse', 'Tallahassee', 'Vicksburg', 'Wichita'), value='Abilene'), HTML(value=''))), HBox(children=(Select(options=('Wanted Man',), value='Wanted Man'), HTML(value='', placeholder='Lyrics...')))))"
      ]
     },
     "metadata": {},
     "output_type": "display_data"
    }
   ],
   "source": [
    "view"
   ]
  },
  {
   "cell_type": "code",
   "execution_count": null,
   "metadata": {},
   "outputs": [],
   "source": []
  },
  {
   "cell_type": "code",
   "execution_count": 13,
   "metadata": {},
   "outputs": [],
   "source": [
    "class LabelAndEntry(widgets.HBox):\n",
    "    def __init__(self, *args, **kwargs):\n",
    "        label = widgets.Label('my-label')\n",
    "        entry = widgets.Text('data')\n",
    "        super(LabelAndEntry, self).__init__()\n",
    "        self.children = [label, entry]"
   ]
  },
  {
   "cell_type": "code",
   "execution_count": 36,
   "metadata": {},
   "outputs": [
    {
     "ename": "NameError",
     "evalue": "name 'self' is not defined",
     "output_type": "error",
     "traceback": [
      "\u001b[0;31m---------------------------------------------------------------------------\u001b[0m",
      "\u001b[0;31mNameError\u001b[0m                                 Traceback (most recent call last)",
      "\u001b[0;32m<ipython-input-36-7e5cc07d6b49>\u001b[0m in \u001b[0;36m<module>\u001b[0;34m()\u001b[0m\n\u001b[0;32m----> 1\u001b[0;31m \u001b[0;32mclass\u001b[0m \u001b[0mMenu\u001b[0m\u001b[0;34m(\u001b[0m\u001b[0mwidgets\u001b[0m\u001b[0;34m.\u001b[0m\u001b[0mVBox\u001b[0m\u001b[0;34m)\u001b[0m\u001b[0;34m:\u001b[0m\u001b[0;34m\u001b[0m\u001b[0m\n\u001b[0m\u001b[1;32m      2\u001b[0m     \u001b[0;32mdef\u001b[0m \u001b[0m__init__\u001b[0m\u001b[0;34m(\u001b[0m\u001b[0mself\u001b[0m\u001b[0;34m,\u001b[0m \u001b[0mcity_df\u001b[0m\u001b[0;34m,\u001b[0m \u001b[0msongs_df\u001b[0m\u001b[0;34m,\u001b[0m \u001b[0;34m*\u001b[0m\u001b[0margs\u001b[0m\u001b[0;34m,\u001b[0m \u001b[0;34m**\u001b[0m\u001b[0mkwargs\u001b[0m\u001b[0;34m)\u001b[0m\u001b[0;34m:\u001b[0m\u001b[0;34m\u001b[0m\u001b[0m\n\u001b[1;32m      3\u001b[0m \u001b[0;34m\u001b[0m\u001b[0m\n\u001b[1;32m      4\u001b[0m         \u001b[0mcity_df\u001b[0m \u001b[0;34m=\u001b[0m \u001b[0mcity_df\u001b[0m\u001b[0;34m.\u001b[0m\u001b[0mset_index\u001b[0m\u001b[0;34m(\u001b[0m\u001b[0;34m'city'\u001b[0m\u001b[0;34m)\u001b[0m\u001b[0;34m\u001b[0m\u001b[0m\n\u001b[1;32m      5\u001b[0m         \u001b[0msongs_df\u001b[0m \u001b[0;34m=\u001b[0m \u001b[0msongs_df\u001b[0m\u001b[0;34m.\u001b[0m\u001b[0mset_index\u001b[0m\u001b[0;34m(\u001b[0m\u001b[0;34m'title'\u001b[0m\u001b[0;34m)\u001b[0m\u001b[0;34m\u001b[0m\u001b[0m\n",
      "\u001b[0;32m<ipython-input-36-7e5cc07d6b49>\u001b[0m in \u001b[0;36mMenu\u001b[0;34m()\u001b[0m\n\u001b[1;32m     33\u001b[0m         \u001b[0mself\u001b[0m\u001b[0;34m.\u001b[0m\u001b[0mlyrics_viewer\u001b[0m\u001b[0;34m.\u001b[0m\u001b[0mvalue\u001b[0m \u001b[0;34m=\u001b[0m \u001b[0;34m'<b>Lyrics:</b> {}</br>'\u001b[0m\u001b[0;34m.\u001b[0m\u001b[0mformat\u001b[0m\u001b[0;34m(\u001b[0m\u001b[0mlyric_text\u001b[0m\u001b[0;34m)\u001b[0m\u001b[0;34m\u001b[0m\u001b[0m\n\u001b[1;32m     34\u001b[0m \u001b[0;34m\u001b[0m\u001b[0m\n\u001b[0;32m---> 35\u001b[0;31m     \u001b[0mself\u001b[0m\u001b[0;34m.\u001b[0m\u001b[0msel\u001b[0m\u001b[0;34m.\u001b[0m\u001b[0mobserve\u001b[0m\u001b[0;34m(\u001b[0m\u001b[0mhandle_city_change\u001b[0m\u001b[0;34m,\u001b[0m \u001b[0mnames\u001b[0m\u001b[0;34m=\u001b[0m\u001b[0;34m'value'\u001b[0m\u001b[0;34m)\u001b[0m\u001b[0;34m\u001b[0m\u001b[0m\n\u001b[0m\u001b[1;32m     36\u001b[0m     \u001b[0mself\u001b[0m\u001b[0;34m.\u001b[0m\u001b[0msong_selector\u001b[0m\u001b[0;34m.\u001b[0m\u001b[0mobserve\u001b[0m\u001b[0;34m(\u001b[0m\u001b[0mhandle_song_change\u001b[0m\u001b[0;34m,\u001b[0m \u001b[0mnames\u001b[0m\u001b[0;34m=\u001b[0m\u001b[0;34m'value'\u001b[0m\u001b[0;34m)\u001b[0m\u001b[0;34m\u001b[0m\u001b[0m\n",
      "\u001b[0;31mNameError\u001b[0m: name 'self' is not defined"
     ]
    }
   ],
   "source": [
    "class Menu(widgets.VBox):\n",
    "    def __init__(self, city_df, songs_df, *args, **kwargs):\n",
    "        \n",
    "        city_df = city_df.set_index('city')\n",
    "        songs_df = songs_df.set_index('title')\n",
    "        \n",
    "        self.sel = widgets.Dropdown(options=sorted(list(city_df.index.unique())))\n",
    "        self.text = widgets.HTML(disabled=False)\n",
    "        self.song_selector = widgets.Select(options=city_df.loc[self.sel.value, 'songs'])\n",
    "        self.lyrics_viewer = widgets.HTML(placeholder='Lyrics...')\n",
    "        \n",
    "        super(Menu, self).__init__()\n",
    "        \n",
    "        self.children = [\n",
    "            widgets.HBox([self.sel, self.text]),\n",
    "            widgets.HBox([self.song_selector, self.lyrics_viewer])]\n",
    "        \n",
    "    def handle_city_change(self, change):\n",
    "        count = city_df.loc[change.new, 'cnt']\n",
    "        songs = city_df.loc[change.new, 'songs']\n",
    "        text.value = '<b>Count:</b> {}</br>'.format(count)\n",
    "        self.song_selector.options = songs\n",
    "        self.song_selector.value = song_selector.options[0]\n",
    "\n",
    "    def handle_song_change(self, change):\n",
    "        city = self.sel.value\n",
    "        lyrics = songs_df.loc[change.new, 'lyrics']\n",
    "        lyrics = lyrics.replace('\\n', '\\\\')\n",
    "        idx = lyrics.find(city)\n",
    "        lyric_text = '...' + lyrics[max(idx-50, 0):idx+100] + '...'\n",
    "        lyric_text = lyric_text.replace(city, f'<b>{city}</b>')\n",
    "        lyric_text = lyric_text.replace(city, f'<span style=\"color:blue\">{city}</span>')\n",
    "        self.lyrics_viewer.value = '<b>Lyrics:</b> {}</br>'.format(lyric_text)\n",
    "\n",
    "    self.sel.observe(handle_city_change, names='value')\n",
    "    self.song_selector.observe(handle_song_change, names='value')"
   ]
  },
  {
   "cell_type": "code",
   "execution_count": 35,
   "metadata": {},
   "outputs": [
    {
     "data": {
      "application/vnd.jupyter.widget-view+json": {
       "model_id": "84452d40498745b8955ee7faee9c33b4",
       "version_major": 2,
       "version_minor": 0
      },
      "text/html": [
       "<p>Failed to display Jupyter Widget of type <code>Menu</code>.</p>\n",
       "<p>\n",
       "  If you're reading this message in the Jupyter Notebook or JupyterLab Notebook, it may mean\n",
       "  that the widgets JavaScript is still loading. If this message persists, it\n",
       "  likely means that the widgets JavaScript library is either not installed or\n",
       "  not enabled. See the <a href=\"https://ipywidgets.readthedocs.io/en/stable/user_install.html\">Jupyter\n",
       "  Widgets Documentation</a> for setup instructions.\n",
       "</p>\n",
       "<p>\n",
       "  If you're reading this message in another frontend (for example, a static\n",
       "  rendering on GitHub or <a href=\"https://nbviewer.jupyter.org/\">NBViewer</a>),\n",
       "  it may mean that your frontend doesn't currently support widgets.\n",
       "</p>\n"
      ],
      "text/plain": [
       "Menu(children=(HBox(children=(Dropdown(options=('Abilene', 'Albuquerque', 'Amarillo', 'Amsterdam', 'Arlington', 'Atlanta', 'Atlantic City', 'Austin', 'Baltimore', 'Barcelona', 'Baton Rouge', 'Boston', 'Brownsville', 'Brussels', 'Buffalo', 'Cambridge', 'Carbondale', 'Cheyenne', 'Chicago', 'Columbus', 'Cumberland', 'Dallas', 'Denver', 'Detroit', 'Durango', 'El Paso', 'Florida', 'Hamburg', 'Hong Kong', 'Honolulu', 'Houston', 'Jackson', 'Jerusalem', 'Juarez', 'Kansas City', 'Las Vegas', 'Liverpool', 'London', 'Madrid', 'Memphis', 'Mexico City', 'Miami', 'Mobile', 'Montana', 'Nazareth', 'New Orleans', 'New York', 'Omaha', 'Paris', 'Paterson', 'Pittsburgh', 'Richmond', 'Rome', 'San Francisco', 'San Pedro', 'Shreveport', 'Singapore', 'St. Petersburg', 'Syracuse', 'Tallahassee', 'Vicksburg', 'Wichita'), value='Abilene'), HTML(value=''))), HBox(children=(Select(options=('Wanted Man',), value='Wanted Man'), HTML(value='', placeholder='Lyrics...')))))"
      ]
     },
     "metadata": {},
     "output_type": "display_data"
    }
   ],
   "source": [
    "# Load city data from file\n",
    "city_df = pd.read_json('data/city_counts.json')\n",
    "songs_df = pd.read_json('data/songs.json')\n",
    "\n",
    "Menu(city_df, songs_df)"
   ]
  },
  {
   "cell_type": "code",
   "execution_count": null,
   "metadata": {},
   "outputs": [],
   "source": []
  },
  {
   "cell_type": "code",
   "execution_count": null,
   "metadata": {},
   "outputs": [],
   "source": []
  },
  {
   "cell_type": "code",
   "execution_count": null,
   "metadata": {},
   "outputs": [],
   "source": []
  },
  {
   "cell_type": "code",
   "execution_count": 5,
   "metadata": {},
   "outputs": [],
   "source": [
    "song_sel = view.children[1].children[0]"
   ]
  },
  {
   "cell_type": "code",
   "execution_count": 7,
   "metadata": {},
   "outputs": [
    {
     "data": {
      "application/vnd.jupyter.widget-view+json": {
       "model_id": "fab2f763b351453b8ecb23c97142a407",
       "version_major": 2,
       "version_minor": 0
      },
      "text/html": [
       "<p>Failed to display Jupyter Widget of type <code>Select</code>.</p>\n",
       "<p>\n",
       "  If you're reading this message in the Jupyter Notebook or JupyterLab Notebook, it may mean\n",
       "  that the widgets JavaScript is still loading. If this message persists, it\n",
       "  likely means that the widgets JavaScript library is either not installed or\n",
       "  not enabled. See the <a href=\"https://ipywidgets.readthedocs.io/en/stable/user_install.html\">Jupyter\n",
       "  Widgets Documentation</a> for setup instructions.\n",
       "</p>\n",
       "<p>\n",
       "  If you're reading this message in another frontend (for example, a static\n",
       "  rendering on GitHub or <a href=\"https://nbviewer.jupyter.org/\">NBViewer</a>),\n",
       "  it may mean that your frontend doesn't currently support widgets.\n",
       "</p>\n"
      ],
      "text/plain": [
       "Select(options=('Duquesne Whistle',), value='Duquesne Whistle')"
      ]
     },
     "metadata": {},
     "output_type": "display_data"
    }
   ],
   "source": [
    "song_sel"
   ]
  },
  {
   "cell_type": "code",
   "execution_count": null,
   "metadata": {},
   "outputs": [],
   "source": []
  },
  {
   "cell_type": "code",
   "execution_count": null,
   "metadata": {},
   "outputs": [],
   "source": []
  },
  {
   "cell_type": "code",
   "execution_count": 23,
   "metadata": {},
   "outputs": [],
   "source": [
    "from ipywidgets.embed import embed_data\n",
    "import json"
   ]
  },
  {
   "cell_type": "code",
   "execution_count": 36,
   "metadata": {},
   "outputs": [],
   "source": [
    "widget = get_place_selector(city_df, songs_df)"
   ]
  },
  {
   "cell_type": "code",
   "execution_count": 37,
   "metadata": {},
   "outputs": [],
   "source": [
    "data = embed_data(widget)"
   ]
  },
  {
   "cell_type": "code",
   "execution_count": 38,
   "metadata": {},
   "outputs": [],
   "source": [
    "manager_state = json.dumps(data['manager_state'])\n",
    "widget_views = [json.dumps(view) for view in data['view_specs']]"
   ]
  },
  {
   "cell_type": "code",
   "execution_count": 39,
   "metadata": {},
   "outputs": [
    {
     "data": {
      "text/plain": [
       "['{\"version_major\": 2, \"version_minor\": 0, \"model_id\": \"30707b86a648426d9c3b908ae99b99b7\"}']"
      ]
     },
     "execution_count": 39,
     "metadata": {},
     "output_type": "execute_result"
    }
   ],
   "source": [
    "widget_views"
   ]
  },
  {
   "cell_type": "code",
   "execution_count": 50,
   "metadata": {},
   "outputs": [],
   "source": [
    "widget.children[0].children[0].value = 'Boston'"
   ]
  },
  {
   "cell_type": "code",
   "execution_count": null,
   "metadata": {},
   "outputs": [],
   "source": []
  },
  {
   "cell_type": "code",
   "execution_count": null,
   "metadata": {},
   "outputs": [],
   "source": []
  },
  {
   "cell_type": "code",
   "execution_count": null,
   "metadata": {},
   "outputs": [],
   "source": []
  },
  {
   "cell_type": "code",
   "execution_count": null,
   "metadata": {},
   "outputs": [],
   "source": []
  },
  {
   "cell_type": "code",
   "execution_count": null,
   "metadata": {},
   "outputs": [],
   "source": []
  },
  {
   "cell_type": "code",
   "execution_count": null,
   "metadata": {},
   "outputs": [],
   "source": []
  },
  {
   "cell_type": "code",
   "execution_count": null,
   "metadata": {},
   "outputs": [],
   "source": []
  },
  {
   "cell_type": "code",
   "execution_count": null,
   "metadata": {},
   "outputs": [],
   "source": []
  },
  {
   "cell_type": "code",
   "execution_count": 53,
   "metadata": {},
   "outputs": [],
   "source": [
    "city_df = city_df.set_index('city')\n",
    "songs_df = songs_df.set_index('title')"
   ]
  },
  {
   "cell_type": "code",
   "execution_count": null,
   "metadata": {},
   "outputs": [],
   "source": []
  },
  {
   "cell_type": "code",
   "execution_count": null,
   "metadata": {},
   "outputs": [],
   "source": []
  },
  {
   "cell_type": "code",
   "execution_count": null,
   "metadata": {},
   "outputs": [],
   "source": []
  },
  {
   "cell_type": "code",
   "execution_count": 1,
   "metadata": {},
   "outputs": [
    {
     "ename": "NameError",
     "evalue": "name 'widgets' is not defined",
     "output_type": "error",
     "traceback": [
      "\u001b[0;31m---------------------------------------------------------------------------\u001b[0m",
      "\u001b[0;31mNameError\u001b[0m                                 Traceback (most recent call last)",
      "\u001b[0;32m<ipython-input-1-76c3c9b27fd9>\u001b[0m in \u001b[0;36m<module>\u001b[0;34m()\u001b[0m\n\u001b[0;32m----> 1\u001b[0;31m \u001b[0mcaption\u001b[0m \u001b[0;34m=\u001b[0m \u001b[0mwidgets\u001b[0m\u001b[0;34m.\u001b[0m\u001b[0mLabel\u001b[0m\u001b[0;34m(\u001b[0m\u001b[0mvalue\u001b[0m\u001b[0;34m=\u001b[0m\u001b[0;34m'The values of range1 and range2 are synchronized'\u001b[0m\u001b[0;34m)\u001b[0m\u001b[0;34m\u001b[0m\u001b[0m\n\u001b[0m\u001b[1;32m      2\u001b[0m \u001b[0mrange1\u001b[0m\u001b[0;34m,\u001b[0m \u001b[0mrange2\u001b[0m \u001b[0;34m=\u001b[0m \u001b[0mwidgets\u001b[0m\u001b[0;34m.\u001b[0m\u001b[0mIntSlider\u001b[0m\u001b[0;34m(\u001b[0m\u001b[0mdescription\u001b[0m\u001b[0;34m=\u001b[0m\u001b[0;34m'Range 1'\u001b[0m\u001b[0;34m)\u001b[0m\u001b[0;34m,\u001b[0m                 \u001b[0mwidgets\u001b[0m\u001b[0;34m.\u001b[0m\u001b[0mIntSlider\u001b[0m\u001b[0;34m(\u001b[0m\u001b[0mdescription\u001b[0m\u001b[0;34m=\u001b[0m\u001b[0;34m'Range 2'\u001b[0m\u001b[0;34m)\u001b[0m\u001b[0;34m\u001b[0m\u001b[0m\n\u001b[1;32m      3\u001b[0m \u001b[0ml\u001b[0m \u001b[0;34m=\u001b[0m \u001b[0mwidgets\u001b[0m\u001b[0;34m.\u001b[0m\u001b[0mjslink\u001b[0m\u001b[0;34m(\u001b[0m\u001b[0;34m(\u001b[0m\u001b[0mrange1\u001b[0m\u001b[0;34m,\u001b[0m \u001b[0;34m'value'\u001b[0m\u001b[0;34m)\u001b[0m\u001b[0;34m,\u001b[0m \u001b[0;34m(\u001b[0m\u001b[0mrange2\u001b[0m\u001b[0;34m,\u001b[0m \u001b[0;34m'value'\u001b[0m\u001b[0;34m)\u001b[0m\u001b[0;34m)\u001b[0m\u001b[0;34m\u001b[0m\u001b[0m\n\u001b[1;32m      4\u001b[0m \u001b[0mdisplay\u001b[0m\u001b[0;34m(\u001b[0m\u001b[0mcaption\u001b[0m\u001b[0;34m,\u001b[0m \u001b[0mrange1\u001b[0m\u001b[0;34m,\u001b[0m \u001b[0mrange2\u001b[0m\u001b[0;34m)\u001b[0m\u001b[0;34m\u001b[0m\u001b[0m\n",
      "\u001b[0;31mNameError\u001b[0m: name 'widgets' is not defined"
     ]
    }
   ],
   "source": [
    "caption = widgets.Label(value='The values of range1 and range2 are synchronized')\n",
    "range1, range2 = widgets.IntSlider(description='Range 1'),\\\n",
    "                 widgets.IntSlider(description='Range 2')\n",
    "l = widgets.jslink((range1, 'value'), (range2, 'value'))\n",
    "display(caption, range1, range2)"
   ]
  },
  {
   "cell_type": "code",
   "execution_count": null,
   "metadata": {},
   "outputs": [],
   "source": []
  },
  {
   "cell_type": "code",
   "execution_count": 81,
   "metadata": {},
   "outputs": [],
   "source": [
    "# Load city data from file\n",
    "city_df = pd.read_json('data/city_counts.json')\n",
    "songs_df = pd.read_json('data/songs.json')\n",
    "\n",
    "# Reset index\n",
    "city_df = city_df.set_index('city')\n",
    "songs_df = songs_df.set_index('title')"
   ]
  },
  {
   "cell_type": "code",
   "execution_count": 82,
   "metadata": {},
   "outputs": [],
   "source": [
    "sel = widgets.Dropdown(options=sorted(list(city_df.index.unique())))"
   ]
  },
  {
   "cell_type": "code",
   "execution_count": 76,
   "metadata": {},
   "outputs": [
    {
     "data": {
      "application/vnd.jupyter.widget-view+json": {
       "model_id": "f85044f1cbc4436e8e058a8afa12d5a3",
       "version_major": 2,
       "version_minor": 0
      },
      "text/html": [
       "<p>Failed to display Jupyter Widget of type <code>Select</code>.</p>\n",
       "<p>\n",
       "  If you're reading this message in the Jupyter Notebook or JupyterLab Notebook, it may mean\n",
       "  that the widgets JavaScript is still loading. If this message persists, it\n",
       "  likely means that the widgets JavaScript library is either not installed or\n",
       "  not enabled. See the <a href=\"https://ipywidgets.readthedocs.io/en/stable/user_install.html\">Jupyter\n",
       "  Widgets Documentation</a> for setup instructions.\n",
       "</p>\n",
       "<p>\n",
       "  If you're reading this message in another frontend (for example, a static\n",
       "  rendering on GitHub or <a href=\"https://nbviewer.jupyter.org/\">NBViewer</a>),\n",
       "  it may mean that your frontend doesn't currently support widgets.\n",
       "</p>\n"
      ],
      "text/plain": [
       "Select(options=('Brownsville Girl',), value='Brownsville Girl')"
      ]
     },
     "metadata": {},
     "output_type": "display_data"
    }
   ],
   "source": [
    "song_selector = widgets.Select(options=city_df.loc[sel.value, 'songs'])\n",
    "song_selector"
   ]
  },
  {
   "cell_type": "code",
   "execution_count": 79,
   "metadata": {},
   "outputs": [
    {
     "data": {
      "text/plain": [
       "'Brownsville'"
      ]
     },
     "execution_count": 79,
     "metadata": {},
     "output_type": "execute_result"
    }
   ],
   "source": [
    "sel.value"
   ]
  },
  {
   "cell_type": "code",
   "execution_count": null,
   "metadata": {},
   "outputs": [],
   "source": []
  },
  {
   "cell_type": "code",
   "execution_count": null,
   "metadata": {},
   "outputs": [],
   "source": []
  },
  {
   "cell_type": "code",
   "execution_count": 75,
   "metadata": {},
   "outputs": [
    {
     "data": {
      "text/plain": [
       "('Brownsville Girl',)"
      ]
     },
     "execution_count": 75,
     "metadata": {},
     "output_type": "execute_result"
    }
   ],
   "source": [
    "song_selector.options"
   ]
  },
  {
   "cell_type": "code",
   "execution_count": null,
   "metadata": {},
   "outputs": [],
   "source": []
  },
  {
   "cell_type": "code",
   "execution_count": null,
   "metadata": {},
   "outputs": [],
   "source": []
  },
  {
   "cell_type": "code",
   "execution_count": null,
   "metadata": {},
   "outputs": [],
   "source": []
  },
  {
   "cell_type": "code",
   "execution_count": null,
   "metadata": {},
   "outputs": [],
   "source": []
  },
  {
   "cell_type": "code",
   "execution_count": 51,
   "metadata": {},
   "outputs": [],
   "source": [
    "import ipywidgets as widgets\n",
    "\n",
    "def get_place_selector(city_df, songs_df):\n",
    "    \"\"\"Return custom Jupyter widget\"\"\"\n",
    "\n",
    "    # Reset index\n",
    "    city_df = city_df.set_index('city')\n",
    "    songs_df = songs_df.set_index('title')\n",
    "\n",
    "    # Define some widgets\n",
    "    sel = widgets.Dropdown(options=sorted(list(city_df.index.unique())))\n",
    "    text = widgets.HTML(disabled=False)\n",
    "    song_selector = widgets.Select(options=city_df.loc[sel.value, 'songs'])\n",
    "    lyrics_viewer = widgets.HTML(placeholder='Lyrics...')\n",
    "\n",
    "    # Piece together\n",
    "    view = widgets.VBox([\n",
    "        widgets.HBox([sel, text]),\n",
    "        widgets.HBox([song_selector, lyrics_viewer])])\n",
    "\n",
    "    def handle_city_change(change):\n",
    "        count = city_df.loc[change.new, 'cnt']\n",
    "        songs = city_df.loc[change.new, 'songs']\n",
    "        text.value = '<b>Count:</b> {}</br>'.format(count)\n",
    "        song_selector.options = songs\n",
    "        song_selector.value = song_selector.options[0]\n",
    "\n",
    "    def handle_song_change(change):\n",
    "        city = sel.value\n",
    "        lyrics = songs_df.loc[change.new, 'lyrics']\n",
    "        lyrics = lyrics.replace('\\n', '\\\\')\n",
    "        idx = lyrics.find(city)\n",
    "        lyric_text = '...' + lyrics[max(idx-50, 0):idx+100] + '...'\n",
    "        lyric_text = lyric_text.replace(city, f'<b>{city}</b>')\n",
    "        lyric_text = lyric_text.replace(city, f'<span style=\"color:blue\">{city}</span>')\n",
    "        lyrics_viewer.value = '<b>Lyrics:</b> {}</br>'.format(lyric_text)\n",
    "\n",
    "    sel.observe(handle_city_change, names='value')\n",
    "    song_selector.observe(handle_song_change, names='value')\n",
    "\n",
    "    return view\n"
   ]
  },
  {
   "cell_type": "code",
   "execution_count": null,
   "metadata": {},
   "outputs": [],
   "source": []
  },
  {
   "cell_type": "code",
   "execution_count": null,
   "metadata": {},
   "outputs": [],
   "source": []
  },
  {
   "cell_type": "code",
   "execution_count": null,
   "metadata": {},
   "outputs": [],
   "source": []
  },
  {
   "cell_type": "code",
   "execution_count": null,
   "metadata": {},
   "outputs": [],
   "source": []
  },
  {
   "cell_type": "code",
   "execution_count": null,
   "metadata": {},
   "outputs": [],
   "source": []
  },
  {
   "cell_type": "code",
   "execution_count": null,
   "metadata": {},
   "outputs": [],
   "source": []
  },
  {
   "cell_type": "code",
   "execution_count": null,
   "metadata": {},
   "outputs": [],
   "source": []
  },
  {
   "cell_type": "code",
   "execution_count": null,
   "metadata": {},
   "outputs": [],
   "source": []
  },
  {
   "cell_type": "code",
   "execution_count": 30,
   "metadata": {},
   "outputs": [
    {
     "data": {
      "application/vnd.jupyter.widget-view+json": {
       "model_id": "f2cbae69a29441c7a839b75e3d1e14d3",
       "version_major": 2,
       "version_minor": 0
      },
      "text/html": [
       "<p>Failed to display Jupyter Widget of type <code>VBox</code>.</p>\n",
       "<p>\n",
       "  If you're reading this message in the Jupyter Notebook or JupyterLab Notebook, it may mean\n",
       "  that the widgets JavaScript is still loading. If this message persists, it\n",
       "  likely means that the widgets JavaScript library is either not installed or\n",
       "  not enabled. See the <a href=\"https://ipywidgets.readthedocs.io/en/stable/user_install.html\">Jupyter\n",
       "  Widgets Documentation</a> for setup instructions.\n",
       "</p>\n",
       "<p>\n",
       "  If you're reading this message in another frontend (for example, a static\n",
       "  rendering on GitHub or <a href=\"https://nbviewer.jupyter.org/\">NBViewer</a>),\n",
       "  it may mean that your frontend doesn't currently support widgets.\n",
       "</p>\n"
      ],
      "text/plain": [
       "VBox(children=(HBox(children=(Dropdown(index=37, options=('Abilene', 'Albuquerque', 'Amarillo', 'Amsterdam', 'Arlington', 'Atlanta', 'Atlantic City', 'Austin', 'Baltimore', 'Barcelona', 'Baton Rouge', 'Boston', 'Brownsville', 'Brussels', 'Buffalo', 'Cambridge', 'Carbondale', 'Cheyenne', 'Chicago', 'Columbus', 'Cumberland', 'Dallas', 'Denver', 'Detroit', 'Durango', 'El Paso', 'Florida', 'Hamburg', 'Hong Kong', 'Honolulu', 'Houston', 'Jackson', 'Jerusalem', 'Juarez', 'Kansas City', 'Las Vegas', 'Liverpool', 'London', 'Madrid', 'Memphis', 'Mexico City', 'Miami', 'Mobile', 'Montana', 'Nazareth', 'New Orleans', 'New York', 'Omaha', 'Paris', 'Paterson', 'Pittsburgh', 'Richmond', 'Rome', 'San Francisco', 'San Pedro', 'Shreveport', 'Singapore', 'St. Petersburg', 'Syracuse', 'Tallahassee', 'Vicksburg', 'Wichita'), value='London'), HTML(value='<b>Count:</b> 4</br>'))), HBox(children=(Select(options=('Jack-A-Roe', 'Not Dark Yet', 'Something’s Burning, Baby', 'T.V. Talkin’ Song'), value='Jack-A-Roe'), HTML(value='<b>Lyrics:</b> ...Oh, there was a wealthy merchant, in <b><span style=\"color:blue\">London</span></b> he did dwell.\\r\\\\He had a lovely daughter, the truth to you I\\'ll tell,\\r\\\\Oh, the truth to you I\\'...</br>', placeholder='Lyrics...')))))"
      ]
     },
     "metadata": {},
     "output_type": "display_data"
    }
   ],
   "source": [
    "view"
   ]
  },
  {
   "cell_type": "code",
   "execution_count": null,
   "metadata": {},
   "outputs": [],
   "source": []
  },
  {
   "cell_type": "code",
   "execution_count": null,
   "metadata": {},
   "outputs": [],
   "source": []
  },
  {
   "cell_type": "code",
   "execution_count": 9,
   "metadata": {},
   "outputs": [
    {
     "data": {
      "application/vnd.jupyter.widget-view+json": {
       "model_id": "f2cbae69a29441c7a839b75e3d1e14d3",
       "version_major": 2,
       "version_minor": 0
      },
      "text/html": [
       "<p>Failed to display Jupyter Widget of type <code>VBox</code>.</p>\n",
       "<p>\n",
       "  If you're reading this message in the Jupyter Notebook or JupyterLab Notebook, it may mean\n",
       "  that the widgets JavaScript is still loading. If this message persists, it\n",
       "  likely means that the widgets JavaScript library is either not installed or\n",
       "  not enabled. See the <a href=\"https://ipywidgets.readthedocs.io/en/stable/user_install.html\">Jupyter\n",
       "  Widgets Documentation</a> for setup instructions.\n",
       "</p>\n",
       "<p>\n",
       "  If you're reading this message in another frontend (for example, a static\n",
       "  rendering on GitHub or <a href=\"https://nbviewer.jupyter.org/\">NBViewer</a>),\n",
       "  it may mean that your frontend doesn't currently support widgets.\n",
       "</p>\n"
      ],
      "text/plain": [
       "VBox(children=(HBox(children=(Dropdown(index=37, options=('Abilene', 'Albuquerque', 'Amarillo', 'Amsterdam', 'Arlington', 'Atlanta', 'Atlantic City', 'Austin', 'Baltimore', 'Barcelona', 'Baton Rouge', 'Boston', 'Brownsville', 'Brussels', 'Buffalo', 'Cambridge', 'Carbondale', 'Cheyenne', 'Chicago', 'Columbus', 'Cumberland', 'Dallas', 'Denver', 'Detroit', 'Durango', 'El Paso', 'Florida', 'Hamburg', 'Hong Kong', 'Honolulu', 'Houston', 'Jackson', 'Jerusalem', 'Juarez', 'Kansas City', 'Las Vegas', 'Liverpool', 'London', 'Madrid', 'Memphis', 'Mexico City', 'Miami', 'Mobile', 'Montana', 'Nazareth', 'New Orleans', 'New York', 'Omaha', 'Paris', 'Paterson', 'Pittsburgh', 'Richmond', 'Rome', 'San Francisco', 'San Pedro', 'Shreveport', 'Singapore', 'St. Petersburg', 'Syracuse', 'Tallahassee', 'Vicksburg', 'Wichita'), value='London'), HTML(value='<b>Count:</b> 4</br>'))), HBox(children=(Select(options=('Jack-A-Roe', 'Not Dark Yet', 'Something’s Burning, Baby', 'T.V. Talkin’ Song'), value='Jack-A-Roe'), HTML(value='<b>Lyrics:</b> ...Oh, there was a wealthy merchant, in <b><span style=\"color:blue\">London</span></b> he did dwell.\\r\\\\He had a lovely daughter, the truth to you I\\'ll tell,\\r\\\\Oh, the truth to you I\\'...</br>', placeholder='Lyrics...')))))"
      ]
     },
     "metadata": {},
     "output_type": "display_data"
    }
   ],
   "source": [
    "view"
   ]
  },
  {
   "cell_type": "markdown",
   "metadata": {},
   "source": [
    "### Folium"
   ]
  },
  {
   "cell_type": "code",
   "execution_count": 3,
   "metadata": {},
   "outputs": [],
   "source": [
    "import folium"
   ]
  },
  {
   "cell_type": "code",
   "execution_count": 4,
   "metadata": {},
   "outputs": [],
   "source": [
    "from folium import plugins"
   ]
  },
  {
   "cell_type": "code",
   "execution_count": 5,
   "metadata": {
    "scrolled": true
   },
   "outputs": [
    {
     "ename": "NameError",
     "evalue": "name 'city_df' is not defined",
     "output_type": "error",
     "traceback": [
      "\u001b[0;31m---------------------------------------------------------------------------\u001b[0m",
      "\u001b[0;31mNameError\u001b[0m                                 Traceback (most recent call last)",
      "\u001b[0;32m<ipython-input-5-6b12c4e3b65a>\u001b[0m in \u001b[0;36m<module>\u001b[0;34m()\u001b[0m\n\u001b[1;32m      1\u001b[0m folium_map = folium.Map(\n\u001b[0;32m----> 2\u001b[0;31m     \u001b[0mlocation\u001b[0m\u001b[0;34m=\u001b[0m\u001b[0;34m(\u001b[0m\u001b[0mcity_df\u001b[0m\u001b[0;34m.\u001b[0m\u001b[0mlat\u001b[0m\u001b[0;34m.\u001b[0m\u001b[0mmedian\u001b[0m\u001b[0;34m(\u001b[0m\u001b[0;34m)\u001b[0m\u001b[0;34m,\u001b[0m \u001b[0mcity_df\u001b[0m\u001b[0;34m.\u001b[0m\u001b[0mlng\u001b[0m\u001b[0;34m.\u001b[0m\u001b[0mmedian\u001b[0m\u001b[0;34m(\u001b[0m\u001b[0;34m)\u001b[0m\u001b[0;34m)\u001b[0m\u001b[0;34m,\u001b[0m\u001b[0;34m\u001b[0m\u001b[0m\n\u001b[0m\u001b[1;32m      3\u001b[0m     zoom_start=2)\n\u001b[1;32m      4\u001b[0m \u001b[0;34m\u001b[0m\u001b[0m\n\u001b[1;32m      5\u001b[0m popup_text = (\"{}<br>\"\n",
      "\u001b[0;31mNameError\u001b[0m: name 'city_df' is not defined"
     ]
    }
   ],
   "source": [
    "folium_map = folium.Map(\n",
    "    location=(city_df.lat.median(), city_df.lng.median()),\n",
    "    zoom_start=2)\n",
    "\n",
    "popup_text = (\"{}<br>\"\n",
    "              \"Count: {}<br>\")\n",
    "\n",
    "for idx, row in city_df.iterrows():\n",
    "    folium.CircleMarker(\n",
    "        location=(row.lat, row.lng),\n",
    "        radius=row.cnt,\n",
    "        color=\"green\",\n",
    "        fill=True,\n",
    "        popup=folium.Popup(\n",
    "            html=popup_text.format(row.city, row.cnt),\n",
    "            max_width=1000) \n",
    "    ).add_to(folium_map)\n",
    "\n",
    "folium_map"
   ]
  },
  {
   "cell_type": "markdown",
   "metadata": {},
   "source": [
    "### Ipyleaflet"
   ]
  },
  {
   "cell_type": "code",
   "execution_count": 10,
   "metadata": {},
   "outputs": [],
   "source": [
    "import ipyleaflet"
   ]
  },
  {
   "cell_type": "code",
   "execution_count": 11,
   "metadata": {},
   "outputs": [
    {
     "data": {
      "text/plain": [
       "'0.8.1'"
      ]
     },
     "execution_count": 11,
     "metadata": {},
     "output_type": "execute_result"
    }
   ],
   "source": [
    "ipyleaflet.__version__"
   ]
  },
  {
   "cell_type": "code",
   "execution_count": null,
   "metadata": {},
   "outputs": [],
   "source": []
  },
  {
   "cell_type": "code",
   "execution_count": 3,
   "metadata": {},
   "outputs": [],
   "source": [
    "from ipyleaflet import (\n",
    "    Map,\n",
    "    Marker, MarkerCluster,\n",
    "    TileLayer, ImageOverlay,\n",
    "    Polyline, Polygon, Rectangle, Circle, CircleMarker,\n",
    "    GeoJSON,\n",
    "    DrawControl\n",
    ")"
   ]
  },
  {
   "cell_type": "code",
   "execution_count": 4,
   "metadata": {},
   "outputs": [],
   "source": [
    "center = [34.6252978589571, -77.34580993652344]\n",
    "zoom = 10"
   ]
  },
  {
   "cell_type": "code",
   "execution_count": 5,
   "metadata": {},
   "outputs": [],
   "source": [
    "m = Map(default_tiles=TileLayer(opacity=1.0), center=center, zoom=zoom)\n",
    "\n",
    "cm = CircleMarker(\n",
    "    location=m.center, radius=30, weight=2,\n",
    "    color='#F00', opacity=1.0, fill_opacity=1.0,\n",
    "    fill_color='#0F0')\n",
    "\n",
    "def handle_marker(change):\n",
    "    print(change)\n",
    "\n",
    "cm.observe(handle_marker)"
   ]
  },
  {
   "cell_type": "code",
   "execution_count": 6,
   "metadata": {},
   "outputs": [],
   "source": [
    "m.add_layer(cm)"
   ]
  },
  {
   "cell_type": "code",
   "execution_count": 9,
   "metadata": {},
   "outputs": [
    {
     "data": {
      "application/vnd.jupyter.widget-view+json": {
       "model_id": "7419897e67b4430b9dffdb1ddc7f6401",
       "version_major": 2,
       "version_minor": 0
      },
      "text/plain": [
       "Map(basemap={'url': 'https://{s}.tile.openstreetmap.org/{z}/{x}/{y}.png', 'max_zoom': 19, 'attribution': 'Map …"
      ]
     },
     "metadata": {},
     "output_type": "display_data"
    }
   ],
   "source": [
    "m"
   ]
  },
  {
   "cell_type": "code",
   "execution_count": 8,
   "metadata": {},
   "outputs": [
    {
     "data": {
      "text/plain": [
       "(TileLayer(base=True, max_zoom=19, min_zoom=1, options=['attribution', 'detect_retina', 'max_zoom', 'min_zoom', 'tile_size']),\n",
       " CircleMarker(color='#F00', fill_color='#0F0', fill_opacity=1.0, location=[34.6252978589571, -77.34580993652344], options=['class_name', 'clickable', 'color', 'dash_array', 'fill', 'fill_color', 'fill_opacity', 'line_cap', 'line_join', 'opacity', 'pointer_events', 'radius', 'stroke', 'weight'], radius=30, weight=2))"
      ]
     },
     "execution_count": 8,
     "metadata": {},
     "output_type": "execute_result"
    }
   ],
   "source": [
    "m.layers"
   ]
  },
  {
   "cell_type": "code",
   "execution_count": null,
   "metadata": {},
   "outputs": [],
   "source": []
  }
 ],
 "metadata": {
  "kernelspec": {
   "display_name": "Python 3",
   "language": "python",
   "name": "python3"
  },
  "language_info": {
   "codemirror_mode": {
    "name": "ipython",
    "version": 3
   },
   "file_extension": ".py",
   "mimetype": "text/x-python",
   "name": "python",
   "nbconvert_exporter": "python",
   "pygments_lexer": "ipython3",
   "version": "3.6.5"
  },
  "widgets": {
   "application/vnd.jupyter.widget-state+json": {
    "state": {
     "0018446f878f486fa52b9f283ae822bc": {
      "model_module": "@jupyter-widgets/controls",
      "model_module_version": "1.1.0",
      "model_name": "DescriptionStyleModel",
      "state": {
       "description_width": ""
      }
     },
     "022875d995b14f1caf718a4e86337db4": {
      "model_module": "@jupyter-widgets/controls",
      "model_module_version": "1.1.0",
      "model_name": "DropdownModel",
      "state": {
       "_options_labels": [
        "Abilene",
        "Albuquerque",
        "Amarillo",
        "Amsterdam",
        "Arlington",
        "Atlanta",
        "Atlantic City",
        "Austin",
        "Baltimore",
        "Barcelona",
        "Baton Rouge",
        "Boston",
        "Brownsville",
        "Brussels",
        "Buffalo",
        "Cambridge",
        "Carbondale",
        "Cheyenne",
        "Chicago",
        "Columbus",
        "Cumberland",
        "Dallas",
        "Denver",
        "Detroit",
        "Durango",
        "El Paso",
        "Florida",
        "Hamburg",
        "Hong Kong",
        "Honolulu",
        "Houston",
        "Jackson",
        "Jerusalem",
        "Juarez",
        "Kansas City",
        "Las Vegas",
        "Liverpool",
        "London",
        "Madrid",
        "Memphis",
        "Mexico City",
        "Miami",
        "Mobile",
        "Montana",
        "Nazareth",
        "New Orleans",
        "New York",
        "Omaha",
        "Paris",
        "Paterson",
        "Pittsburgh",
        "Richmond",
        "Rome",
        "San Francisco",
        "San Pedro",
        "Shreveport",
        "Singapore",
        "St. Petersburg",
        "Syracuse",
        "Tallahassee",
        "Vicksburg",
        "Wichita"
       ],
       "index": 0,
       "layout": "IPY_MODEL_b6baca10f5804ba89f822413695e1f91",
       "style": "IPY_MODEL_47d6d87722374b8d9fd86d7b6e5bd607"
      }
     },
     "033af05bb75a4df5bbc4209e6aedcc2f": {
      "model_module": "@jupyter-widgets/base",
      "model_module_version": "1.0.0",
      "model_name": "LayoutModel",
      "state": {}
     },
     "033d5c16eb38414993bcd247520166ed": {
      "model_module": "@jupyter-widgets/controls",
      "model_module_version": "1.1.0",
      "model_name": "BoxModel",
      "state": {
       "children": [
        "IPY_MODEL_c43e3b7c92564151af73fcda59838821"
       ],
       "layout": "IPY_MODEL_2aa34adb4ec24defb9ce93f6f7ba5c00"
      }
     },
     "0a19281c62cd409d94ebca8cb1b4768f": {
      "model_module": "@jupyter-widgets/base",
      "model_module_version": "1.0.0",
      "model_name": "LayoutModel",
      "state": {}
     },
     "0c171082152040189e91543e3a61e383": {
      "model_module": "@jupyter-widgets/controls",
      "model_module_version": "1.1.0",
      "model_name": "VBoxModel",
      "state": {
       "children": [
        "IPY_MODEL_c3d7e3cb3df84068a2d3027361b2698a",
        "IPY_MODEL_69ab5c69638c429f9432e4c124b4aa6a"
       ],
       "layout": "IPY_MODEL_125615f003f840bb87de67c6783b2dad"
      }
     },
     "105a92b0ef464dc4a9016f159e5e5484": {
      "model_module": "@jupyter-widgets/base",
      "model_module_version": "1.0.0",
      "model_name": "LayoutModel",
      "state": {
       "align_self": "stretch",
       "height": "400px"
      }
     },
     "125615f003f840bb87de67c6783b2dad": {
      "model_module": "@jupyter-widgets/base",
      "model_module_version": "1.0.0",
      "model_name": "LayoutModel",
      "state": {}
     },
     "13ccf5c1198a438fbba5ef583092f553": {
      "model_module": "@jupyter-widgets/base",
      "model_module_version": "1.0.0",
      "model_name": "LayoutModel",
      "state": {
       "align_self": "stretch",
       "height": "400px"
      }
     },
     "220ff6024d5b424b8fd9a332f029d3fc": {
      "model_module": "@jupyter-widgets/controls",
      "model_module_version": "1.1.0",
      "model_name": "VBoxModel",
      "state": {
       "children": [
        "IPY_MODEL_b6f0caac220546289a7b8c14fbad1afd",
        "IPY_MODEL_97d8fdc9bb754f2b9f624eae89db2c4b"
       ],
       "layout": "IPY_MODEL_fd3a43d6de27453db680422961ac8a1e"
      }
     },
     "22ea6eff0f7d4e48a24ce5bc414e3101": {
      "model_module": "jupyter-leaflet",
      "model_module_version": "~0.6.0",
      "model_name": "LeafletCircleMarkerModel",
      "state": {
       "_model_module_version": "~0.6.0",
       "_view_count": null,
       "_view_module_version": "~0.6.0",
       "location": [
        34.6252978589571,
        -77.34580993652344
       ],
       "opacity": 0,
       "options": [
        "class_name",
        "clickable",
        "color",
        "dash_array",
        "fill",
        "fill_color",
        "fill_opacity",
        "line_cap",
        "line_join",
        "pointer_events",
        "stroke",
        "weight"
       ]
      }
     },
     "2aa34adb4ec24defb9ce93f6f7ba5c00": {
      "model_module": "@jupyter-widgets/base",
      "model_module_version": "1.0.0",
      "model_name": "LayoutModel",
      "state": {}
     },
     "2abbebacebd145b389fc76a81d0604d9": {
      "model_module": "jupyter-leaflet",
      "model_module_version": "~0.6.0",
      "model_name": "LeafletTileLayerModel",
      "state": {
       "_model_module_version": "~0.6.0",
       "_view_count": null,
       "_view_module_version": "~0.6.0",
       "max_zoom": 19,
       "min_zoom": 1,
       "opacity": 0,
       "options": [
        "attribution",
        "detect_retina",
        "max_zoom",
        "min_zoom",
        "tile_size"
       ]
      }
     },
     "2acb8fbd60e8457a9669929a4f050c1b": {
      "model_module": "@jupyter-widgets/base",
      "model_module_version": "1.0.0",
      "model_name": "LayoutModel",
      "state": {}
     },
     "2e7d047f5a594198a19cc9504c060e79": {
      "model_module": "@jupyter-widgets/controls",
      "model_module_version": "1.0.0",
      "model_name": "DescriptionStyleModel",
      "state": {
       "_model_module_version": "1.0.0",
       "description_width": ""
      }
     },
     "2f1da2c3ad784108922931efe40eea52": {
      "model_module": "@jupyter-widgets/controls",
      "model_module_version": "1.1.0",
      "model_name": "VBoxModel",
      "state": {
       "children": [
        "IPY_MODEL_9ad9fab4526843649270a936c260232d",
        "IPY_MODEL_4649a945b2ed480cb53e78ec324d6908"
       ],
       "layout": "IPY_MODEL_0a19281c62cd409d94ebca8cb1b4768f"
      }
     },
     "2fc8150d66d44d2988dae5b3ae176f5f": {
      "model_module": "@jupyter-widgets/base",
      "model_module_version": "1.0.0",
      "model_name": "LayoutModel",
      "state": {}
     },
     "3b051986420a4f829f963ee2e784f5a6": {
      "model_module": "@jupyter-widgets/base",
      "model_module_version": "1.0.0",
      "model_name": "LayoutModel",
      "state": {}
     },
     "3b43d9182c894362b1d9a60c4f1d06fb": {
      "model_module": "jupyter-leaflet",
      "model_module_version": "~0.6.0",
      "model_name": "LeafletMapModel",
      "state": {
       "_dom_classes": [],
       "_model_module_version": "~0.6.0",
       "_view_count": null,
       "_view_module_version": "~0.6.0",
       "basemap": {
        "attribution": "Map data (c) <a href=\"https://openstreetmap.org\">OpenStreetMap</a> contributors",
        "max_zoom": 19,
        "url": "https://{s}.tile.openstreetmap.org/{z}/{x}/{y}.png"
       },
       "center": [
        34.6252978589571,
        -77.34580993652344
       ],
       "default_tiles": "IPY_MODEL_6fb3d0adad9c4348841069bdad7e3927",
       "layers": [
        "IPY_MODEL_6fb3d0adad9c4348841069bdad7e3927",
        "IPY_MODEL_f6f652c86bd3472e8e85abe1d12ee3f9"
       ],
       "layout": "IPY_MODEL_105a92b0ef464dc4a9016f159e5e5484",
       "modisdate": "yesterday",
       "options": [
        "attribution_control",
        "basemap",
        "bounce_at_zoom_limits",
        "box_zoom",
        "center",
        "close_popup_on_click",
        "double_click_zoom",
        "dragging",
        "inertia",
        "inertia_deceleration",
        "inertia_max_speed",
        "keyboard",
        "keyboard_pan_offset",
        "keyboard_zoom_offset",
        "max_zoom",
        "min_zoom",
        "scroll_wheel_zoom",
        "tap",
        "tap_tolerance",
        "touch_zoom",
        "world_copy_jump",
        "zoom",
        "zoom_animation_threshold",
        "zoom_control",
        "zoom_start"
       ],
       "zoom": 10
      }
     },
     "3d429b4c9c75422e865bc7df1aed099f": {
      "model_module": "@jupyter-widgets/controls",
      "model_module_version": "1.0.0",
      "model_name": "HTMLModel",
      "state": {
       "_model_module_version": "1.0.0",
       "_view_module_version": "1.0.0",
       "layout": "IPY_MODEL_f0e924146de64f4dbc69fc0fcbf7f958",
       "style": "IPY_MODEL_2e7d047f5a594198a19cc9504c060e79"
      }
     },
     "3d9b1cf2b9c04444b4bc08b449d6651d": {
      "model_module": "@jupyter-widgets/controls",
      "model_module_version": "1.1.0",
      "model_name": "HTMLModel",
      "state": {
       "layout": "IPY_MODEL_c8f86864629049f0bcd8175e816d1d61",
       "style": "IPY_MODEL_f96cb5c716b144949647e3142a3b7dc8"
      }
     },
     "42f439a4b6484c7b955e9f1b53dd3479": {
      "model_module": "@jupyter-widgets/controls",
      "model_module_version": "1.1.0",
      "model_name": "SelectModel",
      "state": {
       "_options_labels": [
        "Wanted Man"
       ],
       "index": 0,
       "layout": "IPY_MODEL_ba9a875d0f3045ae896f7f03a75c1f9c",
       "style": "IPY_MODEL_57ebe74ac61c4b41a3939c405b5d2afb"
      }
     },
     "44212dc8bbbd4784ac0abc728481ef0f": {
      "model_module": "@jupyter-widgets/controls",
      "model_module_version": "1.1.0",
      "model_name": "DescriptionStyleModel",
      "state": {
       "description_width": ""
      }
     },
     "448e76fa3bc043a1936bc12eb4003f16": {
      "model_module": "@jupyter-widgets/base",
      "model_module_version": "1.0.0",
      "model_name": "LayoutModel",
      "state": {}
     },
     "4649a945b2ed480cb53e78ec324d6908": {
      "model_module": "@jupyter-widgets/controls",
      "model_module_version": "1.1.0",
      "model_name": "HBoxModel",
      "state": {
       "children": [
        "IPY_MODEL_42f439a4b6484c7b955e9f1b53dd3479",
        "IPY_MODEL_c16f9cb244444003ae3f4e0c47a04137"
       ],
       "layout": "IPY_MODEL_e859cc2a7e9743488bbda96bf888999b"
      }
     },
     "4672fea2ec864328b93df427dd58d42a": {
      "model_module": "jupyter-leaflet",
      "model_module_version": "~0.6.0",
      "model_name": "LeafletCircleMarkerModel",
      "state": {
       "_model_module_version": "~0.6.0",
       "_view_count": null,
       "_view_module_version": "~0.6.0",
       "color": "#F00",
       "fill_color": "#0F0",
       "fill_opacity": 1,
       "location": [
        34.6252978589571,
        -77.34580993652344
       ],
       "options": [
        "class_name",
        "clickable",
        "color",
        "dash_array",
        "fill",
        "fill_color",
        "fill_opacity",
        "line_cap",
        "line_join",
        "pointer_events",
        "stroke",
        "weight"
       ],
       "radius": 30,
       "weight": 2
      }
     },
     "46931ba04a1344038c2a5c8d35ca2d67": {
      "model_module": "@jupyter-widgets/controls",
      "model_module_version": "1.0.0",
      "model_name": "DropdownModel",
      "state": {
       "_model_module_version": "1.0.0",
       "_options_labels": [
        "Abilene",
        "Albuquerque",
        "Amarillo",
        "Amsterdam",
        "Arlington",
        "Atlanta",
        "Atlantic City",
        "Austin",
        "Baltimore",
        "Barcelona",
        "Baton Rouge",
        "Boston",
        "Brownsville",
        "Brussels",
        "Buffalo",
        "Cambridge",
        "Carbondale",
        "Cheyenne",
        "Chicago",
        "Columbus",
        "Cumberland",
        "Dallas",
        "Denver",
        "Detroit",
        "Durango",
        "El Paso",
        "Florida",
        "Hamburg",
        "Hong Kong",
        "Honolulu",
        "Houston",
        "Jackson",
        "Jerusalem",
        "Juarez",
        "Kansas City",
        "Las Vegas",
        "Liverpool",
        "London",
        "Madrid",
        "Memphis",
        "Mexico City",
        "Miami",
        "Mobile",
        "Montana",
        "Nazareth",
        "New Orleans",
        "New York",
        "Omaha",
        "Paris",
        "Paterson",
        "Pittsburgh",
        "Richmond",
        "Rome",
        "San Francisco",
        "San Pedro",
        "Shreveport",
        "Singapore",
        "St. Petersburg",
        "Syracuse",
        "Tallahassee",
        "Vicksburg",
        "Wichita"
       ],
       "_view_module_version": "1.0.0",
       "index": 0,
       "layout": "IPY_MODEL_3b051986420a4f829f963ee2e784f5a6",
       "style": "IPY_MODEL_f83f08f32eab4fa1b245cf217c9ce266"
      }
     },
     "47d6d87722374b8d9fd86d7b6e5bd607": {
      "model_module": "@jupyter-widgets/controls",
      "model_module_version": "1.1.0",
      "model_name": "DescriptionStyleModel",
      "state": {
       "description_width": ""
      }
     },
     "4a99fba36b0d4e0e80cb4a9f0620e8dd": {
      "model_module": "@jupyter-widgets/base",
      "model_module_version": "1.0.0",
      "model_name": "LayoutModel",
      "state": {}
     },
     "4b71e5012b35419a85b3e2bf2f32a817": {
      "model_module": "@jupyter-widgets/base",
      "model_module_version": "1.0.0",
      "model_name": "LayoutModel",
      "state": {
       "align_self": "stretch",
       "height": "400px"
      }
     },
     "5097496e490343b5bfe36f971251cf89": {
      "model_module": "@jupyter-widgets/controls",
      "model_module_version": "1.0.0",
      "model_name": "HBoxModel",
      "state": {
       "_model_module_version": "1.0.0",
       "_view_module_version": "1.0.0",
       "children": [
        "IPY_MODEL_46931ba04a1344038c2a5c8d35ca2d67",
        "IPY_MODEL_3d429b4c9c75422e865bc7df1aed099f"
       ],
       "layout": "IPY_MODEL_4a99fba36b0d4e0e80cb4a9f0620e8dd"
      }
     },
     "57ebe74ac61c4b41a3939c405b5d2afb": {
      "model_module": "@jupyter-widgets/controls",
      "model_module_version": "1.1.0",
      "model_name": "DescriptionStyleModel",
      "state": {
       "description_width": ""
      }
     },
     "5ac7f461fa87457f9b3108389c42a6e1": {
      "model_module": "@jupyter-widgets/controls",
      "model_module_version": "1.1.0",
      "model_name": "DescriptionStyleModel",
      "state": {
       "description_width": ""
      }
     },
     "62119b84a6364c6dbbc23ea95c0e12d1": {
      "model_module": "jupyter-leaflet",
      "model_module_version": "~0.6.0",
      "model_name": "LeafletMapModel",
      "state": {
       "_dom_classes": [],
       "_model_module_version": "~0.6.0",
       "_view_count": null,
       "_view_module_version": "~0.6.0",
       "basemap": {
        "attribution": "Map data (c) <a href=\"https://openstreetmap.org\">OpenStreetMap</a> contributors",
        "max_zoom": 19,
        "url": "https://{s}.tile.openstreetmap.org/{z}/{x}/{y}.png"
       },
       "center": [
        34.6252978589571,
        -77.34580993652344
       ],
       "default_tiles": "IPY_MODEL_2abbebacebd145b389fc76a81d0604d9",
       "layers": [
        "IPY_MODEL_2abbebacebd145b389fc76a81d0604d9",
        "IPY_MODEL_22ea6eff0f7d4e48a24ce5bc414e3101"
       ],
       "layout": "IPY_MODEL_4b71e5012b35419a85b3e2bf2f32a817",
       "modisdate": "yesterday",
       "options": [
        "attribution_control",
        "basemap",
        "bounce_at_zoom_limits",
        "box_zoom",
        "center",
        "close_popup_on_click",
        "double_click_zoom",
        "dragging",
        "inertia",
        "inertia_deceleration",
        "inertia_max_speed",
        "keyboard",
        "keyboard_pan_offset",
        "keyboard_zoom_offset",
        "max_zoom",
        "min_zoom",
        "scroll_wheel_zoom",
        "tap",
        "tap_tolerance",
        "touch_zoom",
        "world_copy_jump",
        "zoom",
        "zoom_animation_threshold",
        "zoom_control",
        "zoom_start"
       ]
      }
     },
     "6421060f33034378bda95a4518f6e271": {
      "model_module": "@jupyter-widgets/base",
      "model_module_version": "1.0.0",
      "model_name": "LayoutModel",
      "state": {}
     },
     "69ab5c69638c429f9432e4c124b4aa6a": {
      "model_module": "@jupyter-widgets/controls",
      "model_module_version": "1.1.0",
      "model_name": "HBoxModel",
      "state": {
       "children": [
        "IPY_MODEL_d668146d1d9d4fc883838c08df18fc1b",
        "IPY_MODEL_e0bc51dc4a4a404f9ddbb8fb488ed718"
       ],
       "layout": "IPY_MODEL_2fc8150d66d44d2988dae5b3ae176f5f"
      }
     },
     "6b3bd9f9de8d4f7ab4d13982e4bb44d8": {
      "model_module": "jupyter-leaflet",
      "model_module_version": "~0.6.0",
      "model_name": "LeafletMapModel",
      "state": {
       "_dom_classes": [],
       "_model_module_version": "~0.6.0",
       "_view_count": null,
       "_view_module_version": "~0.6.0",
       "basemap": {
        "attribution": "Map data (c) <a href=\"https://openstreetmap.org\">OpenStreetMap</a> contributors",
        "max_zoom": 19,
        "url": "https://{s}.tile.openstreetmap.org/{z}/{x}/{y}.png"
       },
       "center": [
        34.6252978589571,
        -77.33551025390626
       ],
       "default_tiles": "IPY_MODEL_faec897452ed44959fec0ece15c127b9",
       "layers": [
        "IPY_MODEL_faec897452ed44959fec0ece15c127b9",
        "IPY_MODEL_b28c2e07ee644723b1fb9ff8092d9809"
       ],
       "layout": "IPY_MODEL_13ccf5c1198a438fbba5ef583092f553",
       "modisdate": "yesterday",
       "options": [
        "attribution_control",
        "basemap",
        "bounce_at_zoom_limits",
        "box_zoom",
        "center",
        "close_popup_on_click",
        "double_click_zoom",
        "dragging",
        "inertia",
        "inertia_deceleration",
        "inertia_max_speed",
        "keyboard",
        "keyboard_pan_offset",
        "keyboard_zoom_offset",
        "max_zoom",
        "min_zoom",
        "scroll_wheel_zoom",
        "tap",
        "tap_tolerance",
        "touch_zoom",
        "world_copy_jump",
        "zoom",
        "zoom_animation_threshold",
        "zoom_control",
        "zoom_start"
       ],
       "zoom": 10
      }
     },
     "6d7b2ee186594cdcb18631806e52a97c": {
      "model_module": "@jupyter-widgets/base",
      "model_module_version": "1.0.0",
      "model_name": "LayoutModel",
      "state": {}
     },
     "6fb3d0adad9c4348841069bdad7e3927": {
      "model_module": "jupyter-leaflet",
      "model_module_version": "~0.6.0",
      "model_name": "LeafletTileLayerModel",
      "state": {
       "_model_module_version": "~0.6.0",
       "_view_count": null,
       "_view_module_version": "~0.6.0",
       "options": [
        "attribution",
        "detect_retina",
        "max_zoom",
        "min_zoom",
        "tile_size"
       ]
      }
     },
     "70606c806a364356ab5f4471ab18c044": {
      "model_module": "@jupyter-widgets/base",
      "model_module_version": "1.0.0",
      "model_name": "LayoutModel",
      "state": {
       "align_self": "stretch",
       "height": "400px"
      }
     },
     "770e435537e34be681be490ed6fa28e5": {
      "model_module": "@jupyter-widgets/controls",
      "model_module_version": "1.1.0",
      "model_name": "DropdownModel",
      "state": {
       "_options_labels": [
        "Abilene",
        "Albuquerque",
        "Amarillo",
        "Amsterdam",
        "Arlington",
        "Atlanta",
        "Atlantic City",
        "Austin",
        "Baltimore",
        "Barcelona",
        "Baton Rouge",
        "Boston",
        "Brownsville",
        "Brussels",
        "Buffalo",
        "Cambridge",
        "Carbondale",
        "Cheyenne",
        "Chicago",
        "Columbus",
        "Cumberland",
        "Dallas",
        "Denver",
        "Detroit",
        "Durango",
        "El Paso",
        "Florida",
        "Hamburg",
        "Hong Kong",
        "Honolulu",
        "Houston",
        "Jackson",
        "Jerusalem",
        "Juarez",
        "Kansas City",
        "Las Vegas",
        "Liverpool",
        "London",
        "Madrid",
        "Memphis",
        "Mexico City",
        "Miami",
        "Mobile",
        "Montana",
        "Nazareth",
        "New Orleans",
        "New York",
        "Omaha",
        "Paris",
        "Paterson",
        "Pittsburgh",
        "Richmond",
        "Rome",
        "San Francisco",
        "San Pedro",
        "Shreveport",
        "Singapore",
        "St. Petersburg",
        "Syracuse",
        "Tallahassee",
        "Vicksburg",
        "Wichita"
       ],
       "index": 0,
       "layout": "IPY_MODEL_448e76fa3bc043a1936bc12eb4003f16",
       "style": "IPY_MODEL_89f51a91c4a3455ba8ad30e1254bcbdb"
      }
     },
     "772472beca6d442890192e233ca325fa": {
      "model_module": "@jupyter-widgets/base",
      "model_module_version": "1.0.0",
      "model_name": "LayoutModel",
      "state": {}
     },
     "81a7ecb45f10425fbd341f644f3ea76a": {
      "model_module": "@jupyter-widgets/base",
      "model_module_version": "1.0.0",
      "model_name": "LayoutModel",
      "state": {}
     },
     "89f51a91c4a3455ba8ad30e1254bcbdb": {
      "model_module": "@jupyter-widgets/controls",
      "model_module_version": "1.1.0",
      "model_name": "DescriptionStyleModel",
      "state": {
       "description_width": ""
      }
     },
     "8b20644c1ad04fd4978686586d806d3e": {
      "model_module": "@jupyter-widgets/controls",
      "model_module_version": "1.1.0",
      "model_name": "DescriptionStyleModel",
      "state": {
       "description_width": ""
      }
     },
     "8e60399838324978a11a2c07bfa211f7": {
      "model_module": "@jupyter-widgets/controls",
      "model_module_version": "1.1.0",
      "model_name": "HTMLModel",
      "state": {
       "layout": "IPY_MODEL_a0a8190069234714a70de1dc92505128",
       "placeholder": "Lyrics...",
       "style": "IPY_MODEL_d43bc8546a9a459599f5276ce1ee1f4c"
      }
     },
     "8eb540e13b854a7aaf23dd0ed60cef7b": {
      "model_module": "@jupyter-widgets/base",
      "model_module_version": "1.0.0",
      "model_name": "LayoutModel",
      "state": {}
     },
     "95e742a0189841609ee676d0a3f4e481": {
      "model_module": "@jupyter-widgets/base",
      "model_module_version": "1.0.0",
      "model_name": "LayoutModel",
      "state": {}
     },
     "97d8fdc9bb754f2b9f624eae89db2c4b": {
      "model_module": "@jupyter-widgets/controls",
      "model_module_version": "1.1.0",
      "model_name": "HBoxModel",
      "state": {
       "children": [
        "IPY_MODEL_ad5e19be52e84ad2a04a513a2f42de52",
        "IPY_MODEL_8e60399838324978a11a2c07bfa211f7"
       ],
       "layout": "IPY_MODEL_2acb8fbd60e8457a9669929a4f050c1b"
      }
     },
     "9a0597378b184486a57478b24ca7bace": {
      "model_module": "@jupyter-widgets/controls",
      "model_module_version": "1.1.0",
      "model_name": "HTMLModel",
      "state": {
       "layout": "IPY_MODEL_8eb540e13b854a7aaf23dd0ed60cef7b",
       "style": "IPY_MODEL_5ac7f461fa87457f9b3108389c42a6e1",
       "value": "<b>Count:</b> 1</br>"
      }
     },
     "9ad9fab4526843649270a936c260232d": {
      "model_module": "@jupyter-widgets/controls",
      "model_module_version": "1.1.0",
      "model_name": "HBoxModel",
      "state": {
       "children": [
        "IPY_MODEL_f2970f0102a44fdd8974556aa9188e5c",
        "IPY_MODEL_3d9b1cf2b9c04444b4bc08b449d6651d"
       ],
       "layout": "IPY_MODEL_de135d77477e48289a8610642eaec2a2"
      }
     },
     "a0a8190069234714a70de1dc92505128": {
      "model_module": "@jupyter-widgets/base",
      "model_module_version": "1.0.0",
      "model_name": "LayoutModel",
      "state": {}
     },
     "a2d1442d67f44f83962ccbc3689ce2c9": {
      "model_module": "@jupyter-widgets/controls",
      "model_module_version": "1.1.0",
      "model_name": "SliderStyleModel",
      "state": {
       "description_width": ""
      }
     },
     "a6a3f61f3710459e82d2ae17ad587a12": {
      "model_module": "@jupyter-widgets/base",
      "model_module_version": "1.0.0",
      "model_name": "LayoutModel",
      "state": {}
     },
     "ad5e19be52e84ad2a04a513a2f42de52": {
      "model_module": "@jupyter-widgets/controls",
      "model_module_version": "1.1.0",
      "model_name": "SelectModel",
      "state": {
       "_options_labels": [
        "Wanted Man"
       ],
       "index": 0,
       "layout": "IPY_MODEL_6d7b2ee186594cdcb18631806e52a97c",
       "style": "IPY_MODEL_d5b3454451a441f484084788c685d012"
      }
     },
     "b28c2e07ee644723b1fb9ff8092d9809": {
      "model_module": "jupyter-leaflet",
      "model_module_version": "~0.6.0",
      "model_name": "LeafletCircleMarkerModel",
      "state": {
       "_model_module_version": "~0.6.0",
       "_view_count": null,
       "_view_module_version": "~0.6.0",
       "color": "#F00",
       "fill_color": "#0F0",
       "fill_opacity": 1,
       "location": [
        34.6252978589571,
        -77.34580993652344
       ],
       "options": [
        "class_name",
        "clickable",
        "color",
        "dash_array",
        "fill",
        "fill_color",
        "fill_opacity",
        "line_cap",
        "line_join",
        "pointer_events",
        "stroke",
        "weight"
       ],
       "radius": 30,
       "weight": 2
      }
     },
     "b6baca10f5804ba89f822413695e1f91": {
      "model_module": "@jupyter-widgets/base",
      "model_module_version": "1.0.0",
      "model_name": "LayoutModel",
      "state": {}
     },
     "b6f0caac220546289a7b8c14fbad1afd": {
      "model_module": "@jupyter-widgets/controls",
      "model_module_version": "1.1.0",
      "model_name": "HBoxModel",
      "state": {
       "children": [
        "IPY_MODEL_770e435537e34be681be490ed6fa28e5",
        "IPY_MODEL_f2c5823e1bf84a62b6d773c843a3b7f9"
       ],
       "layout": "IPY_MODEL_772472beca6d442890192e233ca325fa"
      }
     },
     "ba9a875d0f3045ae896f7f03a75c1f9c": {
      "model_module": "@jupyter-widgets/base",
      "model_module_version": "1.0.0",
      "model_name": "LayoutModel",
      "state": {}
     },
     "c102b9dac33d4c47b6bd2945a9acd69c": {
      "model_module": "@jupyter-widgets/controls",
      "model_module_version": "1.0.0",
      "model_name": "VBoxModel",
      "state": {
       "_model_module_version": "1.0.0",
       "_view_module_version": "1.0.0",
       "children": [
        "IPY_MODEL_5097496e490343b5bfe36f971251cf89",
        "IPY_MODEL_c2ab8ae017024e6b9210cc736a30e187"
       ],
       "layout": "IPY_MODEL_cb63ea0e73b840d7b7eee1b53360e405"
      }
     },
     "c16f9cb244444003ae3f4e0c47a04137": {
      "model_module": "@jupyter-widgets/controls",
      "model_module_version": "1.1.0",
      "model_name": "HTMLModel",
      "state": {
       "layout": "IPY_MODEL_c3ac7a7363454f5abde0baae70e37db5",
       "placeholder": "Lyrics...",
       "style": "IPY_MODEL_44212dc8bbbd4784ac0abc728481ef0f"
      }
     },
     "c2ab8ae017024e6b9210cc736a30e187": {
      "model_module": "@jupyter-widgets/controls",
      "model_module_version": "1.0.0",
      "model_name": "HBoxModel",
      "state": {
       "_model_module_version": "1.0.0",
       "_view_module_version": "1.0.0",
       "children": [
        "IPY_MODEL_cc57081662f04902a01959488813f749",
        "IPY_MODEL_dd87c57f9a7942e983ed507ecd2c0dfb"
       ],
       "layout": "IPY_MODEL_d03dd41c0c824cd598052433b10bbde6"
      }
     },
     "c3ac7a7363454f5abde0baae70e37db5": {
      "model_module": "@jupyter-widgets/base",
      "model_module_version": "1.0.0",
      "model_name": "LayoutModel",
      "state": {}
     },
     "c3d7e3cb3df84068a2d3027361b2698a": {
      "model_module": "@jupyter-widgets/controls",
      "model_module_version": "1.1.0",
      "model_name": "HBoxModel",
      "state": {
       "children": [
        "IPY_MODEL_022875d995b14f1caf718a4e86337db4",
        "IPY_MODEL_9a0597378b184486a57478b24ca7bace"
       ],
       "layout": "IPY_MODEL_033af05bb75a4df5bbc4209e6aedcc2f"
      }
     },
     "c43e3b7c92564151af73fcda59838821": {
      "model_module": "@jupyter-widgets/controls",
      "model_module_version": "1.1.0",
      "model_name": "IntSliderModel",
      "state": {
       "description": "zoom",
       "layout": "IPY_MODEL_6421060f33034378bda95a4518f6e271",
       "max": 10,
       "min": 5,
       "style": "IPY_MODEL_a2d1442d67f44f83962ccbc3689ce2c9",
       "value": 10
      }
     },
     "c8f86864629049f0bcd8175e816d1d61": {
      "model_module": "@jupyter-widgets/base",
      "model_module_version": "1.0.0",
      "model_name": "LayoutModel",
      "state": {}
     },
     "cb63ea0e73b840d7b7eee1b53360e405": {
      "model_module": "@jupyter-widgets/base",
      "model_module_version": "1.0.0",
      "model_name": "LayoutModel",
      "state": {}
     },
     "cc57081662f04902a01959488813f749": {
      "model_module": "@jupyter-widgets/controls",
      "model_module_version": "1.0.0",
      "model_name": "SelectModel",
      "state": {
       "_model_module_version": "1.0.0",
       "_options_labels": [
        "Wanted Man"
       ],
       "_view_module_version": "1.0.0",
       "index": 0,
       "layout": "IPY_MODEL_e0e07d2dad6d46ae80fd1d4bde4ef0ac",
       "style": "IPY_MODEL_d7eaad0bc31749cb960d7952e1bc9e2b"
      }
     },
     "d03dd41c0c824cd598052433b10bbde6": {
      "model_module": "@jupyter-widgets/base",
      "model_module_version": "1.0.0",
      "model_name": "LayoutModel",
      "state": {}
     },
     "d43bc8546a9a459599f5276ce1ee1f4c": {
      "model_module": "@jupyter-widgets/controls",
      "model_module_version": "1.1.0",
      "model_name": "DescriptionStyleModel",
      "state": {
       "description_width": ""
      }
     },
     "d50b69c47188430287e7f23fd6dce4b8": {
      "model_module": "jupyter-leaflet",
      "model_module_version": "~0.6.0",
      "model_name": "LeafletTileLayerModel",
      "state": {
       "_model_module_version": "~0.6.0",
       "_view_count": null,
       "_view_module_version": "~0.6.0",
       "options": [
        "attribution",
        "detect_retina",
        "max_zoom",
        "min_zoom",
        "tile_size"
       ]
      }
     },
     "d5b3454451a441f484084788c685d012": {
      "model_module": "@jupyter-widgets/controls",
      "model_module_version": "1.1.0",
      "model_name": "DescriptionStyleModel",
      "state": {
       "description_width": ""
      }
     },
     "d668146d1d9d4fc883838c08df18fc1b": {
      "model_module": "@jupyter-widgets/controls",
      "model_module_version": "1.1.0",
      "model_name": "SelectModel",
      "state": {
       "_options_labels": [
        "Wanted Man"
       ],
       "index": 0,
       "layout": "IPY_MODEL_95e742a0189841609ee676d0a3f4e481",
       "style": "IPY_MODEL_0018446f878f486fa52b9f283ae822bc"
      }
     },
     "d6e350856fce470595dcca7231edf0b3": {
      "model_module": "@jupyter-widgets/base",
      "model_module_version": "1.0.0",
      "model_name": "LayoutModel",
      "state": {}
     },
     "d7eaad0bc31749cb960d7952e1bc9e2b": {
      "model_module": "@jupyter-widgets/controls",
      "model_module_version": "1.0.0",
      "model_name": "DescriptionStyleModel",
      "state": {
       "_model_module_version": "1.0.0",
       "description_width": ""
      }
     },
     "dd87c57f9a7942e983ed507ecd2c0dfb": {
      "model_module": "@jupyter-widgets/controls",
      "model_module_version": "1.0.0",
      "model_name": "HTMLModel",
      "state": {
       "_model_module_version": "1.0.0",
       "_view_module_version": "1.0.0",
       "layout": "IPY_MODEL_a6a3f61f3710459e82d2ae17ad587a12",
       "placeholder": "Lyrics...",
       "style": "IPY_MODEL_fa2a315a7ddf45b09945058f6ddaa9ef"
      }
     },
     "de135d77477e48289a8610642eaec2a2": {
      "model_module": "@jupyter-widgets/base",
      "model_module_version": "1.0.0",
      "model_name": "LayoutModel",
      "state": {}
     },
     "e0bc51dc4a4a404f9ddbb8fb488ed718": {
      "model_module": "@jupyter-widgets/controls",
      "model_module_version": "1.1.0",
      "model_name": "HTMLModel",
      "state": {
       "layout": "IPY_MODEL_f0015b2179d9490d99a4bdb24f6e1c09",
       "placeholder": "Lyrics...",
       "style": "IPY_MODEL_8b20644c1ad04fd4978686586d806d3e",
       "value": "<b>Lyrics:</b> ...p\r\\Then I went to sleep in Shreveport, woke up in <b><span style=\"color:blue\">Abilene</span></b>\r\\Wonderin’ why the hell I’m wanted at some town halfway between\\\r\\Wanted man in Albuquerque,...</br>"
      }
     },
     "e0e07d2dad6d46ae80fd1d4bde4ef0ac": {
      "model_module": "@jupyter-widgets/base",
      "model_module_version": "1.0.0",
      "model_name": "LayoutModel",
      "state": {}
     },
     "e4eeabac555f46a9b12d4bfa0f6e1202": {
      "model_module": "@jupyter-widgets/controls",
      "model_module_version": "1.1.0",
      "model_name": "DescriptionStyleModel",
      "state": {
       "description_width": ""
      }
     },
     "e859cc2a7e9743488bbda96bf888999b": {
      "model_module": "@jupyter-widgets/base",
      "model_module_version": "1.0.0",
      "model_name": "LayoutModel",
      "state": {}
     },
     "ea42f67737994964821d311d4e9893b2": {
      "model_module": "jupyter-leaflet",
      "model_module_version": "~0.6.0",
      "model_name": "LeafletMapModel",
      "state": {
       "_dom_classes": [],
       "_model_module_version": "~0.6.0",
       "_view_count": null,
       "_view_module_version": "~0.6.0",
       "basemap": {
        "attribution": "Map data (c) <a href=\"https://openstreetmap.org\">OpenStreetMap</a> contributors",
        "max_zoom": 19,
        "url": "https://{s}.tile.openstreetmap.org/{z}/{x}/{y}.png"
       },
       "center": [
        34.6252978589571,
        -77.34580993652344
       ],
       "default_tiles": "IPY_MODEL_d50b69c47188430287e7f23fd6dce4b8",
       "layers": [
        "IPY_MODEL_d50b69c47188430287e7f23fd6dce4b8",
        "IPY_MODEL_4672fea2ec864328b93df427dd58d42a"
       ],
       "layout": "IPY_MODEL_70606c806a364356ab5f4471ab18c044",
       "modisdate": "yesterday",
       "options": [
        "attribution_control",
        "basemap",
        "bounce_at_zoom_limits",
        "box_zoom",
        "center",
        "close_popup_on_click",
        "double_click_zoom",
        "dragging",
        "inertia",
        "inertia_deceleration",
        "inertia_max_speed",
        "keyboard",
        "keyboard_pan_offset",
        "keyboard_zoom_offset",
        "max_zoom",
        "min_zoom",
        "scroll_wheel_zoom",
        "tap",
        "tap_tolerance",
        "touch_zoom",
        "world_copy_jump",
        "zoom",
        "zoom_animation_threshold",
        "zoom_control",
        "zoom_start"
       ],
       "zoom": 10
      }
     },
     "f0015b2179d9490d99a4bdb24f6e1c09": {
      "model_module": "@jupyter-widgets/base",
      "model_module_version": "1.0.0",
      "model_name": "LayoutModel",
      "state": {}
     },
     "f0e924146de64f4dbc69fc0fcbf7f958": {
      "model_module": "@jupyter-widgets/base",
      "model_module_version": "1.0.0",
      "model_name": "LayoutModel",
      "state": {}
     },
     "f2970f0102a44fdd8974556aa9188e5c": {
      "model_module": "@jupyter-widgets/controls",
      "model_module_version": "1.1.0",
      "model_name": "DropdownModel",
      "state": {
       "_options_labels": [
        "Abilene",
        "Albuquerque",
        "Amarillo",
        "Amsterdam",
        "Arlington",
        "Atlanta",
        "Atlantic City",
        "Austin",
        "Baltimore",
        "Barcelona",
        "Baton Rouge",
        "Boston",
        "Brownsville",
        "Brussels",
        "Buffalo",
        "Cambridge",
        "Carbondale",
        "Cheyenne",
        "Chicago",
        "Columbus",
        "Cumberland",
        "Dallas",
        "Denver",
        "Detroit",
        "Durango",
        "El Paso",
        "Florida",
        "Hamburg",
        "Hong Kong",
        "Honolulu",
        "Houston",
        "Jackson",
        "Jerusalem",
        "Juarez",
        "Kansas City",
        "Las Vegas",
        "Liverpool",
        "London",
        "Madrid",
        "Memphis",
        "Mexico City",
        "Miami",
        "Mobile",
        "Montana",
        "Nazareth",
        "New Orleans",
        "New York",
        "Omaha",
        "Paris",
        "Paterson",
        "Pittsburgh",
        "Richmond",
        "Rome",
        "San Francisco",
        "San Pedro",
        "Shreveport",
        "Singapore",
        "St. Petersburg",
        "Syracuse",
        "Tallahassee",
        "Vicksburg",
        "Wichita"
       ],
       "index": 0,
       "layout": "IPY_MODEL_d6e350856fce470595dcca7231edf0b3",
       "style": "IPY_MODEL_f881825bf41d4aee9516078b4e83a766"
      }
     },
     "f2c5823e1bf84a62b6d773c843a3b7f9": {
      "model_module": "@jupyter-widgets/controls",
      "model_module_version": "1.1.0",
      "model_name": "HTMLModel",
      "state": {
       "layout": "IPY_MODEL_81a7ecb45f10425fbd341f644f3ea76a",
       "style": "IPY_MODEL_e4eeabac555f46a9b12d4bfa0f6e1202"
      }
     },
     "f6f652c86bd3472e8e85abe1d12ee3f9": {
      "model_module": "jupyter-leaflet",
      "model_module_version": "~0.6.0",
      "model_name": "LeafletCircleMarkerModel",
      "state": {
       "_model_module_version": "~0.6.0",
       "_view_count": null,
       "_view_module_version": "~0.6.0",
       "color": "#F00",
       "fill_color": "#0F0",
       "fill_opacity": 1,
       "location": [
        34.6252978589571,
        -77.34580993652344
       ],
       "options": [
        "class_name",
        "clickable",
        "color",
        "dash_array",
        "fill",
        "fill_color",
        "fill_opacity",
        "line_cap",
        "line_join",
        "pointer_events",
        "stroke",
        "weight"
       ],
       "radius": 30,
       "weight": 2
      }
     },
     "f83f08f32eab4fa1b245cf217c9ce266": {
      "model_module": "@jupyter-widgets/controls",
      "model_module_version": "1.0.0",
      "model_name": "DescriptionStyleModel",
      "state": {
       "_model_module_version": "1.0.0",
       "description_width": ""
      }
     },
     "f881825bf41d4aee9516078b4e83a766": {
      "model_module": "@jupyter-widgets/controls",
      "model_module_version": "1.1.0",
      "model_name": "DescriptionStyleModel",
      "state": {
       "description_width": ""
      }
     },
     "f96cb5c716b144949647e3142a3b7dc8": {
      "model_module": "@jupyter-widgets/controls",
      "model_module_version": "1.1.0",
      "model_name": "DescriptionStyleModel",
      "state": {
       "description_width": ""
      }
     },
     "fa2a315a7ddf45b09945058f6ddaa9ef": {
      "model_module": "@jupyter-widgets/controls",
      "model_module_version": "1.0.0",
      "model_name": "DescriptionStyleModel",
      "state": {
       "_model_module_version": "1.0.0",
       "description_width": ""
      }
     },
     "faec897452ed44959fec0ece15c127b9": {
      "model_module": "jupyter-leaflet",
      "model_module_version": "~0.6.0",
      "model_name": "LeafletTileLayerModel",
      "state": {
       "_model_module_version": "~0.6.0",
       "_view_count": null,
       "_view_module_version": "~0.6.0",
       "options": [
        "attribution",
        "detect_retina",
        "max_zoom",
        "min_zoom",
        "tile_size"
       ]
      }
     },
     "fd3a43d6de27453db680422961ac8a1e": {
      "model_module": "@jupyter-widgets/base",
      "model_module_version": "1.0.0",
      "model_name": "LayoutModel",
      "state": {}
     }
    },
    "version_major": 2,
    "version_minor": 0
   }
  }
 },
 "nbformat": 4,
 "nbformat_minor": 2
}
