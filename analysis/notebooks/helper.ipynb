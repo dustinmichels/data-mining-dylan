{
 "cells": [
  {
   "cell_type": "code",
   "execution_count": 1,
   "metadata": {},
   "outputs": [],
   "source": [
    "import pandas as pd\n",
    "import re"
   ]
  },
  {
   "cell_type": "code",
   "execution_count": 2,
   "metadata": {},
   "outputs": [],
   "source": [
    "# Load from my JSON\n",
    "df = pd.read_json('../data/songs.json')\n",
    "df.set_index('title', inplace=True)"
   ]
  },
  {
   "cell_type": "code",
   "execution_count": 3,
   "metadata": {},
   "outputs": [
    {
     "data": {
      "text/html": [
       "<div>\n",
       "<style scoped>\n",
       "    .dataframe tbody tr th:only-of-type {\n",
       "        vertical-align: middle;\n",
       "    }\n",
       "\n",
       "    .dataframe tbody tr th {\n",
       "        vertical-align: top;\n",
       "    }\n",
       "\n",
       "    .dataframe thead th {\n",
       "        text-align: right;\n",
       "    }\n",
       "</style>\n",
       "<table border=\"1\" class=\"dataframe\">\n",
       "  <thead>\n",
       "    <tr style=\"text-align: right;\">\n",
       "      <th></th>\n",
       "      <th>albums</th>\n",
       "      <th>author</th>\n",
       "      <th>lyrics</th>\n",
       "      <th>url</th>\n",
       "    </tr>\n",
       "    <tr>\n",
       "      <th>title</th>\n",
       "      <th></th>\n",
       "      <th></th>\n",
       "      <th></th>\n",
       "      <th></th>\n",
       "    </tr>\n",
       "  </thead>\n",
       "  <tbody>\n",
       "    <tr>\n",
       "      <th>‘Cross The Green Mountain</th>\n",
       "      <td>[The Bootleg Series, Vol 8: Tell Tale Signs]</td>\n",
       "      <td></td>\n",
       "      <td></td>\n",
       "      <td>https://bobdylan.com/songs/cross-green-mountain/</td>\n",
       "    </tr>\n",
       "    <tr>\n",
       "      <th>‘Til I Fell In Love With You</th>\n",
       "      <td>[Time Out Of Mind]</td>\n",
       "      <td>Bob Dylan</td>\n",
       "      <td>Well, my nerves are exploding and my body’s te...</td>\n",
       "      <td>https://bobdylan.com/songs/til-i-fell-love-you/</td>\n",
       "    </tr>\n",
       "    <tr>\n",
       "      <th>10,000 Men</th>\n",
       "      <td>[Under The Red Sky]</td>\n",
       "      <td>Bob Dylan</td>\n",
       "      <td>Ten thousand men on a hill\\r\\nTen thousand men...</td>\n",
       "      <td>https://bobdylan.com/songs/10000-men/</td>\n",
       "    </tr>\n",
       "  </tbody>\n",
       "</table>\n",
       "</div>"
      ],
      "text/plain": [
       "                                                                    albums  \\\n",
       "title                                                                        \n",
       "‘Cross The Green Mountain     [The Bootleg Series, Vol 8: Tell Tale Signs]   \n",
       "‘Til I Fell In Love With You                            [Time Out Of Mind]   \n",
       "10,000 Men                                             [Under The Red Sky]   \n",
       "\n",
       "                                 author  \\\n",
       "title                                     \n",
       "‘Cross The Green Mountain                 \n",
       "‘Til I Fell In Love With You  Bob Dylan   \n",
       "10,000 Men                    Bob Dylan   \n",
       "\n",
       "                                                                         lyrics  \\\n",
       "title                                                                             \n",
       "‘Cross The Green Mountain                                                         \n",
       "‘Til I Fell In Love With You  Well, my nerves are exploding and my body’s te...   \n",
       "10,000 Men                    Ten thousand men on a hill\\r\\nTen thousand men...   \n",
       "\n",
       "                                                                           url  \n",
       "title                                                                           \n",
       "‘Cross The Green Mountain     https://bobdylan.com/songs/cross-green-mountain/  \n",
       "‘Til I Fell In Love With You   https://bobdylan.com/songs/til-i-fell-love-you/  \n",
       "10,000 Men                               https://bobdylan.com/songs/10000-men/  "
      ]
     },
     "execution_count": 3,
     "metadata": {},
     "output_type": "execute_result"
    }
   ],
   "source": [
    "df.head(n=3)"
   ]
  },
  {
   "cell_type": "markdown",
   "metadata": {},
   "source": [
    "### Find Cities"
   ]
  },
  {
   "cell_type": "code",
   "execution_count": 4,
   "metadata": {},
   "outputs": [],
   "source": [
    "city_meta_df = pd.read_csv(\n",
    "    '../data/simplemaps-worldcities-basic.csv')"
   ]
  },
  {
   "cell_type": "code",
   "execution_count": 5,
   "metadata": {},
   "outputs": [],
   "source": [
    "city_df_set = (\n",
    "    city_meta_df\n",
    "    .sort_values(by=['city','pop'])\n",
    "    .drop_duplicates(subset='city', keep='last')\n",
    "    .set_index('city', verify_integrity=True))"
   ]
  },
  {
   "cell_type": "code",
   "execution_count": 6,
   "metadata": {},
   "outputs": [
    {
     "data": {
      "text/html": [
       "<div>\n",
       "<style scoped>\n",
       "    .dataframe tbody tr th:only-of-type {\n",
       "        vertical-align: middle;\n",
       "    }\n",
       "\n",
       "    .dataframe tbody tr th {\n",
       "        vertical-align: top;\n",
       "    }\n",
       "\n",
       "    .dataframe thead th {\n",
       "        text-align: right;\n",
       "    }\n",
       "</style>\n",
       "<table border=\"1\" class=\"dataframe\">\n",
       "  <thead>\n",
       "    <tr style=\"text-align: right;\">\n",
       "      <th></th>\n",
       "      <th>city_ascii</th>\n",
       "      <th>lat</th>\n",
       "      <th>lng</th>\n",
       "      <th>pop</th>\n",
       "      <th>country</th>\n",
       "      <th>iso2</th>\n",
       "      <th>iso3</th>\n",
       "      <th>province</th>\n",
       "    </tr>\n",
       "    <tr>\n",
       "      <th>city</th>\n",
       "      <th></th>\n",
       "      <th></th>\n",
       "      <th></th>\n",
       "      <th></th>\n",
       "      <th></th>\n",
       "      <th></th>\n",
       "      <th></th>\n",
       "      <th></th>\n",
       "    </tr>\n",
       "  </thead>\n",
       "  <tbody>\n",
       "    <tr>\n",
       "      <th>Mao</th>\n",
       "      <td>Mao</td>\n",
       "      <td>19.551996</td>\n",
       "      <td>-71.074997</td>\n",
       "      <td>48297.0</td>\n",
       "      <td>Dominican Republic</td>\n",
       "      <td>DO</td>\n",
       "      <td>DOM</td>\n",
       "      <td>Valverde</td>\n",
       "    </tr>\n",
       "    <tr>\n",
       "      <th>Libreville</th>\n",
       "      <td>Libreville</td>\n",
       "      <td>0.385389</td>\n",
       "      <td>9.457965</td>\n",
       "      <td>530755.5</td>\n",
       "      <td>Gabon</td>\n",
       "      <td>GA</td>\n",
       "      <td>GAB</td>\n",
       "      <td>Estuaire</td>\n",
       "    </tr>\n",
       "    <tr>\n",
       "      <th>Kashgar</th>\n",
       "      <td>Kashi</td>\n",
       "      <td>39.476336</td>\n",
       "      <td>75.969926</td>\n",
       "      <td>472069.5</td>\n",
       "      <td>China</td>\n",
       "      <td>CN</td>\n",
       "      <td>CHN</td>\n",
       "      <td>Xinjiang Uygur</td>\n",
       "    </tr>\n",
       "    <tr>\n",
       "      <th>Nautla</th>\n",
       "      <td>Nautla</td>\n",
       "      <td>20.216581</td>\n",
       "      <td>-96.783354</td>\n",
       "      <td>2653.5</td>\n",
       "      <td>Mexico</td>\n",
       "      <td>MX</td>\n",
       "      <td>MEX</td>\n",
       "      <td>Veracruz</td>\n",
       "    </tr>\n",
       "    <tr>\n",
       "      <th>Qapshaghay</th>\n",
       "      <td>Qapshaghay</td>\n",
       "      <td>43.884387</td>\n",
       "      <td>77.068722</td>\n",
       "      <td>40319.5</td>\n",
       "      <td>Kazakhstan</td>\n",
       "      <td>KZ</td>\n",
       "      <td>KAZ</td>\n",
       "      <td>Almaty</td>\n",
       "    </tr>\n",
       "  </tbody>\n",
       "</table>\n",
       "</div>"
      ],
      "text/plain": [
       "            city_ascii        lat        lng       pop             country  \\\n",
       "city                                                                         \n",
       "Mao                Mao  19.551996 -71.074997   48297.0  Dominican Republic   \n",
       "Libreville  Libreville   0.385389   9.457965  530755.5               Gabon   \n",
       "Kashgar          Kashi  39.476336  75.969926  472069.5               China   \n",
       "Nautla          Nautla  20.216581 -96.783354    2653.5              Mexico   \n",
       "Qapshaghay  Qapshaghay  43.884387  77.068722   40319.5          Kazakhstan   \n",
       "\n",
       "           iso2 iso3        province  \n",
       "city                                  \n",
       "Mao          DO  DOM        Valverde  \n",
       "Libreville   GA  GAB        Estuaire  \n",
       "Kashgar      CN  CHN  Xinjiang Uygur  \n",
       "Nautla       MX  MEX        Veracruz  \n",
       "Qapshaghay   KZ  KAZ          Almaty  "
      ]
     },
     "execution_count": 6,
     "metadata": {},
     "output_type": "execute_result"
    }
   ],
   "source": [
    "city_df_set.sample(n=5)"
   ]
  },
  {
   "cell_type": "code",
   "execution_count": 7,
   "metadata": {},
   "outputs": [],
   "source": [
    "def get_cities(word_list):\n",
    "    cities = []\n",
    "    for word in word_list:\n",
    "        if word in city_df_set.index:\n",
    "            cities.append(word)\n",
    "    return list(set(cities))"
   ]
  },
  {
   "cell_type": "code",
   "execution_count": 52,
   "metadata": {},
   "outputs": [],
   "source": [
    "def n_grams(word_list, n=2):\n",
    "    grams = []\n",
    "    for i in range(0, len(word_list)-n+1):\n",
    "        gram = ' '.join(word_list[i:i+n])\n",
    "        grams.append(gram)\n",
    "    return grams"
   ]
  },
  {
   "cell_type": "code",
   "execution_count": 53,
   "metadata": {},
   "outputs": [],
   "source": [
    "def extract_cities(text):\n",
    "    cap_words = re.findall('([A-Z][a-z]+)', text)\n",
    "    two_grams = n_grams(cap_words, n=2)\n",
    "    return get_cities(cap_words) + get_cities(two_grams)"
   ]
  },
  {
   "cell_type": "code",
   "execution_count": 54,
   "metadata": {},
   "outputs": [],
   "source": [
    "def show_lyrics(title):\n",
    "    return df.loc[title, 'lyrics']"
   ]
  },
  {
   "cell_type": "markdown",
   "metadata": {},
   "source": [
    "### Places to remove\n",
    "\n",
    "- Orleans and New Orleans, San and San Francisco\n",
    "- Mercedes? (angelina)\n",
    "- San Anton’\n",
    "\n",
    "Look at:\n",
    "- dusty old fairgrounds"
   ]
  },
  {
   "cell_type": "code",
   "execution_count": 142,
   "metadata": {},
   "outputs": [],
   "source": [
    "song = 'Tangled Up In Blue'\n",
    "\n",
    "with open('lyrics.txt', 'w') as file:\n",
    "    file.write(show_lyrics(song))"
   ]
  },
  {
   "cell_type": "code",
   "execution_count": null,
   "metadata": {},
   "outputs": [],
   "source": []
  }
 ],
 "metadata": {
  "kernelspec": {
   "display_name": "Python 3",
   "language": "python",
   "name": "python3"
  },
  "language_info": {
   "codemirror_mode": {
    "name": "ipython",
    "version": 3
   },
   "file_extension": ".py",
   "mimetype": "text/x-python",
   "name": "python",
   "nbconvert_exporter": "python",
   "pygments_lexer": "ipython3",
   "version": "3.6.5"
  }
 },
 "nbformat": 4,
 "nbformat_minor": 2
}
