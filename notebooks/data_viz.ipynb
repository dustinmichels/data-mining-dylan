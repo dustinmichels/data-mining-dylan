{
 "cells": [
  {
   "cell_type": "markdown",
   "metadata": {},
   "source": [
    "# Data Mining Dylan"
   ]
  },
  {
   "cell_type": "markdown",
   "metadata": {},
   "source": [
    "*Which places does Dylan sing about the most?*\n",
    "\n",
    "- For named entity recognition code, see `find_cities.ipynb`\n",
    "- For web scraping code, see `dylan_scraper.py`"
   ]
  },
  {
   "cell_type": "code",
   "execution_count": 1,
   "metadata": {},
   "outputs": [],
   "source": [
    "import pandas as pd\n",
    "import folium\n",
    "import altair\n",
    "from analysis import tidy_table"
   ]
  },
  {
   "cell_type": "code",
   "execution_count": 2,
   "metadata": {},
   "outputs": [],
   "source": [
    "# Load city data from file\n",
    "city_df = pd.read_json('data/city_counts.json')\n",
    "songs_df = pd.read_json('data/songs.json')"
   ]
  },
  {
   "cell_type": "code",
   "execution_count": 3,
   "metadata": {},
   "outputs": [],
   "source": [
    "# Make tidy versions\n",
    "city_tidy = tidy_table(city_df, ['songs'])\n",
    "songs_tidy = tidy_table(songs_df, ['albums'])\n",
    "df = pd.merge(city_tidy, songs_tidy, left_on='song', right_on='title')"
   ]
  },
  {
   "cell_type": "markdown",
   "metadata": {},
   "source": [
    "## A bar chart"
   ]
  },
  {
   "cell_type": "code",
   "execution_count": 4,
   "metadata": {},
   "outputs": [
    {
     "data": {
      "text/html": [
       "<div class=\"vega-embed\" id=\"c91ea55e-7adb-47a5-b3da-2caf43421c66\"></div>\n",
       "\n",
       "<style>\n",
       ".vega-embed svg, .vega-embed canvas {\n",
       "  border: 1px dotted gray;\n",
       "}\n",
       "\n",
       ".vega-embed .vega-actions a {\n",
       "  margin-right: 6px;\n",
       "}\n",
       "</style>\n"
      ]
     },
     "metadata": {
      "jupyter-vega": "#c91ea55e-7adb-47a5-b3da-2caf43421c66"
     },
     "output_type": "display_data"
    },
    {
     "data": {
      "application/javascript": [
       "var spec = {\"config\": {\"cell\": {\"width\": 500, \"height\": 350}}, \"encoding\": {\"x\": {\"field\": \"city\", \"type\": \"nominal\"}, \"y\": {\"field\": \"cnt\", \"type\": \"quantitative\"}}, \"mark\": \"bar\", \"data\": {\"values\": [{\"city\": \"New Orleans\", \"cnt\": 6, \"country\": \"United States of America\", \"iso2\": \"US\", \"iso3\": \"USA\", \"lat\": 29.99500246, \"lng\": -90.03996688, \"province\": \"Louisiana\", \"songs\": [\"Blind Willie McTell\", \"Bob Dylan\\u2019s New Orleans Rag\", \"House Of the Risin\\u2019 Sun\", \"Rambling, Gambling Willie\", \"Tangled Up In Blue\", \"Tryin\\u2019 To Get To Heaven\"]}, {\"city\": \"El Paso\", \"cnt\": 4, \"country\": \"United States of America\", \"iso2\": \"US\", \"iso3\": \"USA\", \"lat\": 31.77998395, \"lng\": -106.5099952, \"province\": \"Texas\", \"songs\": [\"Billy 1\", \"Billy 4\", \"She\\u2019s Your Lover Now\", \"Wanted Man\"]}, {\"city\": \"Chicago\", \"cnt\": 2, \"country\": \"United States of America\", \"iso2\": \"US\", \"iso3\": \"USA\", \"lat\": 41.82999066, \"lng\": -87.75005497, \"province\": \"Illinois\", \"songs\": [\"Cold Irons Bound\", \"The Death Of Emmett Till\"]}, {\"city\": \"Denver\", \"cnt\": 2, \"country\": \"United States of America\", \"iso2\": \"US\", \"iso3\": \"USA\", \"lat\": 39.73918805, \"lng\": -104.984016, \"province\": \"Colorado\", \"songs\": [\"Cry A While\", \"Gypsy Lou\"]}, {\"city\": \"Montana\", \"cnt\": 2, \"country\": \"Bulgaria\", \"iso2\": \"BG\", \"iso3\": \"BGR\", \"lat\": 43.41400203, \"lng\": 23.23700161, \"province\": \"Montana\", \"songs\": [\"Dusty Old Fairgrounds\", \"Three Angels\"]}, {\"city\": \"Florida\", \"cnt\": 2, \"country\": \"Uruguay\", \"iso2\": \"UY\", \"iso3\": \"URY\", \"lat\": -34.09900201, \"lng\": -56.21499845, \"province\": \"Florida\", \"songs\": [\"Dusty Old Fairgrounds\", \"Po\\u2019 Boy\"]}, {\"city\": \"Tallahassee\", \"cnt\": 2, \"country\": \"United States of America\", \"iso2\": \"US\", \"iso3\": \"USA\", \"lat\": 30.44998761, \"lng\": -84.28003422, \"province\": \"Florida\", \"songs\": [\"Got My Mind Made Up\", \"Wanted Man\"]}, {\"city\": \"Wichita\", \"cnt\": 2, \"country\": \"United States of America\", \"iso2\": \"US\", \"iso3\": \"USA\", \"lat\": 37.71998313, \"lng\": -97.32998702, \"province\": \"Kansas\", \"songs\": [\"Gypsy Lou\", \"Yea! Heavy And A Bottle Of Bread\"]}, {\"city\": \"Kansas City\", \"cnt\": 2, \"country\": \"United States of America\", \"iso2\": \"US\", \"iso3\": \"USA\", \"lat\": 39.10708851, \"lng\": -94.60409422, \"province\": \"Missouri\", \"songs\": [\"High Water (For Charley Patton)\", \"Wanted Man\"]}, {\"city\": \"Boston\", \"cnt\": 2, \"country\": \"United States of America\", \"iso2\": \"US\", \"iso3\": \"USA\", \"lat\": 42.32996014, \"lng\": -71.07001367, \"province\": \"Massachusetts\", \"songs\": [\"Highlands\", \"Two Soldiers\"]}, {\"city\": \"Rome\", \"cnt\": 2, \"country\": \"Italy\", \"iso2\": \"IT\", \"iso3\": \"ITA\", \"lat\": 41.89595563, \"lng\": 12.48325842, \"province\": \"Lazio\", \"songs\": [\"Neighborhood Bully\", \"When I Paint My Masterpiece\"]}, {\"city\": \"Baltimore\", \"cnt\": 2, \"country\": \"United States of America\", \"iso2\": \"US\", \"iso3\": \"USA\", \"lat\": 39.29999005, \"lng\": -76.61998499, \"province\": \"Maryland\", \"songs\": [\"The Lonesome Death Of Hattie Carroll\", \"Tryin\\u2019 To Get To Heaven\"]}, {\"city\": \"San Francisco\", \"cnt\": 4, \"country\": \"United States of America\", \"iso2\": \"US\", \"iso3\": \"USA\", \"lat\": 37.74000775, \"lng\": -122.4599777, \"province\": \"California\", \"songs\": [\"California\", \"Maybe Someday\", \"She\\u2019s Your Lover Now\", \"You\\u2019re Gonna Make Me Lonesome When You Go\"]}, {\"city\": \"Memphis\", \"cnt\": 4, \"country\": \"United States of America\", \"iso2\": \"US\", \"iso3\": \"USA\", \"lat\": 35.1199868, \"lng\": -89.99999516, \"province\": \"Tennessee\", \"songs\": [\"Gypsy Lou\", \"Kingsport Town\", \"Someone\\u2019s Got A Hold Of My Heart\", \"Stuck Inside Of Mobile With The Memphis Blues Again\"]}, {\"city\": \"London\", \"cnt\": 4, \"country\": \"United Kingdom\", \"iso2\": \"GB\", \"iso3\": \"GBR\", \"lat\": 51.49999473, \"lng\": -0.116721844, \"province\": \"Westminster\", \"songs\": [\"Jack-A-Roe\", \"Not Dark Yet\", \"Something\\u2019s Burning, Baby\", \"T.V. Talkin\\u2019 Song\"]}, {\"city\": \"New York\", \"cnt\": 3, \"country\": \"United States of America\", \"iso2\": \"US\", \"iso3\": \"USA\", \"lat\": 40.74997906, \"lng\": -73.98001693, \"province\": \"New York\", \"songs\": [\"Hard Times In New York Town\", \"Joey\", \"Talkin\\u2019 New York\"]}, {\"city\": \"Jerusalem\", \"cnt\": 2, \"country\": \"Israel\", \"iso2\": \"IL\", \"iso3\": \"ISR\", \"lat\": 31.778407819999998, \"lng\": 35.20662593, \"province\": \"Jerusalem\", \"songs\": [\"Angelina\", \"Blind Willie McTell\"]}]}, \"$schema\": \"https://vega.github.io/schema/vega-lite/v1.2.1.json\"};\n",
       "var selector = \"#c91ea55e-7adb-47a5-b3da-2caf43421c66\";\n",
       "var type = \"vega-lite\";\n",
       "\n",
       "var output_area = this;\n",
       "require(['nbextensions/jupyter-vega/index'], function(vega) {\n",
       "  vega.render(selector, spec, type, output_area);\n",
       "}, function (err) {\n",
       "  if (err.requireType !== 'scripterror') {\n",
       "    throw(err);\n",
       "  }\n",
       "});\n"
      ]
     },
     "metadata": {
      "jupyter-vega": "#c91ea55e-7adb-47a5-b3da-2caf43421c66"
     },
     "output_type": "display_data"
    }
   ],
   "source": [
    "altair.Chart(city_df.query('cnt > 1')).mark_bar().encode(\n",
    "    x='city', y='cnt')"
   ]
  },
  {
   "cell_type": "markdown",
   "metadata": {},
   "source": [
    "## A Map"
   ]
  },
  {
   "cell_type": "code",
   "execution_count": 5,
   "metadata": {},
   "outputs": [
    {
     "ename": "ModuleNotFoundError",
     "evalue": "No module named 'geoviews'",
     "output_type": "error",
     "traceback": [
      "\u001b[0;31m---------------------------------------------------------------------------\u001b[0m",
      "\u001b[0;31mModuleNotFoundError\u001b[0m                       Traceback (most recent call last)",
      "\u001b[0;32m<ipython-input-5-163cba3eb78e>\u001b[0m in \u001b[0;36m<module>\u001b[0;34m()\u001b[0m\n\u001b[1;32m      3\u001b[0m \u001b[0;32mimport\u001b[0m \u001b[0mpandas\u001b[0m \u001b[0;32mas\u001b[0m \u001b[0mpd\u001b[0m\u001b[0;34m\u001b[0m\u001b[0m\n\u001b[1;32m      4\u001b[0m \u001b[0;32mimport\u001b[0m \u001b[0mholoviews\u001b[0m \u001b[0;32mas\u001b[0m \u001b[0mhv\u001b[0m\u001b[0;34m\u001b[0m\u001b[0m\n\u001b[0;32m----> 5\u001b[0;31m \u001b[0;32mimport\u001b[0m \u001b[0mgeoviews\u001b[0m \u001b[0;32mas\u001b[0m \u001b[0mgv\u001b[0m\u001b[0;34m\u001b[0m\u001b[0m\n\u001b[0m\u001b[1;32m      6\u001b[0m \u001b[0;32mimport\u001b[0m \u001b[0mgeoviews\u001b[0m\u001b[0;34m.\u001b[0m\u001b[0mfeature\u001b[0m \u001b[0;32mas\u001b[0m \u001b[0mgf\u001b[0m\u001b[0;34m\u001b[0m\u001b[0m\n\u001b[1;32m      7\u001b[0m \u001b[0;34m\u001b[0m\u001b[0m\n",
      "\u001b[0;31mModuleNotFoundError\u001b[0m: No module named 'geoviews'"
     ]
    }
   ],
   "source": [
    "import xarray as xr\n",
    "import numpy as np\n",
    "import pandas as pd\n",
    "import holoviews as hv\n",
    "import geoviews as gv\n",
    "import geoviews.feature as gf\n",
    "\n",
    "import cartopy\n",
    "from cartopy import crs as ccrs\n",
    "\n",
    "from bokeh.tile_providers import STAMEN_TONER\n",
    "from bokeh.models import WMTSTileSource\n",
    "\n",
    "hv.notebook_extension('bokeh')"
   ]
  },
  {
   "cell_type": "code",
   "execution_count": null,
   "metadata": {},
   "outputs": [],
   "source": [
    "tiles = {'OpenMap': WMTSTileSource(url='http://c.tile.openstreetmap.org/{Z}/{X}/{Y}.png'),\n",
    "         'ESRI': WMTSTileSource(url='https://server.arcgisonline.com/ArcGIS/rest/services/World_Imagery/MapServer/tile/{Z}/{Y}/{X}.jpg'),\n",
    "         'Wikipedia': WMTSTileSource(url='https://maps.wikimedia.org/osm-intl/{Z}/{X}/{Y}@2x.png'),\n",
    "         'Stamen Toner': STAMEN_TONER}"
   ]
  },
  {
   "cell_type": "code",
   "execution_count": 16,
   "metadata": {},
   "outputs": [
    {
     "data": {
      "text/html": [
       "<div>\n",
       "<style scoped>\n",
       "    .dataframe tbody tr th:only-of-type {\n",
       "        vertical-align: middle;\n",
       "    }\n",
       "\n",
       "    .dataframe tbody tr th {\n",
       "        vertical-align: top;\n",
       "    }\n",
       "\n",
       "    .dataframe thead th {\n",
       "        text-align: right;\n",
       "    }\n",
       "</style>\n",
       "<table border=\"1\" class=\"dataframe\">\n",
       "  <thead>\n",
       "    <tr style=\"text-align: right;\">\n",
       "      <th></th>\n",
       "      <th>City</th>\n",
       "      <th>Country</th>\n",
       "      <th>Latitude</th>\n",
       "      <th>Longitude</th>\n",
       "      <th>Year</th>\n",
       "      <th>Population</th>\n",
       "    </tr>\n",
       "    <tr>\n",
       "      <th></th>\n",
       "      <th></th>\n",
       "      <th></th>\n",
       "      <th></th>\n",
       "      <th></th>\n",
       "      <th></th>\n",
       "      <th></th>\n",
       "    </tr>\n",
       "  </thead>\n",
       "  <tbody>\n",
       "    <tr>\n",
       "      <th>0</th>\n",
       "      <td>Sofia</td>\n",
       "      <td>Bulgaria</td>\n",
       "      <td>42.70</td>\n",
       "      <td>23.33</td>\n",
       "      <td>1950.0</td>\n",
       "      <td>520000.0</td>\n",
       "    </tr>\n",
       "    <tr>\n",
       "      <th>1</th>\n",
       "      <td>Mandalay</td>\n",
       "      <td>Myanmar</td>\n",
       "      <td>21.97</td>\n",
       "      <td>96.08</td>\n",
       "      <td>1950.0</td>\n",
       "      <td>170000.0</td>\n",
       "    </tr>\n",
       "    <tr>\n",
       "      <th>2</th>\n",
       "      <td>Nay Pyi Taw</td>\n",
       "      <td>Myanmar</td>\n",
       "      <td>19.75</td>\n",
       "      <td>96.10</td>\n",
       "      <td>1950.0</td>\n",
       "      <td>0.0</td>\n",
       "    </tr>\n",
       "    <tr>\n",
       "      <th>3</th>\n",
       "      <td>Yangon</td>\n",
       "      <td>Myanmar</td>\n",
       "      <td>16.87</td>\n",
       "      <td>96.12</td>\n",
       "      <td>1950.0</td>\n",
       "      <td>1300000.0</td>\n",
       "    </tr>\n",
       "    <tr>\n",
       "      <th>4</th>\n",
       "      <td>Minsk</td>\n",
       "      <td>Belarus</td>\n",
       "      <td>53.89</td>\n",
       "      <td>27.57</td>\n",
       "      <td>1950.0</td>\n",
       "      <td>280000.0</td>\n",
       "    </tr>\n",
       "  </tbody>\n",
       "</table>\n",
       "</div>"
      ],
      "text/plain": [
       "          City    Country   Latitude   Longitude    Year   Population\n",
       "                                                                     \n",
       "0        Sofia   Bulgaria       42.70       23.33  1950.0    520000.0\n",
       "1     Mandalay    Myanmar       21.97       96.08  1950.0    170000.0\n",
       "2  Nay Pyi Taw    Myanmar       19.75       96.10  1950.0         0.0\n",
       "3       Yangon    Myanmar       16.87       96.12  1950.0   1300000.0\n",
       "4        Minsk    Belarus       53.89       27.57  1950.0    280000.0"
      ]
     },
     "execution_count": 16,
     "metadata": {},
     "output_type": "execute_result"
    }
   ],
   "source": [
    "cities = pd.read_csv('./assets/cities.csv', sep='\\t')\n",
    "cities.set_index(' ')"
   ]
  },
  {
   "cell_type": "code",
   "execution_count": null,
   "metadata": {},
   "outputs": [],
   "source": []
  },
  {
   "cell_type": "code",
   "execution_count": null,
   "metadata": {},
   "outputs": [],
   "source": []
  },
  {
   "cell_type": "code",
   "execution_count": null,
   "metadata": {},
   "outputs": [],
   "source": []
  },
  {
   "cell_type": "code",
   "execution_count": null,
   "metadata": {},
   "outputs": [],
   "source": []
  },
  {
   "cell_type": "code",
   "execution_count": null,
   "metadata": {},
   "outputs": [],
   "source": []
  },
  {
   "cell_type": "code",
   "execution_count": null,
   "metadata": {},
   "outputs": [],
   "source": []
  },
  {
   "cell_type": "code",
   "execution_count": 6,
   "metadata": {},
   "outputs": [],
   "source": [
    "import pandas as pd\n",
    "import ipywidgets as widgets\n",
    "from viz_tools import get_place_selector, make_map"
   ]
  },
  {
   "cell_type": "code",
   "execution_count": 7,
   "metadata": {},
   "outputs": [],
   "source": [
    "# Load city data from file\n",
    "city_df = pd.read_json('data/city_counts.json')\n",
    "songs_df = pd.read_json('data/songs.json')"
   ]
  },
  {
   "cell_type": "code",
   "execution_count": 8,
   "metadata": {
    "scrolled": true
   },
   "outputs": [],
   "source": [
    "view = get_place_selector(city_df, songs_df)"
   ]
  },
  {
   "cell_type": "code",
   "execution_count": 9,
   "metadata": {},
   "outputs": [
    {
     "data": {
      "application/vnd.jupyter.widget-view+json": {
       "model_id": "83a0e82fedf146d49bdae3f7f1b7b8d3",
       "version_major": 2,
       "version_minor": 0
      },
      "text/html": [
       "<p>Failed to display Jupyter Widget of type <code>VBox</code>.</p>\n",
       "<p>\n",
       "  If you're reading this message in the Jupyter Notebook or JupyterLab Notebook, it may mean\n",
       "  that the widgets JavaScript is still loading. If this message persists, it\n",
       "  likely means that the widgets JavaScript library is either not installed or\n",
       "  not enabled. See the <a href=\"https://ipywidgets.readthedocs.io/en/stable/user_install.html\">Jupyter\n",
       "  Widgets Documentation</a> for setup instructions.\n",
       "</p>\n",
       "<p>\n",
       "  If you're reading this message in another frontend (for example, a static\n",
       "  rendering on GitHub or <a href=\"https://nbviewer.jupyter.org/\">NBViewer</a>),\n",
       "  it may mean that your frontend doesn't currently support widgets.\n",
       "</p>\n"
      ],
      "text/plain": [
       "VBox(children=(HBox(children=(Dropdown(options=('Abilene', 'Albuquerque', 'Amarillo', 'Amsterdam', 'Arlington', 'Atlanta', 'Atlantic City', 'Austin', 'Baltimore', 'Barcelona', 'Baton Rouge', 'Boston', 'Brownsville', 'Brussels', 'Buffalo', 'Cambridge', 'Carbondale', 'Cheyenne', 'Chicago', 'Columbus', 'Cumberland', 'Dallas', 'Denver', 'Detroit', 'Durango', 'El Paso', 'Florida', 'Hamburg', 'Hong Kong', 'Honolulu', 'Houston', 'Jackson', 'Jerusalem', 'Juarez', 'Kansas City', 'Las Vegas', 'Liverpool', 'London', 'Madrid', 'Memphis', 'Mexico City', 'Miami', 'Mobile', 'Montana', 'Nazareth', 'New Orleans', 'New York', 'Omaha', 'Paris', 'Paterson', 'Pittsburgh', 'Richmond', 'Rome', 'San Francisco', 'San Pedro', 'Shreveport', 'Singapore', 'St. Petersburg', 'Syracuse', 'Tallahassee', 'Vicksburg', 'Wichita'), value='Abilene'), HTML(value=''))), HBox(children=(Select(options=('Wanted Man',), value='Wanted Man'), HTML(value='', placeholder='Lyrics...')))))"
      ]
     },
     "metadata": {},
     "output_type": "display_data"
    }
   ],
   "source": [
    "view"
   ]
  },
  {
   "cell_type": "code",
   "execution_count": null,
   "metadata": {},
   "outputs": [],
   "source": []
  },
  {
   "cell_type": "code",
   "execution_count": 13,
   "metadata": {},
   "outputs": [],
   "source": [
    "class LabelAndEntry(widgets.HBox):\n",
    "    def __init__(self, *args, **kwargs):\n",
    "        label = widgets.Label('my-label')\n",
    "        entry = widgets.Text('data')\n",
    "        super(LabelAndEntry, self).__init__()\n",
    "        self.children = [label, entry]"
   ]
  },
  {
   "cell_type": "code",
   "execution_count": 36,
   "metadata": {},
   "outputs": [
    {
     "ename": "NameError",
     "evalue": "name 'self' is not defined",
     "output_type": "error",
     "traceback": [
      "\u001b[0;31m---------------------------------------------------------------------------\u001b[0m",
      "\u001b[0;31mNameError\u001b[0m                                 Traceback (most recent call last)",
      "\u001b[0;32m<ipython-input-36-7e5cc07d6b49>\u001b[0m in \u001b[0;36m<module>\u001b[0;34m()\u001b[0m\n\u001b[0;32m----> 1\u001b[0;31m \u001b[0;32mclass\u001b[0m \u001b[0mMenu\u001b[0m\u001b[0;34m(\u001b[0m\u001b[0mwidgets\u001b[0m\u001b[0;34m.\u001b[0m\u001b[0mVBox\u001b[0m\u001b[0;34m)\u001b[0m\u001b[0;34m:\u001b[0m\u001b[0;34m\u001b[0m\u001b[0m\n\u001b[0m\u001b[1;32m      2\u001b[0m     \u001b[0;32mdef\u001b[0m \u001b[0m__init__\u001b[0m\u001b[0;34m(\u001b[0m\u001b[0mself\u001b[0m\u001b[0;34m,\u001b[0m \u001b[0mcity_df\u001b[0m\u001b[0;34m,\u001b[0m \u001b[0msongs_df\u001b[0m\u001b[0;34m,\u001b[0m \u001b[0;34m*\u001b[0m\u001b[0margs\u001b[0m\u001b[0;34m,\u001b[0m \u001b[0;34m**\u001b[0m\u001b[0mkwargs\u001b[0m\u001b[0;34m)\u001b[0m\u001b[0;34m:\u001b[0m\u001b[0;34m\u001b[0m\u001b[0m\n\u001b[1;32m      3\u001b[0m \u001b[0;34m\u001b[0m\u001b[0m\n\u001b[1;32m      4\u001b[0m         \u001b[0mcity_df\u001b[0m \u001b[0;34m=\u001b[0m \u001b[0mcity_df\u001b[0m\u001b[0;34m.\u001b[0m\u001b[0mset_index\u001b[0m\u001b[0;34m(\u001b[0m\u001b[0;34m'city'\u001b[0m\u001b[0;34m)\u001b[0m\u001b[0;34m\u001b[0m\u001b[0m\n\u001b[1;32m      5\u001b[0m         \u001b[0msongs_df\u001b[0m \u001b[0;34m=\u001b[0m \u001b[0msongs_df\u001b[0m\u001b[0;34m.\u001b[0m\u001b[0mset_index\u001b[0m\u001b[0;34m(\u001b[0m\u001b[0;34m'title'\u001b[0m\u001b[0;34m)\u001b[0m\u001b[0;34m\u001b[0m\u001b[0m\n",
      "\u001b[0;32m<ipython-input-36-7e5cc07d6b49>\u001b[0m in \u001b[0;36mMenu\u001b[0;34m()\u001b[0m\n\u001b[1;32m     33\u001b[0m         \u001b[0mself\u001b[0m\u001b[0;34m.\u001b[0m\u001b[0mlyrics_viewer\u001b[0m\u001b[0;34m.\u001b[0m\u001b[0mvalue\u001b[0m \u001b[0;34m=\u001b[0m \u001b[0;34m'<b>Lyrics:</b> {}</br>'\u001b[0m\u001b[0;34m.\u001b[0m\u001b[0mformat\u001b[0m\u001b[0;34m(\u001b[0m\u001b[0mlyric_text\u001b[0m\u001b[0;34m)\u001b[0m\u001b[0;34m\u001b[0m\u001b[0m\n\u001b[1;32m     34\u001b[0m \u001b[0;34m\u001b[0m\u001b[0m\n\u001b[0;32m---> 35\u001b[0;31m     \u001b[0mself\u001b[0m\u001b[0;34m.\u001b[0m\u001b[0msel\u001b[0m\u001b[0;34m.\u001b[0m\u001b[0mobserve\u001b[0m\u001b[0;34m(\u001b[0m\u001b[0mhandle_city_change\u001b[0m\u001b[0;34m,\u001b[0m \u001b[0mnames\u001b[0m\u001b[0;34m=\u001b[0m\u001b[0;34m'value'\u001b[0m\u001b[0;34m)\u001b[0m\u001b[0;34m\u001b[0m\u001b[0m\n\u001b[0m\u001b[1;32m     36\u001b[0m     \u001b[0mself\u001b[0m\u001b[0;34m.\u001b[0m\u001b[0msong_selector\u001b[0m\u001b[0;34m.\u001b[0m\u001b[0mobserve\u001b[0m\u001b[0;34m(\u001b[0m\u001b[0mhandle_song_change\u001b[0m\u001b[0;34m,\u001b[0m \u001b[0mnames\u001b[0m\u001b[0;34m=\u001b[0m\u001b[0;34m'value'\u001b[0m\u001b[0;34m)\u001b[0m\u001b[0;34m\u001b[0m\u001b[0m\n",
      "\u001b[0;31mNameError\u001b[0m: name 'self' is not defined"
     ]
    }
   ],
   "source": [
    "class Menu(widgets.VBox):\n",
    "    def __init__(self, city_df, songs_df, *args, **kwargs):\n",
    "        \n",
    "        city_df = city_df.set_index('city')\n",
    "        songs_df = songs_df.set_index('title')\n",
    "        \n",
    "        self.sel = widgets.Dropdown(options=sorted(list(city_df.index.unique())))\n",
    "        self.text = widgets.HTML(disabled=False)\n",
    "        self.song_selector = widgets.Select(options=city_df.loc[self.sel.value, 'songs'])\n",
    "        self.lyrics_viewer = widgets.HTML(placeholder='Lyrics...')\n",
    "        \n",
    "        super(Menu, self).__init__()\n",
    "        \n",
    "        self.children = [\n",
    "            widgets.HBox([self.sel, self.text]),\n",
    "            widgets.HBox([self.song_selector, self.lyrics_viewer])]\n",
    "        \n",
    "    def handle_city_change(self, change):\n",
    "        count = city_df.loc[change.new, 'cnt']\n",
    "        songs = city_df.loc[change.new, 'songs']\n",
    "        text.value = '<b>Count:</b> {}</br>'.format(count)\n",
    "        self.song_selector.options = songs\n",
    "        self.song_selector.value = song_selector.options[0]\n",
    "\n",
    "    def handle_song_change(self, change):\n",
    "        city = self.sel.value\n",
    "        lyrics = songs_df.loc[change.new, 'lyrics']\n",
    "        lyrics = lyrics.replace('\\n', '\\\\')\n",
    "        idx = lyrics.find(city)\n",
    "        lyric_text = '...' + lyrics[max(idx-50, 0):idx+100] + '...'\n",
    "        lyric_text = lyric_text.replace(city, f'<b>{city}</b>')\n",
    "        lyric_text = lyric_text.replace(city, f'<span style=\"color:blue\">{city}</span>')\n",
    "        self.lyrics_viewer.value = '<b>Lyrics:</b> {}</br>'.format(lyric_text)\n",
    "\n",
    "    self.sel.observe(handle_city_change, names='value')\n",
    "    self.song_selector.observe(handle_song_change, names='value')"
   ]
  },
  {
   "cell_type": "code",
   "execution_count": 35,
   "metadata": {},
   "outputs": [
    {
     "data": {
      "application/vnd.jupyter.widget-view+json": {
       "model_id": "84452d40498745b8955ee7faee9c33b4",
       "version_major": 2,
       "version_minor": 0
      },
      "text/html": [
       "<p>Failed to display Jupyter Widget of type <code>Menu</code>.</p>\n",
       "<p>\n",
       "  If you're reading this message in the Jupyter Notebook or JupyterLab Notebook, it may mean\n",
       "  that the widgets JavaScript is still loading. If this message persists, it\n",
       "  likely means that the widgets JavaScript library is either not installed or\n",
       "  not enabled. See the <a href=\"https://ipywidgets.readthedocs.io/en/stable/user_install.html\">Jupyter\n",
       "  Widgets Documentation</a> for setup instructions.\n",
       "</p>\n",
       "<p>\n",
       "  If you're reading this message in another frontend (for example, a static\n",
       "  rendering on GitHub or <a href=\"https://nbviewer.jupyter.org/\">NBViewer</a>),\n",
       "  it may mean that your frontend doesn't currently support widgets.\n",
       "</p>\n"
      ],
      "text/plain": [
       "Menu(children=(HBox(children=(Dropdown(options=('Abilene', 'Albuquerque', 'Amarillo', 'Amsterdam', 'Arlington', 'Atlanta', 'Atlantic City', 'Austin', 'Baltimore', 'Barcelona', 'Baton Rouge', 'Boston', 'Brownsville', 'Brussels', 'Buffalo', 'Cambridge', 'Carbondale', 'Cheyenne', 'Chicago', 'Columbus', 'Cumberland', 'Dallas', 'Denver', 'Detroit', 'Durango', 'El Paso', 'Florida', 'Hamburg', 'Hong Kong', 'Honolulu', 'Houston', 'Jackson', 'Jerusalem', 'Juarez', 'Kansas City', 'Las Vegas', 'Liverpool', 'London', 'Madrid', 'Memphis', 'Mexico City', 'Miami', 'Mobile', 'Montana', 'Nazareth', 'New Orleans', 'New York', 'Omaha', 'Paris', 'Paterson', 'Pittsburgh', 'Richmond', 'Rome', 'San Francisco', 'San Pedro', 'Shreveport', 'Singapore', 'St. Petersburg', 'Syracuse', 'Tallahassee', 'Vicksburg', 'Wichita'), value='Abilene'), HTML(value=''))), HBox(children=(Select(options=('Wanted Man',), value='Wanted Man'), HTML(value='', placeholder='Lyrics...')))))"
      ]
     },
     "metadata": {},
     "output_type": "display_data"
    }
   ],
   "source": [
    "# Load city data from file\n",
    "city_df = pd.read_json('data/city_counts.json')\n",
    "songs_df = pd.read_json('data/songs.json')\n",
    "\n",
    "Menu(city_df, songs_df)"
   ]
  },
  {
   "cell_type": "code",
   "execution_count": null,
   "metadata": {},
   "outputs": [],
   "source": []
  },
  {
   "cell_type": "code",
   "execution_count": null,
   "metadata": {},
   "outputs": [],
   "source": []
  },
  {
   "cell_type": "code",
   "execution_count": null,
   "metadata": {},
   "outputs": [],
   "source": []
  },
  {
   "cell_type": "code",
   "execution_count": 5,
   "metadata": {},
   "outputs": [],
   "source": [
    "song_sel = view.children[1].children[0]"
   ]
  },
  {
   "cell_type": "code",
   "execution_count": 7,
   "metadata": {},
   "outputs": [
    {
     "data": {
      "application/vnd.jupyter.widget-view+json": {
       "model_id": "fab2f763b351453b8ecb23c97142a407",
       "version_major": 2,
       "version_minor": 0
      },
      "text/html": [
       "<p>Failed to display Jupyter Widget of type <code>Select</code>.</p>\n",
       "<p>\n",
       "  If you're reading this message in the Jupyter Notebook or JupyterLab Notebook, it may mean\n",
       "  that the widgets JavaScript is still loading. If this message persists, it\n",
       "  likely means that the widgets JavaScript library is either not installed or\n",
       "  not enabled. See the <a href=\"https://ipywidgets.readthedocs.io/en/stable/user_install.html\">Jupyter\n",
       "  Widgets Documentation</a> for setup instructions.\n",
       "</p>\n",
       "<p>\n",
       "  If you're reading this message in another frontend (for example, a static\n",
       "  rendering on GitHub or <a href=\"https://nbviewer.jupyter.org/\">NBViewer</a>),\n",
       "  it may mean that your frontend doesn't currently support widgets.\n",
       "</p>\n"
      ],
      "text/plain": [
       "Select(options=('Duquesne Whistle',), value='Duquesne Whistle')"
      ]
     },
     "metadata": {},
     "output_type": "display_data"
    }
   ],
   "source": [
    "song_sel"
   ]
  },
  {
   "cell_type": "code",
   "execution_count": null,
   "metadata": {},
   "outputs": [],
   "source": []
  },
  {
   "cell_type": "code",
   "execution_count": null,
   "metadata": {},
   "outputs": [],
   "source": []
  },
  {
   "cell_type": "code",
   "execution_count": 23,
   "metadata": {},
   "outputs": [],
   "source": [
    "from ipywidgets.embed import embed_data\n",
    "import json"
   ]
  },
  {
   "cell_type": "code",
   "execution_count": 36,
   "metadata": {},
   "outputs": [],
   "source": [
    "widget = get_place_selector(city_df, songs_df)"
   ]
  },
  {
   "cell_type": "code",
   "execution_count": 37,
   "metadata": {},
   "outputs": [],
   "source": [
    "data = embed_data(widget)"
   ]
  },
  {
   "cell_type": "code",
   "execution_count": 38,
   "metadata": {},
   "outputs": [],
   "source": [
    "manager_state = json.dumps(data['manager_state'])\n",
    "widget_views = [json.dumps(view) for view in data['view_specs']]"
   ]
  },
  {
   "cell_type": "code",
   "execution_count": 39,
   "metadata": {},
   "outputs": [
    {
     "data": {
      "text/plain": [
       "['{\"version_major\": 2, \"version_minor\": 0, \"model_id\": \"30707b86a648426d9c3b908ae99b99b7\"}']"
      ]
     },
     "execution_count": 39,
     "metadata": {},
     "output_type": "execute_result"
    }
   ],
   "source": [
    "widget_views"
   ]
  },
  {
   "cell_type": "code",
   "execution_count": 50,
   "metadata": {},
   "outputs": [],
   "source": [
    "widget.children[0].children[0].value = 'Boston'"
   ]
  },
  {
   "cell_type": "code",
   "execution_count": null,
   "metadata": {},
   "outputs": [],
   "source": []
  },
  {
   "cell_type": "code",
   "execution_count": null,
   "metadata": {},
   "outputs": [],
   "source": []
  },
  {
   "cell_type": "code",
   "execution_count": null,
   "metadata": {},
   "outputs": [],
   "source": []
  },
  {
   "cell_type": "code",
   "execution_count": null,
   "metadata": {},
   "outputs": [],
   "source": []
  },
  {
   "cell_type": "code",
   "execution_count": null,
   "metadata": {},
   "outputs": [],
   "source": []
  },
  {
   "cell_type": "code",
   "execution_count": null,
   "metadata": {},
   "outputs": [],
   "source": []
  },
  {
   "cell_type": "code",
   "execution_count": null,
   "metadata": {},
   "outputs": [],
   "source": []
  },
  {
   "cell_type": "code",
   "execution_count": null,
   "metadata": {},
   "outputs": [],
   "source": []
  },
  {
   "cell_type": "code",
   "execution_count": 53,
   "metadata": {},
   "outputs": [],
   "source": [
    "city_df = city_df.set_index('city')\n",
    "songs_df = songs_df.set_index('title')"
   ]
  },
  {
   "cell_type": "code",
   "execution_count": null,
   "metadata": {},
   "outputs": [],
   "source": []
  },
  {
   "cell_type": "code",
   "execution_count": null,
   "metadata": {},
   "outputs": [],
   "source": []
  },
  {
   "cell_type": "code",
   "execution_count": null,
   "metadata": {},
   "outputs": [],
   "source": []
  },
  {
   "cell_type": "code",
   "execution_count": 57,
   "metadata": {},
   "outputs": [
    {
     "data": {
      "application/vnd.jupyter.widget-view+json": {
       "model_id": "0e8d4b3a454f417893165b15f271b46c",
       "version_major": 2,
       "version_minor": 0
      },
      "text/html": [
       "<p>Failed to display Jupyter Widget of type <code>Label</code>.</p>\n",
       "<p>\n",
       "  If you're reading this message in the Jupyter Notebook or JupyterLab Notebook, it may mean\n",
       "  that the widgets JavaScript is still loading. If this message persists, it\n",
       "  likely means that the widgets JavaScript library is either not installed or\n",
       "  not enabled. See the <a href=\"https://ipywidgets.readthedocs.io/en/stable/user_install.html\">Jupyter\n",
       "  Widgets Documentation</a> for setup instructions.\n",
       "</p>\n",
       "<p>\n",
       "  If you're reading this message in another frontend (for example, a static\n",
       "  rendering on GitHub or <a href=\"https://nbviewer.jupyter.org/\">NBViewer</a>),\n",
       "  it may mean that your frontend doesn't currently support widgets.\n",
       "</p>\n"
      ],
      "text/plain": [
       "Label(value='The values of range1 and range2 are synchronized')"
      ]
     },
     "metadata": {},
     "output_type": "display_data"
    },
    {
     "data": {
      "application/vnd.jupyter.widget-view+json": {
       "model_id": "9b1b41da977e4a17b1d7fdb71aa2c950",
       "version_major": 2,
       "version_minor": 0
      },
      "text/html": [
       "<p>Failed to display Jupyter Widget of type <code>IntSlider</code>.</p>\n",
       "<p>\n",
       "  If you're reading this message in the Jupyter Notebook or JupyterLab Notebook, it may mean\n",
       "  that the widgets JavaScript is still loading. If this message persists, it\n",
       "  likely means that the widgets JavaScript library is either not installed or\n",
       "  not enabled. See the <a href=\"https://ipywidgets.readthedocs.io/en/stable/user_install.html\">Jupyter\n",
       "  Widgets Documentation</a> for setup instructions.\n",
       "</p>\n",
       "<p>\n",
       "  If you're reading this message in another frontend (for example, a static\n",
       "  rendering on GitHub or <a href=\"https://nbviewer.jupyter.org/\">NBViewer</a>),\n",
       "  it may mean that your frontend doesn't currently support widgets.\n",
       "</p>\n"
      ],
      "text/plain": [
       "IntSlider(value=0, description='Range 1')"
      ]
     },
     "metadata": {},
     "output_type": "display_data"
    },
    {
     "data": {
      "application/vnd.jupyter.widget-view+json": {
       "model_id": "96294e52d3544763953a5a7b308b4b58",
       "version_major": 2,
       "version_minor": 0
      },
      "text/html": [
       "<p>Failed to display Jupyter Widget of type <code>IntSlider</code>.</p>\n",
       "<p>\n",
       "  If you're reading this message in the Jupyter Notebook or JupyterLab Notebook, it may mean\n",
       "  that the widgets JavaScript is still loading. If this message persists, it\n",
       "  likely means that the widgets JavaScript library is either not installed or\n",
       "  not enabled. See the <a href=\"https://ipywidgets.readthedocs.io/en/stable/user_install.html\">Jupyter\n",
       "  Widgets Documentation</a> for setup instructions.\n",
       "</p>\n",
       "<p>\n",
       "  If you're reading this message in another frontend (for example, a static\n",
       "  rendering on GitHub or <a href=\"https://nbviewer.jupyter.org/\">NBViewer</a>),\n",
       "  it may mean that your frontend doesn't currently support widgets.\n",
       "</p>\n"
      ],
      "text/plain": [
       "IntSlider(value=0, description='Range 2')"
      ]
     },
     "metadata": {},
     "output_type": "display_data"
    }
   ],
   "source": [
    "caption = widgets.Label(value='The values of range1 and range2 are synchronized')\n",
    "range1, range2 = widgets.IntSlider(description='Range 1'),\\\n",
    "                 widgets.IntSlider(description='Range 2')\n",
    "l = widgets.jslink((range1, 'value'), (range2, 'value'))\n",
    "display(caption, range1, range2)"
   ]
  },
  {
   "cell_type": "code",
   "execution_count": null,
   "metadata": {},
   "outputs": [],
   "source": []
  },
  {
   "cell_type": "code",
   "execution_count": 81,
   "metadata": {},
   "outputs": [],
   "source": [
    "# Load city data from file\n",
    "city_df = pd.read_json('data/city_counts.json')\n",
    "songs_df = pd.read_json('data/songs.json')\n",
    "\n",
    "# Reset index\n",
    "city_df = city_df.set_index('city')\n",
    "songs_df = songs_df.set_index('title')"
   ]
  },
  {
   "cell_type": "code",
   "execution_count": 82,
   "metadata": {},
   "outputs": [],
   "source": [
    "sel = widgets.Dropdown(options=sorted(list(city_df.index.unique())))"
   ]
  },
  {
   "cell_type": "code",
   "execution_count": 76,
   "metadata": {},
   "outputs": [
    {
     "data": {
      "application/vnd.jupyter.widget-view+json": {
       "model_id": "f85044f1cbc4436e8e058a8afa12d5a3",
       "version_major": 2,
       "version_minor": 0
      },
      "text/html": [
       "<p>Failed to display Jupyter Widget of type <code>Select</code>.</p>\n",
       "<p>\n",
       "  If you're reading this message in the Jupyter Notebook or JupyterLab Notebook, it may mean\n",
       "  that the widgets JavaScript is still loading. If this message persists, it\n",
       "  likely means that the widgets JavaScript library is either not installed or\n",
       "  not enabled. See the <a href=\"https://ipywidgets.readthedocs.io/en/stable/user_install.html\">Jupyter\n",
       "  Widgets Documentation</a> for setup instructions.\n",
       "</p>\n",
       "<p>\n",
       "  If you're reading this message in another frontend (for example, a static\n",
       "  rendering on GitHub or <a href=\"https://nbviewer.jupyter.org/\">NBViewer</a>),\n",
       "  it may mean that your frontend doesn't currently support widgets.\n",
       "</p>\n"
      ],
      "text/plain": [
       "Select(options=('Brownsville Girl',), value='Brownsville Girl')"
      ]
     },
     "metadata": {},
     "output_type": "display_data"
    }
   ],
   "source": [
    "song_selector = widgets.Select(options=city_df.loc[sel.value, 'songs'])\n",
    "song_selector"
   ]
  },
  {
   "cell_type": "code",
   "execution_count": 79,
   "metadata": {},
   "outputs": [
    {
     "data": {
      "text/plain": [
       "'Brownsville'"
      ]
     },
     "execution_count": 79,
     "metadata": {},
     "output_type": "execute_result"
    }
   ],
   "source": [
    "sel.value"
   ]
  },
  {
   "cell_type": "code",
   "execution_count": null,
   "metadata": {},
   "outputs": [],
   "source": []
  },
  {
   "cell_type": "code",
   "execution_count": null,
   "metadata": {},
   "outputs": [],
   "source": []
  },
  {
   "cell_type": "code",
   "execution_count": 75,
   "metadata": {},
   "outputs": [
    {
     "data": {
      "text/plain": [
       "('Brownsville Girl',)"
      ]
     },
     "execution_count": 75,
     "metadata": {},
     "output_type": "execute_result"
    }
   ],
   "source": [
    "song_selector.options"
   ]
  },
  {
   "cell_type": "code",
   "execution_count": null,
   "metadata": {},
   "outputs": [],
   "source": []
  },
  {
   "cell_type": "code",
   "execution_count": null,
   "metadata": {},
   "outputs": [],
   "source": []
  },
  {
   "cell_type": "code",
   "execution_count": null,
   "metadata": {},
   "outputs": [],
   "source": []
  },
  {
   "cell_type": "code",
   "execution_count": null,
   "metadata": {},
   "outputs": [],
   "source": []
  },
  {
   "cell_type": "code",
   "execution_count": 51,
   "metadata": {},
   "outputs": [],
   "source": [
    "import ipywidgets as widgets\n",
    "\n",
    "def get_place_selector(city_df, songs_df):\n",
    "    \"\"\"Return custom Jupyter widget\"\"\"\n",
    "\n",
    "    # Reset index\n",
    "    city_df = city_df.set_index('city')\n",
    "    songs_df = songs_df.set_index('title')\n",
    "\n",
    "    # Define some widgets\n",
    "    sel = widgets.Dropdown(options=sorted(list(city_df.index.unique())))\n",
    "    text = widgets.HTML(disabled=False)\n",
    "    song_selector = widgets.Select(options=city_df.loc[sel.value, 'songs'])\n",
    "    lyrics_viewer = widgets.HTML(placeholder='Lyrics...')\n",
    "\n",
    "    # Piece together\n",
    "    view = widgets.VBox([\n",
    "        widgets.HBox([sel, text]),\n",
    "        widgets.HBox([song_selector, lyrics_viewer])])\n",
    "\n",
    "    def handle_city_change(change):\n",
    "        count = city_df.loc[change.new, 'cnt']\n",
    "        songs = city_df.loc[change.new, 'songs']\n",
    "        text.value = '<b>Count:</b> {}</br>'.format(count)\n",
    "        song_selector.options = songs\n",
    "        song_selector.value = song_selector.options[0]\n",
    "\n",
    "    def handle_song_change(change):\n",
    "        city = sel.value\n",
    "        lyrics = songs_df.loc[change.new, 'lyrics']\n",
    "        lyrics = lyrics.replace('\\n', '\\\\')\n",
    "        idx = lyrics.find(city)\n",
    "        lyric_text = '...' + lyrics[max(idx-50, 0):idx+100] + '...'\n",
    "        lyric_text = lyric_text.replace(city, f'<b>{city}</b>')\n",
    "        lyric_text = lyric_text.replace(city, f'<span style=\"color:blue\">{city}</span>')\n",
    "        lyrics_viewer.value = '<b>Lyrics:</b> {}</br>'.format(lyric_text)\n",
    "\n",
    "    sel.observe(handle_city_change, names='value')\n",
    "    song_selector.observe(handle_song_change, names='value')\n",
    "\n",
    "    return view\n"
   ]
  },
  {
   "cell_type": "code",
   "execution_count": null,
   "metadata": {},
   "outputs": [],
   "source": []
  },
  {
   "cell_type": "code",
   "execution_count": null,
   "metadata": {},
   "outputs": [],
   "source": []
  },
  {
   "cell_type": "code",
   "execution_count": null,
   "metadata": {},
   "outputs": [],
   "source": []
  },
  {
   "cell_type": "code",
   "execution_count": null,
   "metadata": {},
   "outputs": [],
   "source": []
  },
  {
   "cell_type": "code",
   "execution_count": null,
   "metadata": {},
   "outputs": [],
   "source": []
  },
  {
   "cell_type": "code",
   "execution_count": null,
   "metadata": {},
   "outputs": [],
   "source": []
  },
  {
   "cell_type": "code",
   "execution_count": null,
   "metadata": {},
   "outputs": [],
   "source": []
  },
  {
   "cell_type": "code",
   "execution_count": null,
   "metadata": {},
   "outputs": [],
   "source": []
  },
  {
   "cell_type": "code",
   "execution_count": 30,
   "metadata": {},
   "outputs": [
    {
     "data": {
      "application/vnd.jupyter.widget-view+json": {
       "model_id": "f2cbae69a29441c7a839b75e3d1e14d3",
       "version_major": 2,
       "version_minor": 0
      },
      "text/html": [
       "<p>Failed to display Jupyter Widget of type <code>VBox</code>.</p>\n",
       "<p>\n",
       "  If you're reading this message in the Jupyter Notebook or JupyterLab Notebook, it may mean\n",
       "  that the widgets JavaScript is still loading. If this message persists, it\n",
       "  likely means that the widgets JavaScript library is either not installed or\n",
       "  not enabled. See the <a href=\"https://ipywidgets.readthedocs.io/en/stable/user_install.html\">Jupyter\n",
       "  Widgets Documentation</a> for setup instructions.\n",
       "</p>\n",
       "<p>\n",
       "  If you're reading this message in another frontend (for example, a static\n",
       "  rendering on GitHub or <a href=\"https://nbviewer.jupyter.org/\">NBViewer</a>),\n",
       "  it may mean that your frontend doesn't currently support widgets.\n",
       "</p>\n"
      ],
      "text/plain": [
       "VBox(children=(HBox(children=(Dropdown(index=37, options=('Abilene', 'Albuquerque', 'Amarillo', 'Amsterdam', 'Arlington', 'Atlanta', 'Atlantic City', 'Austin', 'Baltimore', 'Barcelona', 'Baton Rouge', 'Boston', 'Brownsville', 'Brussels', 'Buffalo', 'Cambridge', 'Carbondale', 'Cheyenne', 'Chicago', 'Columbus', 'Cumberland', 'Dallas', 'Denver', 'Detroit', 'Durango', 'El Paso', 'Florida', 'Hamburg', 'Hong Kong', 'Honolulu', 'Houston', 'Jackson', 'Jerusalem', 'Juarez', 'Kansas City', 'Las Vegas', 'Liverpool', 'London', 'Madrid', 'Memphis', 'Mexico City', 'Miami', 'Mobile', 'Montana', 'Nazareth', 'New Orleans', 'New York', 'Omaha', 'Paris', 'Paterson', 'Pittsburgh', 'Richmond', 'Rome', 'San Francisco', 'San Pedro', 'Shreveport', 'Singapore', 'St. Petersburg', 'Syracuse', 'Tallahassee', 'Vicksburg', 'Wichita'), value='London'), HTML(value='<b>Count:</b> 4</br>'))), HBox(children=(Select(options=('Jack-A-Roe', 'Not Dark Yet', 'Something’s Burning, Baby', 'T.V. Talkin’ Song'), value='Jack-A-Roe'), HTML(value='<b>Lyrics:</b> ...Oh, there was a wealthy merchant, in <b><span style=\"color:blue\">London</span></b> he did dwell.\\r\\\\He had a lovely daughter, the truth to you I\\'ll tell,\\r\\\\Oh, the truth to you I\\'...</br>', placeholder='Lyrics...')))))"
      ]
     },
     "metadata": {},
     "output_type": "display_data"
    }
   ],
   "source": [
    "view"
   ]
  },
  {
   "cell_type": "code",
   "execution_count": null,
   "metadata": {},
   "outputs": [],
   "source": []
  },
  {
   "cell_type": "code",
   "execution_count": null,
   "metadata": {},
   "outputs": [],
   "source": []
  },
  {
   "cell_type": "code",
   "execution_count": 9,
   "metadata": {},
   "outputs": [
    {
     "data": {
      "application/vnd.jupyter.widget-view+json": {
       "model_id": "f2cbae69a29441c7a839b75e3d1e14d3",
       "version_major": 2,
       "version_minor": 0
      },
      "text/html": [
       "<p>Failed to display Jupyter Widget of type <code>VBox</code>.</p>\n",
       "<p>\n",
       "  If you're reading this message in the Jupyter Notebook or JupyterLab Notebook, it may mean\n",
       "  that the widgets JavaScript is still loading. If this message persists, it\n",
       "  likely means that the widgets JavaScript library is either not installed or\n",
       "  not enabled. See the <a href=\"https://ipywidgets.readthedocs.io/en/stable/user_install.html\">Jupyter\n",
       "  Widgets Documentation</a> for setup instructions.\n",
       "</p>\n",
       "<p>\n",
       "  If you're reading this message in another frontend (for example, a static\n",
       "  rendering on GitHub or <a href=\"https://nbviewer.jupyter.org/\">NBViewer</a>),\n",
       "  it may mean that your frontend doesn't currently support widgets.\n",
       "</p>\n"
      ],
      "text/plain": [
       "VBox(children=(HBox(children=(Dropdown(index=37, options=('Abilene', 'Albuquerque', 'Amarillo', 'Amsterdam', 'Arlington', 'Atlanta', 'Atlantic City', 'Austin', 'Baltimore', 'Barcelona', 'Baton Rouge', 'Boston', 'Brownsville', 'Brussels', 'Buffalo', 'Cambridge', 'Carbondale', 'Cheyenne', 'Chicago', 'Columbus', 'Cumberland', 'Dallas', 'Denver', 'Detroit', 'Durango', 'El Paso', 'Florida', 'Hamburg', 'Hong Kong', 'Honolulu', 'Houston', 'Jackson', 'Jerusalem', 'Juarez', 'Kansas City', 'Las Vegas', 'Liverpool', 'London', 'Madrid', 'Memphis', 'Mexico City', 'Miami', 'Mobile', 'Montana', 'Nazareth', 'New Orleans', 'New York', 'Omaha', 'Paris', 'Paterson', 'Pittsburgh', 'Richmond', 'Rome', 'San Francisco', 'San Pedro', 'Shreveport', 'Singapore', 'St. Petersburg', 'Syracuse', 'Tallahassee', 'Vicksburg', 'Wichita'), value='London'), HTML(value='<b>Count:</b> 4</br>'))), HBox(children=(Select(options=('Jack-A-Roe', 'Not Dark Yet', 'Something’s Burning, Baby', 'T.V. Talkin’ Song'), value='Jack-A-Roe'), HTML(value='<b>Lyrics:</b> ...Oh, there was a wealthy merchant, in <b><span style=\"color:blue\">London</span></b> he did dwell.\\r\\\\He had a lovely daughter, the truth to you I\\'ll tell,\\r\\\\Oh, the truth to you I\\'...</br>', placeholder='Lyrics...')))))"
      ]
     },
     "metadata": {},
     "output_type": "display_data"
    }
   ],
   "source": [
    "view"
   ]
  },
  {
   "cell_type": "markdown",
   "metadata": {},
   "source": [
    "### Folium"
   ]
  },
  {
   "cell_type": "code",
   "execution_count": 10,
   "metadata": {},
   "outputs": [],
   "source": [
    "from folium import plugins"
   ]
  },
  {
   "cell_type": "code",
   "execution_count": 11,
   "metadata": {
    "scrolled": true
   },
   "outputs": [
    {
     "data": {
      "text/html": [
       "<div style=\"width:100%;\"><div style=\"position:relative;width:100%;height:0;padding-bottom:60%;\"><iframe src=\"data:text/html;charset=utf-8;base64,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\" style=\"position:absolute;width:100%;height:100%;left:0;top:0;border:none !important;\" allowfullscreen webkitallowfullscreen mozallowfullscreen></iframe></div></div>"
      ],
      "text/plain": [
       "<folium.folium.Map at 0x112c00fd0>"
      ]
     },
     "execution_count": 11,
     "metadata": {},
     "output_type": "execute_result"
    }
   ],
   "source": [
    "folium_map = folium.Map(\n",
    "    location=(city_df.lat.median(), city_df.lng.median()),\n",
    "    zoom_start=2)\n",
    "\n",
    "popup_text = (\"{}<br>\"\n",
    "              \"Count: {}<br>\")\n",
    "\n",
    "for idx, row in city_df.iterrows():\n",
    "    folium.CircleMarker(\n",
    "        location=(row.lat, row.lng),\n",
    "        radius=row.cnt,\n",
    "        color=\"green\",\n",
    "        fill=True,\n",
    "        popup=folium.Popup(\n",
    "            html=popup_text.format(row.city, row.cnt),\n",
    "            max_width=1000) \n",
    "    ).add_to(folium_map)\n",
    "\n",
    "folium_map"
   ]
  },
  {
   "cell_type": "markdown",
   "metadata": {},
   "source": [
    "### Ipyleaflet"
   ]
  },
  {
   "cell_type": "code",
   "execution_count": 12,
   "metadata": {},
   "outputs": [],
   "source": [
    "from ipyleaflet import (\n",
    "    Map,\n",
    "    Marker, MarkerCluster,\n",
    "    TileLayer, ImageOverlay,\n",
    "    Polyline, Polygon, Rectangle, Circle, CircleMarker,\n",
    "    GeoJSON,\n",
    "    DrawControl\n",
    ")"
   ]
  },
  {
   "cell_type": "code",
   "execution_count": 13,
   "metadata": {},
   "outputs": [],
   "source": [
    "center = [34.6252978589571, -77.34580993652344]\n",
    "zoom = 10"
   ]
  },
  {
   "cell_type": "code",
   "execution_count": 14,
   "metadata": {},
   "outputs": [],
   "source": [
    "m = Map(default_tiles=TileLayer(opacity=1.0), center=center, zoom=zoom)\n",
    "\n",
    "cm = CircleMarker(\n",
    "    location=m.center, radius=30, weight=2,\n",
    "    color='#F00', opacity=1.0, fill_opacity=1.0,\n",
    "    fill_color='#0F0')\n",
    "\n",
    "def handle_marker(change):\n",
    "    print(change)\n",
    "\n",
    "cm.observe(handle_marker)"
   ]
  },
  {
   "cell_type": "code",
   "execution_count": 15,
   "metadata": {},
   "outputs": [
    {
     "name": "stdout",
     "output_type": "stream",
     "text": [
      "{'name': 'visible', 'old': False, 'new': True, 'owner': CircleMarker(color='#F00', fill_color='#0F0', fill_opacity=1.0, location=[34.6252978589571, -77.34580993652344], opacity=1.0, options=['class_name', 'clickable', 'color', 'dash_array', 'fill', 'fill_color', 'fill_opacity', 'line_cap', 'line_join', 'pointer_events', 'stroke', 'weight'], radius=30, weight=2), 'type': 'change'}\n"
     ]
    }
   ],
   "source": [
    "m.add_layer(cm)"
   ]
  },
  {
   "cell_type": "code",
   "execution_count": 16,
   "metadata": {},
   "outputs": [
    {
     "data": {
      "application/vnd.jupyter.widget-view+json": {
       "model_id": "8bc8e0ce5dd74c80a2d895ea7fb7d830",
       "version_major": 2,
       "version_minor": 0
      },
      "text/html": [
       "<p>Failed to display Jupyter Widget of type <code>Map</code>.</p>\n",
       "<p>\n",
       "  If you're reading this message in the Jupyter Notebook or JupyterLab Notebook, it may mean\n",
       "  that the widgets JavaScript is still loading. If this message persists, it\n",
       "  likely means that the widgets JavaScript library is either not installed or\n",
       "  not enabled. See the <a href=\"https://ipywidgets.readthedocs.io/en/stable/user_install.html\">Jupyter\n",
       "  Widgets Documentation</a> for setup instructions.\n",
       "</p>\n",
       "<p>\n",
       "  If you're reading this message in another frontend (for example, a static\n",
       "  rendering on GitHub or <a href=\"https://nbviewer.jupyter.org/\">NBViewer</a>),\n",
       "  it may mean that your frontend doesn't currently support widgets.\n",
       "</p>\n"
      ],
      "text/plain": [
       "Map(basemap={'url': 'https://{s}.tile.openstreetmap.org/{z}/{x}/{y}.png', 'max_zoom': 19, 'attribution': 'Map data (c) <a href=\"https://openstreetmap.org\">OpenStreetMap</a> contributors'}, center=[34.6252978589571, -77.34580993652344], default_tiles=TileLayer(opacity=1.0, options=['attribution', 'detect_retina', 'max_zoom', 'min_zoom', 'tile_size']), layers=(TileLayer(opacity=1.0, options=['attribution', 'detect_retina', 'max_zoom', 'min_zoom', 'tile_size']), CircleMarker(color='#F00', fill_color='#0F0', fill_opacity=1.0, location=[34.6252978589571, -77.34580993652344], opacity=1.0, options=['class_name', 'clickable', 'color', 'dash_array', 'fill', 'fill_color', 'fill_opacity', 'line_cap', 'line_join', 'pointer_events', 'stroke', 'weight'], radius=30, weight=2)), layout=Layout(align_self='stretch', height='400px'), options=['attribution_control', 'basemap', 'bounce_at_zoom_limits', 'box_zoom', 'center', 'close_popup_on_click', 'double_click_zoom', 'dragging', 'inertia', 'inertia_deceleration', 'inertia_max_speed', 'keyboard', 'keyboard_pan_offset', 'keyboard_zoom_offset', 'max_zoom', 'min_zoom', 'scroll_wheel_zoom', 'tap', 'tap_tolerance', 'touch_zoom', 'world_copy_jump', 'zoom', 'zoom_animation_threshold', 'zoom_control', 'zoom_start'], zoom=10)"
      ]
     },
     "metadata": {},
     "output_type": "display_data"
    }
   ],
   "source": [
    "m"
   ]
  },
  {
   "cell_type": "code",
   "execution_count": 17,
   "metadata": {},
   "outputs": [
    {
     "data": {
      "text/plain": [
       "(TileLayer(opacity=1.0, options=['attribution', 'detect_retina', 'max_zoom', 'min_zoom', 'tile_size']),\n",
       " CircleMarker(color='#F00', fill_color='#0F0', fill_opacity=1.0, location=[34.6252978589571, -77.34580993652344], opacity=1.0, options=['class_name', 'clickable', 'color', 'dash_array', 'fill', 'fill_color', 'fill_opacity', 'line_cap', 'line_join', 'pointer_events', 'stroke', 'weight'], radius=30, weight=2))"
      ]
     },
     "execution_count": 17,
     "metadata": {},
     "output_type": "execute_result"
    }
   ],
   "source": [
    "m.layers"
   ]
  },
  {
   "cell_type": "code",
   "execution_count": null,
   "metadata": {},
   "outputs": [],
   "source": []
  }
 ],
 "metadata": {
  "kernelspec": {
   "display_name": "Python 3",
   "language": "python",
   "name": "python3"
  },
  "language_info": {
   "codemirror_mode": {
    "name": "ipython",
    "version": 3
   },
   "file_extension": ".py",
   "mimetype": "text/x-python",
   "name": "python",
   "nbconvert_exporter": "python",
   "pygments_lexer": "ipython3",
   "version": "3.6.4"
  },
  "widgets": {
   "application/vnd.jupyter.widget-state+json": {
    "state": {
     "0018446f878f486fa52b9f283ae822bc": {
      "model_module": "@jupyter-widgets/controls",
      "model_module_version": "1.1.0",
      "model_name": "DescriptionStyleModel",
      "state": {
       "description_width": ""
      }
     },
     "022875d995b14f1caf718a4e86337db4": {
      "model_module": "@jupyter-widgets/controls",
      "model_module_version": "1.1.0",
      "model_name": "DropdownModel",
      "state": {
       "_options_labels": [
        "Abilene",
        "Albuquerque",
        "Amarillo",
        "Amsterdam",
        "Arlington",
        "Atlanta",
        "Atlantic City",
        "Austin",
        "Baltimore",
        "Barcelona",
        "Baton Rouge",
        "Boston",
        "Brownsville",
        "Brussels",
        "Buffalo",
        "Cambridge",
        "Carbondale",
        "Cheyenne",
        "Chicago",
        "Columbus",
        "Cumberland",
        "Dallas",
        "Denver",
        "Detroit",
        "Durango",
        "El Paso",
        "Florida",
        "Hamburg",
        "Hong Kong",
        "Honolulu",
        "Houston",
        "Jackson",
        "Jerusalem",
        "Juarez",
        "Kansas City",
        "Las Vegas",
        "Liverpool",
        "London",
        "Madrid",
        "Memphis",
        "Mexico City",
        "Miami",
        "Mobile",
        "Montana",
        "Nazareth",
        "New Orleans",
        "New York",
        "Omaha",
        "Paris",
        "Paterson",
        "Pittsburgh",
        "Richmond",
        "Rome",
        "San Francisco",
        "San Pedro",
        "Shreveport",
        "Singapore",
        "St. Petersburg",
        "Syracuse",
        "Tallahassee",
        "Vicksburg",
        "Wichita"
       ],
       "index": 0,
       "layout": "IPY_MODEL_b6baca10f5804ba89f822413695e1f91",
       "style": "IPY_MODEL_47d6d87722374b8d9fd86d7b6e5bd607"
      }
     },
     "033af05bb75a4df5bbc4209e6aedcc2f": {
      "model_module": "@jupyter-widgets/base",
      "model_module_version": "1.0.0",
      "model_name": "LayoutModel",
      "state": {}
     },
     "033d5c16eb38414993bcd247520166ed": {
      "model_module": "@jupyter-widgets/controls",
      "model_module_version": "1.1.0",
      "model_name": "BoxModel",
      "state": {
       "children": [
        "IPY_MODEL_c43e3b7c92564151af73fcda59838821"
       ],
       "layout": "IPY_MODEL_2aa34adb4ec24defb9ce93f6f7ba5c00"
      }
     },
     "0a19281c62cd409d94ebca8cb1b4768f": {
      "model_module": "@jupyter-widgets/base",
      "model_module_version": "1.0.0",
      "model_name": "LayoutModel",
      "state": {}
     },
     "0c171082152040189e91543e3a61e383": {
      "model_module": "@jupyter-widgets/controls",
      "model_module_version": "1.1.0",
      "model_name": "VBoxModel",
      "state": {
       "children": [
        "IPY_MODEL_c3d7e3cb3df84068a2d3027361b2698a",
        "IPY_MODEL_69ab5c69638c429f9432e4c124b4aa6a"
       ],
       "layout": "IPY_MODEL_125615f003f840bb87de67c6783b2dad"
      }
     },
     "105a92b0ef464dc4a9016f159e5e5484": {
      "model_module": "@jupyter-widgets/base",
      "model_module_version": "1.0.0",
      "model_name": "LayoutModel",
      "state": {
       "align_self": "stretch",
       "height": "400px"
      }
     },
     "125615f003f840bb87de67c6783b2dad": {
      "model_module": "@jupyter-widgets/base",
      "model_module_version": "1.0.0",
      "model_name": "LayoutModel",
      "state": {}
     },
     "13ccf5c1198a438fbba5ef583092f553": {
      "model_module": "@jupyter-widgets/base",
      "model_module_version": "1.0.0",
      "model_name": "LayoutModel",
      "state": {
       "align_self": "stretch",
       "height": "400px"
      }
     },
     "220ff6024d5b424b8fd9a332f029d3fc": {
      "model_module": "@jupyter-widgets/controls",
      "model_module_version": "1.1.0",
      "model_name": "VBoxModel",
      "state": {
       "children": [
        "IPY_MODEL_b6f0caac220546289a7b8c14fbad1afd",
        "IPY_MODEL_97d8fdc9bb754f2b9f624eae89db2c4b"
       ],
       "layout": "IPY_MODEL_fd3a43d6de27453db680422961ac8a1e"
      }
     },
     "22ea6eff0f7d4e48a24ce5bc414e3101": {
      "model_module": "jupyter-leaflet",
      "model_module_version": "~0.6.0",
      "model_name": "LeafletCircleMarkerModel",
      "state": {
       "_model_module_version": "~0.6.0",
       "_view_count": null,
       "_view_module_version": "~0.6.0",
       "location": [
        34.6252978589571,
        -77.34580993652344
       ],
       "opacity": 0,
       "options": [
        "class_name",
        "clickable",
        "color",
        "dash_array",
        "fill",
        "fill_color",
        "fill_opacity",
        "line_cap",
        "line_join",
        "pointer_events",
        "stroke",
        "weight"
       ]
      }
     },
     "2aa34adb4ec24defb9ce93f6f7ba5c00": {
      "model_module": "@jupyter-widgets/base",
      "model_module_version": "1.0.0",
      "model_name": "LayoutModel",
      "state": {}
     },
     "2abbebacebd145b389fc76a81d0604d9": {
      "model_module": "jupyter-leaflet",
      "model_module_version": "~0.6.0",
      "model_name": "LeafletTileLayerModel",
      "state": {
       "_model_module_version": "~0.6.0",
       "_view_count": null,
       "_view_module_version": "~0.6.0",
       "max_zoom": 19,
       "min_zoom": 1,
       "opacity": 0,
       "options": [
        "attribution",
        "detect_retina",
        "max_zoom",
        "min_zoom",
        "tile_size"
       ]
      }
     },
     "2acb8fbd60e8457a9669929a4f050c1b": {
      "model_module": "@jupyter-widgets/base",
      "model_module_version": "1.0.0",
      "model_name": "LayoutModel",
      "state": {}
     },
     "2e7d047f5a594198a19cc9504c060e79": {
      "model_module": "@jupyter-widgets/controls",
      "model_module_version": "1.0.0",
      "model_name": "DescriptionStyleModel",
      "state": {
       "_model_module_version": "1.0.0",
       "description_width": ""
      }
     },
     "2f1da2c3ad784108922931efe40eea52": {
      "model_module": "@jupyter-widgets/controls",
      "model_module_version": "1.1.0",
      "model_name": "VBoxModel",
      "state": {
       "children": [
        "IPY_MODEL_9ad9fab4526843649270a936c260232d",
        "IPY_MODEL_4649a945b2ed480cb53e78ec324d6908"
       ],
       "layout": "IPY_MODEL_0a19281c62cd409d94ebca8cb1b4768f"
      }
     },
     "2fc8150d66d44d2988dae5b3ae176f5f": {
      "model_module": "@jupyter-widgets/base",
      "model_module_version": "1.0.0",
      "model_name": "LayoutModel",
      "state": {}
     },
     "3b051986420a4f829f963ee2e784f5a6": {
      "model_module": "@jupyter-widgets/base",
      "model_module_version": "1.0.0",
      "model_name": "LayoutModel",
      "state": {}
     },
     "3b43d9182c894362b1d9a60c4f1d06fb": {
      "model_module": "jupyter-leaflet",
      "model_module_version": "~0.6.0",
      "model_name": "LeafletMapModel",
      "state": {
       "_dom_classes": [],
       "_model_module_version": "~0.6.0",
       "_view_count": null,
       "_view_module_version": "~0.6.0",
       "basemap": {
        "attribution": "Map data (c) <a href=\"https://openstreetmap.org\">OpenStreetMap</a> contributors",
        "max_zoom": 19,
        "url": "https://{s}.tile.openstreetmap.org/{z}/{x}/{y}.png"
       },
       "center": [
        34.6252978589571,
        -77.34580993652344
       ],
       "default_tiles": "IPY_MODEL_6fb3d0adad9c4348841069bdad7e3927",
       "layers": [
        "IPY_MODEL_6fb3d0adad9c4348841069bdad7e3927",
        "IPY_MODEL_f6f652c86bd3472e8e85abe1d12ee3f9"
       ],
       "layout": "IPY_MODEL_105a92b0ef464dc4a9016f159e5e5484",
       "modisdate": "yesterday",
       "options": [
        "attribution_control",
        "basemap",
        "bounce_at_zoom_limits",
        "box_zoom",
        "center",
        "close_popup_on_click",
        "double_click_zoom",
        "dragging",
        "inertia",
        "inertia_deceleration",
        "inertia_max_speed",
        "keyboard",
        "keyboard_pan_offset",
        "keyboard_zoom_offset",
        "max_zoom",
        "min_zoom",
        "scroll_wheel_zoom",
        "tap",
        "tap_tolerance",
        "touch_zoom",
        "world_copy_jump",
        "zoom",
        "zoom_animation_threshold",
        "zoom_control",
        "zoom_start"
       ],
       "zoom": 10
      }
     },
     "3d429b4c9c75422e865bc7df1aed099f": {
      "model_module": "@jupyter-widgets/controls",
      "model_module_version": "1.0.0",
      "model_name": "HTMLModel",
      "state": {
       "_model_module_version": "1.0.0",
       "_view_module_version": "1.0.0",
       "layout": "IPY_MODEL_f0e924146de64f4dbc69fc0fcbf7f958",
       "style": "IPY_MODEL_2e7d047f5a594198a19cc9504c060e79"
      }
     },
     "3d9b1cf2b9c04444b4bc08b449d6651d": {
      "model_module": "@jupyter-widgets/controls",
      "model_module_version": "1.1.0",
      "model_name": "HTMLModel",
      "state": {
       "layout": "IPY_MODEL_c8f86864629049f0bcd8175e816d1d61",
       "style": "IPY_MODEL_f96cb5c716b144949647e3142a3b7dc8"
      }
     },
     "42f439a4b6484c7b955e9f1b53dd3479": {
      "model_module": "@jupyter-widgets/controls",
      "model_module_version": "1.1.0",
      "model_name": "SelectModel",
      "state": {
       "_options_labels": [
        "Wanted Man"
       ],
       "index": 0,
       "layout": "IPY_MODEL_ba9a875d0f3045ae896f7f03a75c1f9c",
       "style": "IPY_MODEL_57ebe74ac61c4b41a3939c405b5d2afb"
      }
     },
     "44212dc8bbbd4784ac0abc728481ef0f": {
      "model_module": "@jupyter-widgets/controls",
      "model_module_version": "1.1.0",
      "model_name": "DescriptionStyleModel",
      "state": {
       "description_width": ""
      }
     },
     "448e76fa3bc043a1936bc12eb4003f16": {
      "model_module": "@jupyter-widgets/base",
      "model_module_version": "1.0.0",
      "model_name": "LayoutModel",
      "state": {}
     },
     "4649a945b2ed480cb53e78ec324d6908": {
      "model_module": "@jupyter-widgets/controls",
      "model_module_version": "1.1.0",
      "model_name": "HBoxModel",
      "state": {
       "children": [
        "IPY_MODEL_42f439a4b6484c7b955e9f1b53dd3479",
        "IPY_MODEL_c16f9cb244444003ae3f4e0c47a04137"
       ],
       "layout": "IPY_MODEL_e859cc2a7e9743488bbda96bf888999b"
      }
     },
     "4672fea2ec864328b93df427dd58d42a": {
      "model_module": "jupyter-leaflet",
      "model_module_version": "~0.6.0",
      "model_name": "LeafletCircleMarkerModel",
      "state": {
       "_model_module_version": "~0.6.0",
       "_view_count": null,
       "_view_module_version": "~0.6.0",
       "color": "#F00",
       "fill_color": "#0F0",
       "fill_opacity": 1,
       "location": [
        34.6252978589571,
        -77.34580993652344
       ],
       "options": [
        "class_name",
        "clickable",
        "color",
        "dash_array",
        "fill",
        "fill_color",
        "fill_opacity",
        "line_cap",
        "line_join",
        "pointer_events",
        "stroke",
        "weight"
       ],
       "radius": 30,
       "weight": 2
      }
     },
     "46931ba04a1344038c2a5c8d35ca2d67": {
      "model_module": "@jupyter-widgets/controls",
      "model_module_version": "1.0.0",
      "model_name": "DropdownModel",
      "state": {
       "_model_module_version": "1.0.0",
       "_options_labels": [
        "Abilene",
        "Albuquerque",
        "Amarillo",
        "Amsterdam",
        "Arlington",
        "Atlanta",
        "Atlantic City",
        "Austin",
        "Baltimore",
        "Barcelona",
        "Baton Rouge",
        "Boston",
        "Brownsville",
        "Brussels",
        "Buffalo",
        "Cambridge",
        "Carbondale",
        "Cheyenne",
        "Chicago",
        "Columbus",
        "Cumberland",
        "Dallas",
        "Denver",
        "Detroit",
        "Durango",
        "El Paso",
        "Florida",
        "Hamburg",
        "Hong Kong",
        "Honolulu",
        "Houston",
        "Jackson",
        "Jerusalem",
        "Juarez",
        "Kansas City",
        "Las Vegas",
        "Liverpool",
        "London",
        "Madrid",
        "Memphis",
        "Mexico City",
        "Miami",
        "Mobile",
        "Montana",
        "Nazareth",
        "New Orleans",
        "New York",
        "Omaha",
        "Paris",
        "Paterson",
        "Pittsburgh",
        "Richmond",
        "Rome",
        "San Francisco",
        "San Pedro",
        "Shreveport",
        "Singapore",
        "St. Petersburg",
        "Syracuse",
        "Tallahassee",
        "Vicksburg",
        "Wichita"
       ],
       "_view_module_version": "1.0.0",
       "index": 0,
       "layout": "IPY_MODEL_3b051986420a4f829f963ee2e784f5a6",
       "style": "IPY_MODEL_f83f08f32eab4fa1b245cf217c9ce266"
      }
     },
     "47d6d87722374b8d9fd86d7b6e5bd607": {
      "model_module": "@jupyter-widgets/controls",
      "model_module_version": "1.1.0",
      "model_name": "DescriptionStyleModel",
      "state": {
       "description_width": ""
      }
     },
     "4a99fba36b0d4e0e80cb4a9f0620e8dd": {
      "model_module": "@jupyter-widgets/base",
      "model_module_version": "1.0.0",
      "model_name": "LayoutModel",
      "state": {}
     },
     "4b71e5012b35419a85b3e2bf2f32a817": {
      "model_module": "@jupyter-widgets/base",
      "model_module_version": "1.0.0",
      "model_name": "LayoutModel",
      "state": {
       "align_self": "stretch",
       "height": "400px"
      }
     },
     "5097496e490343b5bfe36f971251cf89": {
      "model_module": "@jupyter-widgets/controls",
      "model_module_version": "1.0.0",
      "model_name": "HBoxModel",
      "state": {
       "_model_module_version": "1.0.0",
       "_view_module_version": "1.0.0",
       "children": [
        "IPY_MODEL_46931ba04a1344038c2a5c8d35ca2d67",
        "IPY_MODEL_3d429b4c9c75422e865bc7df1aed099f"
       ],
       "layout": "IPY_MODEL_4a99fba36b0d4e0e80cb4a9f0620e8dd"
      }
     },
     "57ebe74ac61c4b41a3939c405b5d2afb": {
      "model_module": "@jupyter-widgets/controls",
      "model_module_version": "1.1.0",
      "model_name": "DescriptionStyleModel",
      "state": {
       "description_width": ""
      }
     },
     "5ac7f461fa87457f9b3108389c42a6e1": {
      "model_module": "@jupyter-widgets/controls",
      "model_module_version": "1.1.0",
      "model_name": "DescriptionStyleModel",
      "state": {
       "description_width": ""
      }
     },
     "62119b84a6364c6dbbc23ea95c0e12d1": {
      "model_module": "jupyter-leaflet",
      "model_module_version": "~0.6.0",
      "model_name": "LeafletMapModel",
      "state": {
       "_dom_classes": [],
       "_model_module_version": "~0.6.0",
       "_view_count": null,
       "_view_module_version": "~0.6.0",
       "basemap": {
        "attribution": "Map data (c) <a href=\"https://openstreetmap.org\">OpenStreetMap</a> contributors",
        "max_zoom": 19,
        "url": "https://{s}.tile.openstreetmap.org/{z}/{x}/{y}.png"
       },
       "center": [
        34.6252978589571,
        -77.34580993652344
       ],
       "default_tiles": "IPY_MODEL_2abbebacebd145b389fc76a81d0604d9",
       "layers": [
        "IPY_MODEL_2abbebacebd145b389fc76a81d0604d9",
        "IPY_MODEL_22ea6eff0f7d4e48a24ce5bc414e3101"
       ],
       "layout": "IPY_MODEL_4b71e5012b35419a85b3e2bf2f32a817",
       "modisdate": "yesterday",
       "options": [
        "attribution_control",
        "basemap",
        "bounce_at_zoom_limits",
        "box_zoom",
        "center",
        "close_popup_on_click",
        "double_click_zoom",
        "dragging",
        "inertia",
        "inertia_deceleration",
        "inertia_max_speed",
        "keyboard",
        "keyboard_pan_offset",
        "keyboard_zoom_offset",
        "max_zoom",
        "min_zoom",
        "scroll_wheel_zoom",
        "tap",
        "tap_tolerance",
        "touch_zoom",
        "world_copy_jump",
        "zoom",
        "zoom_animation_threshold",
        "zoom_control",
        "zoom_start"
       ]
      }
     },
     "6421060f33034378bda95a4518f6e271": {
      "model_module": "@jupyter-widgets/base",
      "model_module_version": "1.0.0",
      "model_name": "LayoutModel",
      "state": {}
     },
     "69ab5c69638c429f9432e4c124b4aa6a": {
      "model_module": "@jupyter-widgets/controls",
      "model_module_version": "1.1.0",
      "model_name": "HBoxModel",
      "state": {
       "children": [
        "IPY_MODEL_d668146d1d9d4fc883838c08df18fc1b",
        "IPY_MODEL_e0bc51dc4a4a404f9ddbb8fb488ed718"
       ],
       "layout": "IPY_MODEL_2fc8150d66d44d2988dae5b3ae176f5f"
      }
     },
     "6b3bd9f9de8d4f7ab4d13982e4bb44d8": {
      "model_module": "jupyter-leaflet",
      "model_module_version": "~0.6.0",
      "model_name": "LeafletMapModel",
      "state": {
       "_dom_classes": [],
       "_model_module_version": "~0.6.0",
       "_view_count": null,
       "_view_module_version": "~0.6.0",
       "basemap": {
        "attribution": "Map data (c) <a href=\"https://openstreetmap.org\">OpenStreetMap</a> contributors",
        "max_zoom": 19,
        "url": "https://{s}.tile.openstreetmap.org/{z}/{x}/{y}.png"
       },
       "center": [
        34.6252978589571,
        -77.33551025390626
       ],
       "default_tiles": "IPY_MODEL_faec897452ed44959fec0ece15c127b9",
       "layers": [
        "IPY_MODEL_faec897452ed44959fec0ece15c127b9",
        "IPY_MODEL_b28c2e07ee644723b1fb9ff8092d9809"
       ],
       "layout": "IPY_MODEL_13ccf5c1198a438fbba5ef583092f553",
       "modisdate": "yesterday",
       "options": [
        "attribution_control",
        "basemap",
        "bounce_at_zoom_limits",
        "box_zoom",
        "center",
        "close_popup_on_click",
        "double_click_zoom",
        "dragging",
        "inertia",
        "inertia_deceleration",
        "inertia_max_speed",
        "keyboard",
        "keyboard_pan_offset",
        "keyboard_zoom_offset",
        "max_zoom",
        "min_zoom",
        "scroll_wheel_zoom",
        "tap",
        "tap_tolerance",
        "touch_zoom",
        "world_copy_jump",
        "zoom",
        "zoom_animation_threshold",
        "zoom_control",
        "zoom_start"
       ],
       "zoom": 10
      }
     },
     "6d7b2ee186594cdcb18631806e52a97c": {
      "model_module": "@jupyter-widgets/base",
      "model_module_version": "1.0.0",
      "model_name": "LayoutModel",
      "state": {}
     },
     "6fb3d0adad9c4348841069bdad7e3927": {
      "model_module": "jupyter-leaflet",
      "model_module_version": "~0.6.0",
      "model_name": "LeafletTileLayerModel",
      "state": {
       "_model_module_version": "~0.6.0",
       "_view_count": null,
       "_view_module_version": "~0.6.0",
       "options": [
        "attribution",
        "detect_retina",
        "max_zoom",
        "min_zoom",
        "tile_size"
       ]
      }
     },
     "70606c806a364356ab5f4471ab18c044": {
      "model_module": "@jupyter-widgets/base",
      "model_module_version": "1.0.0",
      "model_name": "LayoutModel",
      "state": {
       "align_self": "stretch",
       "height": "400px"
      }
     },
     "770e435537e34be681be490ed6fa28e5": {
      "model_module": "@jupyter-widgets/controls",
      "model_module_version": "1.1.0",
      "model_name": "DropdownModel",
      "state": {
       "_options_labels": [
        "Abilene",
        "Albuquerque",
        "Amarillo",
        "Amsterdam",
        "Arlington",
        "Atlanta",
        "Atlantic City",
        "Austin",
        "Baltimore",
        "Barcelona",
        "Baton Rouge",
        "Boston",
        "Brownsville",
        "Brussels",
        "Buffalo",
        "Cambridge",
        "Carbondale",
        "Cheyenne",
        "Chicago",
        "Columbus",
        "Cumberland",
        "Dallas",
        "Denver",
        "Detroit",
        "Durango",
        "El Paso",
        "Florida",
        "Hamburg",
        "Hong Kong",
        "Honolulu",
        "Houston",
        "Jackson",
        "Jerusalem",
        "Juarez",
        "Kansas City",
        "Las Vegas",
        "Liverpool",
        "London",
        "Madrid",
        "Memphis",
        "Mexico City",
        "Miami",
        "Mobile",
        "Montana",
        "Nazareth",
        "New Orleans",
        "New York",
        "Omaha",
        "Paris",
        "Paterson",
        "Pittsburgh",
        "Richmond",
        "Rome",
        "San Francisco",
        "San Pedro",
        "Shreveport",
        "Singapore",
        "St. Petersburg",
        "Syracuse",
        "Tallahassee",
        "Vicksburg",
        "Wichita"
       ],
       "index": 0,
       "layout": "IPY_MODEL_448e76fa3bc043a1936bc12eb4003f16",
       "style": "IPY_MODEL_89f51a91c4a3455ba8ad30e1254bcbdb"
      }
     },
     "772472beca6d442890192e233ca325fa": {
      "model_module": "@jupyter-widgets/base",
      "model_module_version": "1.0.0",
      "model_name": "LayoutModel",
      "state": {}
     },
     "81a7ecb45f10425fbd341f644f3ea76a": {
      "model_module": "@jupyter-widgets/base",
      "model_module_version": "1.0.0",
      "model_name": "LayoutModel",
      "state": {}
     },
     "89f51a91c4a3455ba8ad30e1254bcbdb": {
      "model_module": "@jupyter-widgets/controls",
      "model_module_version": "1.1.0",
      "model_name": "DescriptionStyleModel",
      "state": {
       "description_width": ""
      }
     },
     "8b20644c1ad04fd4978686586d806d3e": {
      "model_module": "@jupyter-widgets/controls",
      "model_module_version": "1.1.0",
      "model_name": "DescriptionStyleModel",
      "state": {
       "description_width": ""
      }
     },
     "8e60399838324978a11a2c07bfa211f7": {
      "model_module": "@jupyter-widgets/controls",
      "model_module_version": "1.1.0",
      "model_name": "HTMLModel",
      "state": {
       "layout": "IPY_MODEL_a0a8190069234714a70de1dc92505128",
       "placeholder": "Lyrics...",
       "style": "IPY_MODEL_d43bc8546a9a459599f5276ce1ee1f4c"
      }
     },
     "8eb540e13b854a7aaf23dd0ed60cef7b": {
      "model_module": "@jupyter-widgets/base",
      "model_module_version": "1.0.0",
      "model_name": "LayoutModel",
      "state": {}
     },
     "95e742a0189841609ee676d0a3f4e481": {
      "model_module": "@jupyter-widgets/base",
      "model_module_version": "1.0.0",
      "model_name": "LayoutModel",
      "state": {}
     },
     "97d8fdc9bb754f2b9f624eae89db2c4b": {
      "model_module": "@jupyter-widgets/controls",
      "model_module_version": "1.1.0",
      "model_name": "HBoxModel",
      "state": {
       "children": [
        "IPY_MODEL_ad5e19be52e84ad2a04a513a2f42de52",
        "IPY_MODEL_8e60399838324978a11a2c07bfa211f7"
       ],
       "layout": "IPY_MODEL_2acb8fbd60e8457a9669929a4f050c1b"
      }
     },
     "9a0597378b184486a57478b24ca7bace": {
      "model_module": "@jupyter-widgets/controls",
      "model_module_version": "1.1.0",
      "model_name": "HTMLModel",
      "state": {
       "layout": "IPY_MODEL_8eb540e13b854a7aaf23dd0ed60cef7b",
       "style": "IPY_MODEL_5ac7f461fa87457f9b3108389c42a6e1",
       "value": "<b>Count:</b> 1</br>"
      }
     },
     "9ad9fab4526843649270a936c260232d": {
      "model_module": "@jupyter-widgets/controls",
      "model_module_version": "1.1.0",
      "model_name": "HBoxModel",
      "state": {
       "children": [
        "IPY_MODEL_f2970f0102a44fdd8974556aa9188e5c",
        "IPY_MODEL_3d9b1cf2b9c04444b4bc08b449d6651d"
       ],
       "layout": "IPY_MODEL_de135d77477e48289a8610642eaec2a2"
      }
     },
     "a0a8190069234714a70de1dc92505128": {
      "model_module": "@jupyter-widgets/base",
      "model_module_version": "1.0.0",
      "model_name": "LayoutModel",
      "state": {}
     },
     "a2d1442d67f44f83962ccbc3689ce2c9": {
      "model_module": "@jupyter-widgets/controls",
      "model_module_version": "1.1.0",
      "model_name": "SliderStyleModel",
      "state": {
       "description_width": ""
      }
     },
     "a6a3f61f3710459e82d2ae17ad587a12": {
      "model_module": "@jupyter-widgets/base",
      "model_module_version": "1.0.0",
      "model_name": "LayoutModel",
      "state": {}
     },
     "ad5e19be52e84ad2a04a513a2f42de52": {
      "model_module": "@jupyter-widgets/controls",
      "model_module_version": "1.1.0",
      "model_name": "SelectModel",
      "state": {
       "_options_labels": [
        "Wanted Man"
       ],
       "index": 0,
       "layout": "IPY_MODEL_6d7b2ee186594cdcb18631806e52a97c",
       "style": "IPY_MODEL_d5b3454451a441f484084788c685d012"
      }
     },
     "b28c2e07ee644723b1fb9ff8092d9809": {
      "model_module": "jupyter-leaflet",
      "model_module_version": "~0.6.0",
      "model_name": "LeafletCircleMarkerModel",
      "state": {
       "_model_module_version": "~0.6.0",
       "_view_count": null,
       "_view_module_version": "~0.6.0",
       "color": "#F00",
       "fill_color": "#0F0",
       "fill_opacity": 1,
       "location": [
        34.6252978589571,
        -77.34580993652344
       ],
       "options": [
        "class_name",
        "clickable",
        "color",
        "dash_array",
        "fill",
        "fill_color",
        "fill_opacity",
        "line_cap",
        "line_join",
        "pointer_events",
        "stroke",
        "weight"
       ],
       "radius": 30,
       "weight": 2
      }
     },
     "b6baca10f5804ba89f822413695e1f91": {
      "model_module": "@jupyter-widgets/base",
      "model_module_version": "1.0.0",
      "model_name": "LayoutModel",
      "state": {}
     },
     "b6f0caac220546289a7b8c14fbad1afd": {
      "model_module": "@jupyter-widgets/controls",
      "model_module_version": "1.1.0",
      "model_name": "HBoxModel",
      "state": {
       "children": [
        "IPY_MODEL_770e435537e34be681be490ed6fa28e5",
        "IPY_MODEL_f2c5823e1bf84a62b6d773c843a3b7f9"
       ],
       "layout": "IPY_MODEL_772472beca6d442890192e233ca325fa"
      }
     },
     "ba9a875d0f3045ae896f7f03a75c1f9c": {
      "model_module": "@jupyter-widgets/base",
      "model_module_version": "1.0.0",
      "model_name": "LayoutModel",
      "state": {}
     },
     "c102b9dac33d4c47b6bd2945a9acd69c": {
      "model_module": "@jupyter-widgets/controls",
      "model_module_version": "1.0.0",
      "model_name": "VBoxModel",
      "state": {
       "_model_module_version": "1.0.0",
       "_view_module_version": "1.0.0",
       "children": [
        "IPY_MODEL_5097496e490343b5bfe36f971251cf89",
        "IPY_MODEL_c2ab8ae017024e6b9210cc736a30e187"
       ],
       "layout": "IPY_MODEL_cb63ea0e73b840d7b7eee1b53360e405"
      }
     },
     "c16f9cb244444003ae3f4e0c47a04137": {
      "model_module": "@jupyter-widgets/controls",
      "model_module_version": "1.1.0",
      "model_name": "HTMLModel",
      "state": {
       "layout": "IPY_MODEL_c3ac7a7363454f5abde0baae70e37db5",
       "placeholder": "Lyrics...",
       "style": "IPY_MODEL_44212dc8bbbd4784ac0abc728481ef0f"
      }
     },
     "c2ab8ae017024e6b9210cc736a30e187": {
      "model_module": "@jupyter-widgets/controls",
      "model_module_version": "1.0.0",
      "model_name": "HBoxModel",
      "state": {
       "_model_module_version": "1.0.0",
       "_view_module_version": "1.0.0",
       "children": [
        "IPY_MODEL_cc57081662f04902a01959488813f749",
        "IPY_MODEL_dd87c57f9a7942e983ed507ecd2c0dfb"
       ],
       "layout": "IPY_MODEL_d03dd41c0c824cd598052433b10bbde6"
      }
     },
     "c3ac7a7363454f5abde0baae70e37db5": {
      "model_module": "@jupyter-widgets/base",
      "model_module_version": "1.0.0",
      "model_name": "LayoutModel",
      "state": {}
     },
     "c3d7e3cb3df84068a2d3027361b2698a": {
      "model_module": "@jupyter-widgets/controls",
      "model_module_version": "1.1.0",
      "model_name": "HBoxModel",
      "state": {
       "children": [
        "IPY_MODEL_022875d995b14f1caf718a4e86337db4",
        "IPY_MODEL_9a0597378b184486a57478b24ca7bace"
       ],
       "layout": "IPY_MODEL_033af05bb75a4df5bbc4209e6aedcc2f"
      }
     },
     "c43e3b7c92564151af73fcda59838821": {
      "model_module": "@jupyter-widgets/controls",
      "model_module_version": "1.1.0",
      "model_name": "IntSliderModel",
      "state": {
       "description": "zoom",
       "layout": "IPY_MODEL_6421060f33034378bda95a4518f6e271",
       "max": 10,
       "min": 5,
       "style": "IPY_MODEL_a2d1442d67f44f83962ccbc3689ce2c9",
       "value": 10
      }
     },
     "c8f86864629049f0bcd8175e816d1d61": {
      "model_module": "@jupyter-widgets/base",
      "model_module_version": "1.0.0",
      "model_name": "LayoutModel",
      "state": {}
     },
     "cb63ea0e73b840d7b7eee1b53360e405": {
      "model_module": "@jupyter-widgets/base",
      "model_module_version": "1.0.0",
      "model_name": "LayoutModel",
      "state": {}
     },
     "cc57081662f04902a01959488813f749": {
      "model_module": "@jupyter-widgets/controls",
      "model_module_version": "1.0.0",
      "model_name": "SelectModel",
      "state": {
       "_model_module_version": "1.0.0",
       "_options_labels": [
        "Wanted Man"
       ],
       "_view_module_version": "1.0.0",
       "index": 0,
       "layout": "IPY_MODEL_e0e07d2dad6d46ae80fd1d4bde4ef0ac",
       "style": "IPY_MODEL_d7eaad0bc31749cb960d7952e1bc9e2b"
      }
     },
     "d03dd41c0c824cd598052433b10bbde6": {
      "model_module": "@jupyter-widgets/base",
      "model_module_version": "1.0.0",
      "model_name": "LayoutModel",
      "state": {}
     },
     "d43bc8546a9a459599f5276ce1ee1f4c": {
      "model_module": "@jupyter-widgets/controls",
      "model_module_version": "1.1.0",
      "model_name": "DescriptionStyleModel",
      "state": {
       "description_width": ""
      }
     },
     "d50b69c47188430287e7f23fd6dce4b8": {
      "model_module": "jupyter-leaflet",
      "model_module_version": "~0.6.0",
      "model_name": "LeafletTileLayerModel",
      "state": {
       "_model_module_version": "~0.6.0",
       "_view_count": null,
       "_view_module_version": "~0.6.0",
       "options": [
        "attribution",
        "detect_retina",
        "max_zoom",
        "min_zoom",
        "tile_size"
       ]
      }
     },
     "d5b3454451a441f484084788c685d012": {
      "model_module": "@jupyter-widgets/controls",
      "model_module_version": "1.1.0",
      "model_name": "DescriptionStyleModel",
      "state": {
       "description_width": ""
      }
     },
     "d668146d1d9d4fc883838c08df18fc1b": {
      "model_module": "@jupyter-widgets/controls",
      "model_module_version": "1.1.0",
      "model_name": "SelectModel",
      "state": {
       "_options_labels": [
        "Wanted Man"
       ],
       "index": 0,
       "layout": "IPY_MODEL_95e742a0189841609ee676d0a3f4e481",
       "style": "IPY_MODEL_0018446f878f486fa52b9f283ae822bc"
      }
     },
     "d6e350856fce470595dcca7231edf0b3": {
      "model_module": "@jupyter-widgets/base",
      "model_module_version": "1.0.0",
      "model_name": "LayoutModel",
      "state": {}
     },
     "d7eaad0bc31749cb960d7952e1bc9e2b": {
      "model_module": "@jupyter-widgets/controls",
      "model_module_version": "1.0.0",
      "model_name": "DescriptionStyleModel",
      "state": {
       "_model_module_version": "1.0.0",
       "description_width": ""
      }
     },
     "dd87c57f9a7942e983ed507ecd2c0dfb": {
      "model_module": "@jupyter-widgets/controls",
      "model_module_version": "1.0.0",
      "model_name": "HTMLModel",
      "state": {
       "_model_module_version": "1.0.0",
       "_view_module_version": "1.0.0",
       "layout": "IPY_MODEL_a6a3f61f3710459e82d2ae17ad587a12",
       "placeholder": "Lyrics...",
       "style": "IPY_MODEL_fa2a315a7ddf45b09945058f6ddaa9ef"
      }
     },
     "de135d77477e48289a8610642eaec2a2": {
      "model_module": "@jupyter-widgets/base",
      "model_module_version": "1.0.0",
      "model_name": "LayoutModel",
      "state": {}
     },
     "e0bc51dc4a4a404f9ddbb8fb488ed718": {
      "model_module": "@jupyter-widgets/controls",
      "model_module_version": "1.1.0",
      "model_name": "HTMLModel",
      "state": {
       "layout": "IPY_MODEL_f0015b2179d9490d99a4bdb24f6e1c09",
       "placeholder": "Lyrics...",
       "style": "IPY_MODEL_8b20644c1ad04fd4978686586d806d3e",
       "value": "<b>Lyrics:</b> ...p\r\\Then I went to sleep in Shreveport, woke up in <b><span style=\"color:blue\">Abilene</span></b>\r\\Wonderin’ why the hell I’m wanted at some town halfway between\\\r\\Wanted man in Albuquerque,...</br>"
      }
     },
     "e0e07d2dad6d46ae80fd1d4bde4ef0ac": {
      "model_module": "@jupyter-widgets/base",
      "model_module_version": "1.0.0",
      "model_name": "LayoutModel",
      "state": {}
     },
     "e4eeabac555f46a9b12d4bfa0f6e1202": {
      "model_module": "@jupyter-widgets/controls",
      "model_module_version": "1.1.0",
      "model_name": "DescriptionStyleModel",
      "state": {
       "description_width": ""
      }
     },
     "e859cc2a7e9743488bbda96bf888999b": {
      "model_module": "@jupyter-widgets/base",
      "model_module_version": "1.0.0",
      "model_name": "LayoutModel",
      "state": {}
     },
     "ea42f67737994964821d311d4e9893b2": {
      "model_module": "jupyter-leaflet",
      "model_module_version": "~0.6.0",
      "model_name": "LeafletMapModel",
      "state": {
       "_dom_classes": [],
       "_model_module_version": "~0.6.0",
       "_view_count": null,
       "_view_module_version": "~0.6.0",
       "basemap": {
        "attribution": "Map data (c) <a href=\"https://openstreetmap.org\">OpenStreetMap</a> contributors",
        "max_zoom": 19,
        "url": "https://{s}.tile.openstreetmap.org/{z}/{x}/{y}.png"
       },
       "center": [
        34.6252978589571,
        -77.34580993652344
       ],
       "default_tiles": "IPY_MODEL_d50b69c47188430287e7f23fd6dce4b8",
       "layers": [
        "IPY_MODEL_d50b69c47188430287e7f23fd6dce4b8",
        "IPY_MODEL_4672fea2ec864328b93df427dd58d42a"
       ],
       "layout": "IPY_MODEL_70606c806a364356ab5f4471ab18c044",
       "modisdate": "yesterday",
       "options": [
        "attribution_control",
        "basemap",
        "bounce_at_zoom_limits",
        "box_zoom",
        "center",
        "close_popup_on_click",
        "double_click_zoom",
        "dragging",
        "inertia",
        "inertia_deceleration",
        "inertia_max_speed",
        "keyboard",
        "keyboard_pan_offset",
        "keyboard_zoom_offset",
        "max_zoom",
        "min_zoom",
        "scroll_wheel_zoom",
        "tap",
        "tap_tolerance",
        "touch_zoom",
        "world_copy_jump",
        "zoom",
        "zoom_animation_threshold",
        "zoom_control",
        "zoom_start"
       ],
       "zoom": 10
      }
     },
     "f0015b2179d9490d99a4bdb24f6e1c09": {
      "model_module": "@jupyter-widgets/base",
      "model_module_version": "1.0.0",
      "model_name": "LayoutModel",
      "state": {}
     },
     "f0e924146de64f4dbc69fc0fcbf7f958": {
      "model_module": "@jupyter-widgets/base",
      "model_module_version": "1.0.0",
      "model_name": "LayoutModel",
      "state": {}
     },
     "f2970f0102a44fdd8974556aa9188e5c": {
      "model_module": "@jupyter-widgets/controls",
      "model_module_version": "1.1.0",
      "model_name": "DropdownModel",
      "state": {
       "_options_labels": [
        "Abilene",
        "Albuquerque",
        "Amarillo",
        "Amsterdam",
        "Arlington",
        "Atlanta",
        "Atlantic City",
        "Austin",
        "Baltimore",
        "Barcelona",
        "Baton Rouge",
        "Boston",
        "Brownsville",
        "Brussels",
        "Buffalo",
        "Cambridge",
        "Carbondale",
        "Cheyenne",
        "Chicago",
        "Columbus",
        "Cumberland",
        "Dallas",
        "Denver",
        "Detroit",
        "Durango",
        "El Paso",
        "Florida",
        "Hamburg",
        "Hong Kong",
        "Honolulu",
        "Houston",
        "Jackson",
        "Jerusalem",
        "Juarez",
        "Kansas City",
        "Las Vegas",
        "Liverpool",
        "London",
        "Madrid",
        "Memphis",
        "Mexico City",
        "Miami",
        "Mobile",
        "Montana",
        "Nazareth",
        "New Orleans",
        "New York",
        "Omaha",
        "Paris",
        "Paterson",
        "Pittsburgh",
        "Richmond",
        "Rome",
        "San Francisco",
        "San Pedro",
        "Shreveport",
        "Singapore",
        "St. Petersburg",
        "Syracuse",
        "Tallahassee",
        "Vicksburg",
        "Wichita"
       ],
       "index": 0,
       "layout": "IPY_MODEL_d6e350856fce470595dcca7231edf0b3",
       "style": "IPY_MODEL_f881825bf41d4aee9516078b4e83a766"
      }
     },
     "f2c5823e1bf84a62b6d773c843a3b7f9": {
      "model_module": "@jupyter-widgets/controls",
      "model_module_version": "1.1.0",
      "model_name": "HTMLModel",
      "state": {
       "layout": "IPY_MODEL_81a7ecb45f10425fbd341f644f3ea76a",
       "style": "IPY_MODEL_e4eeabac555f46a9b12d4bfa0f6e1202"
      }
     },
     "f6f652c86bd3472e8e85abe1d12ee3f9": {
      "model_module": "jupyter-leaflet",
      "model_module_version": "~0.6.0",
      "model_name": "LeafletCircleMarkerModel",
      "state": {
       "_model_module_version": "~0.6.0",
       "_view_count": null,
       "_view_module_version": "~0.6.0",
       "color": "#F00",
       "fill_color": "#0F0",
       "fill_opacity": 1,
       "location": [
        34.6252978589571,
        -77.34580993652344
       ],
       "options": [
        "class_name",
        "clickable",
        "color",
        "dash_array",
        "fill",
        "fill_color",
        "fill_opacity",
        "line_cap",
        "line_join",
        "pointer_events",
        "stroke",
        "weight"
       ],
       "radius": 30,
       "weight": 2
      }
     },
     "f83f08f32eab4fa1b245cf217c9ce266": {
      "model_module": "@jupyter-widgets/controls",
      "model_module_version": "1.0.0",
      "model_name": "DescriptionStyleModel",
      "state": {
       "_model_module_version": "1.0.0",
       "description_width": ""
      }
     },
     "f881825bf41d4aee9516078b4e83a766": {
      "model_module": "@jupyter-widgets/controls",
      "model_module_version": "1.1.0",
      "model_name": "DescriptionStyleModel",
      "state": {
       "description_width": ""
      }
     },
     "f96cb5c716b144949647e3142a3b7dc8": {
      "model_module": "@jupyter-widgets/controls",
      "model_module_version": "1.1.0",
      "model_name": "DescriptionStyleModel",
      "state": {
       "description_width": ""
      }
     },
     "fa2a315a7ddf45b09945058f6ddaa9ef": {
      "model_module": "@jupyter-widgets/controls",
      "model_module_version": "1.0.0",
      "model_name": "DescriptionStyleModel",
      "state": {
       "_model_module_version": "1.0.0",
       "description_width": ""
      }
     },
     "faec897452ed44959fec0ece15c127b9": {
      "model_module": "jupyter-leaflet",
      "model_module_version": "~0.6.0",
      "model_name": "LeafletTileLayerModel",
      "state": {
       "_model_module_version": "~0.6.0",
       "_view_count": null,
       "_view_module_version": "~0.6.0",
       "options": [
        "attribution",
        "detect_retina",
        "max_zoom",
        "min_zoom",
        "tile_size"
       ]
      }
     },
     "fd3a43d6de27453db680422961ac8a1e": {
      "model_module": "@jupyter-widgets/base",
      "model_module_version": "1.0.0",
      "model_name": "LayoutModel",
      "state": {}
     }
    },
    "version_major": 2,
    "version_minor": 0
   }
  }
 },
 "nbformat": 4,
 "nbformat_minor": 2
}
