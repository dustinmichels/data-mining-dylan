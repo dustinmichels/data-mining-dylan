{
 "cells": [
  {
   "cell_type": "markdown",
   "metadata": {},
   "source": [
    "# Find Cities in Songs\n",
    "\n",
    "1. Load json of Dylan songs/lyrics\n",
    "2. Use the `spacey` package for named entity recognition (ner)\n",
    "3. Cross reference results of ner with csv of cities and their coordinates, to produce csv with cities, lat/lon, and count of references in songs"
   ]
  },
  {
   "cell_type": "markdown",
   "metadata": {},
   "source": [
    "## Load Song Data"
   ]
  },
  {
   "cell_type": "code",
   "execution_count": 8,
   "metadata": {},
   "outputs": [],
   "source": [
    "import pandas as pd"
   ]
  },
  {
   "cell_type": "code",
   "execution_count": 9,
   "metadata": {},
   "outputs": [],
   "source": [
    "# Load from my JSON\n",
    "df = pd.read_json('../data/songs.json')\n",
    "df.set_index('title', inplace=True)"
   ]
  },
  {
   "cell_type": "code",
   "execution_count": 10,
   "metadata": {},
   "outputs": [
    {
     "data": {
      "text/html": [
       "<div>\n",
       "<style scoped>\n",
       "    .dataframe tbody tr th:only-of-type {\n",
       "        vertical-align: middle;\n",
       "    }\n",
       "\n",
       "    .dataframe tbody tr th {\n",
       "        vertical-align: top;\n",
       "    }\n",
       "\n",
       "    .dataframe thead th {\n",
       "        text-align: right;\n",
       "    }\n",
       "</style>\n",
       "<table border=\"1\" class=\"dataframe\">\n",
       "  <thead>\n",
       "    <tr style=\"text-align: right;\">\n",
       "      <th></th>\n",
       "      <th>albums</th>\n",
       "      <th>author</th>\n",
       "      <th>lyrics</th>\n",
       "      <th>url</th>\n",
       "    </tr>\n",
       "    <tr>\n",
       "      <th>title</th>\n",
       "      <th></th>\n",
       "      <th></th>\n",
       "      <th></th>\n",
       "      <th></th>\n",
       "    </tr>\n",
       "  </thead>\n",
       "  <tbody>\n",
       "    <tr>\n",
       "      <th>‘Cross The Green Mountain</th>\n",
       "      <td>[The Bootleg Series, Vol 8: Tell Tale Signs]</td>\n",
       "      <td></td>\n",
       "      <td></td>\n",
       "      <td>https://bobdylan.com/songs/cross-green-mountain/</td>\n",
       "    </tr>\n",
       "    <tr>\n",
       "      <th>‘Til I Fell In Love With You</th>\n",
       "      <td>[Time Out Of Mind]</td>\n",
       "      <td>Bob Dylan</td>\n",
       "      <td>Well, my nerves are exploding and my body’s te...</td>\n",
       "      <td>https://bobdylan.com/songs/til-i-fell-love-you/</td>\n",
       "    </tr>\n",
       "    <tr>\n",
       "      <th>10,000 Men</th>\n",
       "      <td>[Under The Red Sky]</td>\n",
       "      <td>Bob Dylan</td>\n",
       "      <td>Ten thousand men on a hill\\r\\nTen thousand men...</td>\n",
       "      <td>https://bobdylan.com/songs/10000-men/</td>\n",
       "    </tr>\n",
       "    <tr>\n",
       "      <th>2 Dollars and 99 Cents</th>\n",
       "      <td>[The Bootleg Series, Vol. 11: The Basement Tap...</td>\n",
       "      <td>Bob Dylan</td>\n",
       "      <td></td>\n",
       "      <td>https://bobdylan.com/songs/2-dollars-and-99-ce...</td>\n",
       "    </tr>\n",
       "    <tr>\n",
       "      <th>2 X 2</th>\n",
       "      <td>[Under The Red Sky]</td>\n",
       "      <td>Bob Dylan</td>\n",
       "      <td>One by one, they followed the sun\\r\\nOne by on...</td>\n",
       "      <td>https://bobdylan.com/songs/2-x-2/</td>\n",
       "    </tr>\n",
       "    <tr>\n",
       "      <th>32-20 Blues</th>\n",
       "      <td>[The Bootleg Series, Vol 8: Tell Tale Signs]</td>\n",
       "      <td>Robert Johnson</td>\n",
       "      <td></td>\n",
       "      <td>https://bobdylan.com/songs/32-20-blues/</td>\n",
       "    </tr>\n",
       "    <tr>\n",
       "      <th>900 Miles from My Home</th>\n",
       "      <td>[The Bootleg Series, Vol. 11: The Basement Tap...</td>\n",
       "      <td>Traditional, arranged by Bob Dylan</td>\n",
       "      <td></td>\n",
       "      <td>https://bobdylan.com/songs/900-miles-my-home/</td>\n",
       "    </tr>\n",
       "    <tr>\n",
       "      <th>A Fool Such As I</th>\n",
       "      <td>[The Bootleg Series, Vol. 11: The Basement Tap...</td>\n",
       "      <td>B. Abner</td>\n",
       "      <td></td>\n",
       "      <td>https://bobdylan.com/songs/fool-such-i/</td>\n",
       "    </tr>\n",
       "  </tbody>\n",
       "</table>\n",
       "</div>"
      ],
      "text/plain": [
       "                                                                         albums  \\\n",
       "title                                                                             \n",
       "‘Cross The Green Mountain          [The Bootleg Series, Vol 8: Tell Tale Signs]   \n",
       "‘Til I Fell In Love With You                                 [Time Out Of Mind]   \n",
       "10,000 Men                                                  [Under The Red Sky]   \n",
       "2 Dollars and 99 Cents        [The Bootleg Series, Vol. 11: The Basement Tap...   \n",
       "2 X 2                                                       [Under The Red Sky]   \n",
       "32-20 Blues                        [The Bootleg Series, Vol 8: Tell Tale Signs]   \n",
       "900 Miles from My Home        [The Bootleg Series, Vol. 11: The Basement Tap...   \n",
       "A Fool Such As I              [The Bootleg Series, Vol. 11: The Basement Tap...   \n",
       "\n",
       "                                                          author  \\\n",
       "title                                                              \n",
       "‘Cross The Green Mountain                                          \n",
       "‘Til I Fell In Love With You                           Bob Dylan   \n",
       "10,000 Men                                             Bob Dylan   \n",
       "2 Dollars and 99 Cents                                 Bob Dylan   \n",
       "2 X 2                                                  Bob Dylan   \n",
       "32-20 Blues                                       Robert Johnson   \n",
       "900 Miles from My Home        Traditional, arranged by Bob Dylan   \n",
       "A Fool Such As I                                        B. Abner   \n",
       "\n",
       "                                                                         lyrics  \\\n",
       "title                                                                             \n",
       "‘Cross The Green Mountain                                                         \n",
       "‘Til I Fell In Love With You  Well, my nerves are exploding and my body’s te...   \n",
       "10,000 Men                    Ten thousand men on a hill\\r\\nTen thousand men...   \n",
       "2 Dollars and 99 Cents                                                            \n",
       "2 X 2                         One by one, they followed the sun\\r\\nOne by on...   \n",
       "32-20 Blues                                                                       \n",
       "900 Miles from My Home                                                            \n",
       "A Fool Such As I                                                                  \n",
       "\n",
       "                                                                            url  \n",
       "title                                                                            \n",
       "‘Cross The Green Mountain      https://bobdylan.com/songs/cross-green-mountain/  \n",
       "‘Til I Fell In Love With You    https://bobdylan.com/songs/til-i-fell-love-you/  \n",
       "10,000 Men                                https://bobdylan.com/songs/10000-men/  \n",
       "2 Dollars and 99 Cents        https://bobdylan.com/songs/2-dollars-and-99-ce...  \n",
       "2 X 2                                         https://bobdylan.com/songs/2-x-2/  \n",
       "32-20 Blues                             https://bobdylan.com/songs/32-20-blues/  \n",
       "900 Miles from My Home            https://bobdylan.com/songs/900-miles-my-home/  \n",
       "A Fool Such As I                        https://bobdylan.com/songs/fool-such-i/  "
      ]
     },
     "execution_count": 10,
     "metadata": {},
     "output_type": "execute_result"
    }
   ],
   "source": [
    "# Peak at first 8 entries\n",
    "df.head(n=8)"
   ]
  },
  {
   "cell_type": "markdown",
   "metadata": {},
   "source": [
    "## Identify Places in Lyrics"
   ]
  },
  {
   "cell_type": "code",
   "execution_count": 11,
   "metadata": {},
   "outputs": [],
   "source": [
    "import re\n",
    "import itertools"
   ]
  },
  {
   "cell_type": "code",
   "execution_count": 12,
   "metadata": {},
   "outputs": [],
   "source": [
    "city_meta_df = pd.read_csv(\n",
    "    '../data/simplemaps-worldcities-basic.csv')"
   ]
  },
  {
   "cell_type": "code",
   "execution_count": 13,
   "metadata": {},
   "outputs": [],
   "source": [
    "drop_cities = [\n",
    "    'Man', 'San', 'Orleans', 'Mary', 'York', 'Young', 'Same',\n",
    "    'Ye', 'Darwin', 'Orange', 'George', 'Bo', 'Leo', 'Gay',\n",
    "    'Buy', 'Split', 'Nice', 'Nancy', 'Montana', 'Florida']\n",
    "\n",
    "city_meta_df = city_meta_df[~city_meta_df['city'].isin(drop_cities)]"
   ]
  },
  {
   "cell_type": "code",
   "execution_count": 14,
   "metadata": {},
   "outputs": [],
   "source": [
    "city_list = city_meta_df.set_index('city').index\n",
    "\n",
    "def get_cities(word_list):\n",
    "    cities = [w for w in word_list if w in city_list]\n",
    "    return list(set(cities))\n",
    "\n",
    "def n_grams(word_list, n=2):\n",
    "    grams = []\n",
    "    for i in range(0, len(word_list) - n):\n",
    "        gram = ' '.join(word_list[i:i+n])\n",
    "        grams.append(gram)\n",
    "    return grams\n",
    "\n",
    "def extract_cities(text):\n",
    "    cap_words = re.findall('([A-Z][a-z]+)', text)\n",
    "    two_grams = n_grams(cap_words, n=2)\n",
    "    return get_cities(cap_words) + get_cities(two_grams)"
   ]
  },
  {
   "cell_type": "code",
   "execution_count": 15,
   "metadata": {},
   "outputs": [],
   "source": [
    "df['places'] = df.lyrics.apply(extract_cities)"
   ]
  },
  {
   "cell_type": "markdown",
   "metadata": {},
   "source": [
    "## Count place references"
   ]
  },
  {
   "cell_type": "code",
   "execution_count": 16,
   "metadata": {},
   "outputs": [],
   "source": [
    "from collections import Counter, defaultdict\n",
    "\n",
    "c = Counter()          # count appearances of each place\n",
    "p = defaultdict(list)  # map places to songs\n",
    "l = defaultdict(list)  # map places to songs\n",
    "\n",
    "for title, row in df.iterrows():\n",
    "    c.update(row.places)\n",
    "    for place in row.places:\n",
    "        p[place].append(title)\n",
    "        l[place].append(row.lyrics)"
   ]
  },
  {
   "cell_type": "markdown",
   "metadata": {},
   "source": [
    "### Merge place count data with city/cooridinates data"
   ]
  },
  {
   "cell_type": "code",
   "execution_count": 17,
   "metadata": {},
   "outputs": [],
   "source": [
    "# Make place counts into df\n",
    "places_df = pd.DataFrame(c.most_common(), columns=['city','cnt'])\n",
    "\n",
    "# Make mapping of places to songs into df\n",
    "song_map = pd.DataFrame(list(p.items()), columns=['city','songs'])\n",
    "\n",
    "# Make mapping of places to lyrics\n",
    "lyrics_map = pd.DataFrame(list(l.items()), columns=['city','lyrics'])\n",
    "\n",
    "# Merge all dataframes together\n",
    "city_df = pd.merge(places_df, song_map, on='city')\n",
    "city_df = pd.merge(city_df, lyrics_map, on='city')\n",
    "city_df = pd.merge(city_df, city_meta_df, on='city')"
   ]
  },
  {
   "cell_type": "code",
   "execution_count": 18,
   "metadata": {},
   "outputs": [],
   "source": [
    "# For duplicate cities, drop the less populated one\n",
    "city_df = (city_df\n",
    "           .sort_values(by=['city','pop'])\n",
    "           .drop_duplicates(subset='city', keep='last'))\n",
    "\n",
    "# drop some columns\n",
    "city_df = city_df.drop(labels=['city_ascii','pop','iso2','iso3'], axis=1)"
   ]
  },
  {
   "cell_type": "code",
   "execution_count": 19,
   "metadata": {},
   "outputs": [
    {
     "data": {
      "text/html": [
       "<div>\n",
       "<style scoped>\n",
       "    .dataframe tbody tr th:only-of-type {\n",
       "        vertical-align: middle;\n",
       "    }\n",
       "\n",
       "    .dataframe tbody tr th {\n",
       "        vertical-align: top;\n",
       "    }\n",
       "\n",
       "    .dataframe thead th {\n",
       "        text-align: right;\n",
       "    }\n",
       "</style>\n",
       "<table border=\"1\" class=\"dataframe\">\n",
       "  <thead>\n",
       "    <tr style=\"text-align: right;\">\n",
       "      <th></th>\n",
       "      <th>city</th>\n",
       "      <th>cnt</th>\n",
       "      <th>songs</th>\n",
       "      <th>lyrics</th>\n",
       "      <th>lat</th>\n",
       "      <th>lng</th>\n",
       "      <th>country</th>\n",
       "      <th>province</th>\n",
       "    </tr>\n",
       "  </thead>\n",
       "  <tbody>\n",
       "    <tr>\n",
       "      <th>1</th>\n",
       "      <td>New York</td>\n",
       "      <td>6</td>\n",
       "      <td>[Hard Times In New York Town, I Shall Be Free ...</td>\n",
       "      <td>[Come you ladies and you gentlemen, a-listen t...</td>\n",
       "      <td>40.749979</td>\n",
       "      <td>-73.980017</td>\n",
       "      <td>United States of America</td>\n",
       "      <td>New York</td>\n",
       "    </tr>\n",
       "    <tr>\n",
       "      <th>0</th>\n",
       "      <td>New Orleans</td>\n",
       "      <td>6</td>\n",
       "      <td>[Blind Willie McTell, Bob Dylan’s New Orleans ...</td>\n",
       "      <td>[Seen the arrow on the doorpost\\r\\nSaying, “Th...</td>\n",
       "      <td>29.995002</td>\n",
       "      <td>-90.039967</td>\n",
       "      <td>United States of America</td>\n",
       "      <td>Louisiana</td>\n",
       "    </tr>\n",
       "    <tr>\n",
       "      <th>2</th>\n",
       "      <td>Memphis</td>\n",
       "      <td>5</td>\n",
       "      <td>[Gypsy Lou, Kingsport Town, Someone’s Got A Ho...</td>\n",
       "      <td>[If you getcha one girl, better get two\\r\\nCas...</td>\n",
       "      <td>35.119987</td>\n",
       "      <td>-89.999995</td>\n",
       "      <td>United States of America</td>\n",
       "      <td>Tennessee</td>\n",
       "    </tr>\n",
       "    <tr>\n",
       "      <th>9</th>\n",
       "      <td>London</td>\n",
       "      <td>4</td>\n",
       "      <td>[Jack-A-Roe, Not Dark Yet, Something’s Burning...</td>\n",
       "      <td>[Oh, there was a wealthy merchant, in London h...</td>\n",
       "      <td>51.499995</td>\n",
       "      <td>-0.116722</td>\n",
       "      <td>United Kingdom</td>\n",
       "      <td>Westminster</td>\n",
       "    </tr>\n",
       "    <tr>\n",
       "      <th>3</th>\n",
       "      <td>El Paso</td>\n",
       "      <td>4</td>\n",
       "      <td>[Billy 1, Billy 4, She’s Your Lover Now, Wante...</td>\n",
       "      <td>[There’s guns across the river aimin’ at ya\\r\\...</td>\n",
       "      <td>31.779984</td>\n",
       "      <td>-106.509995</td>\n",
       "      <td>United States of America</td>\n",
       "      <td>Texas</td>\n",
       "    </tr>\n",
       "    <tr>\n",
       "      <th>5</th>\n",
       "      <td>San Francisco</td>\n",
       "      <td>4</td>\n",
       "      <td>[California, Maybe Someday, She’s Your Lover N...</td>\n",
       "      <td>[I’m goin’ down south\\r\\n’Neath the borderline...</td>\n",
       "      <td>37.740008</td>\n",
       "      <td>-122.459978</td>\n",
       "      <td>United States of America</td>\n",
       "      <td>California</td>\n",
       "    </tr>\n",
       "    <tr>\n",
       "      <th>7</th>\n",
       "      <td>Jackson</td>\n",
       "      <td>4</td>\n",
       "      <td>[Catfish, George Jackson, Outlaw Blues, Rambli...</td>\n",
       "      <td>[Lazy stadium night\\r\\nCatfish on the mound\\r\\...</td>\n",
       "      <td>32.298815</td>\n",
       "      <td>-90.184997</td>\n",
       "      <td>United States of America</td>\n",
       "      <td>Mississippi</td>\n",
       "    </tr>\n",
       "    <tr>\n",
       "      <th>12</th>\n",
       "      <td>Lincoln</td>\n",
       "      <td>4</td>\n",
       "      <td>[Long Ago, Far Away, Senor (Tales Of Yankee Po...</td>\n",
       "      <td>[To preach of peace and brotherhood\\r\\nOh, wha...</td>\n",
       "      <td>40.819975</td>\n",
       "      <td>-96.680001</td>\n",
       "      <td>United States of America</td>\n",
       "      <td>Nebraska</td>\n",
       "    </tr>\n",
       "    <tr>\n",
       "      <th>30</th>\n",
       "      <td>Juarez</td>\n",
       "      <td>2</td>\n",
       "      <td>[Just Like Tom Thumb’s Blues, Wanted Man]</td>\n",
       "      <td>[When you’re lost in the rain in Juarez\\r\\nAnd...</td>\n",
       "      <td>-37.665519</td>\n",
       "      <td>-59.800030</td>\n",
       "      <td>Argentina</td>\n",
       "      <td>Ciudad de Buenos Aires</td>\n",
       "    </tr>\n",
       "    <tr>\n",
       "      <th>18</th>\n",
       "      <td>Chicago</td>\n",
       "      <td>2</td>\n",
       "      <td>[Cold Irons Bound, The Death Of Emmett Till]</td>\n",
       "      <td>[I’m beginning to hear voices and there’s no o...</td>\n",
       "      <td>41.829991</td>\n",
       "      <td>-87.750055</td>\n",
       "      <td>United States of America</td>\n",
       "      <td>Illinois</td>\n",
       "    </tr>\n",
       "  </tbody>\n",
       "</table>\n",
       "</div>"
      ],
      "text/plain": [
       "             city  cnt                                              songs  \\\n",
       "1        New York    6  [Hard Times In New York Town, I Shall Be Free ...   \n",
       "0     New Orleans    6  [Blind Willie McTell, Bob Dylan’s New Orleans ...   \n",
       "2         Memphis    5  [Gypsy Lou, Kingsport Town, Someone’s Got A Ho...   \n",
       "9          London    4  [Jack-A-Roe, Not Dark Yet, Something’s Burning...   \n",
       "3         El Paso    4  [Billy 1, Billy 4, She’s Your Lover Now, Wante...   \n",
       "5   San Francisco    4  [California, Maybe Someday, She’s Your Lover N...   \n",
       "7         Jackson    4  [Catfish, George Jackson, Outlaw Blues, Rambli...   \n",
       "12        Lincoln    4  [Long Ago, Far Away, Senor (Tales Of Yankee Po...   \n",
       "30         Juarez    2          [Just Like Tom Thumb’s Blues, Wanted Man]   \n",
       "18        Chicago    2       [Cold Irons Bound, The Death Of Emmett Till]   \n",
       "\n",
       "                                               lyrics        lat         lng  \\\n",
       "1   [Come you ladies and you gentlemen, a-listen t...  40.749979  -73.980017   \n",
       "0   [Seen the arrow on the doorpost\\r\\nSaying, “Th...  29.995002  -90.039967   \n",
       "2   [If you getcha one girl, better get two\\r\\nCas...  35.119987  -89.999995   \n",
       "9   [Oh, there was a wealthy merchant, in London h...  51.499995   -0.116722   \n",
       "3   [There’s guns across the river aimin’ at ya\\r\\...  31.779984 -106.509995   \n",
       "5   [I’m goin’ down south\\r\\n’Neath the borderline...  37.740008 -122.459978   \n",
       "7   [Lazy stadium night\\r\\nCatfish on the mound\\r\\...  32.298815  -90.184997   \n",
       "12  [To preach of peace and brotherhood\\r\\nOh, wha...  40.819975  -96.680001   \n",
       "30  [When you’re lost in the rain in Juarez\\r\\nAnd... -37.665519  -59.800030   \n",
       "18  [I’m beginning to hear voices and there’s no o...  41.829991  -87.750055   \n",
       "\n",
       "                     country                province  \n",
       "1   United States of America                New York  \n",
       "0   United States of America               Louisiana  \n",
       "2   United States of America               Tennessee  \n",
       "9             United Kingdom             Westminster  \n",
       "3   United States of America                   Texas  \n",
       "5   United States of America              California  \n",
       "7   United States of America             Mississippi  \n",
       "12  United States of America                Nebraska  \n",
       "30                 Argentina  Ciudad de Buenos Aires  \n",
       "18  United States of America                Illinois  "
      ]
     },
     "execution_count": 19,
     "metadata": {},
     "output_type": "execute_result"
    }
   ],
   "source": [
    "city_df = city_df.sort_values('cnt', ascending=False)\n",
    "city_df.head(n=10)"
   ]
  },
  {
   "cell_type": "code",
   "execution_count": 20,
   "metadata": {},
   "outputs": [],
   "source": [
    "# Save to csv\n",
    "city_df.to_csv('../data/city_counts.csv', index=False)\n",
    "\n",
    "# Save to Json\n",
    "city_df.to_json('../data/city_counts.json')"
   ]
  },
  {
   "cell_type": "code",
   "execution_count": 21,
   "metadata": {},
   "outputs": [],
   "source": [
    "c = city_meta_df.set_index('city')"
   ]
  },
  {
   "cell_type": "code",
   "execution_count": 34,
   "metadata": {},
   "outputs": [],
   "source": [
    "def geojsonify_row(idx, row):\n",
    "    return {\n",
    "        \"type\": 'Feature',\n",
    "        'geometry': {\n",
    "            \"type\": \"Point\",\n",
    "            \"coordinates\": [row.lng, row.lat]\n",
    "        },\n",
    "        \"properties\": {\n",
    "            \"id\": idx,\n",
    "            \"name\": row.city,\n",
    "            \"cnt\" : row.cnt,\n",
    "            \"songs\": row.songs,\n",
    "            \"lyrics\": row.lyrics,\n",
    "        }\n",
    "    }"
   ]
  },
  {
   "cell_type": "code",
   "execution_count": 35,
   "metadata": {},
   "outputs": [],
   "source": [
    "def geojsonify(df):\n",
    "    return [geojsonify_row(idx, row) for idx, row in df.iterrows()]"
   ]
  },
  {
   "cell_type": "code",
   "execution_count": 36,
   "metadata": {},
   "outputs": [],
   "source": [
    "import json\n",
    "\n",
    "j = geojsonify(city_df)\n",
    "with open('../data/places.geojson', 'w') as fp:\n",
    "    json.dump(j, fp)"
   ]
  },
  {
   "cell_type": "code",
   "execution_count": null,
   "metadata": {},
   "outputs": [],
   "source": []
  },
  {
   "cell_type": "code",
   "execution_count": null,
   "metadata": {},
   "outputs": [],
   "source": []
  },
  {
   "cell_type": "code",
   "execution_count": null,
   "metadata": {},
   "outputs": [],
   "source": []
  },
  {
   "cell_type": "markdown",
   "metadata": {},
   "source": [
    "## Mapping"
   ]
  },
  {
   "cell_type": "code",
   "execution_count": 38,
   "metadata": {},
   "outputs": [],
   "source": [
    "from ipyleaflet import Map, GeoJSON"
   ]
  },
  {
   "cell_type": "code",
   "execution_count": 39,
   "metadata": {},
   "outputs": [],
   "source": [
    "with open('info.geojson') as f:\n",
    "    data = json.load(f)"
   ]
  },
  {
   "cell_type": "code",
   "execution_count": 41,
   "metadata": {},
   "outputs": [
    {
     "data": {
      "text/html": [
       "\n",
       "    <div class=\"bk-root\">\n",
       "        <a href=\"https://bokeh.pydata.org\" target=\"_blank\" class=\"bk-logo bk-logo-small bk-logo-notebook\"></a>\n",
       "        <span id=\"978fa7c6-7df2-4ebc-ba81-34a1a2e9d265\">Loading BokehJS ...</span>\n",
       "    </div>"
      ]
     },
     "metadata": {},
     "output_type": "display_data"
    },
    {
     "data": {
      "application/javascript": [
       "\n",
       "(function(root) {\n",
       "  function now() {\n",
       "    return new Date();\n",
       "  }\n",
       "\n",
       "  var force = true;\n",
       "\n",
       "  if (typeof (root._bokeh_onload_callbacks) === \"undefined\" || force === true) {\n",
       "    root._bokeh_onload_callbacks = [];\n",
       "    root._bokeh_is_loading = undefined;\n",
       "  }\n",
       "\n",
       "  var JS_MIME_TYPE = 'application/javascript';\n",
       "  var HTML_MIME_TYPE = 'text/html';\n",
       "  var EXEC_MIME_TYPE = 'application/vnd.bokehjs_exec.v0+json';\n",
       "  var CLASS_NAME = 'output_bokeh rendered_html';\n",
       "\n",
       "  /**\n",
       "   * Render data to the DOM node\n",
       "   */\n",
       "  function render(props, node) {\n",
       "    var script = document.createElement(\"script\");\n",
       "    node.appendChild(script);\n",
       "  }\n",
       "\n",
       "  /**\n",
       "   * Handle when an output is cleared or removed\n",
       "   */\n",
       "  function handleClearOutput(event, handle) {\n",
       "    var cell = handle.cell;\n",
       "\n",
       "    var id = cell.output_area._bokeh_element_id;\n",
       "    var server_id = cell.output_area._bokeh_server_id;\n",
       "    // Clean up Bokeh references\n",
       "    if (id !== undefined) {\n",
       "      Bokeh.index[id].model.document.clear();\n",
       "      delete Bokeh.index[id];\n",
       "    }\n",
       "\n",
       "    if (server_id !== undefined) {\n",
       "      // Clean up Bokeh references\n",
       "      var cmd = \"from bokeh.io.state import curstate; print(curstate().uuid_to_server['\" + server_id + \"'].get_sessions()[0].document.roots[0]._id)\";\n",
       "      cell.notebook.kernel.execute(cmd, {\n",
       "        iopub: {\n",
       "          output: function(msg) {\n",
       "            var element_id = msg.content.text.trim();\n",
       "            Bokeh.index[element_id].model.document.clear();\n",
       "            delete Bokeh.index[element_id];\n",
       "          }\n",
       "        }\n",
       "      });\n",
       "      // Destroy server and session\n",
       "      var cmd = \"import bokeh.io.notebook as ion; ion.destroy_server('\" + server_id + \"')\";\n",
       "      cell.notebook.kernel.execute(cmd);\n",
       "    }\n",
       "  }\n",
       "\n",
       "  /**\n",
       "   * Handle when a new output is added\n",
       "   */\n",
       "  function handleAddOutput(event, handle) {\n",
       "    var output_area = handle.output_area;\n",
       "    var output = handle.output;\n",
       "\n",
       "    // limit handleAddOutput to display_data with EXEC_MIME_TYPE content only\n",
       "    if ((output.output_type != \"display_data\") || (!output.data.hasOwnProperty(EXEC_MIME_TYPE))) {\n",
       "      return\n",
       "    }\n",
       "\n",
       "    var toinsert = output_area.element.find(\".\" + CLASS_NAME.split(' ')[0]);\n",
       "\n",
       "    if (output.metadata[EXEC_MIME_TYPE][\"id\"] !== undefined) {\n",
       "      toinsert[toinsert.length - 1].firstChild.textContent = output.data[JS_MIME_TYPE];\n",
       "      // store reference to embed id on output_area\n",
       "      output_area._bokeh_element_id = output.metadata[EXEC_MIME_TYPE][\"id\"];\n",
       "    }\n",
       "    if (output.metadata[EXEC_MIME_TYPE][\"server_id\"] !== undefined) {\n",
       "      var bk_div = document.createElement(\"div\");\n",
       "      bk_div.innerHTML = output.data[HTML_MIME_TYPE];\n",
       "      var script_attrs = bk_div.children[0].attributes;\n",
       "      for (var i = 0; i < script_attrs.length; i++) {\n",
       "        toinsert[toinsert.length - 1].firstChild.setAttribute(script_attrs[i].name, script_attrs[i].value);\n",
       "      }\n",
       "      // store reference to server id on output_area\n",
       "      output_area._bokeh_server_id = output.metadata[EXEC_MIME_TYPE][\"server_id\"];\n",
       "    }\n",
       "  }\n",
       "\n",
       "  function register_renderer(events, OutputArea) {\n",
       "\n",
       "    function append_mime(data, metadata, element) {\n",
       "      // create a DOM node to render to\n",
       "      var toinsert = this.create_output_subarea(\n",
       "        metadata,\n",
       "        CLASS_NAME,\n",
       "        EXEC_MIME_TYPE\n",
       "      );\n",
       "      this.keyboard_manager.register_events(toinsert);\n",
       "      // Render to node\n",
       "      var props = {data: data, metadata: metadata[EXEC_MIME_TYPE]};\n",
       "      render(props, toinsert[toinsert.length - 1]);\n",
       "      element.append(toinsert);\n",
       "      return toinsert\n",
       "    }\n",
       "\n",
       "    /* Handle when an output is cleared or removed */\n",
       "    events.on('clear_output.CodeCell', handleClearOutput);\n",
       "    events.on('delete.Cell', handleClearOutput);\n",
       "\n",
       "    /* Handle when a new output is added */\n",
       "    events.on('output_added.OutputArea', handleAddOutput);\n",
       "\n",
       "    /**\n",
       "     * Register the mime type and append_mime function with output_area\n",
       "     */\n",
       "    OutputArea.prototype.register_mime_type(EXEC_MIME_TYPE, append_mime, {\n",
       "      /* Is output safe? */\n",
       "      safe: true,\n",
       "      /* Index of renderer in `output_area.display_order` */\n",
       "      index: 0\n",
       "    });\n",
       "  }\n",
       "\n",
       "  // register the mime type if in Jupyter Notebook environment and previously unregistered\n",
       "  if (root.Jupyter !== undefined) {\n",
       "    var events = require('base/js/events');\n",
       "    var OutputArea = require('notebook/js/outputarea').OutputArea;\n",
       "\n",
       "    if (OutputArea.prototype.mime_types().indexOf(EXEC_MIME_TYPE) == -1) {\n",
       "      register_renderer(events, OutputArea);\n",
       "    }\n",
       "  }\n",
       "\n",
       "  \n",
       "  if (typeof (root._bokeh_timeout) === \"undefined\" || force === true) {\n",
       "    root._bokeh_timeout = Date.now() + 5000;\n",
       "    root._bokeh_failed_load = false;\n",
       "  }\n",
       "\n",
       "  var NB_LOAD_WARNING = {'data': {'text/html':\n",
       "     \"<div style='background-color: #fdd'>\\n\"+\n",
       "     \"<p>\\n\"+\n",
       "     \"BokehJS does not appear to have successfully loaded. If loading BokehJS from CDN, this \\n\"+\n",
       "     \"may be due to a slow or bad network connection. Possible fixes:\\n\"+\n",
       "     \"</p>\\n\"+\n",
       "     \"<ul>\\n\"+\n",
       "     \"<li>re-rerun `output_notebook()` to attempt to load from CDN again, or</li>\\n\"+\n",
       "     \"<li>use INLINE resources instead, as so:</li>\\n\"+\n",
       "     \"</ul>\\n\"+\n",
       "     \"<code>\\n\"+\n",
       "     \"from bokeh.resources import INLINE\\n\"+\n",
       "     \"output_notebook(resources=INLINE)\\n\"+\n",
       "     \"</code>\\n\"+\n",
       "     \"</div>\"}};\n",
       "\n",
       "  function display_loaded() {\n",
       "    var el = document.getElementById(\"978fa7c6-7df2-4ebc-ba81-34a1a2e9d265\");\n",
       "    if (el != null) {\n",
       "      el.textContent = \"BokehJS is loading...\";\n",
       "    }\n",
       "    if (root.Bokeh !== undefined) {\n",
       "      if (el != null) {\n",
       "        el.textContent = \"BokehJS \" + root.Bokeh.version + \" successfully loaded.\";\n",
       "      }\n",
       "    } else if (Date.now() < root._bokeh_timeout) {\n",
       "      setTimeout(display_loaded, 100)\n",
       "    }\n",
       "  }\n",
       "\n",
       "\n",
       "  function run_callbacks() {\n",
       "    try {\n",
       "      root._bokeh_onload_callbacks.forEach(function(callback) { callback() });\n",
       "    }\n",
       "    finally {\n",
       "      delete root._bokeh_onload_callbacks\n",
       "    }\n",
       "    console.info(\"Bokeh: all callbacks have finished\");\n",
       "  }\n",
       "\n",
       "  function load_libs(js_urls, callback) {\n",
       "    root._bokeh_onload_callbacks.push(callback);\n",
       "    if (root._bokeh_is_loading > 0) {\n",
       "      console.log(\"Bokeh: BokehJS is being loaded, scheduling callback at\", now());\n",
       "      return null;\n",
       "    }\n",
       "    if (js_urls == null || js_urls.length === 0) {\n",
       "      run_callbacks();\n",
       "      return null;\n",
       "    }\n",
       "    console.log(\"Bokeh: BokehJS not loaded, scheduling load and callback at\", now());\n",
       "    root._bokeh_is_loading = js_urls.length;\n",
       "    for (var i = 0; i < js_urls.length; i++) {\n",
       "      var url = js_urls[i];\n",
       "      var s = document.createElement('script');\n",
       "      s.src = url;\n",
       "      s.async = false;\n",
       "      s.onreadystatechange = s.onload = function() {\n",
       "        root._bokeh_is_loading--;\n",
       "        if (root._bokeh_is_loading === 0) {\n",
       "          console.log(\"Bokeh: all BokehJS libraries loaded\");\n",
       "          run_callbacks()\n",
       "        }\n",
       "      };\n",
       "      s.onerror = function() {\n",
       "        console.warn(\"failed to load library \" + url);\n",
       "      };\n",
       "      console.log(\"Bokeh: injecting script tag for BokehJS library: \", url);\n",
       "      document.getElementsByTagName(\"head\")[0].appendChild(s);\n",
       "    }\n",
       "  };var element = document.getElementById(\"978fa7c6-7df2-4ebc-ba81-34a1a2e9d265\");\n",
       "  if (element == null) {\n",
       "    console.log(\"Bokeh: ERROR: autoload.js configured with elementid '978fa7c6-7df2-4ebc-ba81-34a1a2e9d265' but no matching script tag was found. \")\n",
       "    return false;\n",
       "  }\n",
       "\n",
       "  var js_urls = [\"https://cdn.pydata.org/bokeh/release/bokeh-0.12.15.min.js\", \"https://cdn.pydata.org/bokeh/release/bokeh-widgets-0.12.15.min.js\", \"https://cdn.pydata.org/bokeh/release/bokeh-tables-0.12.15.min.js\", \"https://cdn.pydata.org/bokeh/release/bokeh-gl-0.12.15.min.js\"];\n",
       "\n",
       "  var inline_js = [\n",
       "    function(Bokeh) {\n",
       "      Bokeh.set_log_level(\"info\");\n",
       "    },\n",
       "    \n",
       "    function(Bokeh) {\n",
       "      \n",
       "    },\n",
       "    function(Bokeh) {\n",
       "      console.log(\"Bokeh: injecting CSS: https://cdn.pydata.org/bokeh/release/bokeh-0.12.15.min.css\");\n",
       "      Bokeh.embed.inject_css(\"https://cdn.pydata.org/bokeh/release/bokeh-0.12.15.min.css\");\n",
       "      console.log(\"Bokeh: injecting CSS: https://cdn.pydata.org/bokeh/release/bokeh-widgets-0.12.15.min.css\");\n",
       "      Bokeh.embed.inject_css(\"https://cdn.pydata.org/bokeh/release/bokeh-widgets-0.12.15.min.css\");\n",
       "      console.log(\"Bokeh: injecting CSS: https://cdn.pydata.org/bokeh/release/bokeh-tables-0.12.15.min.css\");\n",
       "      Bokeh.embed.inject_css(\"https://cdn.pydata.org/bokeh/release/bokeh-tables-0.12.15.min.css\");\n",
       "    }\n",
       "  ];\n",
       "\n",
       "  function run_inline_js() {\n",
       "    \n",
       "    if ((root.Bokeh !== undefined) || (force === true)) {\n",
       "      for (var i = 0; i < inline_js.length; i++) {\n",
       "        inline_js[i].call(root, root.Bokeh);\n",
       "      }if (force === true) {\n",
       "        display_loaded();\n",
       "      }} else if (Date.now() < root._bokeh_timeout) {\n",
       "      setTimeout(run_inline_js, 100);\n",
       "    } else if (!root._bokeh_failed_load) {\n",
       "      console.log(\"Bokeh: BokehJS failed to load within specified timeout.\");\n",
       "      root._bokeh_failed_load = true;\n",
       "    } else if (force !== true) {\n",
       "      var cell = $(document.getElementById(\"978fa7c6-7df2-4ebc-ba81-34a1a2e9d265\")).parents('.cell').data().cell;\n",
       "      cell.output_area.append_execute_result(NB_LOAD_WARNING)\n",
       "    }\n",
       "\n",
       "  }\n",
       "\n",
       "  if (root._bokeh_is_loading === 0) {\n",
       "    console.log(\"Bokeh: BokehJS loaded, going straight to plotting\");\n",
       "    run_inline_js();\n",
       "  } else {\n",
       "    load_libs(js_urls, function() {\n",
       "      console.log(\"Bokeh: BokehJS plotting callback run at\", now());\n",
       "      run_inline_js();\n",
       "    });\n",
       "  }\n",
       "}(window));"
      ],
      "application/vnd.bokehjs_load.v0+json": "\n(function(root) {\n  function now() {\n    return new Date();\n  }\n\n  var force = true;\n\n  if (typeof (root._bokeh_onload_callbacks) === \"undefined\" || force === true) {\n    root._bokeh_onload_callbacks = [];\n    root._bokeh_is_loading = undefined;\n  }\n\n  \n\n  \n  if (typeof (root._bokeh_timeout) === \"undefined\" || force === true) {\n    root._bokeh_timeout = Date.now() + 5000;\n    root._bokeh_failed_load = false;\n  }\n\n  var NB_LOAD_WARNING = {'data': {'text/html':\n     \"<div style='background-color: #fdd'>\\n\"+\n     \"<p>\\n\"+\n     \"BokehJS does not appear to have successfully loaded. If loading BokehJS from CDN, this \\n\"+\n     \"may be due to a slow or bad network connection. Possible fixes:\\n\"+\n     \"</p>\\n\"+\n     \"<ul>\\n\"+\n     \"<li>re-rerun `output_notebook()` to attempt to load from CDN again, or</li>\\n\"+\n     \"<li>use INLINE resources instead, as so:</li>\\n\"+\n     \"</ul>\\n\"+\n     \"<code>\\n\"+\n     \"from bokeh.resources import INLINE\\n\"+\n     \"output_notebook(resources=INLINE)\\n\"+\n     \"</code>\\n\"+\n     \"</div>\"}};\n\n  function display_loaded() {\n    var el = document.getElementById(\"978fa7c6-7df2-4ebc-ba81-34a1a2e9d265\");\n    if (el != null) {\n      el.textContent = \"BokehJS is loading...\";\n    }\n    if (root.Bokeh !== undefined) {\n      if (el != null) {\n        el.textContent = \"BokehJS \" + root.Bokeh.version + \" successfully loaded.\";\n      }\n    } else if (Date.now() < root._bokeh_timeout) {\n      setTimeout(display_loaded, 100)\n    }\n  }\n\n\n  function run_callbacks() {\n    try {\n      root._bokeh_onload_callbacks.forEach(function(callback) { callback() });\n    }\n    finally {\n      delete root._bokeh_onload_callbacks\n    }\n    console.info(\"Bokeh: all callbacks have finished\");\n  }\n\n  function load_libs(js_urls, callback) {\n    root._bokeh_onload_callbacks.push(callback);\n    if (root._bokeh_is_loading > 0) {\n      console.log(\"Bokeh: BokehJS is being loaded, scheduling callback at\", now());\n      return null;\n    }\n    if (js_urls == null || js_urls.length === 0) {\n      run_callbacks();\n      return null;\n    }\n    console.log(\"Bokeh: BokehJS not loaded, scheduling load and callback at\", now());\n    root._bokeh_is_loading = js_urls.length;\n    for (var i = 0; i < js_urls.length; i++) {\n      var url = js_urls[i];\n      var s = document.createElement('script');\n      s.src = url;\n      s.async = false;\n      s.onreadystatechange = s.onload = function() {\n        root._bokeh_is_loading--;\n        if (root._bokeh_is_loading === 0) {\n          console.log(\"Bokeh: all BokehJS libraries loaded\");\n          run_callbacks()\n        }\n      };\n      s.onerror = function() {\n        console.warn(\"failed to load library \" + url);\n      };\n      console.log(\"Bokeh: injecting script tag for BokehJS library: \", url);\n      document.getElementsByTagName(\"head\")[0].appendChild(s);\n    }\n  };var element = document.getElementById(\"978fa7c6-7df2-4ebc-ba81-34a1a2e9d265\");\n  if (element == null) {\n    console.log(\"Bokeh: ERROR: autoload.js configured with elementid '978fa7c6-7df2-4ebc-ba81-34a1a2e9d265' but no matching script tag was found. \")\n    return false;\n  }\n\n  var js_urls = [\"https://cdn.pydata.org/bokeh/release/bokeh-0.12.15.min.js\", \"https://cdn.pydata.org/bokeh/release/bokeh-widgets-0.12.15.min.js\", \"https://cdn.pydata.org/bokeh/release/bokeh-tables-0.12.15.min.js\", \"https://cdn.pydata.org/bokeh/release/bokeh-gl-0.12.15.min.js\"];\n\n  var inline_js = [\n    function(Bokeh) {\n      Bokeh.set_log_level(\"info\");\n    },\n    \n    function(Bokeh) {\n      \n    },\n    function(Bokeh) {\n      console.log(\"Bokeh: injecting CSS: https://cdn.pydata.org/bokeh/release/bokeh-0.12.15.min.css\");\n      Bokeh.embed.inject_css(\"https://cdn.pydata.org/bokeh/release/bokeh-0.12.15.min.css\");\n      console.log(\"Bokeh: injecting CSS: https://cdn.pydata.org/bokeh/release/bokeh-widgets-0.12.15.min.css\");\n      Bokeh.embed.inject_css(\"https://cdn.pydata.org/bokeh/release/bokeh-widgets-0.12.15.min.css\");\n      console.log(\"Bokeh: injecting CSS: https://cdn.pydata.org/bokeh/release/bokeh-tables-0.12.15.min.css\");\n      Bokeh.embed.inject_css(\"https://cdn.pydata.org/bokeh/release/bokeh-tables-0.12.15.min.css\");\n    }\n  ];\n\n  function run_inline_js() {\n    \n    if ((root.Bokeh !== undefined) || (force === true)) {\n      for (var i = 0; i < inline_js.length; i++) {\n        inline_js[i].call(root, root.Bokeh);\n      }if (force === true) {\n        display_loaded();\n      }} else if (Date.now() < root._bokeh_timeout) {\n      setTimeout(run_inline_js, 100);\n    } else if (!root._bokeh_failed_load) {\n      console.log(\"Bokeh: BokehJS failed to load within specified timeout.\");\n      root._bokeh_failed_load = true;\n    } else if (force !== true) {\n      var cell = $(document.getElementById(\"978fa7c6-7df2-4ebc-ba81-34a1a2e9d265\")).parents('.cell').data().cell;\n      cell.output_area.append_execute_result(NB_LOAD_WARNING)\n    }\n\n  }\n\n  if (root._bokeh_is_loading === 0) {\n    console.log(\"Bokeh: BokehJS loaded, going straight to plotting\");\n    run_inline_js();\n  } else {\n    load_libs(js_urls, function() {\n      console.log(\"Bokeh: BokehJS plotting callback run at\", now());\n      run_inline_js();\n    });\n  }\n}(window));"
     },
     "metadata": {},
     "output_type": "display_data"
    }
   ],
   "source": [
    "from bokeh.plotting import figure, show\n",
    "from bokeh.io import output_notebook\n",
    "output_notebook()"
   ]
  },
  {
   "cell_type": "code",
   "execution_count": 42,
   "metadata": {},
   "outputs": [],
   "source": [
    "from bokeh.tile_providers import CARTODBPOSITRON"
   ]
  },
  {
   "cell_type": "code",
   "execution_count": 43,
   "metadata": {},
   "outputs": [],
   "source": [
    "from bokeh.models import GeoJSONDataSource"
   ]
  },
  {
   "cell_type": "code",
   "execution_count": 44,
   "metadata": {},
   "outputs": [],
   "source": [
    "from bokeh.sampledata.sample_geojson import geojson"
   ]
  },
  {
   "cell_type": "code",
   "execution_count": 45,
   "metadata": {},
   "outputs": [],
   "source": [
    "geo_source = GeoJSONDataSource(geojson=json.dumps(j))"
   ]
  },
  {
   "cell_type": "code",
   "execution_count": 46,
   "metadata": {},
   "outputs": [
    {
     "data": {
      "text/html": [
       "<div style=\"display: table;\"><div style=\"display: table-row;\"><div style=\"display: table-cell;\"><b title=\"bokeh.models.renderers.GlyphRenderer\">GlyphRenderer</b>(</div><div style=\"display: table-cell;\">id&nbsp;=&nbsp;'a8d0b4d3-441a-489c-89a8-c9a71f49a2d4', <span id=\"a3f4ba3e-e299-42b6-b05f-680a5e8da372\" style=\"cursor: pointer;\">&hellip;)</span></div></div><div class=\"7a3cfb47-8250-42a3-8003-ad43163228b1\" style=\"display: none;\"><div style=\"display: table-cell;\"></div><div style=\"display: table-cell;\">data_source&nbsp;=&nbsp;GeoJSONDataSource(id='e8ccab34-d3f0-46bb-ab87-0d0cf3b94947', ...),</div></div><div class=\"7a3cfb47-8250-42a3-8003-ad43163228b1\" style=\"display: none;\"><div style=\"display: table-cell;\"></div><div style=\"display: table-cell;\">glyph&nbsp;=&nbsp;Circle(id='e737e110-0932-4dc4-a34f-69ede6feee28', ...),</div></div><div class=\"7a3cfb47-8250-42a3-8003-ad43163228b1\" style=\"display: none;\"><div style=\"display: table-cell;\"></div><div style=\"display: table-cell;\">hover_glyph&nbsp;=&nbsp;None,</div></div><div class=\"7a3cfb47-8250-42a3-8003-ad43163228b1\" style=\"display: none;\"><div style=\"display: table-cell;\"></div><div style=\"display: table-cell;\">js_event_callbacks&nbsp;=&nbsp;{},</div></div><div class=\"7a3cfb47-8250-42a3-8003-ad43163228b1\" style=\"display: none;\"><div style=\"display: table-cell;\"></div><div style=\"display: table-cell;\">js_property_callbacks&nbsp;=&nbsp;{},</div></div><div class=\"7a3cfb47-8250-42a3-8003-ad43163228b1\" style=\"display: none;\"><div style=\"display: table-cell;\"></div><div style=\"display: table-cell;\">level&nbsp;=&nbsp;'glyph',</div></div><div class=\"7a3cfb47-8250-42a3-8003-ad43163228b1\" style=\"display: none;\"><div style=\"display: table-cell;\"></div><div style=\"display: table-cell;\">muted&nbsp;=&nbsp;False,</div></div><div class=\"7a3cfb47-8250-42a3-8003-ad43163228b1\" style=\"display: none;\"><div style=\"display: table-cell;\"></div><div style=\"display: table-cell;\">muted_glyph&nbsp;=&nbsp;None,</div></div><div class=\"7a3cfb47-8250-42a3-8003-ad43163228b1\" style=\"display: none;\"><div style=\"display: table-cell;\"></div><div style=\"display: table-cell;\">name&nbsp;=&nbsp;None,</div></div><div class=\"7a3cfb47-8250-42a3-8003-ad43163228b1\" style=\"display: none;\"><div style=\"display: table-cell;\"></div><div style=\"display: table-cell;\">nonselection_glyph&nbsp;=&nbsp;Circle(id='aff7bf6f-c703-42b5-bc99-e318a5f53fec', ...),</div></div><div class=\"7a3cfb47-8250-42a3-8003-ad43163228b1\" style=\"display: none;\"><div style=\"display: table-cell;\"></div><div style=\"display: table-cell;\">selection_glyph&nbsp;=&nbsp;None,</div></div><div class=\"7a3cfb47-8250-42a3-8003-ad43163228b1\" style=\"display: none;\"><div style=\"display: table-cell;\"></div><div style=\"display: table-cell;\">subscribed_events&nbsp;=&nbsp;[],</div></div><div class=\"7a3cfb47-8250-42a3-8003-ad43163228b1\" style=\"display: none;\"><div style=\"display: table-cell;\"></div><div style=\"display: table-cell;\">tags&nbsp;=&nbsp;[],</div></div><div class=\"7a3cfb47-8250-42a3-8003-ad43163228b1\" style=\"display: none;\"><div style=\"display: table-cell;\"></div><div style=\"display: table-cell;\">view&nbsp;=&nbsp;CDSView(id='584c2db8-7e6b-4456-8f2a-cb489674be9c', ...),</div></div><div class=\"7a3cfb47-8250-42a3-8003-ad43163228b1\" style=\"display: none;\"><div style=\"display: table-cell;\"></div><div style=\"display: table-cell;\">visible&nbsp;=&nbsp;True,</div></div><div class=\"7a3cfb47-8250-42a3-8003-ad43163228b1\" style=\"display: none;\"><div style=\"display: table-cell;\"></div><div style=\"display: table-cell;\">x_range_name&nbsp;=&nbsp;'default',</div></div><div class=\"7a3cfb47-8250-42a3-8003-ad43163228b1\" style=\"display: none;\"><div style=\"display: table-cell;\"></div><div style=\"display: table-cell;\">y_range_name&nbsp;=&nbsp;'default')</div></div></div>\n",
       "<script>\n",
       "(function() {\n",
       "  var expanded = false;\n",
       "  var ellipsis = document.getElementById(\"a3f4ba3e-e299-42b6-b05f-680a5e8da372\");\n",
       "  ellipsis.addEventListener(\"click\", function() {\n",
       "    var rows = document.getElementsByClassName(\"7a3cfb47-8250-42a3-8003-ad43163228b1\");\n",
       "    for (var i = 0; i < rows.length; i++) {\n",
       "      var el = rows[i];\n",
       "      el.style.display = expanded ? \"none\" : \"table-row\";\n",
       "    }\n",
       "    ellipsis.innerHTML = expanded ? \"&hellip;)\" : \"&lsaquo;&lsaquo;&lsaquo;\";\n",
       "    expanded = !expanded;\n",
       "  });\n",
       "})();\n",
       "</script>\n"
      ],
      "text/plain": [
       "GlyphRenderer(id='a8d0b4d3-441a-489c-89a8-c9a71f49a2d4', ...)"
      ]
     },
     "execution_count": 46,
     "metadata": {},
     "output_type": "execute_result"
    }
   ],
   "source": [
    "p = figure()\n",
    "p.circle(x='x', y='y', size=15, alpha=0.7, source=geo_source)"
   ]
  },
  {
   "cell_type": "code",
   "execution_count": 47,
   "metadata": {},
   "outputs": [],
   "source": [
    "# p.add_tile(CARTODBPOSITRON)"
   ]
  },
  {
   "cell_type": "code",
   "execution_count": 48,
   "metadata": {},
   "outputs": [
    {
     "data": {
      "text/html": [
       "\n",
       "<div class=\"bk-root\">\n",
       "    <div class=\"bk-plotdiv\" id=\"717447f3-7b18-4e18-9b06-bebf3b54decb\"></div>\n",
       "</div>"
      ]
     },
     "metadata": {},
     "output_type": "display_data"
    },
    {
     "data": {
      "application/javascript": [
       "(function(root) {\n",
       "  function embed_document(root) {\n",
       "    \n",
       "  var docs_json = {\"59ac3b71-ad4b-4431-bbc7-1265e22e39b6\":{\"roots\":{\"references\":[{\"attributes\":{\"callback\":null},\"id\":\"36320383-62c2-49d4-9a02-c6ff376f2c30\",\"type\":\"DataRange1d\"},{\"attributes\":{},\"id\":\"dba4654d-996e-4d14-8dd7-75136f876892\",\"type\":\"BasicTickFormatter\"},{\"attributes\":{\"data_source\":{\"id\":\"e8ccab34-d3f0-46bb-ab87-0d0cf3b94947\",\"type\":\"GeoJSONDataSource\"},\"glyph\":{\"id\":\"e737e110-0932-4dc4-a34f-69ede6feee28\",\"type\":\"Circle\"},\"hover_glyph\":null,\"muted_glyph\":null,\"nonselection_glyph\":{\"id\":\"aff7bf6f-c703-42b5-bc99-e318a5f53fec\",\"type\":\"Circle\"},\"selection_glyph\":null,\"view\":{\"id\":\"584c2db8-7e6b-4456-8f2a-cb489674be9c\",\"type\":\"CDSView\"}},\"id\":\"a8d0b4d3-441a-489c-89a8-c9a71f49a2d4\",\"type\":\"GlyphRenderer\"},{\"attributes\":{},\"id\":\"af65c048-fd59-46c5-9360-005fb747b332\",\"type\":\"WheelZoomTool\"},{\"attributes\":{\"formatter\":{\"id\":\"dba4654d-996e-4d14-8dd7-75136f876892\",\"type\":\"BasicTickFormatter\"},\"plot\":{\"id\":\"6235dd03-0c25-4270-9d48-48ff5de88c31\",\"subtype\":\"Figure\",\"type\":\"Plot\"},\"ticker\":{\"id\":\"6efeeded-405e-457e-822c-f5986581e179\",\"type\":\"BasicTicker\"}},\"id\":\"d8c4b183-1c75-4806-8336-66801e4bd537\",\"type\":\"LinearAxis\"},{\"attributes\":{\"below\":[{\"id\":\"68cc601a-b4ab-4190-a7dd-ad865b5fdee0\",\"type\":\"LinearAxis\"}],\"left\":[{\"id\":\"d8c4b183-1c75-4806-8336-66801e4bd537\",\"type\":\"LinearAxis\"}],\"renderers\":[{\"id\":\"68cc601a-b4ab-4190-a7dd-ad865b5fdee0\",\"type\":\"LinearAxis\"},{\"id\":\"c4ae0aae-2c25-4275-be9b-d16379b8450f\",\"type\":\"Grid\"},{\"id\":\"d8c4b183-1c75-4806-8336-66801e4bd537\",\"type\":\"LinearAxis\"},{\"id\":\"9a1954f4-0b8b-40b3-a373-76a08429b9ac\",\"type\":\"Grid\"},{\"id\":\"3ff4c4cd-2b47-42ae-8283-dc1c0aca7385\",\"type\":\"BoxAnnotation\"},{\"id\":\"a8d0b4d3-441a-489c-89a8-c9a71f49a2d4\",\"type\":\"GlyphRenderer\"}],\"title\":{\"id\":\"7ae37ecd-b8fd-4440-ad42-a9a891b202de\",\"type\":\"Title\"},\"toolbar\":{\"id\":\"bb267b7d-7033-417e-b2f7-747c49b0085f\",\"type\":\"Toolbar\"},\"x_range\":{\"id\":\"b436ddca-dd3d-4fb9-b889-b4aacf459e16\",\"type\":\"DataRange1d\"},\"x_scale\":{\"id\":\"2ee4fe98-3acd-411b-a437-705169118a20\",\"type\":\"LinearScale\"},\"y_range\":{\"id\":\"36320383-62c2-49d4-9a02-c6ff376f2c30\",\"type\":\"DataRange1d\"},\"y_scale\":{\"id\":\"ae775e5a-6439-425f-a5ec-95148144fddb\",\"type\":\"LinearScale\"}},\"id\":\"6235dd03-0c25-4270-9d48-48ff5de88c31\",\"subtype\":\"Figure\",\"type\":\"Plot\"},{\"attributes\":{\"dimension\":1,\"plot\":{\"id\":\"6235dd03-0c25-4270-9d48-48ff5de88c31\",\"subtype\":\"Figure\",\"type\":\"Plot\"},\"ticker\":{\"id\":\"6efeeded-405e-457e-822c-f5986581e179\",\"type\":\"BasicTicker\"}},\"id\":\"9a1954f4-0b8b-40b3-a373-76a08429b9ac\",\"type\":\"Grid\"},{\"attributes\":{\"plot\":null,\"text\":\"\"},\"id\":\"7ae37ecd-b8fd-4440-ad42-a9a891b202de\",\"type\":\"Title\"},{\"attributes\":{},\"id\":\"ae775e5a-6439-425f-a5ec-95148144fddb\",\"type\":\"LinearScale\"},{\"attributes\":{},\"id\":\"6efeeded-405e-457e-822c-f5986581e179\",\"type\":\"BasicTicker\"},{\"attributes\":{},\"id\":\"94d8e85a-8435-4d6d-aa9f-c802bee155d5\",\"type\":\"BasicTickFormatter\"},{\"attributes\":{\"bottom_units\":\"screen\",\"fill_alpha\":{\"value\":0.5},\"fill_color\":{\"value\":\"lightgrey\"},\"left_units\":\"screen\",\"level\":\"overlay\",\"line_alpha\":{\"value\":1.0},\"line_color\":{\"value\":\"black\"},\"line_dash\":[4,4],\"line_width\":{\"value\":2},\"plot\":null,\"render_mode\":\"css\",\"right_units\":\"screen\",\"top_units\":\"screen\"},\"id\":\"3ff4c4cd-2b47-42ae-8283-dc1c0aca7385\",\"type\":\"BoxAnnotation\"},{\"attributes\":{\"source\":{\"id\":\"e8ccab34-d3f0-46bb-ab87-0d0cf3b94947\",\"type\":\"GeoJSONDataSource\"}},\"id\":\"584c2db8-7e6b-4456-8f2a-cb489674be9c\",\"type\":\"CDSView\"},{\"attributes\":{\"formatter\":{\"id\":\"94d8e85a-8435-4d6d-aa9f-c802bee155d5\",\"type\":\"BasicTickFormatter\"},\"plot\":{\"id\":\"6235dd03-0c25-4270-9d48-48ff5de88c31\",\"subtype\":\"Figure\",\"type\":\"Plot\"},\"ticker\":{\"id\":\"994ffd41-d5ec-47f6-9102-90d49d631249\",\"type\":\"BasicTicker\"}},\"id\":\"68cc601a-b4ab-4190-a7dd-ad865b5fdee0\",\"type\":\"LinearAxis\"},{\"attributes\":{},\"id\":\"e426aee0-48f7-4f27-8acc-50b9aa3887b6\",\"type\":\"PanTool\"},{\"attributes\":{\"fill_alpha\":{\"value\":0.1},\"fill_color\":{\"value\":\"#1f77b4\"},\"line_alpha\":{\"value\":0.1},\"line_color\":{\"value\":\"#1f77b4\"},\"size\":{\"units\":\"screen\",\"value\":15},\"x\":{\"field\":\"x\"},\"y\":{\"field\":\"y\"}},\"id\":\"aff7bf6f-c703-42b5-bc99-e318a5f53fec\",\"type\":\"Circle\"},{\"attributes\":{\"active_drag\":\"auto\",\"active_inspect\":\"auto\",\"active_scroll\":\"auto\",\"active_tap\":\"auto\",\"tools\":[{\"id\":\"e426aee0-48f7-4f27-8acc-50b9aa3887b6\",\"type\":\"PanTool\"},{\"id\":\"af65c048-fd59-46c5-9360-005fb747b332\",\"type\":\"WheelZoomTool\"},{\"id\":\"8ecf2fc9-9c2e-4fbd-9cb7-7c6f1dc0a977\",\"type\":\"BoxZoomTool\"},{\"id\":\"8a81b7d7-aaad-466d-95f6-e1022faaabe2\",\"type\":\"SaveTool\"},{\"id\":\"dfc26bc1-da10-4666-9771-c52d27283a19\",\"type\":\"ResetTool\"},{\"id\":\"9a3757e4-2553-4692-8b8f-52a1b5b19187\",\"type\":\"HelpTool\"}]},\"id\":\"bb267b7d-7033-417e-b2f7-747c49b0085f\",\"type\":\"Toolbar\"},{\"attributes\":{\"fill_alpha\":{\"value\":0.7},\"fill_color\":{\"value\":\"#1f77b4\"},\"line_alpha\":{\"value\":0.7},\"line_color\":{\"value\":\"#1f77b4\"},\"size\":{\"units\":\"screen\",\"value\":15},\"x\":{\"field\":\"x\"},\"y\":{\"field\":\"y\"}},\"id\":\"e737e110-0932-4dc4-a34f-69ede6feee28\",\"type\":\"Circle\"},{\"attributes\":{},\"id\":\"dfc26bc1-da10-4666-9771-c52d27283a19\",\"type\":\"ResetTool\"},{\"attributes\":{},\"id\":\"8a81b7d7-aaad-466d-95f6-e1022faaabe2\",\"type\":\"SaveTool\"},{\"attributes\":{\"overlay\":{\"id\":\"3ff4c4cd-2b47-42ae-8283-dc1c0aca7385\",\"type\":\"BoxAnnotation\"}},\"id\":\"8ecf2fc9-9c2e-4fbd-9cb7-7c6f1dc0a977\",\"type\":\"BoxZoomTool\"},{\"attributes\":{\"callback\":null},\"id\":\"b436ddca-dd3d-4fb9-b889-b4aacf459e16\",\"type\":\"DataRange1d\"},{\"attributes\":{\"callback\":null,\"geojson\":\"{\\\"type\\\": \\\"FeatureCollection\\\", \\\"features\\\": [{\\\"type\\\": \\\"Feature\\\", \\\"geometry\\\": {\\\"type\\\": \\\"Point\\\", \\\"coordinates\\\": [-73.98001693, 40.74997906]}, \\\"properties\\\": {\\\"name\\\": \\\"New York\\\", \\\"songs\\\": [\\\"Hard Times In New York Town\\\", \\\"I Shall Be Free No. 10\\\", \\\"Joey\\\", \\\"Just Like Tom Thumb\\\\u2019s Blues\\\", \\\"Talkin\\\\u2019 New York\\\", \\\"This Land Is Your Land\\\"], \\\"cnt\\\": 6}}, {\\\"type\\\": \\\"Feature\\\", \\\"geometry\\\": {\\\"type\\\": \\\"Point\\\", \\\"coordinates\\\": [-90.03996688, 29.99500246]}, \\\"properties\\\": {\\\"name\\\": \\\"New Orleans\\\", \\\"songs\\\": [\\\"Blind Willie McTell\\\", \\\"Bob Dylan\\\\u2019s New Orleans Rag\\\", \\\"House Of the Risin\\\\u2019 Sun\\\", \\\"Rambling, Gambling Willie\\\", \\\"Tangled Up In Blue\\\", \\\"Tryin\\\\u2019 To Get To Heaven\\\"], \\\"cnt\\\": 6}}, {\\\"type\\\": \\\"Feature\\\", \\\"geometry\\\": {\\\"type\\\": \\\"Point\\\", \\\"coordinates\\\": [-89.99999516, 35.11998679999999]}, \\\"properties\\\": {\\\"name\\\": \\\"Memphis\\\", \\\"songs\\\": [\\\"Gypsy Lou\\\", \\\"Kingsport Town\\\", \\\"Someone\\\\u2019s Got A Hold Of My Heart\\\", \\\"Stuck Inside Of Mobile With The Memphis Blues Again\\\", \\\"Tight Connection To My Heart  (Has Anyone Seen My Love)\\\"], \\\"cnt\\\": 5}}, {\\\"type\\\": \\\"Feature\\\", \\\"geometry\\\": {\\\"type\\\": \\\"Point\\\", \\\"coordinates\\\": [-106.5099952, 31.77998395]}, \\\"properties\\\": {\\\"name\\\": \\\"El Paso\\\", \\\"songs\\\": [\\\"Billy 1\\\", \\\"Billy 4\\\", \\\"She\\\\u2019s Your Lover Now\\\", \\\"Wanted Man\\\"], \\\"cnt\\\": 4}}, {\\\"type\\\": \\\"Feature\\\", \\\"geometry\\\": {\\\"type\\\": \\\"Point\\\", \\\"coordinates\\\": [-96.68000086, 40.81997479]}, \\\"properties\\\": {\\\"name\\\": \\\"Lincoln\\\", \\\"songs\\\": [\\\"Long Ago, Far Away\\\", \\\"Senor (Tales Of Yankee Power)\\\", \\\"Talkin\\\\u2019 John Birch Paranoid Blues\\\", \\\"Talkin\\\\u2019 World War III Blues\\\"], \\\"cnt\\\": 4}}, {\\\"type\\\": \\\"Feature\\\", \\\"geometry\\\": {\\\"type\\\": \\\"Point\\\", \\\"coordinates\\\": [-0.116721844, 51.49999473]}, \\\"properties\\\": {\\\"name\\\": \\\"London\\\", \\\"songs\\\": [\\\"Jack-A-Roe\\\", \\\"Not Dark Yet\\\", \\\"Something\\\\u2019s Burning, Baby\\\", \\\"T.V. Talkin\\\\u2019 Song\\\"], \\\"cnt\\\": 4}}, {\\\"type\\\": \\\"Feature\\\", \\\"geometry\\\": {\\\"type\\\": \\\"Point\\\", \\\"coordinates\\\": [-90.18499679, 32.29881533]}, \\\"properties\\\": {\\\"name\\\": \\\"Jackson\\\", \\\"songs\\\": [\\\"Catfish\\\", \\\"George Jackson\\\", \\\"Outlaw Blues\\\", \\\"Rambling, Gambling Willie\\\"], \\\"cnt\\\": 4}}, {\\\"type\\\": \\\"Feature\\\", \\\"geometry\\\": {\\\"type\\\": \\\"Point\\\", \\\"coordinates\\\": [-122.4599777, 37.74000775]}, \\\"properties\\\": {\\\"name\\\": \\\"San Francisco\\\", \\\"songs\\\": [\\\"California\\\", \\\"Maybe Someday\\\", \\\"She\\\\u2019s Your Lover Now\\\", \\\"You\\\\u2019re Gonna Make Me Lonesome When You Go\\\"], \\\"cnt\\\": 4}}, {\\\"type\\\": \\\"Feature\\\", \\\"geometry\\\": {\\\"type\\\": \\\"Point\\\", \\\"coordinates\\\": [22.45004024, -33.95003497]}, \\\"properties\\\": {\\\"name\\\": \\\"George\\\", \\\"songs\\\": [\\\"George Jackson\\\", \\\"High Water (For Charley Patton)\\\", \\\"Talkin\\\\u2019 John Birch Paranoid Blues\\\"], \\\"cnt\\\": 3}}, {\\\"type\\\": \\\"Feature\\\", \\\"geometry\\\": {\\\"type\\\": \\\"Point\\\", \\\"coordinates\\\": [12.48325842, 41.89595563]}, \\\"properties\\\": {\\\"name\\\": \\\"Rome\\\", \\\"songs\\\": [\\\"Neighborhood Bully\\\", \\\"When I Paint My Masterpiece\\\"], \\\"cnt\\\": 2}}, {\\\"type\\\": \\\"Feature\\\", \\\"geometry\\\": {\\\"type\\\": \\\"Point\\\", \\\"coordinates\\\": [-59.80002975, -37.66551878]}, \\\"properties\\\": {\\\"name\\\": \\\"Juarez\\\", \\\"songs\\\": [\\\"Just Like Tom Thumb\\\\u2019s Blues\\\", \\\"Wanted Man\\\"], \\\"cnt\\\": 2}}, {\\\"type\\\": \\\"Feature\\\", \\\"geometry\\\": {\\\"type\\\": \\\"Point\\\", \\\"coordinates\\\": [-87.75005497, 41.82999066]}, \\\"properties\\\": {\\\"name\\\": \\\"Chicago\\\", \\\"songs\\\": [\\\"Cold Irons Bound\\\", \\\"The Death Of Emmett Till\\\"], \\\"cnt\\\": 2}}, {\\\"type\\\": \\\"Feature\\\", \\\"geometry\\\": {\\\"type\\\": \\\"Point\\\", \\\"coordinates\\\": [-104.984016, 39.73918805]}, \\\"properties\\\": {\\\"name\\\": \\\"Denver\\\", \\\"songs\\\": [\\\"Cry A While\\\", \\\"Gypsy Lou\\\"], \\\"cnt\\\": 2}}, {\\\"type\\\": \\\"Feature\\\", \\\"geometry\\\": {\\\"type\\\": \\\"Point\\\", \\\"coordinates\\\": [-97.32998702, 37.71998313]}, \\\"properties\\\": {\\\"name\\\": \\\"Wichita\\\", \\\"songs\\\": [\\\"Gypsy Lou\\\", \\\"Yea! Heavy And A Bottle Of Bread\\\"], \\\"cnt\\\": 2}}, {\\\"type\\\": \\\"Feature\\\", \\\"geometry\\\": {\\\"type\\\": \\\"Point\\\", \\\"coordinates\\\": [-56.21499845, -34.09900201]}, \\\"properties\\\": {\\\"name\\\": \\\"Florida\\\", \\\"songs\\\": [\\\"Dusty Old Fairgrounds\\\", \\\"Po\\\\u2019 Boy\\\"], \\\"cnt\\\": 2}}, {\\\"type\\\": \\\"Feature\\\", \\\"geometry\\\": {\\\"type\\\": \\\"Point\\\", \\\"coordinates\\\": [35.20662593, 31.77840782]}, \\\"properties\\\": {\\\"name\\\": \\\"Jerusalem\\\", \\\"songs\\\": [\\\"Angelina\\\", \\\"Blind Willie McTell\\\"], \\\"cnt\\\": 2}}, {\\\"type\\\": \\\"Feature\\\", \\\"geometry\\\": {\\\"type\\\": \\\"Point\\\", \\\"coordinates\\\": [-94.60409422, 39.10708851]}, \\\"properties\\\": {\\\"name\\\": \\\"Kansas City\\\", \\\"songs\\\": [\\\"High Water (For Charley Patton)\\\", \\\"Wanted Man\\\"], \\\"cnt\\\": 2}}, {\\\"type\\\": \\\"Feature\\\", \\\"geometry\\\": {\\\"type\\\": \\\"Point\\\", \\\"coordinates\\\": [-84.28003422, 30.44998761]}, \\\"properties\\\": {\\\"name\\\": \\\"Tallahassee\\\", \\\"songs\\\": [\\\"Got My Mind Made Up\\\", \\\"Wanted Man\\\"], \\\"cnt\\\": 2}}, {\\\"type\\\": \\\"Feature\\\", \\\"geometry\\\": {\\\"type\\\": \\\"Point\\\", \\\"coordinates\\\": [-60.69000126, -31.62387205]}, \\\"properties\\\": {\\\"name\\\": \\\"Santa Fe\\\", \\\"songs\\\": [\\\"Billy 4\\\", \\\"Santa F\\\\u00e9\\\"], \\\"cnt\\\": 2}}, {\\\"type\\\": \\\"Feature\\\", \\\"geometry\\\": {\\\"type\\\": \\\"Point\\\", \\\"coordinates\\\": [-85.41360844, 44.25121238]}, \\\"properties\\\": {\\\"name\\\": \\\"Cadillac\\\", \\\"songs\\\": [\\\"Summer Days\\\", \\\"Talkin\\\\u2019 World War III Blues\\\"], \\\"cnt\\\": 2}}, {\\\"type\\\": \\\"Feature\\\", \\\"geometry\\\": {\\\"type\\\": \\\"Point\\\", \\\"coordinates\\\": [23.23700161, 43.41400203]}, \\\"properties\\\": {\\\"name\\\": \\\"Montana\\\", \\\"songs\\\": [\\\"Dusty Old Fairgrounds\\\", \\\"Three Angels\\\"], \\\"cnt\\\": 2}}, {\\\"type\\\": \\\"Feature\\\", \\\"geometry\\\": {\\\"type\\\": \\\"Point\\\", \\\"coordinates\\\": [6.200024372000001, 48.68368085]}, \\\"properties\\\": {\\\"name\\\": \\\"Nancy\\\", \\\"songs\\\": [\\\"Handy Dandy\\\", \\\"High Water (For Charley Patton)\\\"], \\\"cnt\\\": 2}}, {\\\"type\\\": \\\"Feature\\\", \\\"geometry\\\": {\\\"type\\\": \\\"Point\\\", \\\"coordinates\\\": [-64.87000452, -24.21962116]}, \\\"properties\\\": {\\\"name\\\": \\\"San Pedro\\\", \\\"songs\\\": [\\\"Billy 1\\\", \\\"Billy 4\\\"], \\\"cnt\\\": 2}}, {\\\"type\\\": \\\"Feature\\\", \\\"geometry\\\": {\\\"type\\\": \\\"Point\\\", \\\"coordinates\\\": [-104.8197107, 41.14000694]}, \\\"properties\\\": {\\\"name\\\": \\\"Cheyenne\\\", \\\"songs\\\": [\\\"Gypsy Lou\\\", \\\"Wanted Man\\\"], \\\"cnt\\\": 2}}, {\\\"type\\\": \\\"Feature\\\", \\\"geometry\\\": {\\\"type\\\": \\\"Point\\\", \\\"coordinates\\\": [-2.079987021, 57.17039797]}, \\\"properties\\\": {\\\"name\\\": \\\"Aberdeen\\\", \\\"songs\\\": [\\\"Dusty Old Fairgrounds\\\", \\\"Highlands\\\"], \\\"cnt\\\": 2}}, {\\\"type\\\": \\\"Feature\\\", \\\"geometry\\\": {\\\"type\\\": \\\"Point\\\", \\\"coordinates\\\": [97.86786576, 15.25326662]}, \\\"properties\\\": {\\\"name\\\": \\\"Ye\\\", \\\"songs\\\": [\\\"Playboys and Playgirls\\\", \\\"Ye Shall Be Changed\\\"], \\\"cnt\\\": 2}}, {\\\"type\\\": \\\"Feature\\\", \\\"geometry\\\": {\\\"type\\\": \\\"Point\\\", \\\"coordinates\\\": [41.52437984, 58.48468467]}, \\\"properties\\\": {\\\"name\\\": \\\"Buy\\\", \\\"songs\\\": [\\\"You Ain\\\\u2019t Goin\\\\u2019 Nowhere\\\", \\\"You\\\\u2019re Gonna Quit Me\\\"], \\\"cnt\\\": 2}}, {\\\"type\\\": \\\"Feature\\\", \\\"geometry\\\": {\\\"type\\\": \\\"Point\\\", \\\"coordinates\\\": [-76.61998499, 39.29999005]}, \\\"properties\\\": {\\\"name\\\": \\\"Baltimore\\\", \\\"songs\\\": [\\\"The Lonesome Death Of Hattie Carroll\\\", \\\"Tryin\\\\u2019 To Get To Heaven\\\"], \\\"cnt\\\": 2}}, {\\\"type\\\": \\\"Feature\\\", \\\"geometry\\\": {\\\"type\\\": \\\"Point\\\", \\\"coordinates\\\": [-84.39994938, 33.83001385]}, \\\"properties\\\": {\\\"name\\\": \\\"Atlanta\\\", \\\"songs\\\": [\\\"Delia\\\", \\\"They Killed Him\\\"], \\\"cnt\\\": 2}}, {\\\"type\\\": \\\"Feature\\\", \\\"geometry\\\": {\\\"type\\\": \\\"Point\\\", \\\"coordinates\\\": [-71.07001367, 42.32996014]}, \\\"properties\\\": {\\\"name\\\": \\\"Boston\\\", \\\"songs\\\": [\\\"Highlands\\\", \\\"Two Soldiers\\\"], \\\"cnt\\\": 2}}, {\\\"type\\\": \\\"Feature\\\", \\\"geometry\\\": {\\\"type\\\": \\\"Point\\\", \\\"coordinates\\\": [-11.74001754, 7.970016092000001]}, \\\"properties\\\": {\\\"name\\\": \\\"Bo\\\", \\\"songs\\\": [\\\"From A Buick 6\\\", \\\"I Shall Be Free\\\"], \\\"cnt\\\": 2}}, {\\\"type\\\": \\\"Feature\\\", \\\"geometry\\\": {\\\"type\\\": \\\"Point\\\", \\\"coordinates\\\": [35.2955094, 32.70398439]}, \\\"properties\\\": {\\\"name\\\": \\\"Nazareth\\\", \\\"songs\\\": [\\\"The Weight\\\"], \\\"cnt\\\": 1}}, {\\\"type\\\": \\\"Feature\\\", \\\"geometry\\\": {\\\"type\\\": \\\"Point\\\", \\\"coordinates\\\": [-1.2499860040000002, 51.7704175]}, \\\"properties\\\": {\\\"name\\\": \\\"Oxford\\\", \\\"songs\\\": [\\\"Oxford Town\\\"], \\\"cnt\\\": 1}}, {\\\"type\\\": \\\"Feature\\\", \\\"geometry\\\": {\\\"type\\\": \\\"Point\\\", \\\"coordinates\\\": [149.0999841, -33.27999835]}, \\\"properties\\\": {\\\"name\\\": \\\"Orange\\\", \\\"songs\\\": [\\\"Talkin\\\\u2019 New York\\\"], \\\"cnt\\\": 1}}, {\\\"type\\\": \\\"Feature\\\", \\\"geometry\\\": {\\\"type\\\": \\\"Point\\\", \\\"coordinates\\\": [-96.00999007, 41.24000083]}, \\\"properties\\\": {\\\"name\\\": \\\"Omaha\\\", \\\"songs\\\": [\\\"I Shall Be Free No. 10\\\"], \\\"cnt\\\": 1}}, {\\\"type\\\": \\\"Feature\\\", \\\"geometry\\\": {\\\"type\\\": \\\"Point\\\", \\\"coordinates\\\": [7.265023965, 43.71501772]}, \\\"properties\\\": {\\\"name\\\": \\\"Nice\\\", \\\"songs\\\": [\\\"Motorpsycho Nightmare\\\"], \\\"cnt\\\": 1}}, {\\\"type\\\": \\\"Feature\\\", \\\"geometry\\\": {\\\"type\\\": \\\"Point\\\", \\\"coordinates\\\": [-79.0369434, 43.09482302]}, \\\"properties\\\": {\\\"name\\\": \\\"Niagara Falls\\\", \\\"songs\\\": [\\\"Man Of Peace\\\"], \\\"cnt\\\": 1}}, {\\\"type\\\": \\\"Feature\\\", \\\"geometry\\\": {\\\"type\\\": \\\"Point\\\", \\\"coordinates\\\": [-74.42332320000001, 39.36463727]}, \\\"properties\\\": {\\\"name\\\": \\\"Atlantic City\\\", \\\"songs\\\": [\\\"Caribbean Wind\\\"], \\\"cnt\\\": 1}}, {\\\"type\\\": \\\"Feature\\\", \\\"geometry\\\": {\\\"type\\\": \\\"Point\\\", \\\"coordinates\\\": [-77.35004378, 25.08339012]}, \\\"properties\\\": {\\\"name\\\": \\\"Nassau\\\", \\\"songs\\\": [\\\"Caribbean Wind\\\"], \\\"cnt\\\": 1}}, {\\\"type\\\": \\\"Feature\\\", \\\"geometry\\\": {\\\"type\\\": \\\"Point\\\", \\\"coordinates\\\": [-74.17000533, 40.91999453]}, \\\"properties\\\": {\\\"name\\\": \\\"Paterson\\\", \\\"songs\\\": [\\\"Hurricane\\\"], \\\"cnt\\\": 1}}, {\\\"type\\\": \\\"Feature\\\", \\\"geometry\\\": {\\\"type\\\": \\\"Point\\\", \\\"coordinates\\\": [-97.74277836, 30.26694969]}, \\\"properties\\\": {\\\"name\\\": \\\"Austin\\\", \\\"songs\\\": [\\\"If You Ever Go To Houston\\\"], \\\"cnt\\\": 1}}, {\\\"type\\\": \\\"Feature\\\", \\\"geometry\\\": {\\\"type\\\": \\\"Point\\\", \\\"coordinates\\\": [-86.27918868, 32.36160219]}, \\\"properties\\\": {\\\"name\\\": \\\"Montgomery\\\", \\\"songs\\\": [\\\"Tiny Montgomery\\\"], \\\"cnt\\\": 1}}, {\\\"type\\\": \\\"Feature\\\", \\\"geometry\\\": {\\\"type\\\": \\\"Point\\\", \\\"coordinates\\\": [-88.04998499, 30.68002525]}, \\\"properties\\\": {\\\"name\\\": \\\"Mobile\\\", \\\"songs\\\": [\\\"Stuck Inside Of Mobile With The Memphis Blues Again\\\"], \\\"cnt\\\": 1}}, {\\\"type\\\": \\\"Feature\\\", \\\"geometry\\\": {\\\"type\\\": \\\"Point\\\", \\\"coordinates\\\": [-80.22410608, 25.7876107]}, \\\"properties\\\": {\\\"name\\\": \\\"Miami\\\", \\\"songs\\\": [\\\"Caribbean Wind\\\"], \\\"cnt\\\": 1}}, {\\\"type\\\": \\\"Feature\\\", \\\"geometry\\\": {\\\"type\\\": \\\"Point\\\", \\\"coordinates\\\": [-99.1309882, 19.44244244]}, \\\"properties\\\": {\\\"name\\\": \\\"Mexico City\\\", \\\"songs\\\": [\\\"Something\\\\u2019s Burning, Baby\\\"], \\\"cnt\\\": 1}}, {\\\"type\\\": \\\"Feature\\\", \\\"geometry\\\": {\\\"type\\\": \\\"Point\\\", \\\"coordinates\\\": [-65.4699679, -33.68958576]}, \\\"properties\\\": {\\\"name\\\": \\\"Mercedes\\\", \\\"songs\\\": [\\\"Angelina\\\"], \\\"cnt\\\": 1}}, {\\\"type\\\": \\\"Feature\\\", \\\"geometry\\\": {\\\"type\\\": \\\"Point\\\", \\\"coordinates\\\": [2.1833703190000002, 41.38329958]}, \\\"properties\\\": {\\\"name\\\": \\\"Barcelona\\\", \\\"songs\\\": [\\\"Boots Of Spanish Leather\\\"], \\\"cnt\\\": 1}}, {\\\"type\\\": \\\"Feature\\\", \\\"geometry\\\": {\\\"type\\\": \\\"Point\\\", \\\"coordinates\\\": [2.333335326, 48.86669293]}, \\\"properties\\\": {\\\"name\\\": \\\"Paris\\\", \\\"songs\\\": [\\\"Slow Train\\\"], \\\"cnt\\\": 1}}, {\\\"type\\\": \\\"Feature\\\", \\\"geometry\\\": {\\\"type\\\": \\\"Point\\\", \\\"coordinates\\\": [-103.4998947, 31.41579429]}, \\\"properties\\\": {\\\"name\\\": \\\"Pecos\\\", \\\"songs\\\": [\\\"Billy 1\\\"], \\\"cnt\\\": 1}}, {\\\"type\\\": \\\"Feature\\\", \\\"geometry\\\": {\\\"type\\\": \\\"Point\\\", \\\"coordinates\\\": [-3.6833516860000004, 40.40002626]}, \\\"properties\\\": {\\\"name\\\": \\\"Madrid\\\", \\\"songs\\\": [\\\"Boots Of Spanish Leather\\\"], \\\"cnt\\\": 1}}, {\\\"type\\\": \\\"Feature\\\", \\\"geometry\\\": {\\\"type\\\": \\\"Point\\\", \\\"coordinates\\\": [103.85582070000001, 1.293033466]}, \\\"properties\\\": {\\\"name\\\": \\\"Singapore\\\", \\\"songs\\\": [\\\"Union Sundown\\\"], \\\"cnt\\\": 1}}, {\\\"type\\\": \\\"Feature\\\", \\\"geometry\\\": {\\\"type\\\": \\\"Point\\\", \\\"coordinates\\\": [-99.91597905, 16.84999086]}, \\\"properties\\\": {\\\"name\\\": \\\"Acapulco\\\", \\\"songs\\\": [\\\"Goin\\\\u2019 To Acapulco\\\"], \\\"cnt\\\": 1}}, {\\\"type\\\": \\\"Feature\\\", \\\"geometry\\\": {\\\"type\\\": \\\"Point\\\", \\\"coordinates\\\": [174.7832743, -41.29997394]}, \\\"properties\\\": {\\\"name\\\": \\\"Wellington\\\", \\\"songs\\\": [\\\"Tempest\\\"], \\\"cnt\\\": 1}}, {\\\"type\\\": \\\"Feature\\\", \\\"geometry\\\": {\\\"type\\\": \\\"Point\\\", \\\"coordinates\\\": [-168.0875027, 65.60959861]}, \\\"properties\\\": {\\\"name\\\": \\\"Wales\\\", \\\"songs\\\": [\\\"Jim Jones\\\"], \\\"cnt\\\": 1}}, {\\\"type\\\": \\\"Feature\\\", \\\"geometry\\\": {\\\"type\\\": \\\"Point\\\", \\\"coordinates\\\": [-90.8777452, 32.3524813]}, \\\"properties\\\": {\\\"name\\\": \\\"Vicksburg\\\", \\\"songs\\\": [\\\"High Water (For Charley Patton)\\\"], \\\"cnt\\\": 1}}, {\\\"type\\\": \\\"Feature\\\", \\\"geometry\\\": {\\\"type\\\": \\\"Point\\\", \\\"coordinates\\\": [-5.832703696, 35.74728701]}, \\\"properties\\\": {\\\"name\\\": \\\"Tangier\\\", \\\"songs\\\": [\\\"If You See Her, Say Hello\\\"], \\\"cnt\\\": 1}}, {\\\"type\\\": \\\"Feature\\\", \\\"geometry\\\": {\\\"type\\\": \\\"Point\\\", \\\"coordinates\\\": [-106.64133079999999, 35.10497479]}, \\\"properties\\\": {\\\"name\\\": \\\"Albuquerque\\\", \\\"songs\\\": [\\\"Wanted Man\\\"], \\\"cnt\\\": 1}}, {\\\"type\\\": \\\"Feature\\\", \\\"geometry\\\": {\\\"type\\\": \\\"Point\\\", \\\"coordinates\\\": [-76.15001367, 43.04999371]}, \\\"properties\\\": {\\\"name\\\": \\\"Syracuse\\\", \\\"songs\\\": [\\\"Wanted Man\\\"], \\\"cnt\\\": 1}}, {\\\"type\\\": \\\"Feature\\\", \\\"geometry\\\": {\\\"type\\\": \\\"Point\\\", \\\"coordinates\\\": [16.46999182, 43.52040428]}, \\\"properties\\\": {\\\"name\\\": \\\"Split\\\", \\\"songs\\\": [\\\"Tangled Up In Blue\\\"], \\\"cnt\\\": 1}}, {\\\"type\\\": \\\"Feature\\\", \\\"geometry\\\": {\\\"type\\\": \\\"Point\\\", \\\"coordinates\\\": [-93.77002344, 32.50001752]}, \\\"properties\\\": {\\\"name\\\": \\\"Shreveport\\\", \\\"songs\\\": [\\\"Wanted Man\\\"], \\\"cnt\\\": 1}}, {\\\"type\\\": \\\"Feature\\\", \\\"geometry\\\": {\\\"type\\\": \\\"Point\\\", \\\"coordinates\\\": [-77.40223698, 37.22776512]}, \\\"properties\\\": {\\\"name\\\": \\\"Petersburg\\\", \\\"songs\\\": [\\\"Dusty Old Fairgrounds\\\"], \\\"cnt\\\": 1}}, {\\\"type\\\": \\\"Feature\\\", \\\"geometry\\\": {\\\"type\\\": \\\"Point\\\", \\\"coordinates\\\": [-122.33998500000001, 47.57000205]}, \\\"properties\\\": {\\\"name\\\": \\\"Seattle\\\", \\\"songs\\\": [\\\"Ballad Of Donald White\\\"], \\\"cnt\\\": 1}}, {\\\"type\\\": \\\"Feature\\\", \\\"geometry\\\": {\\\"type\\\": \\\"Point\\\", \\\"coordinates\\\": [-98.07048446, 27.75046246]}, \\\"properties\\\": {\\\"name\\\": \\\"Alice\\\", \\\"songs\\\": [\\\"Frankie & Albert\\\"], \\\"cnt\\\": 1}}, {\\\"type\\\": \\\"Feature\\\", \\\"geometry\\\": {\\\"type\\\": \\\"Point\\\", \\\"coordinates\\\": [-101.82999659999999, 35.22998008]}, \\\"properties\\\": {\\\"name\\\": \\\"Amarillo\\\", \\\"songs\\\": [\\\"Brownsville Girl\\\"], \\\"cnt\\\": 1}}, {\\\"type\\\": \\\"Feature\\\", \\\"geometry\\\": {\\\"type\\\": \\\"Point\\\", \\\"coordinates\\\": [4.9166401760000005, 52.34996869]}, \\\"properties\\\": {\\\"name\\\": \\\"Amsterdam\\\", \\\"songs\\\": [\\\"Slow Train\\\"], \\\"cnt\\\": 1}}, {\\\"type\\\": \\\"Feature\\\", \\\"geometry\\\": {\\\"type\\\": \\\"Point\\\", \\\"coordinates\\\": [-38.47998743, -12.969971899999999]}, \\\"properties\\\": {\\\"name\\\": \\\"Salvador\\\", \\\"songs\\\": [\\\"Union Sundown\\\"], \\\"cnt\\\": 1}}, {\\\"type\\\": \\\"Feature\\\", \\\"geometry\\\": {\\\"type\\\": \\\"Point\\\", \\\"coordinates\\\": [-97.02023849, 32.68476076]}, \\\"properties\\\": {\\\"name\\\": \\\"Arlington\\\", \\\"songs\\\": [\\\"Gypsy Lou\\\"], \\\"cnt\\\": 1}}, {\\\"type\\\": \\\"Feature\\\", \\\"geometry\\\": {\\\"type\\\": \\\"Point\\\", \\\"coordinates\\\": [-77.449986, 37.55001935]}, \\\"properties\\\": {\\\"name\\\": \\\"Richmond\\\", \\\"songs\\\": [\\\"The Night They Drove Old Dixie Down\\\"], \\\"cnt\\\": 1}}, {\\\"type\\\": \\\"Feature\\\", \\\"geometry\\\": {\\\"type\\\": \\\"Point\\\", \\\"coordinates\\\": [-79.99998539, 40.429998600000005]}, \\\"properties\\\": {\\\"name\\\": \\\"Pittsburgh\\\", \\\"songs\\\": [\\\"Lo And Behold!\\\"], \\\"cnt\\\": 1}}, {\\\"type\\\": \\\"Feature\\\", \\\"geometry\\\": {\\\"type\\\": \\\"Point\\\", \\\"coordinates\\\": [-111.0499506, 30.61661826]}, \\\"properties\\\": {\\\"name\\\": \\\"Magdalena\\\", \\\"songs\\\": [\\\"Romance In Durango\\\"], \\\"cnt\\\": 1}}, {\\\"type\\\": \\\"Feature\\\", \\\"geometry\\\": {\\\"type\\\": \\\"Point\\\", \\\"coordinates\\\": [0.116623086, 52.20039125]}, \\\"properties\\\": {\\\"name\\\": \\\"Cambridge\\\", \\\"songs\\\": [\\\"Baby, Let Me Follow You Down\\\"], \\\"cnt\\\": 1}}, {\\\"type\\\": \\\"Feature\\\", \\\"geometry\\\": {\\\"type\\\": \\\"Point\\\", \\\"coordinates\\\": [-91.14015812, 30.45794578]}, \\\"properties\\\": {\\\"name\\\": \\\"Baton Rouge\\\", \\\"songs\\\": [\\\"Wanted Man\\\"], \\\"cnt\\\": 1}}, {\\\"type\\\": \\\"Feature\\\", \\\"geometry\\\": {\\\"type\\\": \\\"Point\\\", \\\"coordinates\\\": [58.45430253, 51.47472495]}, \\\"properties\\\": {\\\"name\\\": \\\"Gay\\\", \\\"songs\\\": [\\\"The Water Is Wide\\\"], \\\"cnt\\\": 1}}, {\\\"type\\\": \\\"Feature\\\", \\\"geometry\\\": {\\\"type\\\": \\\"Point\\\", \\\"coordinates\\\": [-96.7894257, 46.8772278]}, \\\"properties\\\": {\\\"name\\\": \\\"Fargo\\\", \\\"songs\\\": [\\\"Dusty Old Fairgrounds\\\"], \\\"cnt\\\": 1}}, {\\\"type\\\": \\\"Feature\\\", \\\"geometry\\\": {\\\"type\\\": \\\"Point\\\", \\\"coordinates\\\": [4.3333166080000005, 50.83331708]}, \\\"properties\\\": {\\\"name\\\": \\\"Brussels\\\", \\\"songs\\\": [\\\"When I Paint My Masterpiece\\\"], \\\"cnt\\\": 1}}, {\\\"type\\\": \\\"Feature\\\", \\\"geometry\\\": {\\\"type\\\": \\\"Point\\\", \\\"coordinates\\\": [-104.67003000000001, 24.03110292]}, \\\"properties\\\": {\\\"name\\\": \\\"Durango\\\", \\\"songs\\\": [\\\"Romance In Durango\\\"], \\\"cnt\\\": 1}}, {\\\"type\\\": \\\"Feature\\\", \\\"geometry\\\": {\\\"type\\\": \\\"Point\\\", \\\"coordinates\\\": [-92.10637822, 46.78333173]}, \\\"properties\\\": {\\\"name\\\": \\\"Duluth\\\", \\\"songs\\\": [\\\"Something There Is About You\\\"], \\\"cnt\\\": 1}}, {\\\"type\\\": \\\"Feature\\\", \\\"geometry\\\": {\\\"type\\\": \\\"Point\\\", \\\"coordinates\\\": [-83.08005579, 42.32996014]}, \\\"properties\\\": {\\\"name\\\": \\\"Detroit\\\", \\\"songs\\\": [\\\"Early Roman Kings\\\"], \\\"cnt\\\": 1}}, {\\\"type\\\": \\\"Feature\\\", \\\"geometry\\\": {\\\"type\\\": \\\"Point\\\", \\\"coordinates\\\": [-58.39753137, -34.60250161]}, \\\"properties\\\": {\\\"name\\\": \\\"Buenos Aires\\\", \\\"songs\\\": [\\\"The Groom\\\\u2019s Still Waiting At The Altar\\\"], \\\"cnt\\\": 1}}, {\\\"type\\\": \\\"Feature\\\", \\\"geometry\\\": {\\\"type\\\": \\\"Point\\\", \\\"coordinates\\\": [-82.43332524, 8.433321146]}, \\\"properties\\\": {\\\"name\\\": \\\"David\\\", \\\"songs\\\": [\\\"All Over You\\\"], \\\"cnt\\\": 1}}, {\\\"type\\\": \\\"Feature\\\", \\\"geometry\\\": {\\\"type\\\": \\\"Point\\\", \\\"coordinates\\\": [130.8500386, -12.42535398]}, \\\"properties\\\": {\\\"name\\\": \\\"Darwin\\\", \\\"songs\\\": [\\\"High Water (For Charley Patton)\\\"], \\\"cnt\\\": 1}}, {\\\"type\\\": \\\"Feature\\\", \\\"geometry\\\": {\\\"type\\\": \\\"Point\\\", \\\"coordinates\\\": [-79.39531946, 36.58625388]}, \\\"properties\\\": {\\\"name\\\": \\\"Danville\\\", \\\"songs\\\": [\\\"The Night They Drove Old Dixie Down\\\"], \\\"cnt\\\": 1}}, {\\\"type\\\": \\\"Feature\\\", \\\"geometry\\\": {\\\"type\\\": \\\"Point\\\", \\\"coordinates\\\": [-96.84001693, 32.82002382]}, \\\"properties\\\": {\\\"name\\\": \\\"Dallas\\\", \\\"songs\\\": [\\\"If You Ever Go To Houston\\\"], \\\"cnt\\\": 1}}, {\\\"type\\\": \\\"Feature\\\", \\\"geometry\\\": {\\\"type\\\": \\\"Point\\\", \\\"coordinates\\\": [-78.76277409, 39.65317263]}, \\\"properties\\\": {\\\"name\\\": \\\"Cumberland\\\", \\\"songs\\\": [\\\"Floater  (Too Much To Ask)\\\"], \\\"cnt\\\": 1}}, {\\\"type\\\": \\\"Feature\\\", \\\"geometry\\\": {\\\"type\\\": \\\"Point\\\", \\\"coordinates\\\": [-97.40189478, 27.74281435]}, \\\"properties\\\": {\\\"name\\\": \\\"Corpus Christi\\\", \\\"songs\\\": [\\\"Brownsville Girl\\\"], \\\"cnt\\\": 1}}, {\\\"type\\\": \\\"Feature\\\", \\\"geometry\\\": {\\\"type\\\": \\\"Point\\\", \\\"coordinates\\\": [-82.9900096, 39.97997438]}, \\\"properties\\\": {\\\"name\\\": \\\"Columbus\\\", \\\"songs\\\": [\\\"Bob Dylan\\\\u2019s 115th Dream\\\"], \\\"cnt\\\": 1}}, {\\\"type\\\": \\\"Feature\\\", \\\"geometry\\\": {\\\"type\\\": \\\"Point\\\", \\\"coordinates\\\": [-78.88000208, 42.87997825]}, \\\"properties\\\": {\\\"name\\\": \\\"Buffalo\\\", \\\"songs\\\": [\\\"Wanted Man\\\"], \\\"cnt\\\": 1}}, {\\\"type\\\": \\\"Feature\\\", \\\"geometry\\\": {\\\"type\\\": \\\"Point\\\", \\\"coordinates\\\": [-2.919987428, 53.20002016]}, \\\"properties\\\": {\\\"name\\\": \\\"Chester\\\", \\\"songs\\\": [\\\"The Weight\\\"], \\\"cnt\\\": 1}}, {\\\"type\\\": \\\"Feature\\\", \\\"geometry\\\": {\\\"type\\\": \\\"Point\\\", \\\"coordinates\\\": [-80.83003809, 35.20499453]}, \\\"properties\\\": {\\\"name\\\": \\\"Charlotte\\\", \\\"songs\\\": [\\\"Soon After Midnight\\\"], \\\"cnt\\\": 1}}, {\\\"type\\\": \\\"Feature\\\", \\\"geometry\\\": {\\\"type\\\": \\\"Point\\\", \\\"coordinates\\\": [-50.00998132, -24.79002562]}, \\\"properties\\\": {\\\"name\\\": \\\"Castro\\\", \\\"songs\\\": [\\\"Motorpsycho Nightmare\\\"], \\\"cnt\\\": 1}}, {\\\"type\\\": \\\"Feature\\\", \\\"geometry\\\": {\\\"type\\\": \\\"Point\\\", \\\"coordinates\\\": [-97.50000248, 25.91997988]}, \\\"properties\\\": {\\\"name\\\": \\\"Brownsville\\\", \\\"songs\\\": [\\\"Brownsville Girl\\\"], \\\"cnt\\\": 1}}, {\\\"type\\\": \\\"Feature\\\", \\\"geometry\\\": {\\\"type\\\": \\\"Point\\\", \\\"coordinates\\\": [-0.169974407, 50.83034568]}, \\\"properties\\\": {\\\"name\\\": \\\"Brighton\\\", \\\"songs\\\": [\\\"Sign On The Window\\\"], \\\"cnt\\\": 1}}, {\\\"type\\\": \\\"Feature\\\", \\\"geometry\\\": {\\\"type\\\": \\\"Point\\\", \\\"coordinates\\\": [-89.22024947, 37.72683026]}, \\\"properties\\\": {\\\"name\\\": \\\"Carbondale\\\", \\\"songs\\\": [\\\"Duquesne Whistle\\\"], \\\"cnt\\\": 1}}, {\\\"type\\\": \\\"Feature\\\", \\\"geometry\\\": {\\\"type\\\": \\\"Point\\\", \\\"coordinates\\\": [-5.37807483, 36.13243495]}, \\\"properties\\\": {\\\"name\\\": \\\"Gibraltar\\\", \\\"songs\\\": [\\\"The Groom\\\\u2019s Still Waiting At The Altar\\\"], \\\"cnt\\\": 1}}, {\\\"type\\\": \\\"Feature\\\", \\\"geometry\\\": {\\\"type\\\": \\\"Point\\\", \\\"coordinates\\\": [-75.5699974, 6.329986998]}, \\\"properties\\\": {\\\"name\\\": \\\"Bello\\\", \\\"songs\\\": [\\\"Hurricane\\\"], \\\"cnt\\\": 1}}, {\\\"type\\\": \\\"Feature\\\", \\\"geometry\\\": {\\\"type\\\": \\\"Point\\\", \\\"coordinates\\\": [-2.0979985290000003, 11.09400299]}, \\\"properties\\\": {\\\"name\\\": \\\"Leo\\\", \\\"songs\\\": [\\\"Tempest\\\"], \\\"cnt\\\": 1}}, {\\\"type\\\": \\\"Feature\\\", \\\"geometry\\\": {\\\"type\\\": \\\"Point\\\", \\\"coordinates\\\": [-103.76576990000001, 44.35084454]}, \\\"properties\\\": {\\\"name\\\": \\\"Lead\\\", \\\"songs\\\": [\\\"T.V. Talkin\\\\u2019 Song\\\"], \\\"cnt\\\": 1}}, {\\\"type\\\": \\\"Feature\\\", \\\"geometry\\\": {\\\"type\\\": \\\"Point\\\", \\\"coordinates\\\": [-115.22000609999999, 36.20999778]}, \\\"properties\\\": {\\\"name\\\": \\\"Las Vegas\\\", \\\"songs\\\": [\\\"Went To See The Gypsy\\\"], \\\"cnt\\\": 1}}, {\\\"type\\\": \\\"Feature\\\", \\\"geometry\\\": {\\\"type\\\": \\\"Point\\\", \\\"coordinates\\\": [-102.6194058, 38.08649823]}, \\\"properties\\\": {\\\"name\\\": \\\"Lamar\\\", \\\"songs\\\": [\\\"If You Ever Go To Houston\\\"], \\\"cnt\\\": 1}}, {\\\"type\\\": \\\"Feature\\\", \\\"geometry\\\": {\\\"type\\\": \\\"Point\\\", \\\"coordinates\\\": [-93.21718897, 30.22638369]}, \\\"properties\\\": {\\\"name\\\": \\\"Lake Charles\\\", \\\"songs\\\": [\\\"Up On Cripple Creek\\\"], \\\"cnt\\\": 1}}, {\\\"type\\\": \\\"Feature\\\", \\\"geometry\\\": {\\\"type\\\": \\\"Point\\\", \\\"coordinates\\\": [-82.56194788, 36.54832338]}, \\\"properties\\\": {\\\"name\\\": \\\"Kingsport\\\", \\\"songs\\\": [\\\"Kingsport Town\\\"], \\\"cnt\\\": 1}}, {\\\"type\\\": \\\"Feature\\\", \\\"geometry\\\": {\\\"type\\\": \\\"Point\\\", \\\"coordinates\\\": [13.40154862, 52.52181866]}, \\\"properties\\\": {\\\"name\\\": \\\"Berlin\\\", \\\"songs\\\": [\\\"What\\\\u2019ll I Do\\\"], \\\"cnt\\\": 1}}, {\\\"type\\\": \\\"Feature\\\", \\\"geometry\\\": {\\\"type\\\": \\\"Point\\\", \\\"coordinates\\\": [-88.10667403, 41.52998313]}, \\\"properties\\\": {\\\"name\\\": \\\"Joliet\\\", \\\"songs\\\": [\\\"Percy\\\\u2019s Song\\\"], \\\"cnt\\\": 1}}, {\\\"type\\\": \\\"Feature\\\", \\\"geometry\\\": {\\\"type\\\": \\\"Point\\\", \\\"coordinates\\\": [-99.73278609, 32.4486253]}, \\\"properties\\\": {\\\"name\\\": \\\"Abilene\\\", \\\"songs\\\": [\\\"Wanted Man\\\"], \\\"cnt\\\": 1}}, {\\\"type\\\": \\\"Feature\\\", \\\"geometry\\\": {\\\"type\\\": \\\"Point\\\", \\\"coordinates\\\": [-94.41528121, 39.09111391]}, \\\"properties\\\": {\\\"name\\\": \\\"Independence\\\", \\\"songs\\\": [\\\"Tears Of Rage\\\"], \\\"cnt\\\": 1}}, {\\\"type\\\": \\\"Feature\\\", \\\"geometry\\\": {\\\"type\\\": \\\"Point\\\", \\\"coordinates\\\": [-95.33997929, 29.81997438]}, \\\"properties\\\": {\\\"name\\\": \\\"Houston\\\", \\\"songs\\\": [\\\"If You Ever Go To Houston\\\"], \\\"cnt\\\": 1}}, {\\\"type\\\": \\\"Feature\\\", \\\"geometry\\\": {\\\"type\\\": \\\"Point\\\", \\\"coordinates\\\": [-157.85799790000002, 21.30687644]}, \\\"properties\\\": {\\\"name\\\": \\\"Honolulu\\\", \\\"songs\\\": [\\\"You\\\\u2019re Gonna Make Me Lonesome When You Go\\\"], \\\"cnt\\\": 1}}, {\\\"type\\\": \\\"Feature\\\", \\\"geometry\\\": {\\\"type\\\": \\\"Point\\\", \\\"coordinates\\\": [114.18500929999999, 22.304980899999997]}, \\\"properties\\\": {\\\"name\\\": \\\"Hong Kong\\\", \\\"songs\\\": [\\\"Union Sundown\\\"], \\\"cnt\\\": 1}}, {\\\"type\\\": \\\"Feature\\\", \\\"geometry\\\": {\\\"type\\\": \\\"Point\\\", \\\"coordinates\\\": [-151.54827969999997, 59.64293439]}, \\\"properties\\\": {\\\"name\\\": \\\"Homer\\\", \\\"songs\\\": [\\\"Open the Door, Homer\\\"], \\\"cnt\\\": 1}}, {\\\"type\\\": \\\"Feature\\\", \\\"geometry\\\": {\\\"type\\\": \\\"Point\\\", \\\"coordinates\\\": [9.999999144, 53.55002464]}, \\\"properties\\\": {\\\"name\\\": \\\"Hamburg\\\", \\\"songs\\\": [\\\"Roll On John\\\"], \\\"cnt\\\": 1}}, {\\\"type\\\": \\\"Feature\\\", \\\"geometry\\\": {\\\"type\\\": \\\"Point\\\", \\\"coordinates\\\": [-112.1385922, 36.05478762]}, \\\"properties\\\": {\\\"name\\\": \\\"Grand Canyon\\\", \\\"songs\\\": [\\\"Last Thoughts On Woody Guthrie\\\"], \\\"cnt\\\": 1}}, {\\\"type\\\": \\\"Feature\\\", \\\"geometry\\\": {\\\"type\\\": \\\"Point\\\", \\\"coordinates\\\": [-2.917997886, 53.41600181]}, \\\"properties\\\": {\\\"name\\\": \\\"Liverpool\\\", \\\"songs\\\": [\\\"Roll On John\\\"], \\\"cnt\\\": 1}}]}\",\"selected\":null,\"selection_policy\":null},\"id\":\"e8ccab34-d3f0-46bb-ab87-0d0cf3b94947\",\"type\":\"GeoJSONDataSource\"},{\"attributes\":{},\"id\":\"9a3757e4-2553-4692-8b8f-52a1b5b19187\",\"type\":\"HelpTool\"},{\"attributes\":{\"plot\":{\"id\":\"6235dd03-0c25-4270-9d48-48ff5de88c31\",\"subtype\":\"Figure\",\"type\":\"Plot\"},\"ticker\":{\"id\":\"994ffd41-d5ec-47f6-9102-90d49d631249\",\"type\":\"BasicTicker\"}},\"id\":\"c4ae0aae-2c25-4275-be9b-d16379b8450f\",\"type\":\"Grid\"},{\"attributes\":{},\"id\":\"994ffd41-d5ec-47f6-9102-90d49d631249\",\"type\":\"BasicTicker\"},{\"attributes\":{},\"id\":\"2ee4fe98-3acd-411b-a437-705169118a20\",\"type\":\"LinearScale\"}],\"root_ids\":[\"6235dd03-0c25-4270-9d48-48ff5de88c31\"]},\"title\":\"Bokeh Application\",\"version\":\"0.12.15\"}};\n",
       "  var render_items = [{\"docid\":\"59ac3b71-ad4b-4431-bbc7-1265e22e39b6\",\"elementid\":\"717447f3-7b18-4e18-9b06-bebf3b54decb\",\"modelid\":\"6235dd03-0c25-4270-9d48-48ff5de88c31\"}];\n",
       "  root.Bokeh.embed.embed_items_notebook(docs_json, render_items);\n",
       "\n",
       "  }\n",
       "  if (root.Bokeh !== undefined) {\n",
       "    embed_document(root);\n",
       "  } else {\n",
       "    var attempts = 0;\n",
       "    var timer = setInterval(function(root) {\n",
       "      if (root.Bokeh !== undefined) {\n",
       "        embed_document(root);\n",
       "        clearInterval(timer);\n",
       "      }\n",
       "      attempts++;\n",
       "      if (attempts > 100) {\n",
       "        console.log(\"Bokeh: ERROR: Unable to run BokehJS code because BokehJS library is missing\")\n",
       "        clearInterval(timer);\n",
       "      }\n",
       "    }, 10, root)\n",
       "  }\n",
       "})(window);"
      ],
      "application/vnd.bokehjs_exec.v0+json": ""
     },
     "metadata": {
      "application/vnd.bokehjs_exec.v0+json": {
       "id": "6235dd03-0c25-4270-9d48-48ff5de88c31"
      }
     },
     "output_type": "display_data"
    }
   ],
   "source": [
    "show(p)"
   ]
  },
  {
   "cell_type": "code",
   "execution_count": null,
   "metadata": {},
   "outputs": [],
   "source": []
  },
  {
   "cell_type": "code",
   "execution_count": null,
   "metadata": {},
   "outputs": [],
   "source": []
  },
  {
   "cell_type": "code",
   "execution_count": null,
   "metadata": {},
   "outputs": [],
   "source": []
  },
  {
   "cell_type": "code",
   "execution_count": 245,
   "metadata": {},
   "outputs": [],
   "source": [
    "geo_source = GeoJSONDataSource(geojson=geojson)"
   ]
  },
  {
   "cell_type": "code",
   "execution_count": null,
   "metadata": {},
   "outputs": [],
   "source": []
  },
  {
   "cell_type": "code",
   "execution_count": null,
   "metadata": {},
   "outputs": [],
   "source": []
  },
  {
   "cell_type": "code",
   "execution_count": null,
   "metadata": {},
   "outputs": [],
   "source": []
  },
  {
   "cell_type": "code",
   "execution_count": null,
   "metadata": {},
   "outputs": [],
   "source": []
  },
  {
   "cell_type": "code",
   "execution_count": null,
   "metadata": {},
   "outputs": [],
   "source": []
  },
  {
   "cell_type": "code",
   "execution_count": 246,
   "metadata": {},
   "outputs": [
    {
     "data": {
      "text/html": [
       "<div style=\"display: table;\"><div style=\"display: table-row;\"><div style=\"display: table-cell;\"><b title=\"bokeh.models.renderers.TileRenderer\">TileRenderer</b>(</div><div style=\"display: table-cell;\">id&nbsp;=&nbsp;'d35e307e-dbd7-4e16-8a0c-9957857a7608', <span id=\"4d72ac2e-e053-4b83-af62-3a69f81f52d4\" style=\"cursor: pointer;\">&hellip;)</span></div></div><div class=\"dcd7da01-86c8-414e-8de5-754145eddf3b\" style=\"display: none;\"><div style=\"display: table-cell;\"></div><div style=\"display: table-cell;\">alpha&nbsp;=&nbsp;1.0,</div></div><div class=\"dcd7da01-86c8-414e-8de5-754145eddf3b\" style=\"display: none;\"><div style=\"display: table-cell;\"></div><div style=\"display: table-cell;\">js_event_callbacks&nbsp;=&nbsp;{},</div></div><div class=\"dcd7da01-86c8-414e-8de5-754145eddf3b\" style=\"display: none;\"><div style=\"display: table-cell;\"></div><div style=\"display: table-cell;\">js_property_callbacks&nbsp;=&nbsp;{},</div></div><div class=\"dcd7da01-86c8-414e-8de5-754145eddf3b\" style=\"display: none;\"><div style=\"display: table-cell;\"></div><div style=\"display: table-cell;\">level&nbsp;=&nbsp;'underlay',</div></div><div class=\"dcd7da01-86c8-414e-8de5-754145eddf3b\" style=\"display: none;\"><div style=\"display: table-cell;\"></div><div style=\"display: table-cell;\">name&nbsp;=&nbsp;None,</div></div><div class=\"dcd7da01-86c8-414e-8de5-754145eddf3b\" style=\"display: none;\"><div style=\"display: table-cell;\"></div><div style=\"display: table-cell;\">render_parents&nbsp;=&nbsp;True,</div></div><div class=\"dcd7da01-86c8-414e-8de5-754145eddf3b\" style=\"display: none;\"><div style=\"display: table-cell;\"></div><div style=\"display: table-cell;\">subscribed_events&nbsp;=&nbsp;[],</div></div><div class=\"dcd7da01-86c8-414e-8de5-754145eddf3b\" style=\"display: none;\"><div style=\"display: table-cell;\"></div><div style=\"display: table-cell;\">tags&nbsp;=&nbsp;[],</div></div><div class=\"dcd7da01-86c8-414e-8de5-754145eddf3b\" style=\"display: none;\"><div style=\"display: table-cell;\"></div><div style=\"display: table-cell;\">tile_source&nbsp;=&nbsp;WMTSTileSource(id='646f1806-63bb-460f-869e-2c38ee565dd4', ...),</div></div><div class=\"dcd7da01-86c8-414e-8de5-754145eddf3b\" style=\"display: none;\"><div style=\"display: table-cell;\"></div><div style=\"display: table-cell;\">visible&nbsp;=&nbsp;True,</div></div><div class=\"dcd7da01-86c8-414e-8de5-754145eddf3b\" style=\"display: none;\"><div style=\"display: table-cell;\"></div><div style=\"display: table-cell;\">x_range_name&nbsp;=&nbsp;'default',</div></div><div class=\"dcd7da01-86c8-414e-8de5-754145eddf3b\" style=\"display: none;\"><div style=\"display: table-cell;\"></div><div style=\"display: table-cell;\">y_range_name&nbsp;=&nbsp;'default')</div></div></div>\n",
       "<script>\n",
       "(function() {\n",
       "  var expanded = false;\n",
       "  var ellipsis = document.getElementById(\"4d72ac2e-e053-4b83-af62-3a69f81f52d4\");\n",
       "  ellipsis.addEventListener(\"click\", function() {\n",
       "    var rows = document.getElementsByClassName(\"dcd7da01-86c8-414e-8de5-754145eddf3b\");\n",
       "    for (var i = 0; i < rows.length; i++) {\n",
       "      var el = rows[i];\n",
       "      el.style.display = expanded ? \"none\" : \"table-row\";\n",
       "    }\n",
       "    ellipsis.innerHTML = expanded ? \"&hellip;)\" : \"&lsaquo;&lsaquo;&lsaquo;\";\n",
       "    expanded = !expanded;\n",
       "  });\n",
       "})();\n",
       "</script>\n"
      ],
      "text/plain": [
       "TileRenderer(id='d35e307e-dbd7-4e16-8a0c-9957857a7608', ...)"
      ]
     },
     "execution_count": 246,
     "metadata": {},
     "output_type": "execute_result"
    }
   ],
   "source": [
    "# range bounds supplied in web mercator coordinates\n",
    "p = figure(x_range=(-2000000, 6000000), y_range=(-1000000, 7000000),\n",
    "           x_axis_type=\"mercator\", y_axis_type=\"mercator\")\n",
    "\n",
    "p.add_tile(CARTODBPOSITRON)"
   ]
  },
  {
   "cell_type": "code",
   "execution_count": 248,
   "metadata": {},
   "outputs": [
    {
     "data": {
      "text/html": [
       "\n",
       "<div class=\"bk-root\">\n",
       "    <div class=\"bk-plotdiv\" id=\"989c72f8-1018-4456-b25a-d905b0315307\"></div>\n",
       "</div>"
      ]
     },
     "metadata": {},
     "output_type": "display_data"
    },
    {
     "data": {
      "application/javascript": [
       "(function(root) {\n",
       "  function embed_document(root) {\n",
       "    \n",
       "  var docs_json = {\"a75e9648-57ab-4c99-8f59-14a00476e294\":{\"roots\":{\"references\":[{\"attributes\":{},\"id\":\"8a08cc48-2d50-451c-a3ac-328b9526debf\",\"type\":\"HelpTool\"},{\"attributes\":{\"bottom_units\":\"screen\",\"fill_alpha\":{\"value\":0.5},\"fill_color\":{\"value\":\"lightgrey\"},\"left_units\":\"screen\",\"level\":\"overlay\",\"line_alpha\":{\"value\":1.0},\"line_color\":{\"value\":\"black\"},\"line_dash\":[4,4],\"line_width\":{\"value\":2},\"plot\":null,\"render_mode\":\"css\",\"right_units\":\"screen\",\"top_units\":\"screen\"},\"id\":\"22e544fa-2be7-41c9-b509-f27eb584f60d\",\"type\":\"BoxAnnotation\"},{\"attributes\":{\"plot\":{\"id\":\"e4ce80ad-72ed-4842-9d52-824252ffaf87\",\"subtype\":\"Figure\",\"type\":\"Plot\"},\"ticker\":{\"id\":\"87b75b13-18cc-4053-973f-099a93809d38\",\"type\":\"MercatorTicker\"}},\"id\":\"db1a83ab-791a-49b9-a769-9b2c0f5daf15\",\"type\":\"Grid\"},{\"attributes\":{\"attribution\":\"&copy; <a href=\\\"https://www.openstreetmap.org/copyright\\\">OpenStreetMap</a> contributors,&copy; <a href=\\\"https://cartodb.com/attributions\\\">CartoDB</a>\",\"url\":\"https://tiles.basemaps.cartocdn.com/light_all/{z}/{x}/{y}.png\"},\"id\":\"646f1806-63bb-460f-869e-2c38ee565dd4\",\"type\":\"WMTSTileSource\"},{\"attributes\":{\"dimension\":\"lon\"},\"id\":\"0945e170-3c77-4b36-a86c-09324c197de1\",\"type\":\"MercatorTickFormatter\"},{\"attributes\":{},\"id\":\"2b4cad31-d481-4bff-91a1-c202e7d47592\",\"type\":\"SaveTool\"},{\"attributes\":{\"callback\":null,\"end\":6000000,\"start\":-2000000},\"id\":\"3592fccc-41cd-45e0-9dd6-ce3c8ed82b73\",\"type\":\"Range1d\"},{\"attributes\":{\"plot\":null,\"text\":\"\"},\"id\":\"b19dbffa-9b02-4f6b-a760-8bb8cbe2ff81\",\"type\":\"Title\"},{\"attributes\":{},\"id\":\"557c7493-e453-49a9-b7fd-ab00901fa12c\",\"type\":\"LinearScale\"},{\"attributes\":{\"overlay\":{\"id\":\"22e544fa-2be7-41c9-b509-f27eb584f60d\",\"type\":\"BoxAnnotation\"}},\"id\":\"ca0557c2-f29e-44dc-834b-fe9fd116a9ae\",\"type\":\"BoxZoomTool\"},{\"attributes\":{},\"id\":\"3bc47ed7-a0c3-4aee-a129-4220d2f887cc\",\"type\":\"ResetTool\"},{\"attributes\":{\"dimension\":1,\"plot\":{\"id\":\"e4ce80ad-72ed-4842-9d52-824252ffaf87\",\"subtype\":\"Figure\",\"type\":\"Plot\"},\"ticker\":{\"id\":\"996fbea1-bf61-4564-950b-cb0af142abb3\",\"type\":\"MercatorTicker\"}},\"id\":\"8655d333-c783-444b-a06d-e52cdb740073\",\"type\":\"Grid\"},{\"attributes\":{\"callback\":null,\"end\":7000000,\"start\":-1000000},\"id\":\"7bfa10ea-f33b-4e4f-843a-9c2879841759\",\"type\":\"Range1d\"},{\"attributes\":{\"formatter\":{\"id\":\"d90aa60b-1ca0-41ec-badf-bbc2067bbe39\",\"type\":\"MercatorTickFormatter\"},\"plot\":{\"id\":\"e4ce80ad-72ed-4842-9d52-824252ffaf87\",\"subtype\":\"Figure\",\"type\":\"Plot\"},\"ticker\":{\"id\":\"996fbea1-bf61-4564-950b-cb0af142abb3\",\"type\":\"MercatorTicker\"}},\"id\":\"f3ef3de4-1186-4370-b5b3-0e08233130ac\",\"type\":\"MercatorAxis\"},{\"attributes\":{\"active_drag\":\"auto\",\"active_inspect\":\"auto\",\"active_scroll\":\"auto\",\"active_tap\":\"auto\",\"tools\":[{\"id\":\"4d7c1697-47d9-4226-8c8e-221492bdac30\",\"type\":\"PanTool\"},{\"id\":\"3d6cdf41-15bf-4562-a471-a759d56cedfe\",\"type\":\"WheelZoomTool\"},{\"id\":\"ca0557c2-f29e-44dc-834b-fe9fd116a9ae\",\"type\":\"BoxZoomTool\"},{\"id\":\"2b4cad31-d481-4bff-91a1-c202e7d47592\",\"type\":\"SaveTool\"},{\"id\":\"3bc47ed7-a0c3-4aee-a129-4220d2f887cc\",\"type\":\"ResetTool\"},{\"id\":\"8a08cc48-2d50-451c-a3ac-328b9526debf\",\"type\":\"HelpTool\"}]},\"id\":\"cdfc9dd1-91c6-4f46-a21d-fb4889957fac\",\"type\":\"Toolbar\"},{\"attributes\":{\"dimension\":\"lon\"},\"id\":\"87b75b13-18cc-4053-973f-099a93809d38\",\"type\":\"MercatorTicker\"},{\"attributes\":{\"below\":[{\"id\":\"5c81499d-af75-4725-94e6-45b9ffe60563\",\"type\":\"MercatorAxis\"}],\"left\":[{\"id\":\"f3ef3de4-1186-4370-b5b3-0e08233130ac\",\"type\":\"MercatorAxis\"}],\"renderers\":[{\"id\":\"5c81499d-af75-4725-94e6-45b9ffe60563\",\"type\":\"MercatorAxis\"},{\"id\":\"db1a83ab-791a-49b9-a769-9b2c0f5daf15\",\"type\":\"Grid\"},{\"id\":\"f3ef3de4-1186-4370-b5b3-0e08233130ac\",\"type\":\"MercatorAxis\"},{\"id\":\"8655d333-c783-444b-a06d-e52cdb740073\",\"type\":\"Grid\"},{\"id\":\"22e544fa-2be7-41c9-b509-f27eb584f60d\",\"type\":\"BoxAnnotation\"},{\"id\":\"d35e307e-dbd7-4e16-8a0c-9957857a7608\",\"type\":\"TileRenderer\"}],\"title\":{\"id\":\"b19dbffa-9b02-4f6b-a760-8bb8cbe2ff81\",\"type\":\"Title\"},\"toolbar\":{\"id\":\"cdfc9dd1-91c6-4f46-a21d-fb4889957fac\",\"type\":\"Toolbar\"},\"x_range\":{\"id\":\"3592fccc-41cd-45e0-9dd6-ce3c8ed82b73\",\"type\":\"Range1d\"},\"x_scale\":{\"id\":\"9066d53a-ee5e-4f9b-b712-d099496adecd\",\"type\":\"LinearScale\"},\"y_range\":{\"id\":\"7bfa10ea-f33b-4e4f-843a-9c2879841759\",\"type\":\"Range1d\"},\"y_scale\":{\"id\":\"557c7493-e453-49a9-b7fd-ab00901fa12c\",\"type\":\"LinearScale\"}},\"id\":\"e4ce80ad-72ed-4842-9d52-824252ffaf87\",\"subtype\":\"Figure\",\"type\":\"Plot\"},{\"attributes\":{\"formatter\":{\"id\":\"0945e170-3c77-4b36-a86c-09324c197de1\",\"type\":\"MercatorTickFormatter\"},\"plot\":{\"id\":\"e4ce80ad-72ed-4842-9d52-824252ffaf87\",\"subtype\":\"Figure\",\"type\":\"Plot\"},\"ticker\":{\"id\":\"87b75b13-18cc-4053-973f-099a93809d38\",\"type\":\"MercatorTicker\"}},\"id\":\"5c81499d-af75-4725-94e6-45b9ffe60563\",\"type\":\"MercatorAxis\"},{\"attributes\":{\"tile_source\":{\"id\":\"646f1806-63bb-460f-869e-2c38ee565dd4\",\"type\":\"WMTSTileSource\"}},\"id\":\"d35e307e-dbd7-4e16-8a0c-9957857a7608\",\"type\":\"TileRenderer\"},{\"attributes\":{\"dimension\":\"lat\"},\"id\":\"996fbea1-bf61-4564-950b-cb0af142abb3\",\"type\":\"MercatorTicker\"},{\"attributes\":{},\"id\":\"4d7c1697-47d9-4226-8c8e-221492bdac30\",\"type\":\"PanTool\"},{\"attributes\":{\"dimension\":\"lat\"},\"id\":\"d90aa60b-1ca0-41ec-badf-bbc2067bbe39\",\"type\":\"MercatorTickFormatter\"},{\"attributes\":{},\"id\":\"3d6cdf41-15bf-4562-a471-a759d56cedfe\",\"type\":\"WheelZoomTool\"},{\"attributes\":{},\"id\":\"9066d53a-ee5e-4f9b-b712-d099496adecd\",\"type\":\"LinearScale\"}],\"root_ids\":[\"e4ce80ad-72ed-4842-9d52-824252ffaf87\"]},\"title\":\"Bokeh Application\",\"version\":\"0.12.15\"}};\n",
       "  var render_items = [{\"docid\":\"a75e9648-57ab-4c99-8f59-14a00476e294\",\"elementid\":\"989c72f8-1018-4456-b25a-d905b0315307\",\"modelid\":\"e4ce80ad-72ed-4842-9d52-824252ffaf87\"}];\n",
       "  root.Bokeh.embed.embed_items_notebook(docs_json, render_items);\n",
       "\n",
       "  }\n",
       "  if (root.Bokeh !== undefined) {\n",
       "    embed_document(root);\n",
       "  } else {\n",
       "    var attempts = 0;\n",
       "    var timer = setInterval(function(root) {\n",
       "      if (root.Bokeh !== undefined) {\n",
       "        embed_document(root);\n",
       "        clearInterval(timer);\n",
       "      }\n",
       "      attempts++;\n",
       "      if (attempts > 100) {\n",
       "        console.log(\"Bokeh: ERROR: Unable to run BokehJS code because BokehJS library is missing\")\n",
       "        clearInterval(timer);\n",
       "      }\n",
       "    }, 10, root)\n",
       "  }\n",
       "})(window);"
      ],
      "application/vnd.bokehjs_exec.v0+json": ""
     },
     "metadata": {
      "application/vnd.bokehjs_exec.v0+json": {
       "id": "e4ce80ad-72ed-4842-9d52-824252ffaf87"
      }
     },
     "output_type": "display_data"
    }
   ],
   "source": [
    "show(p)"
   ]
  },
  {
   "cell_type": "code",
   "execution_count": null,
   "metadata": {},
   "outputs": [],
   "source": []
  },
  {
   "cell_type": "code",
   "execution_count": null,
   "metadata": {},
   "outputs": [],
   "source": []
  },
  {
   "cell_type": "code",
   "execution_count": 15,
   "metadata": {},
   "outputs": [],
   "source": [
    "# Save to csv\n",
    "city_df.to_csv('data/city_counts.csv', index=False)\n",
    "\n",
    "# Save to Json\n",
    "city_df.to_json('data/city_counts.json')"
   ]
  }
 ],
 "metadata": {
  "kernelspec": {
   "display_name": "Python 3",
   "language": "python",
   "name": "python3"
  },
  "language_info": {
   "codemirror_mode": {
    "name": "ipython",
    "version": 3
   },
   "file_extension": ".py",
   "mimetype": "text/x-python",
   "name": "python",
   "nbconvert_exporter": "python",
   "pygments_lexer": "ipython3",
   "version": "3.6.5"
  }
 },
 "nbformat": 4,
 "nbformat_minor": 2
}
