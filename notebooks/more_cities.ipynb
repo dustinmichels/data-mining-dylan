{
 "cells": [
  {
   "cell_type": "markdown",
   "metadata": {},
   "source": [
    "# Find Cities in Songs"
   ]
  },
  {
   "cell_type": "markdown",
   "metadata": {},
   "source": [
    "1. Load json of Dylan songs/lyrics\n",
    "2. Use the `spacey` package for named entity recognition (ner)\n",
    "3. Cross reference results of ner with csv of cities and their coordinates, to produce csv with cities, lat/lon, and count of references in songs"
   ]
  },
  {
   "cell_type": "markdown",
   "metadata": {},
   "source": [
    "## Load Song Data"
   ]
  },
  {
   "cell_type": "code",
   "execution_count": 1,
   "metadata": {},
   "outputs": [],
   "source": [
    "import pandas as pd\n",
    "from analysis import tidy_table"
   ]
  },
  {
   "cell_type": "code",
   "execution_count": 2,
   "metadata": {},
   "outputs": [],
   "source": [
    "# Load from my JSON\n",
    "df = pd.read_json('data/songs.json')\n",
    "df.set_index('title', inplace=True)"
   ]
  },
  {
   "cell_type": "code",
   "execution_count": 3,
   "metadata": {},
   "outputs": [
    {
     "data": {
      "text/html": [
       "<div>\n",
       "<style scoped>\n",
       "    .dataframe tbody tr th:only-of-type {\n",
       "        vertical-align: middle;\n",
       "    }\n",
       "\n",
       "    .dataframe tbody tr th {\n",
       "        vertical-align: top;\n",
       "    }\n",
       "\n",
       "    .dataframe thead th {\n",
       "        text-align: right;\n",
       "    }\n",
       "</style>\n",
       "<table border=\"1\" class=\"dataframe\">\n",
       "  <thead>\n",
       "    <tr style=\"text-align: right;\">\n",
       "      <th></th>\n",
       "      <th>albums</th>\n",
       "      <th>author</th>\n",
       "      <th>lyrics</th>\n",
       "      <th>url</th>\n",
       "    </tr>\n",
       "    <tr>\n",
       "      <th>title</th>\n",
       "      <th></th>\n",
       "      <th></th>\n",
       "      <th></th>\n",
       "      <th></th>\n",
       "    </tr>\n",
       "  </thead>\n",
       "  <tbody>\n",
       "    <tr>\n",
       "      <th>‘Cross The Green Mountain</th>\n",
       "      <td>[The Bootleg Series, Vol 8: Tell Tale Signs]</td>\n",
       "      <td></td>\n",
       "      <td></td>\n",
       "      <td>https://bobdylan.com/songs/cross-green-mountain/</td>\n",
       "    </tr>\n",
       "    <tr>\n",
       "      <th>‘Til I Fell In Love With You</th>\n",
       "      <td>[Time Out Of Mind]</td>\n",
       "      <td>Bob Dylan</td>\n",
       "      <td>Well, my nerves are exploding and my body’s te...</td>\n",
       "      <td>https://bobdylan.com/songs/til-i-fell-love-you/</td>\n",
       "    </tr>\n",
       "    <tr>\n",
       "      <th>10,000 Men</th>\n",
       "      <td>[Under The Red Sky]</td>\n",
       "      <td>Bob Dylan</td>\n",
       "      <td>Ten thousand men on a hill\\r\\nTen thousand men...</td>\n",
       "      <td>https://bobdylan.com/songs/10000-men/</td>\n",
       "    </tr>\n",
       "    <tr>\n",
       "      <th>2 Dollars and 99 Cents</th>\n",
       "      <td>[The Bootleg Series, Vol. 11: The Basement Tap...</td>\n",
       "      <td>Bob Dylan</td>\n",
       "      <td></td>\n",
       "      <td>https://bobdylan.com/songs/2-dollars-and-99-ce...</td>\n",
       "    </tr>\n",
       "    <tr>\n",
       "      <th>2 X 2</th>\n",
       "      <td>[Under The Red Sky]</td>\n",
       "      <td>Bob Dylan</td>\n",
       "      <td>One by one, they followed the sun\\r\\nOne by on...</td>\n",
       "      <td>https://bobdylan.com/songs/2-x-2/</td>\n",
       "    </tr>\n",
       "  </tbody>\n",
       "</table>\n",
       "</div>"
      ],
      "text/plain": [
       "                                                                         albums  \\\n",
       "title                                                                             \n",
       "‘Cross The Green Mountain          [The Bootleg Series, Vol 8: Tell Tale Signs]   \n",
       "‘Til I Fell In Love With You                                 [Time Out Of Mind]   \n",
       "10,000 Men                                                  [Under The Red Sky]   \n",
       "2 Dollars and 99 Cents        [The Bootleg Series, Vol. 11: The Basement Tap...   \n",
       "2 X 2                                                       [Under The Red Sky]   \n",
       "\n",
       "                                 author  \\\n",
       "title                                     \n",
       "‘Cross The Green Mountain                 \n",
       "‘Til I Fell In Love With You  Bob Dylan   \n",
       "10,000 Men                    Bob Dylan   \n",
       "2 Dollars and 99 Cents        Bob Dylan   \n",
       "2 X 2                         Bob Dylan   \n",
       "\n",
       "                                                                         lyrics  \\\n",
       "title                                                                             \n",
       "‘Cross The Green Mountain                                                         \n",
       "‘Til I Fell In Love With You  Well, my nerves are exploding and my body’s te...   \n",
       "10,000 Men                    Ten thousand men on a hill\\r\\nTen thousand men...   \n",
       "2 Dollars and 99 Cents                                                            \n",
       "2 X 2                         One by one, they followed the sun\\r\\nOne by on...   \n",
       "\n",
       "                                                                            url  \n",
       "title                                                                            \n",
       "‘Cross The Green Mountain      https://bobdylan.com/songs/cross-green-mountain/  \n",
       "‘Til I Fell In Love With You    https://bobdylan.com/songs/til-i-fell-love-you/  \n",
       "10,000 Men                                https://bobdylan.com/songs/10000-men/  \n",
       "2 Dollars and 99 Cents        https://bobdylan.com/songs/2-dollars-and-99-ce...  \n",
       "2 X 2                                         https://bobdylan.com/songs/2-x-2/  "
      ]
     },
     "execution_count": 3,
     "metadata": {},
     "output_type": "execute_result"
    }
   ],
   "source": [
    "df.head()"
   ]
  },
  {
   "cell_type": "markdown",
   "metadata": {},
   "source": [
    "## Identify Places in Lyrics\n",
    "\n",
    "Use `spacy` for named entity recognition"
   ]
  },
  {
   "cell_type": "code",
   "execution_count": 4,
   "metadata": {},
   "outputs": [],
   "source": [
    "import spacy\n",
    "nlp = spacy.load('en')"
   ]
  },
  {
   "cell_type": "code",
   "execution_count": 5,
   "metadata": {},
   "outputs": [
    {
     "data": {
      "text/plain": [
       "'Countries, cities, states'"
      ]
     },
     "execution_count": 5,
     "metadata": {},
     "output_type": "execute_result"
    }
   ],
   "source": [
    "# We want to extract entities labeled as 'GPE'\n",
    "spacy.explain('GPE')"
   ]
  },
  {
   "cell_type": "code",
   "execution_count": 5,
   "metadata": {},
   "outputs": [],
   "source": [
    "def ner_cleanup(doc):\n",
    "    \"\"\"Add post process pipeline to omit bad results\"\"\"\n",
    "    doc.ents = [\n",
    "        e for e in doc.ents\n",
    "        if not(e.text.isspace() or\n",
    "               \"’\" in e.text)]\n",
    "    return doc\n",
    "\n",
    "# Cleanup results after named entiry recognition\n",
    "nlp.add_pipe(ner_cleanup, after='ner')"
   ]
  },
  {
   "cell_type": "code",
   "execution_count": 6,
   "metadata": {},
   "outputs": [
    {
     "name": "stdout",
     "output_type": "stream",
     "text": [
      ".............................................................................................................................................................................................................................................................................................................................................................................................................................................................................................................................................................................................................................................................................done\n"
     ]
    }
   ],
   "source": [
    "def extract_places(text):\n",
    "    print('.', end='')  # little status report, for slow fcn call\n",
    "    doc = nlp(text)\n",
    "    return list(set([\n",
    "        x.text.strip() for x in doc.ents\n",
    "        if x.label_ == 'GPE']))\n",
    "\n",
    "# Extract places from each set of lyrics,\n",
    "# put resulting list in 'places' column\n",
    "df['places'] = df.lyrics.apply(extract_places)\n",
    "print(\"done\")"
   ]
  },
  {
   "cell_type": "code",
   "execution_count": 7,
   "metadata": {
    "scrolled": false
   },
   "outputs": [
    {
     "data": {
      "text/html": [
       "<div>\n",
       "<style scoped>\n",
       "    .dataframe tbody tr th:only-of-type {\n",
       "        vertical-align: middle;\n",
       "    }\n",
       "\n",
       "    .dataframe tbody tr th {\n",
       "        vertical-align: top;\n",
       "    }\n",
       "\n",
       "    .dataframe thead th {\n",
       "        text-align: right;\n",
       "    }\n",
       "</style>\n",
       "<table border=\"1\" class=\"dataframe\">\n",
       "  <thead>\n",
       "    <tr style=\"text-align: right;\">\n",
       "      <th></th>\n",
       "      <th>albums</th>\n",
       "      <th>author</th>\n",
       "      <th>lyrics</th>\n",
       "      <th>url</th>\n",
       "      <th>places</th>\n",
       "    </tr>\n",
       "    <tr>\n",
       "      <th>title</th>\n",
       "      <th></th>\n",
       "      <th></th>\n",
       "      <th></th>\n",
       "      <th></th>\n",
       "      <th></th>\n",
       "    </tr>\n",
       "  </thead>\n",
       "  <tbody>\n",
       "    <tr>\n",
       "      <th>Baby, Let Me Follow You Down</th>\n",
       "      <td>[The Bootleg Series, Vol 4: Bob Dylan Live 196...</td>\n",
       "      <td>Eric von Schmidt</td>\n",
       "      <td>I first heard this from Ric von Schmidt. He li...</td>\n",
       "      <td>https://bobdylan.com/songs/baby-let-me-follow-...</td>\n",
       "      <td>[Cambridge]</td>\n",
       "    </tr>\n",
       "    <tr>\n",
       "      <th>Oxford Town</th>\n",
       "      <td>[The Original Mono Recordings, The Freewheelin...</td>\n",
       "      <td>Bob Dylan</td>\n",
       "      <td>Oxford Town, Oxford Town\\r\\nEv’rybody’s got th...</td>\n",
       "      <td>https://bobdylan.com/songs/oxford-town/</td>\n",
       "      <td>[Mississippi]</td>\n",
       "    </tr>\n",
       "    <tr>\n",
       "      <th>Gonna Change My Way Of Thinking</th>\n",
       "      <td>[Slow Train Coming]</td>\n",
       "      <td>Bob Dylan</td>\n",
       "      <td>Gonna change my way of thinking\\r\\nMake myself...</td>\n",
       "      <td>https://bobdylan.com/songs/gonna-change-my-way...</td>\n",
       "      <td>[Georgia]</td>\n",
       "    </tr>\n",
       "    <tr>\n",
       "      <th>Rambling, Gambling Willie</th>\n",
       "      <td>[The Bootleg Series, Vol 1-3: Rare &amp; Unrelease...</td>\n",
       "      <td>Bob Dylan</td>\n",
       "      <td>Come around you rovin’ gamblers and a story I ...</td>\n",
       "      <td>https://bobdylan.com/songs/rambling-gambling-w...</td>\n",
       "      <td>[Mississippi, the Rocky Mountains, New Orleans]</td>\n",
       "    </tr>\n",
       "    <tr>\n",
       "      <th>Floater  (Too Much To Ask)</th>\n",
       "      <td>[“Love And Theft”]</td>\n",
       "      <td>Bob Dylan</td>\n",
       "      <td>Down over the window\\r\\nComes the dazzling sun...</td>\n",
       "      <td>https://bobdylan.com/songs/floater-too-much-ask/</td>\n",
       "      <td>[Tennessee, Cumberland, Ohio]</td>\n",
       "    </tr>\n",
       "  </tbody>\n",
       "</table>\n",
       "</div>"
      ],
      "text/plain": [
       "                                                                            albums  \\\n",
       "title                                                                                \n",
       "Baby, Let Me Follow You Down     [The Bootleg Series, Vol 4: Bob Dylan Live 196...   \n",
       "Oxford Town                      [The Original Mono Recordings, The Freewheelin...   \n",
       "Gonna Change My Way Of Thinking                                [Slow Train Coming]   \n",
       "Rambling, Gambling Willie        [The Bootleg Series, Vol 1-3: Rare & Unrelease...   \n",
       "Floater  (Too Much To Ask)                                      [“Love And Theft”]   \n",
       "\n",
       "                                           author  \\\n",
       "title                                               \n",
       "Baby, Let Me Follow You Down     Eric von Schmidt   \n",
       "Oxford Town                             Bob Dylan   \n",
       "Gonna Change My Way Of Thinking         Bob Dylan   \n",
       "Rambling, Gambling Willie               Bob Dylan   \n",
       "Floater  (Too Much To Ask)              Bob Dylan   \n",
       "\n",
       "                                                                            lyrics  \\\n",
       "title                                                                                \n",
       "Baby, Let Me Follow You Down     I first heard this from Ric von Schmidt. He li...   \n",
       "Oxford Town                      Oxford Town, Oxford Town\\r\\nEv’rybody’s got th...   \n",
       "Gonna Change My Way Of Thinking  Gonna change my way of thinking\\r\\nMake myself...   \n",
       "Rambling, Gambling Willie        Come around you rovin’ gamblers and a story I ...   \n",
       "Floater  (Too Much To Ask)       Down over the window\\r\\nComes the dazzling sun...   \n",
       "\n",
       "                                                                               url  \\\n",
       "title                                                                                \n",
       "Baby, Let Me Follow You Down     https://bobdylan.com/songs/baby-let-me-follow-...   \n",
       "Oxford Town                                https://bobdylan.com/songs/oxford-town/   \n",
       "Gonna Change My Way Of Thinking  https://bobdylan.com/songs/gonna-change-my-way...   \n",
       "Rambling, Gambling Willie        https://bobdylan.com/songs/rambling-gambling-w...   \n",
       "Floater  (Too Much To Ask)        https://bobdylan.com/songs/floater-too-much-ask/   \n",
       "\n",
       "                                                                          places  \n",
       "title                                                                             \n",
       "Baby, Let Me Follow You Down                                         [Cambridge]  \n",
       "Oxford Town                                                        [Mississippi]  \n",
       "Gonna Change My Way Of Thinking                                        [Georgia]  \n",
       "Rambling, Gambling Willie        [Mississippi, the Rocky Mountains, New Orleans]  \n",
       "Floater  (Too Much To Ask)                         [Tennessee, Cumberland, Ohio]  "
      ]
     },
     "execution_count": 7,
     "metadata": {},
     "output_type": "execute_result"
    }
   ],
   "source": [
    "# see some results\n",
    "df[df.places.astype(str) != '[]'].sample(n=5)"
   ]
  },
  {
   "cell_type": "markdown",
   "metadata": {},
   "source": [
    "## Count place references"
   ]
  },
  {
   "cell_type": "code",
   "execution_count": 11,
   "metadata": {},
   "outputs": [],
   "source": [
    "from collections import Counter, defaultdict\n",
    "\n",
    "c = Counter()          # count appearances of each place\n",
    "p = defaultdict(list)  # map places to songs\n",
    "\n",
    "for title, place_list in df.places.iteritems():\n",
    "    c.update(place_list)  \n",
    "    [p[pl].append(title) for pl in place_list]  "
   ]
  },
  {
   "cell_type": "markdown",
   "metadata": {},
   "source": [
    "### Merge place count data with city metadata"
   ]
  },
  {
   "cell_type": "code",
   "execution_count": 32,
   "metadata": {},
   "outputs": [],
   "source": [
    "# Make place counts into df\n",
    "places_df = pd.DataFrame(c.most_common(), columns=['city','cnt'])\n",
    "\n",
    "# Make mapping of places to songs into df\n",
    "song_map = pd.DataFrame(list(p.items()), columns=['city','songs'])\n",
    "\n",
    "# Load city meta-data\n",
    "city_meta_df = pd.read_csv('data/simplemaps-worldcities-basic.csv')"
   ]
  },
  {
   "cell_type": "code",
   "execution_count": 33,
   "metadata": {},
   "outputs": [],
   "source": [
    "# Merge all dataframes together\n",
    "city_df = pd.merge(places_df, song_map, on='city')\n",
    "city_df = pd.merge(city_df, city_meta_df, on='city')"
   ]
  },
  {
   "cell_type": "code",
   "execution_count": 34,
   "metadata": {},
   "outputs": [],
   "source": [
    "# For duplicate cities, drop the less populated one\n",
    "city_df = (city_df\n",
    "           .sort_values(by='pop')\n",
    "           .drop_duplicates(subset='city', keep='last'))"
   ]
  },
  {
   "cell_type": "code",
   "execution_count": 35,
   "metadata": {},
   "outputs": [],
   "source": [
    "# Drop some columns\n",
    "city_meta_df.drop(labels=['city_ascii','pop'], axis=1, inplace=True)"
   ]
  },
  {
   "cell_type": "code",
   "execution_count": 61,
   "metadata": {},
   "outputs": [
    {
     "data": {
      "text/html": [
       "<div>\n",
       "<style scoped>\n",
       "    .dataframe tbody tr th:only-of-type {\n",
       "        vertical-align: middle;\n",
       "    }\n",
       "\n",
       "    .dataframe tbody tr th {\n",
       "        vertical-align: top;\n",
       "    }\n",
       "\n",
       "    .dataframe thead th {\n",
       "        text-align: right;\n",
       "    }\n",
       "</style>\n",
       "<table border=\"1\" class=\"dataframe\">\n",
       "  <thead>\n",
       "    <tr style=\"text-align: right;\">\n",
       "      <th></th>\n",
       "      <th>city</th>\n",
       "      <th>cnt</th>\n",
       "      <th>songs</th>\n",
       "      <th>city_ascii</th>\n",
       "      <th>lat</th>\n",
       "      <th>lng</th>\n",
       "      <th>pop</th>\n",
       "      <th>country</th>\n",
       "      <th>iso2</th>\n",
       "      <th>iso3</th>\n",
       "      <th>province</th>\n",
       "    </tr>\n",
       "  </thead>\n",
       "  <tbody>\n",
       "    <tr>\n",
       "      <th>0</th>\n",
       "      <td>New Orleans</td>\n",
       "      <td>6</td>\n",
       "      <td>[Blind Willie McTell, Bob Dylan’s New Orleans ...</td>\n",
       "      <td>New Orleans</td>\n",
       "      <td>29.995002</td>\n",
       "      <td>-90.039967</td>\n",
       "      <td>527428.5</td>\n",
       "      <td>United States of America</td>\n",
       "      <td>US</td>\n",
       "      <td>USA</td>\n",
       "      <td>Louisiana</td>\n",
       "    </tr>\n",
       "    <tr>\n",
       "      <th>6</th>\n",
       "      <td>London</td>\n",
       "      <td>4</td>\n",
       "      <td>[Jack-A-Roe, Not Dark Yet, Something’s Burning...</td>\n",
       "      <td>London</td>\n",
       "      <td>51.499995</td>\n",
       "      <td>-0.116722</td>\n",
       "      <td>7994104.5</td>\n",
       "      <td>United Kingdom</td>\n",
       "      <td>GB</td>\n",
       "      <td>GBR</td>\n",
       "      <td>Westminster</td>\n",
       "    </tr>\n",
       "    <tr>\n",
       "      <th>4</th>\n",
       "      <td>Memphis</td>\n",
       "      <td>4</td>\n",
       "      <td>[Gypsy Lou, Kingsport Town, Someone’s Got A Ho...</td>\n",
       "      <td>Memphis</td>\n",
       "      <td>35.119987</td>\n",
       "      <td>-89.999995</td>\n",
       "      <td>753843.5</td>\n",
       "      <td>United States of America</td>\n",
       "      <td>US</td>\n",
       "      <td>USA</td>\n",
       "      <td>Tennessee</td>\n",
       "    </tr>\n",
       "    <tr>\n",
       "      <th>1</th>\n",
       "      <td>El Paso</td>\n",
       "      <td>4</td>\n",
       "      <td>[Billy 1, Billy 4, She’s Your Lover Now, Wante...</td>\n",
       "      <td>El Paso</td>\n",
       "      <td>31.779984</td>\n",
       "      <td>-106.509995</td>\n",
       "      <td>658331.0</td>\n",
       "      <td>United States of America</td>\n",
       "      <td>US</td>\n",
       "      <td>USA</td>\n",
       "      <td>Texas</td>\n",
       "    </tr>\n",
       "    <tr>\n",
       "      <th>3</th>\n",
       "      <td>San Francisco</td>\n",
       "      <td>4</td>\n",
       "      <td>[California, Maybe Someday, She’s Your Lover N...</td>\n",
       "      <td>San Francisco</td>\n",
       "      <td>37.740008</td>\n",
       "      <td>-122.459978</td>\n",
       "      <td>2091036.0</td>\n",
       "      <td>United States of America</td>\n",
       "      <td>US</td>\n",
       "      <td>USA</td>\n",
       "      <td>California</td>\n",
       "    </tr>\n",
       "  </tbody>\n",
       "</table>\n",
       "</div>"
      ],
      "text/plain": [
       "            city  cnt                                              songs  \\\n",
       "0    New Orleans    6  [Blind Willie McTell, Bob Dylan’s New Orleans ...   \n",
       "6         London    4  [Jack-A-Roe, Not Dark Yet, Something’s Burning...   \n",
       "4        Memphis    4  [Gypsy Lou, Kingsport Town, Someone’s Got A Ho...   \n",
       "1        El Paso    4  [Billy 1, Billy 4, She’s Your Lover Now, Wante...   \n",
       "3  San Francisco    4  [California, Maybe Someday, She’s Your Lover N...   \n",
       "\n",
       "      city_ascii        lat         lng        pop                   country  \\\n",
       "0    New Orleans  29.995002  -90.039967   527428.5  United States of America   \n",
       "6         London  51.499995   -0.116722  7994104.5            United Kingdom   \n",
       "4        Memphis  35.119987  -89.999995   753843.5  United States of America   \n",
       "1        El Paso  31.779984 -106.509995   658331.0  United States of America   \n",
       "3  San Francisco  37.740008 -122.459978  2091036.0  United States of America   \n",
       "\n",
       "  iso2 iso3     province  \n",
       "0   US  USA    Louisiana  \n",
       "6   GB  GBR  Westminster  \n",
       "4   US  USA    Tennessee  \n",
       "1   US  USA        Texas  \n",
       "3   US  USA   California  "
      ]
     },
     "execution_count": 61,
     "metadata": {},
     "output_type": "execute_result"
    }
   ],
   "source": [
    "# See results (sorted by count)\n",
    "city_df.sort_values('cnt', ascending=False, inplace=True)\n",
    "city_df.head()"
   ]
  },
  {
   "cell_type": "code",
   "execution_count": 60,
   "metadata": {},
   "outputs": [],
   "source": [
    "# Save to csv\n",
    "city_df.to_csv('data/city_counts.csv', index=False)"
   ]
  }
 ],
 "metadata": {
  "kernelspec": {
   "display_name": "Python 3",
   "language": "python",
   "name": "python3"
  },
  "language_info": {
   "codemirror_mode": {
    "name": "ipython",
    "version": 3
   },
   "file_extension": ".py",
   "mimetype": "text/x-python",
   "name": "python",
   "nbconvert_exporter": "python",
   "pygments_lexer": "ipython3",
   "version": "3.6.4"
  }
 },
 "nbformat": 4,
 "nbformat_minor": 2
}
