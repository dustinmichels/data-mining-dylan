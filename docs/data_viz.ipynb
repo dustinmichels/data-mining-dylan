{
 "cells": [
  {
   "cell_type": "markdown",
   "metadata": {},
   "source": [
    "# Data Mining Dylan"
   ]
  },
  {
   "cell_type": "markdown",
   "metadata": {},
   "source": [
    "*Which places does Dylan sing about the most?*\n",
    "\n",
    "- For named entity recognition code, see `find_cities.ipynb`\n",
    "- For web scraping code, see `dylan_scraper.py`"
   ]
  },
  {
   "cell_type": "code",
   "execution_count": 1,
   "metadata": {},
   "outputs": [],
   "source": [
    "import pandas as pd\n",
    "import folium\n",
    "import altair\n",
    "from analysis import tidy_table"
   ]
  },
  {
   "cell_type": "code",
   "execution_count": 2,
   "metadata": {},
   "outputs": [],
   "source": [
    "# Load city data from file\n",
    "city_df = pd.read_json('data/city_counts.json')\n",
    "songs_df = pd.read_json('data/songs.json')"
   ]
  },
  {
   "cell_type": "code",
   "execution_count": 3,
   "metadata": {},
   "outputs": [],
   "source": [
    "# Make tidy versions\n",
    "city_tidy = tidy_table(city_df, ['songs'])\n",
    "songs_tidy = tidy_table(songs_df, ['albums'])\n",
    "df = pd.merge(city_tidy, songs_tidy, left_on='song', right_on='title')"
   ]
  },
  {
   "cell_type": "markdown",
   "metadata": {},
   "source": [
    "## A bar chart"
   ]
  },
  {
   "cell_type": "code",
   "execution_count": 4,
   "metadata": {},
   "outputs": [
    {
     "data": {
      "text/html": [
       "<div class=\"vega-embed\" id=\"a3c5384b-2114-413d-947d-84a1b854d2bf\"></div>\n",
       "\n",
       "<style>\n",
       ".vega-embed svg, .vega-embed canvas {\n",
       "  border: 1px dotted gray;\n",
       "}\n",
       "\n",
       ".vega-embed .vega-actions a {\n",
       "  margin-right: 6px;\n",
       "}\n",
       "</style>\n"
      ]
     },
     "metadata": {
      "jupyter-vega": "#a3c5384b-2114-413d-947d-84a1b854d2bf"
     },
     "output_type": "display_data"
    },
    {
     "data": {
      "application/javascript": [
       "var spec = {\"config\": {\"cell\": {\"width\": 500, \"height\": 350}}, \"encoding\": {\"x\": {\"field\": \"city\", \"type\": \"nominal\"}, \"y\": {\"field\": \"cnt\", \"type\": \"quantitative\"}}, \"mark\": \"bar\", \"data\": {\"values\": [{\"city\": \"New Orleans\", \"cnt\": 6, \"country\": \"United States of America\", \"iso2\": \"US\", \"iso3\": \"USA\", \"lat\": 29.99500246, \"lng\": -90.03996688, \"province\": \"Louisiana\", \"songs\": [\"Blind Willie McTell\", \"Bob Dylan\\u2019s New Orleans Rag\", \"House Of the Risin\\u2019 Sun\", \"Rambling, Gambling Willie\", \"Tangled Up In Blue\", \"Tryin\\u2019 To Get To Heaven\"]}, {\"city\": \"El Paso\", \"cnt\": 4, \"country\": \"United States of America\", \"iso2\": \"US\", \"iso3\": \"USA\", \"lat\": 31.77998395, \"lng\": -106.5099952, \"province\": \"Texas\", \"songs\": [\"Billy 1\", \"Billy 4\", \"She\\u2019s Your Lover Now\", \"Wanted Man\"]}, {\"city\": \"Chicago\", \"cnt\": 2, \"country\": \"United States of America\", \"iso2\": \"US\", \"iso3\": \"USA\", \"lat\": 41.82999066, \"lng\": -87.75005497, \"province\": \"Illinois\", \"songs\": [\"Cold Irons Bound\", \"The Death Of Emmett Till\"]}, {\"city\": \"Denver\", \"cnt\": 2, \"country\": \"United States of America\", \"iso2\": \"US\", \"iso3\": \"USA\", \"lat\": 39.73918805, \"lng\": -104.984016, \"province\": \"Colorado\", \"songs\": [\"Cry A While\", \"Gypsy Lou\"]}, {\"city\": \"Montana\", \"cnt\": 2, \"country\": \"Bulgaria\", \"iso2\": \"BG\", \"iso3\": \"BGR\", \"lat\": 43.41400203, \"lng\": 23.23700161, \"province\": \"Montana\", \"songs\": [\"Dusty Old Fairgrounds\", \"Three Angels\"]}, {\"city\": \"Florida\", \"cnt\": 2, \"country\": \"Uruguay\", \"iso2\": \"UY\", \"iso3\": \"URY\", \"lat\": -34.09900201, \"lng\": -56.21499845, \"province\": \"Florida\", \"songs\": [\"Dusty Old Fairgrounds\", \"Po\\u2019 Boy\"]}, {\"city\": \"Tallahassee\", \"cnt\": 2, \"country\": \"United States of America\", \"iso2\": \"US\", \"iso3\": \"USA\", \"lat\": 30.44998761, \"lng\": -84.28003422, \"province\": \"Florida\", \"songs\": [\"Got My Mind Made Up\", \"Wanted Man\"]}, {\"city\": \"Wichita\", \"cnt\": 2, \"country\": \"United States of America\", \"iso2\": \"US\", \"iso3\": \"USA\", \"lat\": 37.71998313, \"lng\": -97.32998702, \"province\": \"Kansas\", \"songs\": [\"Gypsy Lou\", \"Yea! Heavy And A Bottle Of Bread\"]}, {\"city\": \"Kansas City\", \"cnt\": 2, \"country\": \"United States of America\", \"iso2\": \"US\", \"iso3\": \"USA\", \"lat\": 39.10708851, \"lng\": -94.60409422, \"province\": \"Missouri\", \"songs\": [\"High Water (For Charley Patton)\", \"Wanted Man\"]}, {\"city\": \"Boston\", \"cnt\": 2, \"country\": \"United States of America\", \"iso2\": \"US\", \"iso3\": \"USA\", \"lat\": 42.32996014, \"lng\": -71.07001367, \"province\": \"Massachusetts\", \"songs\": [\"Highlands\", \"Two Soldiers\"]}, {\"city\": \"Rome\", \"cnt\": 2, \"country\": \"Italy\", \"iso2\": \"IT\", \"iso3\": \"ITA\", \"lat\": 41.89595563, \"lng\": 12.48325842, \"province\": \"Lazio\", \"songs\": [\"Neighborhood Bully\", \"When I Paint My Masterpiece\"]}, {\"city\": \"Baltimore\", \"cnt\": 2, \"country\": \"United States of America\", \"iso2\": \"US\", \"iso3\": \"USA\", \"lat\": 39.29999005, \"lng\": -76.61998499, \"province\": \"Maryland\", \"songs\": [\"The Lonesome Death Of Hattie Carroll\", \"Tryin\\u2019 To Get To Heaven\"]}, {\"city\": \"San Francisco\", \"cnt\": 4, \"country\": \"United States of America\", \"iso2\": \"US\", \"iso3\": \"USA\", \"lat\": 37.74000775, \"lng\": -122.4599777, \"province\": \"California\", \"songs\": [\"California\", \"Maybe Someday\", \"She\\u2019s Your Lover Now\", \"You\\u2019re Gonna Make Me Lonesome When You Go\"]}, {\"city\": \"Memphis\", \"cnt\": 4, \"country\": \"United States of America\", \"iso2\": \"US\", \"iso3\": \"USA\", \"lat\": 35.1199868, \"lng\": -89.99999516, \"province\": \"Tennessee\", \"songs\": [\"Gypsy Lou\", \"Kingsport Town\", \"Someone\\u2019s Got A Hold Of My Heart\", \"Stuck Inside Of Mobile With The Memphis Blues Again\"]}, {\"city\": \"London\", \"cnt\": 4, \"country\": \"United Kingdom\", \"iso2\": \"GB\", \"iso3\": \"GBR\", \"lat\": 51.49999473, \"lng\": -0.116721844, \"province\": \"Westminster\", \"songs\": [\"Jack-A-Roe\", \"Not Dark Yet\", \"Something\\u2019s Burning, Baby\", \"T.V. Talkin\\u2019 Song\"]}, {\"city\": \"New York\", \"cnt\": 3, \"country\": \"United States of America\", \"iso2\": \"US\", \"iso3\": \"USA\", \"lat\": 40.74997906, \"lng\": -73.98001693, \"province\": \"New York\", \"songs\": [\"Hard Times In New York Town\", \"Joey\", \"Talkin\\u2019 New York\"]}, {\"city\": \"Jerusalem\", \"cnt\": 2, \"country\": \"Israel\", \"iso2\": \"IL\", \"iso3\": \"ISR\", \"lat\": 31.778407819999998, \"lng\": 35.20662593, \"province\": \"Jerusalem\", \"songs\": [\"Angelina\", \"Blind Willie McTell\"]}]}, \"$schema\": \"https://vega.github.io/schema/vega-lite/v1.2.1.json\"};\n",
       "var selector = \"#a3c5384b-2114-413d-947d-84a1b854d2bf\";\n",
       "var type = \"vega-lite\";\n",
       "\n",
       "var output_area = this;\n",
       "require(['nbextensions/jupyter-vega/index'], function(vega) {\n",
       "  vega.render(selector, spec, type, output_area);\n",
       "}, function (err) {\n",
       "  if (err.requireType !== 'scripterror') {\n",
       "    throw(err);\n",
       "  }\n",
       "});\n"
      ]
     },
     "metadata": {
      "jupyter-vega": "#a3c5384b-2114-413d-947d-84a1b854d2bf"
     },
     "output_type": "display_data"
    },
    {
     "data": {
      "image/png": "[encoded data removed]"
     },
     "metadata": {
      "jupyter-vega": "#a3c5384b-2114-413d-947d-84a1b854d2bf"
     },
     "output_type": "display_data"
    }
   ],
   "source": [
    "altair.Chart(city_df.query('cnt > 1')).mark_bar().encode(\n",
    "    x='city', y='cnt')"
   ]
  },
  {
   "cell_type": "markdown",
   "metadata": {},
   "source": [
    "## A Map"
   ]
  },
  {
   "cell_type": "code",
   "execution_count": 5,
   "metadata": {},
   "outputs": [],
   "source": [
    "import ipywidgets as widgets"
   ]
  },
  {
   "cell_type": "code",
   "execution_count": 6,
   "metadata": {},
   "outputs": [],
   "source": [
    "from viz_tools import get_place_selector, make_map"
   ]
  },
  {
   "cell_type": "code",
   "execution_count": 7,
   "metadata": {
    "scrolled": true
   },
   "outputs": [],
   "source": [
    "view = get_place_selector(city_df, songs_df)"
   ]
  },
  {
   "cell_type": "code",
   "execution_count": 8,
   "metadata": {},
   "outputs": [
    {
     "data": {
      "application/vnd.jupyter.widget-view+json": {
       "model_id": "13605695bcd34ae6b0804d054ae2924a"
      }
     },
     "metadata": {},
     "output_type": "display_data"
    }
   ],
   "source": [
    "view"
   ]
  },
  {
   "cell_type": "markdown",
   "metadata": {},
   "source": [
    "### Folium"
   ]
  },
  {
   "cell_type": "code",
   "execution_count": 9,
   "metadata": {},
   "outputs": [],
   "source": [
    "from folium import plugins"
   ]
  },
  {
   "cell_type": "code",
   "execution_count": 10,
   "metadata": {
    "scrolled": true
   },
   "outputs": [
    {
     "data": {
      "text/html": [
       "<div style=\"width:100%;\"><div style=\"position:relative;width:100%;height:0;padding-bottom:60%;\"><iframe src=\"data:text/html;charset=utf-8;base64,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\" style=\"position:absolute;width:100%;height:100%;left:0;top:0;border:none !important;\" allowfullscreen webkitallowfullscreen mozallowfullscreen></iframe></div></div>"
      ],
      "text/plain": [
       "<folium.folium.Map at 0x10f276470>"
      ]
     },
     "execution_count": 10,
     "metadata": {},
     "output_type": "execute_result"
    }
   ],
   "source": [
    "folium_map = folium.Map(\n",
    "    location=(city_df.lat.median(), city_df.lng.median()),\n",
    "    zoom_start=2)\n",
    "\n",
    "popup_text = (\"{}<br>\"\n",
    "              \"Count: {}<br>\")\n",
    "\n",
    "for idx, row in city_df.iterrows():\n",
    "    folium.CircleMarker(\n",
    "        location=(row.lat, row.lng),\n",
    "        radius=row.cnt,\n",
    "        color=\"green\",\n",
    "        fill=True,\n",
    "        popup=folium.Popup(\n",
    "            html=popup_text.format(row.city, row.cnt),\n",
    "            max_width=1000) \n",
    "    ).add_to(folium_map)\n",
    "\n",
    "folium_map"
   ]
  },
  {
   "cell_type": "markdown",
   "metadata": {},
   "source": [
    "### Ipyleaflet"
   ]
  },
  {
   "cell_type": "code",
   "execution_count": 11,
   "metadata": {},
   "outputs": [],
   "source": [
    "from ipyleaflet import (\n",
    "    Map,\n",
    "    Marker, MarkerCluster,\n",
    "    TileLayer, ImageOverlay,\n",
    "    Polyline, Polygon, Rectangle, Circle, CircleMarker,\n",
    "    GeoJSON,\n",
    "    DrawControl\n",
    ")"
   ]
  },
  {
   "cell_type": "code",
   "execution_count": null,
   "metadata": {},
   "outputs": [],
   "source": [
    "center = [34.6252978589571, -77.34580993652344]\n",
    "zoom = 10"
   ]
  },
  {
   "cell_type": "code",
   "execution_count": null,
   "metadata": {},
   "outputs": [],
   "source": [
    "m = Map(default_tiles=TileLayer(opacity=1.0), center=center, zoom=zoom)\n",
    "\n",
    "cm = CircleMarker(\n",
    "    location=m.center, radius=30, weight=2,\n",
    "    color='#F00', opacity=1.0, fill_opacity=1.0,\n",
    "    fill_color='#0F0')\n",
    "\n",
    "def handle_marker(change):\n",
    "    print(change)\n",
    "\n",
    "cm.observe(handle_marker)"
   ]
  },
  {
   "cell_type": "code",
   "execution_count": null,
   "metadata": {},
   "outputs": [],
   "source": [
    "m.add_layer(cm)"
   ]
  },
  {
   "cell_type": "code",
   "execution_count": null,
   "metadata": {},
   "outputs": [],
   "source": [
    "m"
   ]
  },
  {
   "cell_type": "code",
   "execution_count": null,
   "metadata": {},
   "outputs": [],
   "source": [
    "m.layers"
   ]
  },
  {
   "cell_type": "code",
   "execution_count": null,
   "metadata": {},
   "outputs": [],
   "source": []
  }
 ],
 "metadata": {
  "kernelspec": {
   "display_name": "Python 3",
   "language": "python",
   "name": "python3"
  },
  "language_info": {
   "codemirror_mode": {
    "name": "ipython",
    "version": 3
   },
   "file_extension": ".py",
   "mimetype": "text/x-python",
   "name": "python",
   "nbconvert_exporter": "python",
   "pygments_lexer": "ipython3",
   "version": "3.6.4"
  },
  "widgets": {
   "application/vnd.jupyter.widget-state+json": {
    "state": {
     "0018446f878f486fa52b9f283ae822bc": {
      "model_module": "@jupyter-widgets/controls",
      "model_module_version": "1.1.0",
      "model_name": "DescriptionStyleModel",
      "state": {
       "description_width": ""
      }
     },
     "022875d995b14f1caf718a4e86337db4": {
      "model_module": "@jupyter-widgets/controls",
      "model_module_version": "1.1.0",
      "model_name": "DropdownModel",
      "state": {
       "_options_labels": [
        "Abilene",
        "Albuquerque",
        "Amarillo",
        "Amsterdam",
        "Arlington",
        "Atlanta",
        "Atlantic City",
        "Austin",
        "Baltimore",
        "Barcelona",
        "Baton Rouge",
        "Boston",
        "Brownsville",
        "Brussels",
        "Buffalo",
        "Cambridge",
        "Carbondale",
        "Cheyenne",
        "Chicago",
        "Columbus",
        "Cumberland",
        "Dallas",
        "Denver",
        "Detroit",
        "Durango",
        "El Paso",
        "Florida",
        "Hamburg",
        "Hong Kong",
        "Honolulu",
        "Houston",
        "Jackson",
        "Jerusalem",
        "Juarez",
        "Kansas City",
        "Las Vegas",
        "Liverpool",
        "London",
        "Madrid",
        "Memphis",
        "Mexico City",
        "Miami",
        "Mobile",
        "Montana",
        "Nazareth",
        "New Orleans",
        "New York",
        "Omaha",
        "Paris",
        "Paterson",
        "Pittsburgh",
        "Richmond",
        "Rome",
        "San Francisco",
        "San Pedro",
        "Shreveport",
        "Singapore",
        "St. Petersburg",
        "Syracuse",
        "Tallahassee",
        "Vicksburg",
        "Wichita"
       ],
       "index": 0,
       "layout": "IPY_MODEL_b6baca10f5804ba89f822413695e1f91",
       "style": "IPY_MODEL_47d6d87722374b8d9fd86d7b6e5bd607"
      }
     },
     "033af05bb75a4df5bbc4209e6aedcc2f": {
      "model_module": "@jupyter-widgets/base",
      "model_module_version": "1.0.0",
      "model_name": "LayoutModel",
      "state": {}
     },
     "033d5c16eb38414993bcd247520166ed": {
      "model_module": "@jupyter-widgets/controls",
      "model_module_version": "1.1.0",
      "model_name": "BoxModel",
      "state": {
       "children": [
        "IPY_MODEL_c43e3b7c92564151af73fcda59838821"
       ],
       "layout": "IPY_MODEL_2aa34adb4ec24defb9ce93f6f7ba5c00"
      }
     },
     "0a19281c62cd409d94ebca8cb1b4768f": {
      "model_module": "@jupyter-widgets/base",
      "model_module_version": "1.0.0",
      "model_name": "LayoutModel",
      "state": {}
     },
     "0c171082152040189e91543e3a61e383": {
      "model_module": "@jupyter-widgets/controls",
      "model_module_version": "1.1.0",
      "model_name": "VBoxModel",
      "state": {
       "children": [
        "IPY_MODEL_c3d7e3cb3df84068a2d3027361b2698a",
        "IPY_MODEL_69ab5c69638c429f9432e4c124b4aa6a"
       ],
       "layout": "IPY_MODEL_125615f003f840bb87de67c6783b2dad"
      }
     },
     "105a92b0ef464dc4a9016f159e5e5484": {
      "model_module": "@jupyter-widgets/base",
      "model_module_version": "1.0.0",
      "model_name": "LayoutModel",
      "state": {
       "align_self": "stretch",
       "height": "400px"
      }
     },
     "125615f003f840bb87de67c6783b2dad": {
      "model_module": "@jupyter-widgets/base",
      "model_module_version": "1.0.0",
      "model_name": "LayoutModel",
      "state": {}
     },
     "13ccf5c1198a438fbba5ef583092f553": {
      "model_module": "@jupyter-widgets/base",
      "model_module_version": "1.0.0",
      "model_name": "LayoutModel",
      "state": {
       "align_self": "stretch",
       "height": "400px"
      }
     },
     "220ff6024d5b424b8fd9a332f029d3fc": {
      "model_module": "@jupyter-widgets/controls",
      "model_module_version": "1.1.0",
      "model_name": "VBoxModel",
      "state": {
       "children": [
        "IPY_MODEL_b6f0caac220546289a7b8c14fbad1afd",
        "IPY_MODEL_97d8fdc9bb754f2b9f624eae89db2c4b"
       ],
       "layout": "IPY_MODEL_fd3a43d6de27453db680422961ac8a1e"
      }
     },
     "22ea6eff0f7d4e48a24ce5bc414e3101": {
      "model_module": "jupyter-leaflet",
      "model_module_version": "~0.6.0",
      "model_name": "LeafletCircleMarkerModel",
      "state": {
       "_model_module_version": "~0.6.0",
       "_view_count": null,
       "_view_module_version": "~0.6.0",
       "location": [
        34.6252978589571,
        -77.34580993652344
       ],
       "opacity": 0,
       "options": [
        "class_name",
        "clickable",
        "color",
        "dash_array",
        "fill",
        "fill_color",
        "fill_opacity",
        "line_cap",
        "line_join",
        "pointer_events",
        "stroke",
        "weight"
       ]
      }
     },
     "2aa34adb4ec24defb9ce93f6f7ba5c00": {
      "model_module": "@jupyter-widgets/base",
      "model_module_version": "1.0.0",
      "model_name": "LayoutModel",
      "state": {}
     },
     "2abbebacebd145b389fc76a81d0604d9": {
      "model_module": "jupyter-leaflet",
      "model_module_version": "~0.6.0",
      "model_name": "LeafletTileLayerModel",
      "state": {
       "_model_module_version": "~0.6.0",
       "_view_count": null,
       "_view_module_version": "~0.6.0",
       "max_zoom": 19,
       "min_zoom": 1,
       "opacity": 0,
       "options": [
        "attribution",
        "detect_retina",
        "max_zoom",
        "min_zoom",
        "tile_size"
       ]
      }
     },
     "2acb8fbd60e8457a9669929a4f050c1b": {
      "model_module": "@jupyter-widgets/base",
      "model_module_version": "1.0.0",
      "model_name": "LayoutModel",
      "state": {}
     },
     "2e7d047f5a594198a19cc9504c060e79": {
      "model_module": "@jupyter-widgets/controls",
      "model_module_version": "1.0.0",
      "model_name": "DescriptionStyleModel",
      "state": {
       "_model_module_version": "1.0.0",
       "description_width": ""
      }
     },
     "2f1da2c3ad784108922931efe40eea52": {
      "model_module": "@jupyter-widgets/controls",
      "model_module_version": "1.1.0",
      "model_name": "VBoxModel",
      "state": {
       "children": [
        "IPY_MODEL_9ad9fab4526843649270a936c260232d",
        "IPY_MODEL_4649a945b2ed480cb53e78ec324d6908"
       ],
       "layout": "IPY_MODEL_0a19281c62cd409d94ebca8cb1b4768f"
      }
     },
     "2fc8150d66d44d2988dae5b3ae176f5f": {
      "model_module": "@jupyter-widgets/base",
      "model_module_version": "1.0.0",
      "model_name": "LayoutModel",
      "state": {}
     },
     "3b051986420a4f829f963ee2e784f5a6": {
      "model_module": "@jupyter-widgets/base",
      "model_module_version": "1.0.0",
      "model_name": "LayoutModel",
      "state": {}
     },
     "3b43d9182c894362b1d9a60c4f1d06fb": {
      "model_module": "jupyter-leaflet",
      "model_module_version": "~0.6.0",
      "model_name": "LeafletMapModel",
      "state": {
       "_dom_classes": [],
       "_model_module_version": "~0.6.0",
       "_view_count": null,
       "_view_module_version": "~0.6.0",
       "basemap": {
        "attribution": "Map data (c) <a href=\"https://openstreetmap.org\">OpenStreetMap</a> contributors",
        "max_zoom": 19,
        "url": "https://{s}.tile.openstreetmap.org/{z}/{x}/{y}.png"
       },
       "center": [
        34.6252978589571,
        -77.34580993652344
       ],
       "default_tiles": "IPY_MODEL_6fb3d0adad9c4348841069bdad7e3927",
       "layers": [
        "IPY_MODEL_6fb3d0adad9c4348841069bdad7e3927",
        "IPY_MODEL_f6f652c86bd3472e8e85abe1d12ee3f9"
       ],
       "layout": "IPY_MODEL_105a92b0ef464dc4a9016f159e5e5484",
       "modisdate": "yesterday",
       "options": [
        "attribution_control",
        "basemap",
        "bounce_at_zoom_limits",
        "box_zoom",
        "center",
        "close_popup_on_click",
        "double_click_zoom",
        "dragging",
        "inertia",
        "inertia_deceleration",
        "inertia_max_speed",
        "keyboard",
        "keyboard_pan_offset",
        "keyboard_zoom_offset",
        "max_zoom",
        "min_zoom",
        "scroll_wheel_zoom",
        "tap",
        "tap_tolerance",
        "touch_zoom",
        "world_copy_jump",
        "zoom",
        "zoom_animation_threshold",
        "zoom_control",
        "zoom_start"
       ],
       "zoom": 10
      }
     },
     "3d429b4c9c75422e865bc7df1aed099f": {
      "model_module": "@jupyter-widgets/controls",
      "model_module_version": "1.0.0",
      "model_name": "HTMLModel",
      "state": {
       "_model_module_version": "1.0.0",
       "_view_module_version": "1.0.0",
       "layout": "IPY_MODEL_f0e924146de64f4dbc69fc0fcbf7f958",
       "style": "IPY_MODEL_2e7d047f5a594198a19cc9504c060e79"
      }
     },
     "3d9b1cf2b9c04444b4bc08b449d6651d": {
      "model_module": "@jupyter-widgets/controls",
      "model_module_version": "1.1.0",
      "model_name": "HTMLModel",
      "state": {
       "layout": "IPY_MODEL_c8f86864629049f0bcd8175e816d1d61",
       "style": "IPY_MODEL_f96cb5c716b144949647e3142a3b7dc8"
      }
     },
     "42f439a4b6484c7b955e9f1b53dd3479": {
      "model_module": "@jupyter-widgets/controls",
      "model_module_version": "1.1.0",
      "model_name": "SelectModel",
      "state": {
       "_options_labels": [
        "Wanted Man"
       ],
       "index": 0,
       "layout": "IPY_MODEL_ba9a875d0f3045ae896f7f03a75c1f9c",
       "style": "IPY_MODEL_57ebe74ac61c4b41a3939c405b5d2afb"
      }
     },
     "44212dc8bbbd4784ac0abc728481ef0f": {
      "model_module": "@jupyter-widgets/controls",
      "model_module_version": "1.1.0",
      "model_name": "DescriptionStyleModel",
      "state": {
       "description_width": ""
      }
     },
     "448e76fa3bc043a1936bc12eb4003f16": {
      "model_module": "@jupyter-widgets/base",
      "model_module_version": "1.0.0",
      "model_name": "LayoutModel",
      "state": {}
     },
     "4649a945b2ed480cb53e78ec324d6908": {
      "model_module": "@jupyter-widgets/controls",
      "model_module_version": "1.1.0",
      "model_name": "HBoxModel",
      "state": {
       "children": [
        "IPY_MODEL_42f439a4b6484c7b955e9f1b53dd3479",
        "IPY_MODEL_c16f9cb244444003ae3f4e0c47a04137"
       ],
       "layout": "IPY_MODEL_e859cc2a7e9743488bbda96bf888999b"
      }
     },
     "4672fea2ec864328b93df427dd58d42a": {
      "model_module": "jupyter-leaflet",
      "model_module_version": "~0.6.0",
      "model_name": "LeafletCircleMarkerModel",
      "state": {
       "_model_module_version": "~0.6.0",
       "_view_count": null,
       "_view_module_version": "~0.6.0",
       "color": "#F00",
       "fill_color": "#0F0",
       "fill_opacity": 1,
       "location": [
        34.6252978589571,
        -77.34580993652344
       ],
       "options": [
        "class_name",
        "clickable",
        "color",
        "dash_array",
        "fill",
        "fill_color",
        "fill_opacity",
        "line_cap",
        "line_join",
        "pointer_events",
        "stroke",
        "weight"
       ],
       "radius": 30,
       "weight": 2
      }
     },
     "46931ba04a1344038c2a5c8d35ca2d67": {
      "model_module": "@jupyter-widgets/controls",
      "model_module_version": "1.0.0",
      "model_name": "DropdownModel",
      "state": {
       "_model_module_version": "1.0.0",
       "_options_labels": [
        "Abilene",
        "Albuquerque",
        "Amarillo",
        "Amsterdam",
        "Arlington",
        "Atlanta",
        "Atlantic City",
        "Austin",
        "Baltimore",
        "Barcelona",
        "Baton Rouge",
        "Boston",
        "Brownsville",
        "Brussels",
        "Buffalo",
        "Cambridge",
        "Carbondale",
        "Cheyenne",
        "Chicago",
        "Columbus",
        "Cumberland",
        "Dallas",
        "Denver",
        "Detroit",
        "Durango",
        "El Paso",
        "Florida",
        "Hamburg",
        "Hong Kong",
        "Honolulu",
        "Houston",
        "Jackson",
        "Jerusalem",
        "Juarez",
        "Kansas City",
        "Las Vegas",
        "Liverpool",
        "London",
        "Madrid",
        "Memphis",
        "Mexico City",
        "Miami",
        "Mobile",
        "Montana",
        "Nazareth",
        "New Orleans",
        "New York",
        "Omaha",
        "Paris",
        "Paterson",
        "Pittsburgh",
        "Richmond",
        "Rome",
        "San Francisco",
        "San Pedro",
        "Shreveport",
        "Singapore",
        "St. Petersburg",
        "Syracuse",
        "Tallahassee",
        "Vicksburg",
        "Wichita"
       ],
       "_view_module_version": "1.0.0",
       "index": 0,
       "layout": "IPY_MODEL_3b051986420a4f829f963ee2e784f5a6",
       "style": "IPY_MODEL_f83f08f32eab4fa1b245cf217c9ce266"
      }
     },
     "47d6d87722374b8d9fd86d7b6e5bd607": {
      "model_module": "@jupyter-widgets/controls",
      "model_module_version": "1.1.0",
      "model_name": "DescriptionStyleModel",
      "state": {
       "description_width": ""
      }
     },
     "4a99fba36b0d4e0e80cb4a9f0620e8dd": {
      "model_module": "@jupyter-widgets/base",
      "model_module_version": "1.0.0",
      "model_name": "LayoutModel",
      "state": {}
     },
     "4b71e5012b35419a85b3e2bf2f32a817": {
      "model_module": "@jupyter-widgets/base",
      "model_module_version": "1.0.0",
      "model_name": "LayoutModel",
      "state": {
       "align_self": "stretch",
       "height": "400px"
      }
     },
     "5097496e490343b5bfe36f971251cf89": {
      "model_module": "@jupyter-widgets/controls",
      "model_module_version": "1.0.0",
      "model_name": "HBoxModel",
      "state": {
       "_model_module_version": "1.0.0",
       "_view_module_version": "1.0.0",
       "children": [
        "IPY_MODEL_46931ba04a1344038c2a5c8d35ca2d67",
        "IPY_MODEL_3d429b4c9c75422e865bc7df1aed099f"
       ],
       "layout": "IPY_MODEL_4a99fba36b0d4e0e80cb4a9f0620e8dd"
      }
     },
     "57ebe74ac61c4b41a3939c405b5d2afb": {
      "model_module": "@jupyter-widgets/controls",
      "model_module_version": "1.1.0",
      "model_name": "DescriptionStyleModel",
      "state": {
       "description_width": ""
      }
     },
     "5ac7f461fa87457f9b3108389c42a6e1": {
      "model_module": "@jupyter-widgets/controls",
      "model_module_version": "1.1.0",
      "model_name": "DescriptionStyleModel",
      "state": {
       "description_width": ""
      }
     },
     "62119b84a6364c6dbbc23ea95c0e12d1": {
      "model_module": "jupyter-leaflet",
      "model_module_version": "~0.6.0",
      "model_name": "LeafletMapModel",
      "state": {
       "_dom_classes": [],
       "_model_module_version": "~0.6.0",
       "_view_count": null,
       "_view_module_version": "~0.6.0",
       "basemap": {
        "attribution": "Map data (c) <a href=\"https://openstreetmap.org\">OpenStreetMap</a> contributors",
        "max_zoom": 19,
        "url": "https://{s}.tile.openstreetmap.org/{z}/{x}/{y}.png"
       },
       "center": [
        34.6252978589571,
        -77.34580993652344
       ],
       "default_tiles": "IPY_MODEL_2abbebacebd145b389fc76a81d0604d9",
       "layers": [
        "IPY_MODEL_2abbebacebd145b389fc76a81d0604d9",
        "IPY_MODEL_22ea6eff0f7d4e48a24ce5bc414e3101"
       ],
       "layout": "IPY_MODEL_4b71e5012b35419a85b3e2bf2f32a817",
       "modisdate": "yesterday",
       "options": [
        "attribution_control",
        "basemap",
        "bounce_at_zoom_limits",
        "box_zoom",
        "center",
        "close_popup_on_click",
        "double_click_zoom",
        "dragging",
        "inertia",
        "inertia_deceleration",
        "inertia_max_speed",
        "keyboard",
        "keyboard_pan_offset",
        "keyboard_zoom_offset",
        "max_zoom",
        "min_zoom",
        "scroll_wheel_zoom",
        "tap",
        "tap_tolerance",
        "touch_zoom",
        "world_copy_jump",
        "zoom",
        "zoom_animation_threshold",
        "zoom_control",
        "zoom_start"
       ]
      }
     },
     "6421060f33034378bda95a4518f6e271": {
      "model_module": "@jupyter-widgets/base",
      "model_module_version": "1.0.0",
      "model_name": "LayoutModel",
      "state": {}
     },
     "69ab5c69638c429f9432e4c124b4aa6a": {
      "model_module": "@jupyter-widgets/controls",
      "model_module_version": "1.1.0",
      "model_name": "HBoxModel",
      "state": {
       "children": [
        "IPY_MODEL_d668146d1d9d4fc883838c08df18fc1b",
        "IPY_MODEL_e0bc51dc4a4a404f9ddbb8fb488ed718"
       ],
       "layout": "IPY_MODEL_2fc8150d66d44d2988dae5b3ae176f5f"
      }
     },
     "6b3bd9f9de8d4f7ab4d13982e4bb44d8": {
      "model_module": "jupyter-leaflet",
      "model_module_version": "~0.6.0",
      "model_name": "LeafletMapModel",
      "state": {
       "_dom_classes": [],
       "_model_module_version": "~0.6.0",
       "_view_count": null,
       "_view_module_version": "~0.6.0",
       "basemap": {
        "attribution": "Map data (c) <a href=\"https://openstreetmap.org\">OpenStreetMap</a> contributors",
        "max_zoom": 19,
        "url": "https://{s}.tile.openstreetmap.org/{z}/{x}/{y}.png"
       },
       "center": [
        34.6252978589571,
        -77.33551025390626
       ],
       "default_tiles": "IPY_MODEL_faec897452ed44959fec0ece15c127b9",
       "layers": [
        "IPY_MODEL_faec897452ed44959fec0ece15c127b9",
        "IPY_MODEL_b28c2e07ee644723b1fb9ff8092d9809"
       ],
       "layout": "IPY_MODEL_13ccf5c1198a438fbba5ef583092f553",
       "modisdate": "yesterday",
       "options": [
        "attribution_control",
        "basemap",
        "bounce_at_zoom_limits",
        "box_zoom",
        "center",
        "close_popup_on_click",
        "double_click_zoom",
        "dragging",
        "inertia",
        "inertia_deceleration",
        "inertia_max_speed",
        "keyboard",
        "keyboard_pan_offset",
        "keyboard_zoom_offset",
        "max_zoom",
        "min_zoom",
        "scroll_wheel_zoom",
        "tap",
        "tap_tolerance",
        "touch_zoom",
        "world_copy_jump",
        "zoom",
        "zoom_animation_threshold",
        "zoom_control",
        "zoom_start"
       ],
       "zoom": 10
      }
     },
     "6d7b2ee186594cdcb18631806e52a97c": {
      "model_module": "@jupyter-widgets/base",
      "model_module_version": "1.0.0",
      "model_name": "LayoutModel",
      "state": {}
     },
     "6fb3d0adad9c4348841069bdad7e3927": {
      "model_module": "jupyter-leaflet",
      "model_module_version": "~0.6.0",
      "model_name": "LeafletTileLayerModel",
      "state": {
       "_model_module_version": "~0.6.0",
       "_view_count": null,
       "_view_module_version": "~0.6.0",
       "options": [
        "attribution",
        "detect_retina",
        "max_zoom",
        "min_zoom",
        "tile_size"
       ]
      }
     },
     "70606c806a364356ab5f4471ab18c044": {
      "model_module": "@jupyter-widgets/base",
      "model_module_version": "1.0.0",
      "model_name": "LayoutModel",
      "state": {
       "align_self": "stretch",
       "height": "400px"
      }
     },
     "770e435537e34be681be490ed6fa28e5": {
      "model_module": "@jupyter-widgets/controls",
      "model_module_version": "1.1.0",
      "model_name": "DropdownModel",
      "state": {
       "_options_labels": [
        "Abilene",
        "Albuquerque",
        "Amarillo",
        "Amsterdam",
        "Arlington",
        "Atlanta",
        "Atlantic City",
        "Austin",
        "Baltimore",
        "Barcelona",
        "Baton Rouge",
        "Boston",
        "Brownsville",
        "Brussels",
        "Buffalo",
        "Cambridge",
        "Carbondale",
        "Cheyenne",
        "Chicago",
        "Columbus",
        "Cumberland",
        "Dallas",
        "Denver",
        "Detroit",
        "Durango",
        "El Paso",
        "Florida",
        "Hamburg",
        "Hong Kong",
        "Honolulu",
        "Houston",
        "Jackson",
        "Jerusalem",
        "Juarez",
        "Kansas City",
        "Las Vegas",
        "Liverpool",
        "London",
        "Madrid",
        "Memphis",
        "Mexico City",
        "Miami",
        "Mobile",
        "Montana",
        "Nazareth",
        "New Orleans",
        "New York",
        "Omaha",
        "Paris",
        "Paterson",
        "Pittsburgh",
        "Richmond",
        "Rome",
        "San Francisco",
        "San Pedro",
        "Shreveport",
        "Singapore",
        "St. Petersburg",
        "Syracuse",
        "Tallahassee",
        "Vicksburg",
        "Wichita"
       ],
       "index": 0,
       "layout": "IPY_MODEL_448e76fa3bc043a1936bc12eb4003f16",
       "style": "IPY_MODEL_89f51a91c4a3455ba8ad30e1254bcbdb"
      }
     },
     "772472beca6d442890192e233ca325fa": {
      "model_module": "@jupyter-widgets/base",
      "model_module_version": "1.0.0",
      "model_name": "LayoutModel",
      "state": {}
     },
     "81a7ecb45f10425fbd341f644f3ea76a": {
      "model_module": "@jupyter-widgets/base",
      "model_module_version": "1.0.0",
      "model_name": "LayoutModel",
      "state": {}
     },
     "89f51a91c4a3455ba8ad30e1254bcbdb": {
      "model_module": "@jupyter-widgets/controls",
      "model_module_version": "1.1.0",
      "model_name": "DescriptionStyleModel",
      "state": {
       "description_width": ""
      }
     },
     "8b20644c1ad04fd4978686586d806d3e": {
      "model_module": "@jupyter-widgets/controls",
      "model_module_version": "1.1.0",
      "model_name": "DescriptionStyleModel",
      "state": {
       "description_width": ""
      }
     },
     "8e60399838324978a11a2c07bfa211f7": {
      "model_module": "@jupyter-widgets/controls",
      "model_module_version": "1.1.0",
      "model_name": "HTMLModel",
      "state": {
       "layout": "IPY_MODEL_a0a8190069234714a70de1dc92505128",
       "placeholder": "Lyrics...",
       "style": "IPY_MODEL_d43bc8546a9a459599f5276ce1ee1f4c"
      }
     },
     "8eb540e13b854a7aaf23dd0ed60cef7b": {
      "model_module": "@jupyter-widgets/base",
      "model_module_version": "1.0.0",
      "model_name": "LayoutModel",
      "state": {}
     },
     "95e742a0189841609ee676d0a3f4e481": {
      "model_module": "@jupyter-widgets/base",
      "model_module_version": "1.0.0",
      "model_name": "LayoutModel",
      "state": {}
     },
     "97d8fdc9bb754f2b9f624eae89db2c4b": {
      "model_module": "@jupyter-widgets/controls",
      "model_module_version": "1.1.0",
      "model_name": "HBoxModel",
      "state": {
       "children": [
        "IPY_MODEL_ad5e19be52e84ad2a04a513a2f42de52",
        "IPY_MODEL_8e60399838324978a11a2c07bfa211f7"
       ],
       "layout": "IPY_MODEL_2acb8fbd60e8457a9669929a4f050c1b"
      }
     },
     "9a0597378b184486a57478b24ca7bace": {
      "model_module": "@jupyter-widgets/controls",
      "model_module_version": "1.1.0",
      "model_name": "HTMLModel",
      "state": {
       "layout": "IPY_MODEL_8eb540e13b854a7aaf23dd0ed60cef7b",
       "style": "IPY_MODEL_5ac7f461fa87457f9b3108389c42a6e1",
       "value": "<b>Count:</b> 1</br>"
      }
     },
     "9ad9fab4526843649270a936c260232d": {
      "model_module": "@jupyter-widgets/controls",
      "model_module_version": "1.1.0",
      "model_name": "HBoxModel",
      "state": {
       "children": [
        "IPY_MODEL_f2970f0102a44fdd8974556aa9188e5c",
        "IPY_MODEL_3d9b1cf2b9c04444b4bc08b449d6651d"
       ],
       "layout": "IPY_MODEL_de135d77477e48289a8610642eaec2a2"
      }
     },
     "a0a8190069234714a70de1dc92505128": {
      "model_module": "@jupyter-widgets/base",
      "model_module_version": "1.0.0",
      "model_name": "LayoutModel",
      "state": {}
     },
     "a2d1442d67f44f83962ccbc3689ce2c9": {
      "model_module": "@jupyter-widgets/controls",
      "model_module_version": "1.1.0",
      "model_name": "SliderStyleModel",
      "state": {
       "description_width": ""
      }
     },
     "a6a3f61f3710459e82d2ae17ad587a12": {
      "model_module": "@jupyter-widgets/base",
      "model_module_version": "1.0.0",
      "model_name": "LayoutModel",
      "state": {}
     },
     "ad5e19be52e84ad2a04a513a2f42de52": {
      "model_module": "@jupyter-widgets/controls",
      "model_module_version": "1.1.0",
      "model_name": "SelectModel",
      "state": {
       "_options_labels": [
        "Wanted Man"
       ],
       "index": 0,
       "layout": "IPY_MODEL_6d7b2ee186594cdcb18631806e52a97c",
       "style": "IPY_MODEL_d5b3454451a441f484084788c685d012"
      }
     },
     "b28c2e07ee644723b1fb9ff8092d9809": {
      "model_module": "jupyter-leaflet",
      "model_module_version": "~0.6.0",
      "model_name": "LeafletCircleMarkerModel",
      "state": {
       "_model_module_version": "~0.6.0",
       "_view_count": null,
       "_view_module_version": "~0.6.0",
       "color": "#F00",
       "fill_color": "#0F0",
       "fill_opacity": 1,
       "location": [
        34.6252978589571,
        -77.34580993652344
       ],
       "options": [
        "class_name",
        "clickable",
        "color",
        "dash_array",
        "fill",
        "fill_color",
        "fill_opacity",
        "line_cap",
        "line_join",
        "pointer_events",
        "stroke",
        "weight"
       ],
       "radius": 30,
       "weight": 2
      }
     },
     "b6baca10f5804ba89f822413695e1f91": {
      "model_module": "@jupyter-widgets/base",
      "model_module_version": "1.0.0",
      "model_name": "LayoutModel",
      "state": {}
     },
     "b6f0caac220546289a7b8c14fbad1afd": {
      "model_module": "@jupyter-widgets/controls",
      "model_module_version": "1.1.0",
      "model_name": "HBoxModel",
      "state": {
       "children": [
        "IPY_MODEL_770e435537e34be681be490ed6fa28e5",
        "IPY_MODEL_f2c5823e1bf84a62b6d773c843a3b7f9"
       ],
       "layout": "IPY_MODEL_772472beca6d442890192e233ca325fa"
      }
     },
     "ba9a875d0f3045ae896f7f03a75c1f9c": {
      "model_module": "@jupyter-widgets/base",
      "model_module_version": "1.0.0",
      "model_name": "LayoutModel",
      "state": {}
     },
     "c102b9dac33d4c47b6bd2945a9acd69c": {
      "model_module": "@jupyter-widgets/controls",
      "model_module_version": "1.0.0",
      "model_name": "VBoxModel",
      "state": {
       "_model_module_version": "1.0.0",
       "_view_module_version": "1.0.0",
       "children": [
        "IPY_MODEL_5097496e490343b5bfe36f971251cf89",
        "IPY_MODEL_c2ab8ae017024e6b9210cc736a30e187"
       ],
       "layout": "IPY_MODEL_cb63ea0e73b840d7b7eee1b53360e405"
      }
     },
     "c16f9cb244444003ae3f4e0c47a04137": {
      "model_module": "@jupyter-widgets/controls",
      "model_module_version": "1.1.0",
      "model_name": "HTMLModel",
      "state": {
       "layout": "IPY_MODEL_c3ac7a7363454f5abde0baae70e37db5",
       "placeholder": "Lyrics...",
       "style": "IPY_MODEL_44212dc8bbbd4784ac0abc728481ef0f"
      }
     },
     "c2ab8ae017024e6b9210cc736a30e187": {
      "model_module": "@jupyter-widgets/controls",
      "model_module_version": "1.0.0",
      "model_name": "HBoxModel",
      "state": {
       "_model_module_version": "1.0.0",
       "_view_module_version": "1.0.0",
       "children": [
        "IPY_MODEL_cc57081662f04902a01959488813f749",
        "IPY_MODEL_dd87c57f9a7942e983ed507ecd2c0dfb"
       ],
       "layout": "IPY_MODEL_d03dd41c0c824cd598052433b10bbde6"
      }
     },
     "c3ac7a7363454f5abde0baae70e37db5": {
      "model_module": "@jupyter-widgets/base",
      "model_module_version": "1.0.0",
      "model_name": "LayoutModel",
      "state": {}
     },
     "c3d7e3cb3df84068a2d3027361b2698a": {
      "model_module": "@jupyter-widgets/controls",
      "model_module_version": "1.1.0",
      "model_name": "HBoxModel",
      "state": {
       "children": [
        "IPY_MODEL_022875d995b14f1caf718a4e86337db4",
        "IPY_MODEL_9a0597378b184486a57478b24ca7bace"
       ],
       "layout": "IPY_MODEL_033af05bb75a4df5bbc4209e6aedcc2f"
      }
     },
     "c43e3b7c92564151af73fcda59838821": {
      "model_module": "@jupyter-widgets/controls",
      "model_module_version": "1.1.0",
      "model_name": "IntSliderModel",
      "state": {
       "description": "zoom",
       "layout": "IPY_MODEL_6421060f33034378bda95a4518f6e271",
       "max": 10,
       "min": 5,
       "style": "IPY_MODEL_a2d1442d67f44f83962ccbc3689ce2c9",
       "value": 10
      }
     },
     "c8f86864629049f0bcd8175e816d1d61": {
      "model_module": "@jupyter-widgets/base",
      "model_module_version": "1.0.0",
      "model_name": "LayoutModel",
      "state": {}
     },
     "cb63ea0e73b840d7b7eee1b53360e405": {
      "model_module": "@jupyter-widgets/base",
      "model_module_version": "1.0.0",
      "model_name": "LayoutModel",
      "state": {}
     },
     "cc57081662f04902a01959488813f749": {
      "model_module": "@jupyter-widgets/controls",
      "model_module_version": "1.0.0",
      "model_name": "SelectModel",
      "state": {
       "_model_module_version": "1.0.0",
       "_options_labels": [
        "Wanted Man"
       ],
       "_view_module_version": "1.0.0",
       "index": 0,
       "layout": "IPY_MODEL_e0e07d2dad6d46ae80fd1d4bde4ef0ac",
       "style": "IPY_MODEL_d7eaad0bc31749cb960d7952e1bc9e2b"
      }
     },
     "d03dd41c0c824cd598052433b10bbde6": {
      "model_module": "@jupyter-widgets/base",
      "model_module_version": "1.0.0",
      "model_name": "LayoutModel",
      "state": {}
     },
     "d43bc8546a9a459599f5276ce1ee1f4c": {
      "model_module": "@jupyter-widgets/controls",
      "model_module_version": "1.1.0",
      "model_name": "DescriptionStyleModel",
      "state": {
       "description_width": ""
      }
     },
     "d50b69c47188430287e7f23fd6dce4b8": {
      "model_module": "jupyter-leaflet",
      "model_module_version": "~0.6.0",
      "model_name": "LeafletTileLayerModel",
      "state": {
       "_model_module_version": "~0.6.0",
       "_view_count": null,
       "_view_module_version": "~0.6.0",
       "options": [
        "attribution",
        "detect_retina",
        "max_zoom",
        "min_zoom",
        "tile_size"
       ]
      }
     },
     "d5b3454451a441f484084788c685d012": {
      "model_module": "@jupyter-widgets/controls",
      "model_module_version": "1.1.0",
      "model_name": "DescriptionStyleModel",
      "state": {
       "description_width": ""
      }
     },
     "d668146d1d9d4fc883838c08df18fc1b": {
      "model_module": "@jupyter-widgets/controls",
      "model_module_version": "1.1.0",
      "model_name": "SelectModel",
      "state": {
       "_options_labels": [
        "Wanted Man"
       ],
       "index": 0,
       "layout": "IPY_MODEL_95e742a0189841609ee676d0a3f4e481",
       "style": "IPY_MODEL_0018446f878f486fa52b9f283ae822bc"
      }
     },
     "d6e350856fce470595dcca7231edf0b3": {
      "model_module": "@jupyter-widgets/base",
      "model_module_version": "1.0.0",
      "model_name": "LayoutModel",
      "state": {}
     },
     "d7eaad0bc31749cb960d7952e1bc9e2b": {
      "model_module": "@jupyter-widgets/controls",
      "model_module_version": "1.0.0",
      "model_name": "DescriptionStyleModel",
      "state": {
       "_model_module_version": "1.0.0",
       "description_width": ""
      }
     },
     "dd87c57f9a7942e983ed507ecd2c0dfb": {
      "model_module": "@jupyter-widgets/controls",
      "model_module_version": "1.0.0",
      "model_name": "HTMLModel",
      "state": {
       "_model_module_version": "1.0.0",
       "_view_module_version": "1.0.0",
       "layout": "IPY_MODEL_a6a3f61f3710459e82d2ae17ad587a12",
       "placeholder": "Lyrics...",
       "style": "IPY_MODEL_fa2a315a7ddf45b09945058f6ddaa9ef"
      }
     },
     "de135d77477e48289a8610642eaec2a2": {
      "model_module": "@jupyter-widgets/base",
      "model_module_version": "1.0.0",
      "model_name": "LayoutModel",
      "state": {}
     },
     "e0bc51dc4a4a404f9ddbb8fb488ed718": {
      "model_module": "@jupyter-widgets/controls",
      "model_module_version": "1.1.0",
      "model_name": "HTMLModel",
      "state": {
       "layout": "IPY_MODEL_f0015b2179d9490d99a4bdb24f6e1c09",
       "placeholder": "Lyrics...",
       "style": "IPY_MODEL_8b20644c1ad04fd4978686586d806d3e",
       "value": "<b>Lyrics:</b> ...p\r\\Then I went to sleep in Shreveport, woke up in <b><span style=\"color:blue\">Abilene</span></b>\r\\Wonderin’ why the hell I’m wanted at some town halfway between\\\r\\Wanted man in Albuquerque,...</br>"
      }
     },
     "e0e07d2dad6d46ae80fd1d4bde4ef0ac": {
      "model_module": "@jupyter-widgets/base",
      "model_module_version": "1.0.0",
      "model_name": "LayoutModel",
      "state": {}
     },
     "e4eeabac555f46a9b12d4bfa0f6e1202": {
      "model_module": "@jupyter-widgets/controls",
      "model_module_version": "1.1.0",
      "model_name": "DescriptionStyleModel",
      "state": {
       "description_width": ""
      }
     },
     "e859cc2a7e9743488bbda96bf888999b": {
      "model_module": "@jupyter-widgets/base",
      "model_module_version": "1.0.0",
      "model_name": "LayoutModel",
      "state": {}
     },
     "ea42f67737994964821d311d4e9893b2": {
      "model_module": "jupyter-leaflet",
      "model_module_version": "~0.6.0",
      "model_name": "LeafletMapModel",
      "state": {
       "_dom_classes": [],
       "_model_module_version": "~0.6.0",
       "_view_count": null,
       "_view_module_version": "~0.6.0",
       "basemap": {
        "attribution": "Map data (c) <a href=\"https://openstreetmap.org\">OpenStreetMap</a> contributors",
        "max_zoom": 19,
        "url": "https://{s}.tile.openstreetmap.org/{z}/{x}/{y}.png"
       },
       "center": [
        34.6252978589571,
        -77.34580993652344
       ],
       "default_tiles": "IPY_MODEL_d50b69c47188430287e7f23fd6dce4b8",
       "layers": [
        "IPY_MODEL_d50b69c47188430287e7f23fd6dce4b8",
        "IPY_MODEL_4672fea2ec864328b93df427dd58d42a"
       ],
       "layout": "IPY_MODEL_70606c806a364356ab5f4471ab18c044",
       "modisdate": "yesterday",
       "options": [
        "attribution_control",
        "basemap",
        "bounce_at_zoom_limits",
        "box_zoom",
        "center",
        "close_popup_on_click",
        "double_click_zoom",
        "dragging",
        "inertia",
        "inertia_deceleration",
        "inertia_max_speed",
        "keyboard",
        "keyboard_pan_offset",
        "keyboard_zoom_offset",
        "max_zoom",
        "min_zoom",
        "scroll_wheel_zoom",
        "tap",
        "tap_tolerance",
        "touch_zoom",
        "world_copy_jump",
        "zoom",
        "zoom_animation_threshold",
        "zoom_control",
        "zoom_start"
       ],
       "zoom": 10
      }
     },
     "f0015b2179d9490d99a4bdb24f6e1c09": {
      "model_module": "@jupyter-widgets/base",
      "model_module_version": "1.0.0",
      "model_name": "LayoutModel",
      "state": {}
     },
     "f0e924146de64f4dbc69fc0fcbf7f958": {
      "model_module": "@jupyter-widgets/base",
      "model_module_version": "1.0.0",
      "model_name": "LayoutModel",
      "state": {}
     },
     "f2970f0102a44fdd8974556aa9188e5c": {
      "model_module": "@jupyter-widgets/controls",
      "model_module_version": "1.1.0",
      "model_name": "DropdownModel",
      "state": {
       "_options_labels": [
        "Abilene",
        "Albuquerque",
        "Amarillo",
        "Amsterdam",
        "Arlington",
        "Atlanta",
        "Atlantic City",
        "Austin",
        "Baltimore",
        "Barcelona",
        "Baton Rouge",
        "Boston",
        "Brownsville",
        "Brussels",
        "Buffalo",
        "Cambridge",
        "Carbondale",
        "Cheyenne",
        "Chicago",
        "Columbus",
        "Cumberland",
        "Dallas",
        "Denver",
        "Detroit",
        "Durango",
        "El Paso",
        "Florida",
        "Hamburg",
        "Hong Kong",
        "Honolulu",
        "Houston",
        "Jackson",
        "Jerusalem",
        "Juarez",
        "Kansas City",
        "Las Vegas",
        "Liverpool",
        "London",
        "Madrid",
        "Memphis",
        "Mexico City",
        "Miami",
        "Mobile",
        "Montana",
        "Nazareth",
        "New Orleans",
        "New York",
        "Omaha",
        "Paris",
        "Paterson",
        "Pittsburgh",
        "Richmond",
        "Rome",
        "San Francisco",
        "San Pedro",
        "Shreveport",
        "Singapore",
        "St. Petersburg",
        "Syracuse",
        "Tallahassee",
        "Vicksburg",
        "Wichita"
       ],
       "index": 0,
       "layout": "IPY_MODEL_d6e350856fce470595dcca7231edf0b3",
       "style": "IPY_MODEL_f881825bf41d4aee9516078b4e83a766"
      }
     },
     "f2c5823e1bf84a62b6d773c843a3b7f9": {
      "model_module": "@jupyter-widgets/controls",
      "model_module_version": "1.1.0",
      "model_name": "HTMLModel",
      "state": {
       "layout": "IPY_MODEL_81a7ecb45f10425fbd341f644f3ea76a",
       "style": "IPY_MODEL_e4eeabac555f46a9b12d4bfa0f6e1202"
      }
     },
     "f6f652c86bd3472e8e85abe1d12ee3f9": {
      "model_module": "jupyter-leaflet",
      "model_module_version": "~0.6.0",
      "model_name": "LeafletCircleMarkerModel",
      "state": {
       "_model_module_version": "~0.6.0",
       "_view_count": null,
       "_view_module_version": "~0.6.0",
       "color": "#F00",
       "fill_color": "#0F0",
       "fill_opacity": 1,
       "location": [
        34.6252978589571,
        -77.34580993652344
       ],
       "options": [
        "class_name",
        "clickable",
        "color",
        "dash_array",
        "fill",
        "fill_color",
        "fill_opacity",
        "line_cap",
        "line_join",
        "pointer_events",
        "stroke",
        "weight"
       ],
       "radius": 30,
       "weight": 2
      }
     },
     "f83f08f32eab4fa1b245cf217c9ce266": {
      "model_module": "@jupyter-widgets/controls",
      "model_module_version": "1.0.0",
      "model_name": "DescriptionStyleModel",
      "state": {
       "_model_module_version": "1.0.0",
       "description_width": ""
      }
     },
     "f881825bf41d4aee9516078b4e83a766": {
      "model_module": "@jupyter-widgets/controls",
      "model_module_version": "1.1.0",
      "model_name": "DescriptionStyleModel",
      "state": {
       "description_width": ""
      }
     },
     "f96cb5c716b144949647e3142a3b7dc8": {
      "model_module": "@jupyter-widgets/controls",
      "model_module_version": "1.1.0",
      "model_name": "DescriptionStyleModel",
      "state": {
       "description_width": ""
      }
     },
     "fa2a315a7ddf45b09945058f6ddaa9ef": {
      "model_module": "@jupyter-widgets/controls",
      "model_module_version": "1.0.0",
      "model_name": "DescriptionStyleModel",
      "state": {
       "_model_module_version": "1.0.0",
       "description_width": ""
      }
     },
     "faec897452ed44959fec0ece15c127b9": {
      "model_module": "jupyter-leaflet",
      "model_module_version": "~0.6.0",
      "model_name": "LeafletTileLayerModel",
      "state": {
       "_model_module_version": "~0.6.0",
       "_view_count": null,
       "_view_module_version": "~0.6.0",
       "options": [
        "attribution",
        "detect_retina",
        "max_zoom",
        "min_zoom",
        "tile_size"
       ]
      }
     },
     "fd3a43d6de27453db680422961ac8a1e": {
      "model_module": "@jupyter-widgets/base",
      "model_module_version": "1.0.0",
      "model_name": "LayoutModel",
      "state": {}
     }
    },
    "version_major": 2,
    "version_minor": 0
   }
  }
 },
 "nbformat": 4,
 "nbformat_minor": 2
}
